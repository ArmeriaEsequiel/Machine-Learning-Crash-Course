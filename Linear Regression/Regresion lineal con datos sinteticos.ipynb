{
 "cells": [
  {
   "cell_type": "markdown",
   "id": "62693bb5",
   "metadata": {},
   "source": [
    "<h2>En este notebook, haremos una regresion lineal simple y comprobaremos como afectan al modelo los cambios de los hiperparametros (learning rate, epochs, batch size)</h2>"
   ]
  },
  {
   "cell_type": "markdown",
   "id": "a043c5d7",
   "metadata": {},
   "source": [
    "<br>"
   ]
  },
  {
   "cell_type": "code",
   "execution_count": 5,
   "id": "651ecfae",
   "metadata": {},
   "outputs": [],
   "source": [
    "import numpy as np\n",
    "import os\n",
    "os.environ[\"CUDA_VISIBLE_DEVICES\"] = \"-1\"\n",
    "import tensorflow as tf\n",
    "import matplotlib.pyplot as plt\n",
    "import plotly.express as px\n",
    "import pandas as pd\n",
    "import plotly.graph_objects as go"
   ]
  },
  {
   "cell_type": "code",
   "execution_count": 6,
   "id": "989e8b21",
   "metadata": {},
   "outputs": [],
   "source": [
    "my_feature = [1.0, 2.0,  3.0,  4.0,  5.0,  6.0,  7.0,  8.0,  9.0, 10.0, 11.0, 12.0]\n",
    "my_label = [5.0, 8.8,  9.6, 14.2, 18.8, 19.5, 21.4, 26.8, 28.9, 32.0, 33.8, 38.2]"
   ]
  },
  {
   "cell_type": "code",
   "execution_count": 7,
   "id": "962e687e",
   "metadata": {},
   "outputs": [
    {
     "data": {
      "application/vnd.plotly.v1+json": {
       "config": {
        "plotlyServerURL": "https://plot.ly"
       },
       "data": [
        {
         "hovertemplate": "Feature=%{x}<br>Label=%{y}<extra></extra>",
         "legendgroup": "",
         "marker": {
          "color": "#636efa",
          "symbol": "circle"
         },
         "mode": "markers",
         "name": "",
         "orientation": "v",
         "showlegend": false,
         "type": "scatter",
         "x": [
          1,
          2,
          3,
          4,
          5,
          6,
          7,
          8,
          9,
          10,
          11,
          12
         ],
         "xaxis": "x",
         "y": [
          5,
          8.8,
          9.6,
          14.2,
          18.8,
          19.5,
          21.4,
          26.8,
          28.9,
          32,
          33.8,
          38.2
         ],
         "yaxis": "y"
        }
       ],
       "layout": {
        "legend": {
         "tracegroupgap": 0
        },
        "margin": {
         "t": 60
        },
        "template": {
         "data": {
          "bar": [
           {
            "error_x": {
             "color": "#2a3f5f"
            },
            "error_y": {
             "color": "#2a3f5f"
            },
            "marker": {
             "line": {
              "color": "#E5ECF6",
              "width": 0.5
             },
             "pattern": {
              "fillmode": "overlay",
              "size": 10,
              "solidity": 0.2
             }
            },
            "type": "bar"
           }
          ],
          "barpolar": [
           {
            "marker": {
             "line": {
              "color": "#E5ECF6",
              "width": 0.5
             },
             "pattern": {
              "fillmode": "overlay",
              "size": 10,
              "solidity": 0.2
             }
            },
            "type": "barpolar"
           }
          ],
          "carpet": [
           {
            "aaxis": {
             "endlinecolor": "#2a3f5f",
             "gridcolor": "white",
             "linecolor": "white",
             "minorgridcolor": "white",
             "startlinecolor": "#2a3f5f"
            },
            "baxis": {
             "endlinecolor": "#2a3f5f",
             "gridcolor": "white",
             "linecolor": "white",
             "minorgridcolor": "white",
             "startlinecolor": "#2a3f5f"
            },
            "type": "carpet"
           }
          ],
          "choropleth": [
           {
            "colorbar": {
             "outlinewidth": 0,
             "ticks": ""
            },
            "type": "choropleth"
           }
          ],
          "contour": [
           {
            "colorbar": {
             "outlinewidth": 0,
             "ticks": ""
            },
            "colorscale": [
             [
              0,
              "#0d0887"
             ],
             [
              0.1111111111111111,
              "#46039f"
             ],
             [
              0.2222222222222222,
              "#7201a8"
             ],
             [
              0.3333333333333333,
              "#9c179e"
             ],
             [
              0.4444444444444444,
              "#bd3786"
             ],
             [
              0.5555555555555556,
              "#d8576b"
             ],
             [
              0.6666666666666666,
              "#ed7953"
             ],
             [
              0.7777777777777778,
              "#fb9f3a"
             ],
             [
              0.8888888888888888,
              "#fdca26"
             ],
             [
              1,
              "#f0f921"
             ]
            ],
            "type": "contour"
           }
          ],
          "contourcarpet": [
           {
            "colorbar": {
             "outlinewidth": 0,
             "ticks": ""
            },
            "type": "contourcarpet"
           }
          ],
          "heatmap": [
           {
            "colorbar": {
             "outlinewidth": 0,
             "ticks": ""
            },
            "colorscale": [
             [
              0,
              "#0d0887"
             ],
             [
              0.1111111111111111,
              "#46039f"
             ],
             [
              0.2222222222222222,
              "#7201a8"
             ],
             [
              0.3333333333333333,
              "#9c179e"
             ],
             [
              0.4444444444444444,
              "#bd3786"
             ],
             [
              0.5555555555555556,
              "#d8576b"
             ],
             [
              0.6666666666666666,
              "#ed7953"
             ],
             [
              0.7777777777777778,
              "#fb9f3a"
             ],
             [
              0.8888888888888888,
              "#fdca26"
             ],
             [
              1,
              "#f0f921"
             ]
            ],
            "type": "heatmap"
           }
          ],
          "heatmapgl": [
           {
            "colorbar": {
             "outlinewidth": 0,
             "ticks": ""
            },
            "colorscale": [
             [
              0,
              "#0d0887"
             ],
             [
              0.1111111111111111,
              "#46039f"
             ],
             [
              0.2222222222222222,
              "#7201a8"
             ],
             [
              0.3333333333333333,
              "#9c179e"
             ],
             [
              0.4444444444444444,
              "#bd3786"
             ],
             [
              0.5555555555555556,
              "#d8576b"
             ],
             [
              0.6666666666666666,
              "#ed7953"
             ],
             [
              0.7777777777777778,
              "#fb9f3a"
             ],
             [
              0.8888888888888888,
              "#fdca26"
             ],
             [
              1,
              "#f0f921"
             ]
            ],
            "type": "heatmapgl"
           }
          ],
          "histogram": [
           {
            "marker": {
             "pattern": {
              "fillmode": "overlay",
              "size": 10,
              "solidity": 0.2
             }
            },
            "type": "histogram"
           }
          ],
          "histogram2d": [
           {
            "colorbar": {
             "outlinewidth": 0,
             "ticks": ""
            },
            "colorscale": [
             [
              0,
              "#0d0887"
             ],
             [
              0.1111111111111111,
              "#46039f"
             ],
             [
              0.2222222222222222,
              "#7201a8"
             ],
             [
              0.3333333333333333,
              "#9c179e"
             ],
             [
              0.4444444444444444,
              "#bd3786"
             ],
             [
              0.5555555555555556,
              "#d8576b"
             ],
             [
              0.6666666666666666,
              "#ed7953"
             ],
             [
              0.7777777777777778,
              "#fb9f3a"
             ],
             [
              0.8888888888888888,
              "#fdca26"
             ],
             [
              1,
              "#f0f921"
             ]
            ],
            "type": "histogram2d"
           }
          ],
          "histogram2dcontour": [
           {
            "colorbar": {
             "outlinewidth": 0,
             "ticks": ""
            },
            "colorscale": [
             [
              0,
              "#0d0887"
             ],
             [
              0.1111111111111111,
              "#46039f"
             ],
             [
              0.2222222222222222,
              "#7201a8"
             ],
             [
              0.3333333333333333,
              "#9c179e"
             ],
             [
              0.4444444444444444,
              "#bd3786"
             ],
             [
              0.5555555555555556,
              "#d8576b"
             ],
             [
              0.6666666666666666,
              "#ed7953"
             ],
             [
              0.7777777777777778,
              "#fb9f3a"
             ],
             [
              0.8888888888888888,
              "#fdca26"
             ],
             [
              1,
              "#f0f921"
             ]
            ],
            "type": "histogram2dcontour"
           }
          ],
          "mesh3d": [
           {
            "colorbar": {
             "outlinewidth": 0,
             "ticks": ""
            },
            "type": "mesh3d"
           }
          ],
          "parcoords": [
           {
            "line": {
             "colorbar": {
              "outlinewidth": 0,
              "ticks": ""
             }
            },
            "type": "parcoords"
           }
          ],
          "pie": [
           {
            "automargin": true,
            "type": "pie"
           }
          ],
          "scatter": [
           {
            "fillpattern": {
             "fillmode": "overlay",
             "size": 10,
             "solidity": 0.2
            },
            "type": "scatter"
           }
          ],
          "scatter3d": [
           {
            "line": {
             "colorbar": {
              "outlinewidth": 0,
              "ticks": ""
             }
            },
            "marker": {
             "colorbar": {
              "outlinewidth": 0,
              "ticks": ""
             }
            },
            "type": "scatter3d"
           }
          ],
          "scattercarpet": [
           {
            "marker": {
             "colorbar": {
              "outlinewidth": 0,
              "ticks": ""
             }
            },
            "type": "scattercarpet"
           }
          ],
          "scattergeo": [
           {
            "marker": {
             "colorbar": {
              "outlinewidth": 0,
              "ticks": ""
             }
            },
            "type": "scattergeo"
           }
          ],
          "scattergl": [
           {
            "marker": {
             "colorbar": {
              "outlinewidth": 0,
              "ticks": ""
             }
            },
            "type": "scattergl"
           }
          ],
          "scattermapbox": [
           {
            "marker": {
             "colorbar": {
              "outlinewidth": 0,
              "ticks": ""
             }
            },
            "type": "scattermapbox"
           }
          ],
          "scatterpolar": [
           {
            "marker": {
             "colorbar": {
              "outlinewidth": 0,
              "ticks": ""
             }
            },
            "type": "scatterpolar"
           }
          ],
          "scatterpolargl": [
           {
            "marker": {
             "colorbar": {
              "outlinewidth": 0,
              "ticks": ""
             }
            },
            "type": "scatterpolargl"
           }
          ],
          "scatterternary": [
           {
            "marker": {
             "colorbar": {
              "outlinewidth": 0,
              "ticks": ""
             }
            },
            "type": "scatterternary"
           }
          ],
          "surface": [
           {
            "colorbar": {
             "outlinewidth": 0,
             "ticks": ""
            },
            "colorscale": [
             [
              0,
              "#0d0887"
             ],
             [
              0.1111111111111111,
              "#46039f"
             ],
             [
              0.2222222222222222,
              "#7201a8"
             ],
             [
              0.3333333333333333,
              "#9c179e"
             ],
             [
              0.4444444444444444,
              "#bd3786"
             ],
             [
              0.5555555555555556,
              "#d8576b"
             ],
             [
              0.6666666666666666,
              "#ed7953"
             ],
             [
              0.7777777777777778,
              "#fb9f3a"
             ],
             [
              0.8888888888888888,
              "#fdca26"
             ],
             [
              1,
              "#f0f921"
             ]
            ],
            "type": "surface"
           }
          ],
          "table": [
           {
            "cells": {
             "fill": {
              "color": "#EBF0F8"
             },
             "line": {
              "color": "white"
             }
            },
            "header": {
             "fill": {
              "color": "#C8D4E3"
             },
             "line": {
              "color": "white"
             }
            },
            "type": "table"
           }
          ]
         },
         "layout": {
          "annotationdefaults": {
           "arrowcolor": "#2a3f5f",
           "arrowhead": 0,
           "arrowwidth": 1
          },
          "autotypenumbers": "strict",
          "coloraxis": {
           "colorbar": {
            "outlinewidth": 0,
            "ticks": ""
           }
          },
          "colorscale": {
           "diverging": [
            [
             0,
             "#8e0152"
            ],
            [
             0.1,
             "#c51b7d"
            ],
            [
             0.2,
             "#de77ae"
            ],
            [
             0.3,
             "#f1b6da"
            ],
            [
             0.4,
             "#fde0ef"
            ],
            [
             0.5,
             "#f7f7f7"
            ],
            [
             0.6,
             "#e6f5d0"
            ],
            [
             0.7,
             "#b8e186"
            ],
            [
             0.8,
             "#7fbc41"
            ],
            [
             0.9,
             "#4d9221"
            ],
            [
             1,
             "#276419"
            ]
           ],
           "sequential": [
            [
             0,
             "#0d0887"
            ],
            [
             0.1111111111111111,
             "#46039f"
            ],
            [
             0.2222222222222222,
             "#7201a8"
            ],
            [
             0.3333333333333333,
             "#9c179e"
            ],
            [
             0.4444444444444444,
             "#bd3786"
            ],
            [
             0.5555555555555556,
             "#d8576b"
            ],
            [
             0.6666666666666666,
             "#ed7953"
            ],
            [
             0.7777777777777778,
             "#fb9f3a"
            ],
            [
             0.8888888888888888,
             "#fdca26"
            ],
            [
             1,
             "#f0f921"
            ]
           ],
           "sequentialminus": [
            [
             0,
             "#0d0887"
            ],
            [
             0.1111111111111111,
             "#46039f"
            ],
            [
             0.2222222222222222,
             "#7201a8"
            ],
            [
             0.3333333333333333,
             "#9c179e"
            ],
            [
             0.4444444444444444,
             "#bd3786"
            ],
            [
             0.5555555555555556,
             "#d8576b"
            ],
            [
             0.6666666666666666,
             "#ed7953"
            ],
            [
             0.7777777777777778,
             "#fb9f3a"
            ],
            [
             0.8888888888888888,
             "#fdca26"
            ],
            [
             1,
             "#f0f921"
            ]
           ]
          },
          "colorway": [
           "#636efa",
           "#EF553B",
           "#00cc96",
           "#ab63fa",
           "#FFA15A",
           "#19d3f3",
           "#FF6692",
           "#B6E880",
           "#FF97FF",
           "#FECB52"
          ],
          "font": {
           "color": "#2a3f5f"
          },
          "geo": {
           "bgcolor": "white",
           "lakecolor": "white",
           "landcolor": "#E5ECF6",
           "showlakes": true,
           "showland": true,
           "subunitcolor": "white"
          },
          "hoverlabel": {
           "align": "left"
          },
          "hovermode": "closest",
          "mapbox": {
           "style": "light"
          },
          "paper_bgcolor": "white",
          "plot_bgcolor": "#E5ECF6",
          "polar": {
           "angularaxis": {
            "gridcolor": "white",
            "linecolor": "white",
            "ticks": ""
           },
           "bgcolor": "#E5ECF6",
           "radialaxis": {
            "gridcolor": "white",
            "linecolor": "white",
            "ticks": ""
           }
          },
          "scene": {
           "xaxis": {
            "backgroundcolor": "#E5ECF6",
            "gridcolor": "white",
            "gridwidth": 2,
            "linecolor": "white",
            "showbackground": true,
            "ticks": "",
            "zerolinecolor": "white"
           },
           "yaxis": {
            "backgroundcolor": "#E5ECF6",
            "gridcolor": "white",
            "gridwidth": 2,
            "linecolor": "white",
            "showbackground": true,
            "ticks": "",
            "zerolinecolor": "white"
           },
           "zaxis": {
            "backgroundcolor": "#E5ECF6",
            "gridcolor": "white",
            "gridwidth": 2,
            "linecolor": "white",
            "showbackground": true,
            "ticks": "",
            "zerolinecolor": "white"
           }
          },
          "shapedefaults": {
           "line": {
            "color": "#2a3f5f"
           }
          },
          "ternary": {
           "aaxis": {
            "gridcolor": "white",
            "linecolor": "white",
            "ticks": ""
           },
           "baxis": {
            "gridcolor": "white",
            "linecolor": "white",
            "ticks": ""
           },
           "bgcolor": "#E5ECF6",
           "caxis": {
            "gridcolor": "white",
            "linecolor": "white",
            "ticks": ""
           }
          },
          "title": {
           "x": 0.05
          },
          "xaxis": {
           "automargin": true,
           "gridcolor": "white",
           "linecolor": "white",
           "ticks": "",
           "title": {
            "standoff": 15
           },
           "zerolinecolor": "white",
           "zerolinewidth": 2
          },
          "yaxis": {
           "automargin": true,
           "gridcolor": "white",
           "linecolor": "white",
           "ticks": "",
           "title": {
            "standoff": 15
           },
           "zerolinecolor": "white",
           "zerolinewidth": 2
          }
         }
        },
        "xaxis": {
         "anchor": "y",
         "domain": [
          0,
          1
         ],
         "title": {
          "text": "Feature"
         }
        },
        "yaxis": {
         "anchor": "x",
         "domain": [
          0,
          1
         ],
         "title": {
          "text": "Label"
         }
        }
       }
      },
      "text/html": [
       "<div>                            <div id=\"e3ca7275-8ba1-4b7c-83df-a5b07b52fd3d\" class=\"plotly-graph-div\" style=\"height:525px; width:100%;\"></div>            <script type=\"text/javascript\">                require([\"plotly\"], function(Plotly) {                    window.PLOTLYENV=window.PLOTLYENV || {};                                    if (document.getElementById(\"e3ca7275-8ba1-4b7c-83df-a5b07b52fd3d\")) {                    Plotly.newPlot(                        \"e3ca7275-8ba1-4b7c-83df-a5b07b52fd3d\",                        [{\"hovertemplate\":\"Feature=%{x}<br>Label=%{y}<extra></extra>\",\"legendgroup\":\"\",\"marker\":{\"color\":\"#636efa\",\"symbol\":\"circle\"},\"mode\":\"markers\",\"name\":\"\",\"orientation\":\"v\",\"showlegend\":false,\"x\":[1.0,2.0,3.0,4.0,5.0,6.0,7.0,8.0,9.0,10.0,11.0,12.0],\"xaxis\":\"x\",\"y\":[5.0,8.8,9.6,14.2,18.8,19.5,21.4,26.8,28.9,32.0,33.8,38.2],\"yaxis\":\"y\",\"type\":\"scatter\"}],                        {\"template\":{\"data\":{\"histogram2dcontour\":[{\"type\":\"histogram2dcontour\",\"colorbar\":{\"outlinewidth\":0,\"ticks\":\"\"},\"colorscale\":[[0.0,\"#0d0887\"],[0.1111111111111111,\"#46039f\"],[0.2222222222222222,\"#7201a8\"],[0.3333333333333333,\"#9c179e\"],[0.4444444444444444,\"#bd3786\"],[0.5555555555555556,\"#d8576b\"],[0.6666666666666666,\"#ed7953\"],[0.7777777777777778,\"#fb9f3a\"],[0.8888888888888888,\"#fdca26\"],[1.0,\"#f0f921\"]]}],\"choropleth\":[{\"type\":\"choropleth\",\"colorbar\":{\"outlinewidth\":0,\"ticks\":\"\"}}],\"histogram2d\":[{\"type\":\"histogram2d\",\"colorbar\":{\"outlinewidth\":0,\"ticks\":\"\"},\"colorscale\":[[0.0,\"#0d0887\"],[0.1111111111111111,\"#46039f\"],[0.2222222222222222,\"#7201a8\"],[0.3333333333333333,\"#9c179e\"],[0.4444444444444444,\"#bd3786\"],[0.5555555555555556,\"#d8576b\"],[0.6666666666666666,\"#ed7953\"],[0.7777777777777778,\"#fb9f3a\"],[0.8888888888888888,\"#fdca26\"],[1.0,\"#f0f921\"]]}],\"heatmap\":[{\"type\":\"heatmap\",\"colorbar\":{\"outlinewidth\":0,\"ticks\":\"\"},\"colorscale\":[[0.0,\"#0d0887\"],[0.1111111111111111,\"#46039f\"],[0.2222222222222222,\"#7201a8\"],[0.3333333333333333,\"#9c179e\"],[0.4444444444444444,\"#bd3786\"],[0.5555555555555556,\"#d8576b\"],[0.6666666666666666,\"#ed7953\"],[0.7777777777777778,\"#fb9f3a\"],[0.8888888888888888,\"#fdca26\"],[1.0,\"#f0f921\"]]}],\"heatmapgl\":[{\"type\":\"heatmapgl\",\"colorbar\":{\"outlinewidth\":0,\"ticks\":\"\"},\"colorscale\":[[0.0,\"#0d0887\"],[0.1111111111111111,\"#46039f\"],[0.2222222222222222,\"#7201a8\"],[0.3333333333333333,\"#9c179e\"],[0.4444444444444444,\"#bd3786\"],[0.5555555555555556,\"#d8576b\"],[0.6666666666666666,\"#ed7953\"],[0.7777777777777778,\"#fb9f3a\"],[0.8888888888888888,\"#fdca26\"],[1.0,\"#f0f921\"]]}],\"contourcarpet\":[{\"type\":\"contourcarpet\",\"colorbar\":{\"outlinewidth\":0,\"ticks\":\"\"}}],\"contour\":[{\"type\":\"contour\",\"colorbar\":{\"outlinewidth\":0,\"ticks\":\"\"},\"colorscale\":[[0.0,\"#0d0887\"],[0.1111111111111111,\"#46039f\"],[0.2222222222222222,\"#7201a8\"],[0.3333333333333333,\"#9c179e\"],[0.4444444444444444,\"#bd3786\"],[0.5555555555555556,\"#d8576b\"],[0.6666666666666666,\"#ed7953\"],[0.7777777777777778,\"#fb9f3a\"],[0.8888888888888888,\"#fdca26\"],[1.0,\"#f0f921\"]]}],\"surface\":[{\"type\":\"surface\",\"colorbar\":{\"outlinewidth\":0,\"ticks\":\"\"},\"colorscale\":[[0.0,\"#0d0887\"],[0.1111111111111111,\"#46039f\"],[0.2222222222222222,\"#7201a8\"],[0.3333333333333333,\"#9c179e\"],[0.4444444444444444,\"#bd3786\"],[0.5555555555555556,\"#d8576b\"],[0.6666666666666666,\"#ed7953\"],[0.7777777777777778,\"#fb9f3a\"],[0.8888888888888888,\"#fdca26\"],[1.0,\"#f0f921\"]]}],\"mesh3d\":[{\"type\":\"mesh3d\",\"colorbar\":{\"outlinewidth\":0,\"ticks\":\"\"}}],\"scatter\":[{\"fillpattern\":{\"fillmode\":\"overlay\",\"size\":10,\"solidity\":0.2},\"type\":\"scatter\"}],\"parcoords\":[{\"type\":\"parcoords\",\"line\":{\"colorbar\":{\"outlinewidth\":0,\"ticks\":\"\"}}}],\"scatterpolargl\":[{\"type\":\"scatterpolargl\",\"marker\":{\"colorbar\":{\"outlinewidth\":0,\"ticks\":\"\"}}}],\"bar\":[{\"error_x\":{\"color\":\"#2a3f5f\"},\"error_y\":{\"color\":\"#2a3f5f\"},\"marker\":{\"line\":{\"color\":\"#E5ECF6\",\"width\":0.5},\"pattern\":{\"fillmode\":\"overlay\",\"size\":10,\"solidity\":0.2}},\"type\":\"bar\"}],\"scattergeo\":[{\"type\":\"scattergeo\",\"marker\":{\"colorbar\":{\"outlinewidth\":0,\"ticks\":\"\"}}}],\"scatterpolar\":[{\"type\":\"scatterpolar\",\"marker\":{\"colorbar\":{\"outlinewidth\":0,\"ticks\":\"\"}}}],\"histogram\":[{\"marker\":{\"pattern\":{\"fillmode\":\"overlay\",\"size\":10,\"solidity\":0.2}},\"type\":\"histogram\"}],\"scattergl\":[{\"type\":\"scattergl\",\"marker\":{\"colorbar\":{\"outlinewidth\":0,\"ticks\":\"\"}}}],\"scatter3d\":[{\"type\":\"scatter3d\",\"line\":{\"colorbar\":{\"outlinewidth\":0,\"ticks\":\"\"}},\"marker\":{\"colorbar\":{\"outlinewidth\":0,\"ticks\":\"\"}}}],\"scattermapbox\":[{\"type\":\"scattermapbox\",\"marker\":{\"colorbar\":{\"outlinewidth\":0,\"ticks\":\"\"}}}],\"scatterternary\":[{\"type\":\"scatterternary\",\"marker\":{\"colorbar\":{\"outlinewidth\":0,\"ticks\":\"\"}}}],\"scattercarpet\":[{\"type\":\"scattercarpet\",\"marker\":{\"colorbar\":{\"outlinewidth\":0,\"ticks\":\"\"}}}],\"carpet\":[{\"aaxis\":{\"endlinecolor\":\"#2a3f5f\",\"gridcolor\":\"white\",\"linecolor\":\"white\",\"minorgridcolor\":\"white\",\"startlinecolor\":\"#2a3f5f\"},\"baxis\":{\"endlinecolor\":\"#2a3f5f\",\"gridcolor\":\"white\",\"linecolor\":\"white\",\"minorgridcolor\":\"white\",\"startlinecolor\":\"#2a3f5f\"},\"type\":\"carpet\"}],\"table\":[{\"cells\":{\"fill\":{\"color\":\"#EBF0F8\"},\"line\":{\"color\":\"white\"}},\"header\":{\"fill\":{\"color\":\"#C8D4E3\"},\"line\":{\"color\":\"white\"}},\"type\":\"table\"}],\"barpolar\":[{\"marker\":{\"line\":{\"color\":\"#E5ECF6\",\"width\":0.5},\"pattern\":{\"fillmode\":\"overlay\",\"size\":10,\"solidity\":0.2}},\"type\":\"barpolar\"}],\"pie\":[{\"automargin\":true,\"type\":\"pie\"}]},\"layout\":{\"autotypenumbers\":\"strict\",\"colorway\":[\"#636efa\",\"#EF553B\",\"#00cc96\",\"#ab63fa\",\"#FFA15A\",\"#19d3f3\",\"#FF6692\",\"#B6E880\",\"#FF97FF\",\"#FECB52\"],\"font\":{\"color\":\"#2a3f5f\"},\"hovermode\":\"closest\",\"hoverlabel\":{\"align\":\"left\"},\"paper_bgcolor\":\"white\",\"plot_bgcolor\":\"#E5ECF6\",\"polar\":{\"bgcolor\":\"#E5ECF6\",\"angularaxis\":{\"gridcolor\":\"white\",\"linecolor\":\"white\",\"ticks\":\"\"},\"radialaxis\":{\"gridcolor\":\"white\",\"linecolor\":\"white\",\"ticks\":\"\"}},\"ternary\":{\"bgcolor\":\"#E5ECF6\",\"aaxis\":{\"gridcolor\":\"white\",\"linecolor\":\"white\",\"ticks\":\"\"},\"baxis\":{\"gridcolor\":\"white\",\"linecolor\":\"white\",\"ticks\":\"\"},\"caxis\":{\"gridcolor\":\"white\",\"linecolor\":\"white\",\"ticks\":\"\"}},\"coloraxis\":{\"colorbar\":{\"outlinewidth\":0,\"ticks\":\"\"}},\"colorscale\":{\"sequential\":[[0.0,\"#0d0887\"],[0.1111111111111111,\"#46039f\"],[0.2222222222222222,\"#7201a8\"],[0.3333333333333333,\"#9c179e\"],[0.4444444444444444,\"#bd3786\"],[0.5555555555555556,\"#d8576b\"],[0.6666666666666666,\"#ed7953\"],[0.7777777777777778,\"#fb9f3a\"],[0.8888888888888888,\"#fdca26\"],[1.0,\"#f0f921\"]],\"sequentialminus\":[[0.0,\"#0d0887\"],[0.1111111111111111,\"#46039f\"],[0.2222222222222222,\"#7201a8\"],[0.3333333333333333,\"#9c179e\"],[0.4444444444444444,\"#bd3786\"],[0.5555555555555556,\"#d8576b\"],[0.6666666666666666,\"#ed7953\"],[0.7777777777777778,\"#fb9f3a\"],[0.8888888888888888,\"#fdca26\"],[1.0,\"#f0f921\"]],\"diverging\":[[0,\"#8e0152\"],[0.1,\"#c51b7d\"],[0.2,\"#de77ae\"],[0.3,\"#f1b6da\"],[0.4,\"#fde0ef\"],[0.5,\"#f7f7f7\"],[0.6,\"#e6f5d0\"],[0.7,\"#b8e186\"],[0.8,\"#7fbc41\"],[0.9,\"#4d9221\"],[1,\"#276419\"]]},\"xaxis\":{\"gridcolor\":\"white\",\"linecolor\":\"white\",\"ticks\":\"\",\"title\":{\"standoff\":15},\"zerolinecolor\":\"white\",\"automargin\":true,\"zerolinewidth\":2},\"yaxis\":{\"gridcolor\":\"white\",\"linecolor\":\"white\",\"ticks\":\"\",\"title\":{\"standoff\":15},\"zerolinecolor\":\"white\",\"automargin\":true,\"zerolinewidth\":2},\"scene\":{\"xaxis\":{\"backgroundcolor\":\"#E5ECF6\",\"gridcolor\":\"white\",\"linecolor\":\"white\",\"showbackground\":true,\"ticks\":\"\",\"zerolinecolor\":\"white\",\"gridwidth\":2},\"yaxis\":{\"backgroundcolor\":\"#E5ECF6\",\"gridcolor\":\"white\",\"linecolor\":\"white\",\"showbackground\":true,\"ticks\":\"\",\"zerolinecolor\":\"white\",\"gridwidth\":2},\"zaxis\":{\"backgroundcolor\":\"#E5ECF6\",\"gridcolor\":\"white\",\"linecolor\":\"white\",\"showbackground\":true,\"ticks\":\"\",\"zerolinecolor\":\"white\",\"gridwidth\":2}},\"shapedefaults\":{\"line\":{\"color\":\"#2a3f5f\"}},\"annotationdefaults\":{\"arrowcolor\":\"#2a3f5f\",\"arrowhead\":0,\"arrowwidth\":1},\"geo\":{\"bgcolor\":\"white\",\"landcolor\":\"#E5ECF6\",\"subunitcolor\":\"white\",\"showland\":true,\"showlakes\":true,\"lakecolor\":\"white\"},\"title\":{\"x\":0.05},\"mapbox\":{\"style\":\"light\"}}},\"xaxis\":{\"anchor\":\"y\",\"domain\":[0.0,1.0],\"title\":{\"text\":\"Feature\"}},\"yaxis\":{\"anchor\":\"x\",\"domain\":[0.0,1.0],\"title\":{\"text\":\"Label\"}},\"legend\":{\"tracegroupgap\":0},\"margin\":{\"t\":60}},                        {\"responsive\": true}                    ).then(function(){\n",
       "                            \n",
       "var gd = document.getElementById('e3ca7275-8ba1-4b7c-83df-a5b07b52fd3d');\n",
       "var x = new MutationObserver(function (mutations, observer) {{\n",
       "        var display = window.getComputedStyle(gd).display;\n",
       "        if (!display || display === 'none') {{\n",
       "            console.log([gd, 'removed!']);\n",
       "            Plotly.purge(gd);\n",
       "            observer.disconnect();\n",
       "        }}\n",
       "}});\n",
       "\n",
       "// Listen for the removal of the full notebook cells\n",
       "var notebookContainer = gd.closest('#notebook-container');\n",
       "if (notebookContainer) {{\n",
       "    x.observe(notebookContainer, {childList: true});\n",
       "}}\n",
       "\n",
       "// Listen for the clearing of the current output cell\n",
       "var outputEl = gd.closest('.output');\n",
       "if (outputEl) {{\n",
       "    x.observe(outputEl, {childList: true});\n",
       "}}\n",
       "\n",
       "                        })                };                });            </script>        </div>"
      ]
     },
     "metadata": {},
     "output_type": "display_data"
    }
   ],
   "source": [
    "px.scatter(x = my_feature,  y = my_label, labels = {'x' : 'Feature', 'y' : 'Label'})"
   ]
  },
  {
   "cell_type": "code",
   "execution_count": 8,
   "id": "5f6c1075",
   "metadata": {},
   "outputs": [
    {
     "name": "stdout",
     "output_type": "stream",
     "text": [
      "Model: \"sequential\"\n",
      "_________________________________________________________________\n",
      " Layer (type)                Output Shape              Param #   \n",
      "=================================================================\n",
      " dense (Dense)               (None, 1)                 2         \n",
      "                                                                 \n",
      "=================================================================\n",
      "Total params: 2\n",
      "Trainable params: 2\n",
      "Non-trainable params: 0\n",
      "_________________________________________________________________\n"
     ]
    },
    {
     "name": "stderr",
     "output_type": "stream",
     "text": [
      "2022-08-23 13:01:42.696953: W tensorflow/stream_executor/platform/default/dso_loader.cc:64] Could not load dynamic library 'libcuda.so.1'; dlerror: libcuda.so.1: cannot open shared object file: No such file or directory\n",
      "2022-08-23 13:01:42.696976: W tensorflow/stream_executor/cuda/cuda_driver.cc:269] failed call to cuInit: UNKNOWN ERROR (303)\n",
      "2022-08-23 13:01:42.696995: I tensorflow/stream_executor/cuda/cuda_diagnostics.cc:156] kernel driver does not appear to be running on this host (esequiel-B550I-AORUS-PRO-AX): /proc/driver/nvidia/version does not exist\n",
      "2022-08-23 13:01:42.697234: I tensorflow/core/platform/cpu_feature_guard.cc:193] This TensorFlow binary is optimized with oneAPI Deep Neural Network Library (oneDNN) to use the following CPU instructions in performance-critical operations:  AVX2 FMA\n",
      "To enable them in other operations, rebuild TensorFlow with the appropriate compiler flags.\n"
     ]
    }
   ],
   "source": [
    "# Creo mi modelo Secuencial\n",
    "my_model =tf.keras.models.Sequential()\n",
    "\n",
    "#units= Dimension de salida, input_shape dimension de entrada.\n",
    "my_model.add(tf.keras.layers.Dense(units=1,input_shape=(1,)))\n",
    "my_model.summary()"
   ]
  },
  {
   "cell_type": "code",
   "execution_count": 9,
   "id": "402bb687",
   "metadata": {},
   "outputs": [],
   "source": [
    "def create_model():\n",
    "    my_model =tf.keras.models.Sequential()\n",
    "    my_model.add(tf.keras.layers.Dense(units=1,input_shape=(1,)))\n",
    "    return(my_model)"
   ]
  },
  {
   "cell_type": "markdown",
   "id": "596e0db7",
   "metadata": {},
   "source": [
    "## Vemos que la cantidad de parametros entrenables son 2.\n",
    "### Debido a que al ser una regresion lineal, lo que se tiene que construir es la recta:\n",
    "<br>\n",
    "<center>$\\Huge\\hat{y}$  $\\LARGE =$  $\\Huge w_{0}$ $\\LARGE +$ $\\Huge w_{1}$ $\\LARGE *$ $\\Huge x$</center>\n",
    "\n",
    "##### Entonces los parametros a encontrar, son los que se denominan entrenables. Osea: $\\Large w_{0}$ y $\\Large w_{1}$"
   ]
  },
  {
   "cell_type": "markdown",
   "id": "106db876",
   "metadata": {},
   "source": [
    "<br>"
   ]
  },
  {
   "cell_type": "markdown",
   "id": "8dcf02b1",
   "metadata": {},
   "source": [
    "## Definamos ahora los hiperarametros:"
   ]
  },
  {
   "cell_type": "code",
   "execution_count": 10,
   "id": "64db153e",
   "metadata": {},
   "outputs": [],
   "source": [
    "learning_rate = 0.01 #que tan rapido se disminuye el error.\n",
    "epochs = 10 #Cantidad de veces que se va a ver el bach de dataset\n",
    "batch_size = 12"
   ]
  },
  {
   "cell_type": "markdown",
   "id": "14779331",
   "metadata": {},
   "source": [
    "## Compilamos el modelo y lo entrenamos con los hiperparametros definidos previamente:"
   ]
  },
  {
   "cell_type": "code",
   "execution_count": 11,
   "id": "a685c1a5",
   "metadata": {},
   "outputs": [
    {
     "name": "stdout",
     "output_type": "stream",
     "text": [
      "Epoch 1/10\n",
      "1/1 [==============================] - 0s 144ms/step - loss: 383.6906 - root_mean_squared_error: 19.5880\n",
      "Epoch 2/10\n",
      "1/1 [==============================] - 0s 2ms/step - loss: 373.5421 - root_mean_squared_error: 19.3272\n",
      "Epoch 3/10\n",
      "1/1 [==============================] - 0s 2ms/step - loss: 366.3113 - root_mean_squared_error: 19.1393\n",
      "Epoch 4/10\n",
      "1/1 [==============================] - 0s 2ms/step - loss: 360.3344 - root_mean_squared_error: 18.9825\n",
      "Epoch 5/10\n",
      "1/1 [==============================] - 0s 2ms/step - loss: 355.0852 - root_mean_squared_error: 18.8437\n",
      "Epoch 6/10\n",
      "1/1 [==============================] - 0s 2ms/step - loss: 350.3203 - root_mean_squared_error: 18.7168\n",
      "Epoch 7/10\n",
      "1/1 [==============================] - 0s 2ms/step - loss: 345.9041 - root_mean_squared_error: 18.5985\n",
      "Epoch 8/10\n",
      "1/1 [==============================] - 0s 1ms/step - loss: 341.7523 - root_mean_squared_error: 18.4865\n",
      "Epoch 9/10\n",
      "1/1 [==============================] - 0s 2ms/step - loss: 337.8088 - root_mean_squared_error: 18.3796\n",
      "Epoch 10/10\n",
      "1/1 [==============================] - 0s 1ms/step - loss: 334.0338 - root_mean_squared_error: 18.2766\n"
     ]
    }
   ],
   "source": [
    "my_model.compile(optimizer = tf.keras.optimizers.RMSprop(learning_rate = learning_rate),\n",
    "                 loss = 'mean_squared_error',\n",
    "                 metrics = tf.keras.metrics.RootMeanSquaredError())\n",
    "\n",
    "History = my_model.fit(x=my_feature,y=my_label,batch_size=batch_size,epochs=epochs)\n",
    "trained_weight = my_model.get_weights()[0]\n",
    "trained_bias = my_model.get_weights()[1]\n",
    "hist = pd.DataFrame(History.history)\n",
    "epochs_from_model = History.epoch\n",
    "rmse = History.history[\"root_mean_squared_error\"]"
   ]
  },
  {
   "cell_type": "code",
   "execution_count": 12,
   "id": "21e7fcec",
   "metadata": {},
   "outputs": [
    {
     "data": {
      "text/plain": [
       "0.73739225"
      ]
     },
     "execution_count": 12,
     "metadata": {},
     "output_type": "execute_result"
    }
   ],
   "source": [
    "trained_weight[0][0]"
   ]
  },
  {
   "cell_type": "code",
   "execution_count": 13,
   "id": "33187b16",
   "metadata": {},
   "outputs": [
    {
     "data": {
      "text/plain": [
       "0.17112735"
      ]
     },
     "execution_count": 13,
     "metadata": {},
     "output_type": "execute_result"
    }
   ],
   "source": [
    "trained_bias[0]"
   ]
  },
  {
   "cell_type": "code",
   "execution_count": 14,
   "id": "76ff5b32",
   "metadata": {},
   "outputs": [],
   "source": [
    "def fun(x,trained_weight,trained_bias):\n",
    "    return(trained_bias + trained_weight * x)\n",
    "\n",
    "def get_new_labels(trained_weight, trained_bias, my_features):\n",
    "    return([fun(x,trained_weight[0][0], trained_bias[0]) for x in my_feature])\n",
    "\n",
    "def plot_original_and_predicted_label(my_feature, my_label, model_label_output):\n",
    "    fig = go.Figure()\n",
    "\n",
    "\n",
    "    fig.add_trace(go.Scatter(x = my_feature, y = my_label,\n",
    "                    mode ='markers', name = 'Original labels'))\n",
    "\n",
    "    fig.add_trace(go.Scatter(x = my_feature, y = model_label_output,\n",
    "                    mode = 'lines+markers',\n",
    "                    name = 'Predicted labels'))\n",
    "\n",
    "    fig.update_layout(title = 'Comparsion chart between predicted and original labels',\n",
    "                 title_x = 0.5)\n",
    "    fig.show()\n",
    "\n",
    "def plot_loss(epochs_from_model, rmse):\n",
    "    fig = px.line(x = epochs_from_model, y = rmse, labels = {'x' : 'Epochs', 'y' : 'Error'})\n",
    "    fig.update_layout(title = 'Loss',\n",
    "                 title_x = 0.5)\n",
    "    fig.show()"
   ]
  },
  {
   "cell_type": "code",
   "execution_count": 15,
   "id": "5dcf3f0f",
   "metadata": {},
   "outputs": [
    {
     "data": {
      "application/vnd.plotly.v1+json": {
       "config": {
        "plotlyServerURL": "https://plot.ly"
       },
       "data": [
        {
         "mode": "markers",
         "name": "Original labels",
         "type": "scatter",
         "x": [
          1,
          2,
          3,
          4,
          5,
          6,
          7,
          8,
          9,
          10,
          11,
          12
         ],
         "y": [
          5,
          8.8,
          9.6,
          14.2,
          18.8,
          19.5,
          21.4,
          26.8,
          28.9,
          32,
          33.8,
          38.2
         ]
        },
        {
         "mode": "lines+markers",
         "name": "Predicted labels",
         "type": "scatter",
         "x": [
          1,
          2,
          3,
          4,
          5,
          6,
          7,
          8,
          9,
          10,
          11,
          12
         ],
         "y": [
          0.9085195958614349,
          1.64591184258461,
          2.383304089307785,
          3.12069633603096,
          3.858088582754135,
          4.59548082947731,
          5.332873076200485,
          6.07026532292366,
          6.807657569646835,
          7.54504981637001,
          8.282442063093185,
          9.01983430981636
         ]
        }
       ],
       "layout": {
        "template": {
         "data": {
          "bar": [
           {
            "error_x": {
             "color": "#2a3f5f"
            },
            "error_y": {
             "color": "#2a3f5f"
            },
            "marker": {
             "line": {
              "color": "#E5ECF6",
              "width": 0.5
             },
             "pattern": {
              "fillmode": "overlay",
              "size": 10,
              "solidity": 0.2
             }
            },
            "type": "bar"
           }
          ],
          "barpolar": [
           {
            "marker": {
             "line": {
              "color": "#E5ECF6",
              "width": 0.5
             },
             "pattern": {
              "fillmode": "overlay",
              "size": 10,
              "solidity": 0.2
             }
            },
            "type": "barpolar"
           }
          ],
          "carpet": [
           {
            "aaxis": {
             "endlinecolor": "#2a3f5f",
             "gridcolor": "white",
             "linecolor": "white",
             "minorgridcolor": "white",
             "startlinecolor": "#2a3f5f"
            },
            "baxis": {
             "endlinecolor": "#2a3f5f",
             "gridcolor": "white",
             "linecolor": "white",
             "minorgridcolor": "white",
             "startlinecolor": "#2a3f5f"
            },
            "type": "carpet"
           }
          ],
          "choropleth": [
           {
            "colorbar": {
             "outlinewidth": 0,
             "ticks": ""
            },
            "type": "choropleth"
           }
          ],
          "contour": [
           {
            "colorbar": {
             "outlinewidth": 0,
             "ticks": ""
            },
            "colorscale": [
             [
              0,
              "#0d0887"
             ],
             [
              0.1111111111111111,
              "#46039f"
             ],
             [
              0.2222222222222222,
              "#7201a8"
             ],
             [
              0.3333333333333333,
              "#9c179e"
             ],
             [
              0.4444444444444444,
              "#bd3786"
             ],
             [
              0.5555555555555556,
              "#d8576b"
             ],
             [
              0.6666666666666666,
              "#ed7953"
             ],
             [
              0.7777777777777778,
              "#fb9f3a"
             ],
             [
              0.8888888888888888,
              "#fdca26"
             ],
             [
              1,
              "#f0f921"
             ]
            ],
            "type": "contour"
           }
          ],
          "contourcarpet": [
           {
            "colorbar": {
             "outlinewidth": 0,
             "ticks": ""
            },
            "type": "contourcarpet"
           }
          ],
          "heatmap": [
           {
            "colorbar": {
             "outlinewidth": 0,
             "ticks": ""
            },
            "colorscale": [
             [
              0,
              "#0d0887"
             ],
             [
              0.1111111111111111,
              "#46039f"
             ],
             [
              0.2222222222222222,
              "#7201a8"
             ],
             [
              0.3333333333333333,
              "#9c179e"
             ],
             [
              0.4444444444444444,
              "#bd3786"
             ],
             [
              0.5555555555555556,
              "#d8576b"
             ],
             [
              0.6666666666666666,
              "#ed7953"
             ],
             [
              0.7777777777777778,
              "#fb9f3a"
             ],
             [
              0.8888888888888888,
              "#fdca26"
             ],
             [
              1,
              "#f0f921"
             ]
            ],
            "type": "heatmap"
           }
          ],
          "heatmapgl": [
           {
            "colorbar": {
             "outlinewidth": 0,
             "ticks": ""
            },
            "colorscale": [
             [
              0,
              "#0d0887"
             ],
             [
              0.1111111111111111,
              "#46039f"
             ],
             [
              0.2222222222222222,
              "#7201a8"
             ],
             [
              0.3333333333333333,
              "#9c179e"
             ],
             [
              0.4444444444444444,
              "#bd3786"
             ],
             [
              0.5555555555555556,
              "#d8576b"
             ],
             [
              0.6666666666666666,
              "#ed7953"
             ],
             [
              0.7777777777777778,
              "#fb9f3a"
             ],
             [
              0.8888888888888888,
              "#fdca26"
             ],
             [
              1,
              "#f0f921"
             ]
            ],
            "type": "heatmapgl"
           }
          ],
          "histogram": [
           {
            "marker": {
             "pattern": {
              "fillmode": "overlay",
              "size": 10,
              "solidity": 0.2
             }
            },
            "type": "histogram"
           }
          ],
          "histogram2d": [
           {
            "colorbar": {
             "outlinewidth": 0,
             "ticks": ""
            },
            "colorscale": [
             [
              0,
              "#0d0887"
             ],
             [
              0.1111111111111111,
              "#46039f"
             ],
             [
              0.2222222222222222,
              "#7201a8"
             ],
             [
              0.3333333333333333,
              "#9c179e"
             ],
             [
              0.4444444444444444,
              "#bd3786"
             ],
             [
              0.5555555555555556,
              "#d8576b"
             ],
             [
              0.6666666666666666,
              "#ed7953"
             ],
             [
              0.7777777777777778,
              "#fb9f3a"
             ],
             [
              0.8888888888888888,
              "#fdca26"
             ],
             [
              1,
              "#f0f921"
             ]
            ],
            "type": "histogram2d"
           }
          ],
          "histogram2dcontour": [
           {
            "colorbar": {
             "outlinewidth": 0,
             "ticks": ""
            },
            "colorscale": [
             [
              0,
              "#0d0887"
             ],
             [
              0.1111111111111111,
              "#46039f"
             ],
             [
              0.2222222222222222,
              "#7201a8"
             ],
             [
              0.3333333333333333,
              "#9c179e"
             ],
             [
              0.4444444444444444,
              "#bd3786"
             ],
             [
              0.5555555555555556,
              "#d8576b"
             ],
             [
              0.6666666666666666,
              "#ed7953"
             ],
             [
              0.7777777777777778,
              "#fb9f3a"
             ],
             [
              0.8888888888888888,
              "#fdca26"
             ],
             [
              1,
              "#f0f921"
             ]
            ],
            "type": "histogram2dcontour"
           }
          ],
          "mesh3d": [
           {
            "colorbar": {
             "outlinewidth": 0,
             "ticks": ""
            },
            "type": "mesh3d"
           }
          ],
          "parcoords": [
           {
            "line": {
             "colorbar": {
              "outlinewidth": 0,
              "ticks": ""
             }
            },
            "type": "parcoords"
           }
          ],
          "pie": [
           {
            "automargin": true,
            "type": "pie"
           }
          ],
          "scatter": [
           {
            "fillpattern": {
             "fillmode": "overlay",
             "size": 10,
             "solidity": 0.2
            },
            "type": "scatter"
           }
          ],
          "scatter3d": [
           {
            "line": {
             "colorbar": {
              "outlinewidth": 0,
              "ticks": ""
             }
            },
            "marker": {
             "colorbar": {
              "outlinewidth": 0,
              "ticks": ""
             }
            },
            "type": "scatter3d"
           }
          ],
          "scattercarpet": [
           {
            "marker": {
             "colorbar": {
              "outlinewidth": 0,
              "ticks": ""
             }
            },
            "type": "scattercarpet"
           }
          ],
          "scattergeo": [
           {
            "marker": {
             "colorbar": {
              "outlinewidth": 0,
              "ticks": ""
             }
            },
            "type": "scattergeo"
           }
          ],
          "scattergl": [
           {
            "marker": {
             "colorbar": {
              "outlinewidth": 0,
              "ticks": ""
             }
            },
            "type": "scattergl"
           }
          ],
          "scattermapbox": [
           {
            "marker": {
             "colorbar": {
              "outlinewidth": 0,
              "ticks": ""
             }
            },
            "type": "scattermapbox"
           }
          ],
          "scatterpolar": [
           {
            "marker": {
             "colorbar": {
              "outlinewidth": 0,
              "ticks": ""
             }
            },
            "type": "scatterpolar"
           }
          ],
          "scatterpolargl": [
           {
            "marker": {
             "colorbar": {
              "outlinewidth": 0,
              "ticks": ""
             }
            },
            "type": "scatterpolargl"
           }
          ],
          "scatterternary": [
           {
            "marker": {
             "colorbar": {
              "outlinewidth": 0,
              "ticks": ""
             }
            },
            "type": "scatterternary"
           }
          ],
          "surface": [
           {
            "colorbar": {
             "outlinewidth": 0,
             "ticks": ""
            },
            "colorscale": [
             [
              0,
              "#0d0887"
             ],
             [
              0.1111111111111111,
              "#46039f"
             ],
             [
              0.2222222222222222,
              "#7201a8"
             ],
             [
              0.3333333333333333,
              "#9c179e"
             ],
             [
              0.4444444444444444,
              "#bd3786"
             ],
             [
              0.5555555555555556,
              "#d8576b"
             ],
             [
              0.6666666666666666,
              "#ed7953"
             ],
             [
              0.7777777777777778,
              "#fb9f3a"
             ],
             [
              0.8888888888888888,
              "#fdca26"
             ],
             [
              1,
              "#f0f921"
             ]
            ],
            "type": "surface"
           }
          ],
          "table": [
           {
            "cells": {
             "fill": {
              "color": "#EBF0F8"
             },
             "line": {
              "color": "white"
             }
            },
            "header": {
             "fill": {
              "color": "#C8D4E3"
             },
             "line": {
              "color": "white"
             }
            },
            "type": "table"
           }
          ]
         },
         "layout": {
          "annotationdefaults": {
           "arrowcolor": "#2a3f5f",
           "arrowhead": 0,
           "arrowwidth": 1
          },
          "autotypenumbers": "strict",
          "coloraxis": {
           "colorbar": {
            "outlinewidth": 0,
            "ticks": ""
           }
          },
          "colorscale": {
           "diverging": [
            [
             0,
             "#8e0152"
            ],
            [
             0.1,
             "#c51b7d"
            ],
            [
             0.2,
             "#de77ae"
            ],
            [
             0.3,
             "#f1b6da"
            ],
            [
             0.4,
             "#fde0ef"
            ],
            [
             0.5,
             "#f7f7f7"
            ],
            [
             0.6,
             "#e6f5d0"
            ],
            [
             0.7,
             "#b8e186"
            ],
            [
             0.8,
             "#7fbc41"
            ],
            [
             0.9,
             "#4d9221"
            ],
            [
             1,
             "#276419"
            ]
           ],
           "sequential": [
            [
             0,
             "#0d0887"
            ],
            [
             0.1111111111111111,
             "#46039f"
            ],
            [
             0.2222222222222222,
             "#7201a8"
            ],
            [
             0.3333333333333333,
             "#9c179e"
            ],
            [
             0.4444444444444444,
             "#bd3786"
            ],
            [
             0.5555555555555556,
             "#d8576b"
            ],
            [
             0.6666666666666666,
             "#ed7953"
            ],
            [
             0.7777777777777778,
             "#fb9f3a"
            ],
            [
             0.8888888888888888,
             "#fdca26"
            ],
            [
             1,
             "#f0f921"
            ]
           ],
           "sequentialminus": [
            [
             0,
             "#0d0887"
            ],
            [
             0.1111111111111111,
             "#46039f"
            ],
            [
             0.2222222222222222,
             "#7201a8"
            ],
            [
             0.3333333333333333,
             "#9c179e"
            ],
            [
             0.4444444444444444,
             "#bd3786"
            ],
            [
             0.5555555555555556,
             "#d8576b"
            ],
            [
             0.6666666666666666,
             "#ed7953"
            ],
            [
             0.7777777777777778,
             "#fb9f3a"
            ],
            [
             0.8888888888888888,
             "#fdca26"
            ],
            [
             1,
             "#f0f921"
            ]
           ]
          },
          "colorway": [
           "#636efa",
           "#EF553B",
           "#00cc96",
           "#ab63fa",
           "#FFA15A",
           "#19d3f3",
           "#FF6692",
           "#B6E880",
           "#FF97FF",
           "#FECB52"
          ],
          "font": {
           "color": "#2a3f5f"
          },
          "geo": {
           "bgcolor": "white",
           "lakecolor": "white",
           "landcolor": "#E5ECF6",
           "showlakes": true,
           "showland": true,
           "subunitcolor": "white"
          },
          "hoverlabel": {
           "align": "left"
          },
          "hovermode": "closest",
          "mapbox": {
           "style": "light"
          },
          "paper_bgcolor": "white",
          "plot_bgcolor": "#E5ECF6",
          "polar": {
           "angularaxis": {
            "gridcolor": "white",
            "linecolor": "white",
            "ticks": ""
           },
           "bgcolor": "#E5ECF6",
           "radialaxis": {
            "gridcolor": "white",
            "linecolor": "white",
            "ticks": ""
           }
          },
          "scene": {
           "xaxis": {
            "backgroundcolor": "#E5ECF6",
            "gridcolor": "white",
            "gridwidth": 2,
            "linecolor": "white",
            "showbackground": true,
            "ticks": "",
            "zerolinecolor": "white"
           },
           "yaxis": {
            "backgroundcolor": "#E5ECF6",
            "gridcolor": "white",
            "gridwidth": 2,
            "linecolor": "white",
            "showbackground": true,
            "ticks": "",
            "zerolinecolor": "white"
           },
           "zaxis": {
            "backgroundcolor": "#E5ECF6",
            "gridcolor": "white",
            "gridwidth": 2,
            "linecolor": "white",
            "showbackground": true,
            "ticks": "",
            "zerolinecolor": "white"
           }
          },
          "shapedefaults": {
           "line": {
            "color": "#2a3f5f"
           }
          },
          "ternary": {
           "aaxis": {
            "gridcolor": "white",
            "linecolor": "white",
            "ticks": ""
           },
           "baxis": {
            "gridcolor": "white",
            "linecolor": "white",
            "ticks": ""
           },
           "bgcolor": "#E5ECF6",
           "caxis": {
            "gridcolor": "white",
            "linecolor": "white",
            "ticks": ""
           }
          },
          "title": {
           "x": 0.05
          },
          "xaxis": {
           "automargin": true,
           "gridcolor": "white",
           "linecolor": "white",
           "ticks": "",
           "title": {
            "standoff": 15
           },
           "zerolinecolor": "white",
           "zerolinewidth": 2
          },
          "yaxis": {
           "automargin": true,
           "gridcolor": "white",
           "linecolor": "white",
           "ticks": "",
           "title": {
            "standoff": 15
           },
           "zerolinecolor": "white",
           "zerolinewidth": 2
          }
         }
        },
        "title": {
         "text": "Comparsion chart between predicted and original labels",
         "x": 0.5
        }
       }
      },
      "text/html": [
       "<div>                            <div id=\"3f21aa99-d3fb-4563-b064-e4873a10352f\" class=\"plotly-graph-div\" style=\"height:525px; width:100%;\"></div>            <script type=\"text/javascript\">                require([\"plotly\"], function(Plotly) {                    window.PLOTLYENV=window.PLOTLYENV || {};                                    if (document.getElementById(\"3f21aa99-d3fb-4563-b064-e4873a10352f\")) {                    Plotly.newPlot(                        \"3f21aa99-d3fb-4563-b064-e4873a10352f\",                        [{\"mode\":\"markers\",\"name\":\"Original labels\",\"x\":[1.0,2.0,3.0,4.0,5.0,6.0,7.0,8.0,9.0,10.0,11.0,12.0],\"y\":[5.0,8.8,9.6,14.2,18.8,19.5,21.4,26.8,28.9,32.0,33.8,38.2],\"type\":\"scatter\"},{\"mode\":\"lines+markers\",\"name\":\"Predicted labels\",\"x\":[1.0,2.0,3.0,4.0,5.0,6.0,7.0,8.0,9.0,10.0,11.0,12.0],\"y\":[0.9085195958614349,1.64591184258461,2.383304089307785,3.12069633603096,3.858088582754135,4.59548082947731,5.332873076200485,6.07026532292366,6.807657569646835,7.54504981637001,8.282442063093185,9.01983430981636],\"type\":\"scatter\"}],                        {\"template\":{\"data\":{\"histogram2dcontour\":[{\"type\":\"histogram2dcontour\",\"colorbar\":{\"outlinewidth\":0,\"ticks\":\"\"},\"colorscale\":[[0.0,\"#0d0887\"],[0.1111111111111111,\"#46039f\"],[0.2222222222222222,\"#7201a8\"],[0.3333333333333333,\"#9c179e\"],[0.4444444444444444,\"#bd3786\"],[0.5555555555555556,\"#d8576b\"],[0.6666666666666666,\"#ed7953\"],[0.7777777777777778,\"#fb9f3a\"],[0.8888888888888888,\"#fdca26\"],[1.0,\"#f0f921\"]]}],\"choropleth\":[{\"type\":\"choropleth\",\"colorbar\":{\"outlinewidth\":0,\"ticks\":\"\"}}],\"histogram2d\":[{\"type\":\"histogram2d\",\"colorbar\":{\"outlinewidth\":0,\"ticks\":\"\"},\"colorscale\":[[0.0,\"#0d0887\"],[0.1111111111111111,\"#46039f\"],[0.2222222222222222,\"#7201a8\"],[0.3333333333333333,\"#9c179e\"],[0.4444444444444444,\"#bd3786\"],[0.5555555555555556,\"#d8576b\"],[0.6666666666666666,\"#ed7953\"],[0.7777777777777778,\"#fb9f3a\"],[0.8888888888888888,\"#fdca26\"],[1.0,\"#f0f921\"]]}],\"heatmap\":[{\"type\":\"heatmap\",\"colorbar\":{\"outlinewidth\":0,\"ticks\":\"\"},\"colorscale\":[[0.0,\"#0d0887\"],[0.1111111111111111,\"#46039f\"],[0.2222222222222222,\"#7201a8\"],[0.3333333333333333,\"#9c179e\"],[0.4444444444444444,\"#bd3786\"],[0.5555555555555556,\"#d8576b\"],[0.6666666666666666,\"#ed7953\"],[0.7777777777777778,\"#fb9f3a\"],[0.8888888888888888,\"#fdca26\"],[1.0,\"#f0f921\"]]}],\"heatmapgl\":[{\"type\":\"heatmapgl\",\"colorbar\":{\"outlinewidth\":0,\"ticks\":\"\"},\"colorscale\":[[0.0,\"#0d0887\"],[0.1111111111111111,\"#46039f\"],[0.2222222222222222,\"#7201a8\"],[0.3333333333333333,\"#9c179e\"],[0.4444444444444444,\"#bd3786\"],[0.5555555555555556,\"#d8576b\"],[0.6666666666666666,\"#ed7953\"],[0.7777777777777778,\"#fb9f3a\"],[0.8888888888888888,\"#fdca26\"],[1.0,\"#f0f921\"]]}],\"contourcarpet\":[{\"type\":\"contourcarpet\",\"colorbar\":{\"outlinewidth\":0,\"ticks\":\"\"}}],\"contour\":[{\"type\":\"contour\",\"colorbar\":{\"outlinewidth\":0,\"ticks\":\"\"},\"colorscale\":[[0.0,\"#0d0887\"],[0.1111111111111111,\"#46039f\"],[0.2222222222222222,\"#7201a8\"],[0.3333333333333333,\"#9c179e\"],[0.4444444444444444,\"#bd3786\"],[0.5555555555555556,\"#d8576b\"],[0.6666666666666666,\"#ed7953\"],[0.7777777777777778,\"#fb9f3a\"],[0.8888888888888888,\"#fdca26\"],[1.0,\"#f0f921\"]]}],\"surface\":[{\"type\":\"surface\",\"colorbar\":{\"outlinewidth\":0,\"ticks\":\"\"},\"colorscale\":[[0.0,\"#0d0887\"],[0.1111111111111111,\"#46039f\"],[0.2222222222222222,\"#7201a8\"],[0.3333333333333333,\"#9c179e\"],[0.4444444444444444,\"#bd3786\"],[0.5555555555555556,\"#d8576b\"],[0.6666666666666666,\"#ed7953\"],[0.7777777777777778,\"#fb9f3a\"],[0.8888888888888888,\"#fdca26\"],[1.0,\"#f0f921\"]]}],\"mesh3d\":[{\"type\":\"mesh3d\",\"colorbar\":{\"outlinewidth\":0,\"ticks\":\"\"}}],\"scatter\":[{\"fillpattern\":{\"fillmode\":\"overlay\",\"size\":10,\"solidity\":0.2},\"type\":\"scatter\"}],\"parcoords\":[{\"type\":\"parcoords\",\"line\":{\"colorbar\":{\"outlinewidth\":0,\"ticks\":\"\"}}}],\"scatterpolargl\":[{\"type\":\"scatterpolargl\",\"marker\":{\"colorbar\":{\"outlinewidth\":0,\"ticks\":\"\"}}}],\"bar\":[{\"error_x\":{\"color\":\"#2a3f5f\"},\"error_y\":{\"color\":\"#2a3f5f\"},\"marker\":{\"line\":{\"color\":\"#E5ECF6\",\"width\":0.5},\"pattern\":{\"fillmode\":\"overlay\",\"size\":10,\"solidity\":0.2}},\"type\":\"bar\"}],\"scattergeo\":[{\"type\":\"scattergeo\",\"marker\":{\"colorbar\":{\"outlinewidth\":0,\"ticks\":\"\"}}}],\"scatterpolar\":[{\"type\":\"scatterpolar\",\"marker\":{\"colorbar\":{\"outlinewidth\":0,\"ticks\":\"\"}}}],\"histogram\":[{\"marker\":{\"pattern\":{\"fillmode\":\"overlay\",\"size\":10,\"solidity\":0.2}},\"type\":\"histogram\"}],\"scattergl\":[{\"type\":\"scattergl\",\"marker\":{\"colorbar\":{\"outlinewidth\":0,\"ticks\":\"\"}}}],\"scatter3d\":[{\"type\":\"scatter3d\",\"line\":{\"colorbar\":{\"outlinewidth\":0,\"ticks\":\"\"}},\"marker\":{\"colorbar\":{\"outlinewidth\":0,\"ticks\":\"\"}}}],\"scattermapbox\":[{\"type\":\"scattermapbox\",\"marker\":{\"colorbar\":{\"outlinewidth\":0,\"ticks\":\"\"}}}],\"scatterternary\":[{\"type\":\"scatterternary\",\"marker\":{\"colorbar\":{\"outlinewidth\":0,\"ticks\":\"\"}}}],\"scattercarpet\":[{\"type\":\"scattercarpet\",\"marker\":{\"colorbar\":{\"outlinewidth\":0,\"ticks\":\"\"}}}],\"carpet\":[{\"aaxis\":{\"endlinecolor\":\"#2a3f5f\",\"gridcolor\":\"white\",\"linecolor\":\"white\",\"minorgridcolor\":\"white\",\"startlinecolor\":\"#2a3f5f\"},\"baxis\":{\"endlinecolor\":\"#2a3f5f\",\"gridcolor\":\"white\",\"linecolor\":\"white\",\"minorgridcolor\":\"white\",\"startlinecolor\":\"#2a3f5f\"},\"type\":\"carpet\"}],\"table\":[{\"cells\":{\"fill\":{\"color\":\"#EBF0F8\"},\"line\":{\"color\":\"white\"}},\"header\":{\"fill\":{\"color\":\"#C8D4E3\"},\"line\":{\"color\":\"white\"}},\"type\":\"table\"}],\"barpolar\":[{\"marker\":{\"line\":{\"color\":\"#E5ECF6\",\"width\":0.5},\"pattern\":{\"fillmode\":\"overlay\",\"size\":10,\"solidity\":0.2}},\"type\":\"barpolar\"}],\"pie\":[{\"automargin\":true,\"type\":\"pie\"}]},\"layout\":{\"autotypenumbers\":\"strict\",\"colorway\":[\"#636efa\",\"#EF553B\",\"#00cc96\",\"#ab63fa\",\"#FFA15A\",\"#19d3f3\",\"#FF6692\",\"#B6E880\",\"#FF97FF\",\"#FECB52\"],\"font\":{\"color\":\"#2a3f5f\"},\"hovermode\":\"closest\",\"hoverlabel\":{\"align\":\"left\"},\"paper_bgcolor\":\"white\",\"plot_bgcolor\":\"#E5ECF6\",\"polar\":{\"bgcolor\":\"#E5ECF6\",\"angularaxis\":{\"gridcolor\":\"white\",\"linecolor\":\"white\",\"ticks\":\"\"},\"radialaxis\":{\"gridcolor\":\"white\",\"linecolor\":\"white\",\"ticks\":\"\"}},\"ternary\":{\"bgcolor\":\"#E5ECF6\",\"aaxis\":{\"gridcolor\":\"white\",\"linecolor\":\"white\",\"ticks\":\"\"},\"baxis\":{\"gridcolor\":\"white\",\"linecolor\":\"white\",\"ticks\":\"\"},\"caxis\":{\"gridcolor\":\"white\",\"linecolor\":\"white\",\"ticks\":\"\"}},\"coloraxis\":{\"colorbar\":{\"outlinewidth\":0,\"ticks\":\"\"}},\"colorscale\":{\"sequential\":[[0.0,\"#0d0887\"],[0.1111111111111111,\"#46039f\"],[0.2222222222222222,\"#7201a8\"],[0.3333333333333333,\"#9c179e\"],[0.4444444444444444,\"#bd3786\"],[0.5555555555555556,\"#d8576b\"],[0.6666666666666666,\"#ed7953\"],[0.7777777777777778,\"#fb9f3a\"],[0.8888888888888888,\"#fdca26\"],[1.0,\"#f0f921\"]],\"sequentialminus\":[[0.0,\"#0d0887\"],[0.1111111111111111,\"#46039f\"],[0.2222222222222222,\"#7201a8\"],[0.3333333333333333,\"#9c179e\"],[0.4444444444444444,\"#bd3786\"],[0.5555555555555556,\"#d8576b\"],[0.6666666666666666,\"#ed7953\"],[0.7777777777777778,\"#fb9f3a\"],[0.8888888888888888,\"#fdca26\"],[1.0,\"#f0f921\"]],\"diverging\":[[0,\"#8e0152\"],[0.1,\"#c51b7d\"],[0.2,\"#de77ae\"],[0.3,\"#f1b6da\"],[0.4,\"#fde0ef\"],[0.5,\"#f7f7f7\"],[0.6,\"#e6f5d0\"],[0.7,\"#b8e186\"],[0.8,\"#7fbc41\"],[0.9,\"#4d9221\"],[1,\"#276419\"]]},\"xaxis\":{\"gridcolor\":\"white\",\"linecolor\":\"white\",\"ticks\":\"\",\"title\":{\"standoff\":15},\"zerolinecolor\":\"white\",\"automargin\":true,\"zerolinewidth\":2},\"yaxis\":{\"gridcolor\":\"white\",\"linecolor\":\"white\",\"ticks\":\"\",\"title\":{\"standoff\":15},\"zerolinecolor\":\"white\",\"automargin\":true,\"zerolinewidth\":2},\"scene\":{\"xaxis\":{\"backgroundcolor\":\"#E5ECF6\",\"gridcolor\":\"white\",\"linecolor\":\"white\",\"showbackground\":true,\"ticks\":\"\",\"zerolinecolor\":\"white\",\"gridwidth\":2},\"yaxis\":{\"backgroundcolor\":\"#E5ECF6\",\"gridcolor\":\"white\",\"linecolor\":\"white\",\"showbackground\":true,\"ticks\":\"\",\"zerolinecolor\":\"white\",\"gridwidth\":2},\"zaxis\":{\"backgroundcolor\":\"#E5ECF6\",\"gridcolor\":\"white\",\"linecolor\":\"white\",\"showbackground\":true,\"ticks\":\"\",\"zerolinecolor\":\"white\",\"gridwidth\":2}},\"shapedefaults\":{\"line\":{\"color\":\"#2a3f5f\"}},\"annotationdefaults\":{\"arrowcolor\":\"#2a3f5f\",\"arrowhead\":0,\"arrowwidth\":1},\"geo\":{\"bgcolor\":\"white\",\"landcolor\":\"#E5ECF6\",\"subunitcolor\":\"white\",\"showland\":true,\"showlakes\":true,\"lakecolor\":\"white\"},\"title\":{\"x\":0.05},\"mapbox\":{\"style\":\"light\"}}},\"title\":{\"text\":\"Comparsion chart between predicted and original labels\",\"x\":0.5}},                        {\"responsive\": true}                    ).then(function(){\n",
       "                            \n",
       "var gd = document.getElementById('3f21aa99-d3fb-4563-b064-e4873a10352f');\n",
       "var x = new MutationObserver(function (mutations, observer) {{\n",
       "        var display = window.getComputedStyle(gd).display;\n",
       "        if (!display || display === 'none') {{\n",
       "            console.log([gd, 'removed!']);\n",
       "            Plotly.purge(gd);\n",
       "            observer.disconnect();\n",
       "        }}\n",
       "}});\n",
       "\n",
       "// Listen for the removal of the full notebook cells\n",
       "var notebookContainer = gd.closest('#notebook-container');\n",
       "if (notebookContainer) {{\n",
       "    x.observe(notebookContainer, {childList: true});\n",
       "}}\n",
       "\n",
       "// Listen for the clearing of the current output cell\n",
       "var outputEl = gd.closest('.output');\n",
       "if (outputEl) {{\n",
       "    x.observe(outputEl, {childList: true});\n",
       "}}\n",
       "\n",
       "                        })                };                });            </script>        </div>"
      ]
     },
     "metadata": {},
     "output_type": "display_data"
    }
   ],
   "source": [
    "model_label_output = get_new_labels(trained_weight, trained_bias, my_feature)\n",
    "\n",
    "plot_original_and_predicted_label(my_feature, my_label, model_label_output)"
   ]
  },
  {
   "cell_type": "code",
   "execution_count": 16,
   "id": "13cae14c",
   "metadata": {},
   "outputs": [
    {
     "data": {
      "application/vnd.plotly.v1+json": {
       "config": {
        "plotlyServerURL": "https://plot.ly"
       },
       "data": [
        {
         "hovertemplate": "Epochs=%{x}<br>Error=%{y}<extra></extra>",
         "legendgroup": "",
         "line": {
          "color": "#636efa",
          "dash": "solid"
         },
         "marker": {
          "symbol": "circle"
         },
         "mode": "lines",
         "name": "",
         "orientation": "v",
         "showlegend": false,
         "type": "scatter",
         "x": [
          0,
          1,
          2,
          3,
          4,
          5,
          6,
          7,
          8,
          9
         ],
         "xaxis": "x",
         "y": [
          19.588022232055664,
          19.327238082885742,
          19.13926124572754,
          18.98247528076172,
          18.843706130981445,
          18.716846466064453,
          18.598495483398438,
          18.48654556274414,
          18.379575729370117,
          18.27659034729004
         ],
         "yaxis": "y"
        }
       ],
       "layout": {
        "legend": {
         "tracegroupgap": 0
        },
        "margin": {
         "t": 60
        },
        "template": {
         "data": {
          "bar": [
           {
            "error_x": {
             "color": "#2a3f5f"
            },
            "error_y": {
             "color": "#2a3f5f"
            },
            "marker": {
             "line": {
              "color": "#E5ECF6",
              "width": 0.5
             },
             "pattern": {
              "fillmode": "overlay",
              "size": 10,
              "solidity": 0.2
             }
            },
            "type": "bar"
           }
          ],
          "barpolar": [
           {
            "marker": {
             "line": {
              "color": "#E5ECF6",
              "width": 0.5
             },
             "pattern": {
              "fillmode": "overlay",
              "size": 10,
              "solidity": 0.2
             }
            },
            "type": "barpolar"
           }
          ],
          "carpet": [
           {
            "aaxis": {
             "endlinecolor": "#2a3f5f",
             "gridcolor": "white",
             "linecolor": "white",
             "minorgridcolor": "white",
             "startlinecolor": "#2a3f5f"
            },
            "baxis": {
             "endlinecolor": "#2a3f5f",
             "gridcolor": "white",
             "linecolor": "white",
             "minorgridcolor": "white",
             "startlinecolor": "#2a3f5f"
            },
            "type": "carpet"
           }
          ],
          "choropleth": [
           {
            "colorbar": {
             "outlinewidth": 0,
             "ticks": ""
            },
            "type": "choropleth"
           }
          ],
          "contour": [
           {
            "colorbar": {
             "outlinewidth": 0,
             "ticks": ""
            },
            "colorscale": [
             [
              0,
              "#0d0887"
             ],
             [
              0.1111111111111111,
              "#46039f"
             ],
             [
              0.2222222222222222,
              "#7201a8"
             ],
             [
              0.3333333333333333,
              "#9c179e"
             ],
             [
              0.4444444444444444,
              "#bd3786"
             ],
             [
              0.5555555555555556,
              "#d8576b"
             ],
             [
              0.6666666666666666,
              "#ed7953"
             ],
             [
              0.7777777777777778,
              "#fb9f3a"
             ],
             [
              0.8888888888888888,
              "#fdca26"
             ],
             [
              1,
              "#f0f921"
             ]
            ],
            "type": "contour"
           }
          ],
          "contourcarpet": [
           {
            "colorbar": {
             "outlinewidth": 0,
             "ticks": ""
            },
            "type": "contourcarpet"
           }
          ],
          "heatmap": [
           {
            "colorbar": {
             "outlinewidth": 0,
             "ticks": ""
            },
            "colorscale": [
             [
              0,
              "#0d0887"
             ],
             [
              0.1111111111111111,
              "#46039f"
             ],
             [
              0.2222222222222222,
              "#7201a8"
             ],
             [
              0.3333333333333333,
              "#9c179e"
             ],
             [
              0.4444444444444444,
              "#bd3786"
             ],
             [
              0.5555555555555556,
              "#d8576b"
             ],
             [
              0.6666666666666666,
              "#ed7953"
             ],
             [
              0.7777777777777778,
              "#fb9f3a"
             ],
             [
              0.8888888888888888,
              "#fdca26"
             ],
             [
              1,
              "#f0f921"
             ]
            ],
            "type": "heatmap"
           }
          ],
          "heatmapgl": [
           {
            "colorbar": {
             "outlinewidth": 0,
             "ticks": ""
            },
            "colorscale": [
             [
              0,
              "#0d0887"
             ],
             [
              0.1111111111111111,
              "#46039f"
             ],
             [
              0.2222222222222222,
              "#7201a8"
             ],
             [
              0.3333333333333333,
              "#9c179e"
             ],
             [
              0.4444444444444444,
              "#bd3786"
             ],
             [
              0.5555555555555556,
              "#d8576b"
             ],
             [
              0.6666666666666666,
              "#ed7953"
             ],
             [
              0.7777777777777778,
              "#fb9f3a"
             ],
             [
              0.8888888888888888,
              "#fdca26"
             ],
             [
              1,
              "#f0f921"
             ]
            ],
            "type": "heatmapgl"
           }
          ],
          "histogram": [
           {
            "marker": {
             "pattern": {
              "fillmode": "overlay",
              "size": 10,
              "solidity": 0.2
             }
            },
            "type": "histogram"
           }
          ],
          "histogram2d": [
           {
            "colorbar": {
             "outlinewidth": 0,
             "ticks": ""
            },
            "colorscale": [
             [
              0,
              "#0d0887"
             ],
             [
              0.1111111111111111,
              "#46039f"
             ],
             [
              0.2222222222222222,
              "#7201a8"
             ],
             [
              0.3333333333333333,
              "#9c179e"
             ],
             [
              0.4444444444444444,
              "#bd3786"
             ],
             [
              0.5555555555555556,
              "#d8576b"
             ],
             [
              0.6666666666666666,
              "#ed7953"
             ],
             [
              0.7777777777777778,
              "#fb9f3a"
             ],
             [
              0.8888888888888888,
              "#fdca26"
             ],
             [
              1,
              "#f0f921"
             ]
            ],
            "type": "histogram2d"
           }
          ],
          "histogram2dcontour": [
           {
            "colorbar": {
             "outlinewidth": 0,
             "ticks": ""
            },
            "colorscale": [
             [
              0,
              "#0d0887"
             ],
             [
              0.1111111111111111,
              "#46039f"
             ],
             [
              0.2222222222222222,
              "#7201a8"
             ],
             [
              0.3333333333333333,
              "#9c179e"
             ],
             [
              0.4444444444444444,
              "#bd3786"
             ],
             [
              0.5555555555555556,
              "#d8576b"
             ],
             [
              0.6666666666666666,
              "#ed7953"
             ],
             [
              0.7777777777777778,
              "#fb9f3a"
             ],
             [
              0.8888888888888888,
              "#fdca26"
             ],
             [
              1,
              "#f0f921"
             ]
            ],
            "type": "histogram2dcontour"
           }
          ],
          "mesh3d": [
           {
            "colorbar": {
             "outlinewidth": 0,
             "ticks": ""
            },
            "type": "mesh3d"
           }
          ],
          "parcoords": [
           {
            "line": {
             "colorbar": {
              "outlinewidth": 0,
              "ticks": ""
             }
            },
            "type": "parcoords"
           }
          ],
          "pie": [
           {
            "automargin": true,
            "type": "pie"
           }
          ],
          "scatter": [
           {
            "fillpattern": {
             "fillmode": "overlay",
             "size": 10,
             "solidity": 0.2
            },
            "type": "scatter"
           }
          ],
          "scatter3d": [
           {
            "line": {
             "colorbar": {
              "outlinewidth": 0,
              "ticks": ""
             }
            },
            "marker": {
             "colorbar": {
              "outlinewidth": 0,
              "ticks": ""
             }
            },
            "type": "scatter3d"
           }
          ],
          "scattercarpet": [
           {
            "marker": {
             "colorbar": {
              "outlinewidth": 0,
              "ticks": ""
             }
            },
            "type": "scattercarpet"
           }
          ],
          "scattergeo": [
           {
            "marker": {
             "colorbar": {
              "outlinewidth": 0,
              "ticks": ""
             }
            },
            "type": "scattergeo"
           }
          ],
          "scattergl": [
           {
            "marker": {
             "colorbar": {
              "outlinewidth": 0,
              "ticks": ""
             }
            },
            "type": "scattergl"
           }
          ],
          "scattermapbox": [
           {
            "marker": {
             "colorbar": {
              "outlinewidth": 0,
              "ticks": ""
             }
            },
            "type": "scattermapbox"
           }
          ],
          "scatterpolar": [
           {
            "marker": {
             "colorbar": {
              "outlinewidth": 0,
              "ticks": ""
             }
            },
            "type": "scatterpolar"
           }
          ],
          "scatterpolargl": [
           {
            "marker": {
             "colorbar": {
              "outlinewidth": 0,
              "ticks": ""
             }
            },
            "type": "scatterpolargl"
           }
          ],
          "scatterternary": [
           {
            "marker": {
             "colorbar": {
              "outlinewidth": 0,
              "ticks": ""
             }
            },
            "type": "scatterternary"
           }
          ],
          "surface": [
           {
            "colorbar": {
             "outlinewidth": 0,
             "ticks": ""
            },
            "colorscale": [
             [
              0,
              "#0d0887"
             ],
             [
              0.1111111111111111,
              "#46039f"
             ],
             [
              0.2222222222222222,
              "#7201a8"
             ],
             [
              0.3333333333333333,
              "#9c179e"
             ],
             [
              0.4444444444444444,
              "#bd3786"
             ],
             [
              0.5555555555555556,
              "#d8576b"
             ],
             [
              0.6666666666666666,
              "#ed7953"
             ],
             [
              0.7777777777777778,
              "#fb9f3a"
             ],
             [
              0.8888888888888888,
              "#fdca26"
             ],
             [
              1,
              "#f0f921"
             ]
            ],
            "type": "surface"
           }
          ],
          "table": [
           {
            "cells": {
             "fill": {
              "color": "#EBF0F8"
             },
             "line": {
              "color": "white"
             }
            },
            "header": {
             "fill": {
              "color": "#C8D4E3"
             },
             "line": {
              "color": "white"
             }
            },
            "type": "table"
           }
          ]
         },
         "layout": {
          "annotationdefaults": {
           "arrowcolor": "#2a3f5f",
           "arrowhead": 0,
           "arrowwidth": 1
          },
          "autotypenumbers": "strict",
          "coloraxis": {
           "colorbar": {
            "outlinewidth": 0,
            "ticks": ""
           }
          },
          "colorscale": {
           "diverging": [
            [
             0,
             "#8e0152"
            ],
            [
             0.1,
             "#c51b7d"
            ],
            [
             0.2,
             "#de77ae"
            ],
            [
             0.3,
             "#f1b6da"
            ],
            [
             0.4,
             "#fde0ef"
            ],
            [
             0.5,
             "#f7f7f7"
            ],
            [
             0.6,
             "#e6f5d0"
            ],
            [
             0.7,
             "#b8e186"
            ],
            [
             0.8,
             "#7fbc41"
            ],
            [
             0.9,
             "#4d9221"
            ],
            [
             1,
             "#276419"
            ]
           ],
           "sequential": [
            [
             0,
             "#0d0887"
            ],
            [
             0.1111111111111111,
             "#46039f"
            ],
            [
             0.2222222222222222,
             "#7201a8"
            ],
            [
             0.3333333333333333,
             "#9c179e"
            ],
            [
             0.4444444444444444,
             "#bd3786"
            ],
            [
             0.5555555555555556,
             "#d8576b"
            ],
            [
             0.6666666666666666,
             "#ed7953"
            ],
            [
             0.7777777777777778,
             "#fb9f3a"
            ],
            [
             0.8888888888888888,
             "#fdca26"
            ],
            [
             1,
             "#f0f921"
            ]
           ],
           "sequentialminus": [
            [
             0,
             "#0d0887"
            ],
            [
             0.1111111111111111,
             "#46039f"
            ],
            [
             0.2222222222222222,
             "#7201a8"
            ],
            [
             0.3333333333333333,
             "#9c179e"
            ],
            [
             0.4444444444444444,
             "#bd3786"
            ],
            [
             0.5555555555555556,
             "#d8576b"
            ],
            [
             0.6666666666666666,
             "#ed7953"
            ],
            [
             0.7777777777777778,
             "#fb9f3a"
            ],
            [
             0.8888888888888888,
             "#fdca26"
            ],
            [
             1,
             "#f0f921"
            ]
           ]
          },
          "colorway": [
           "#636efa",
           "#EF553B",
           "#00cc96",
           "#ab63fa",
           "#FFA15A",
           "#19d3f3",
           "#FF6692",
           "#B6E880",
           "#FF97FF",
           "#FECB52"
          ],
          "font": {
           "color": "#2a3f5f"
          },
          "geo": {
           "bgcolor": "white",
           "lakecolor": "white",
           "landcolor": "#E5ECF6",
           "showlakes": true,
           "showland": true,
           "subunitcolor": "white"
          },
          "hoverlabel": {
           "align": "left"
          },
          "hovermode": "closest",
          "mapbox": {
           "style": "light"
          },
          "paper_bgcolor": "white",
          "plot_bgcolor": "#E5ECF6",
          "polar": {
           "angularaxis": {
            "gridcolor": "white",
            "linecolor": "white",
            "ticks": ""
           },
           "bgcolor": "#E5ECF6",
           "radialaxis": {
            "gridcolor": "white",
            "linecolor": "white",
            "ticks": ""
           }
          },
          "scene": {
           "xaxis": {
            "backgroundcolor": "#E5ECF6",
            "gridcolor": "white",
            "gridwidth": 2,
            "linecolor": "white",
            "showbackground": true,
            "ticks": "",
            "zerolinecolor": "white"
           },
           "yaxis": {
            "backgroundcolor": "#E5ECF6",
            "gridcolor": "white",
            "gridwidth": 2,
            "linecolor": "white",
            "showbackground": true,
            "ticks": "",
            "zerolinecolor": "white"
           },
           "zaxis": {
            "backgroundcolor": "#E5ECF6",
            "gridcolor": "white",
            "gridwidth": 2,
            "linecolor": "white",
            "showbackground": true,
            "ticks": "",
            "zerolinecolor": "white"
           }
          },
          "shapedefaults": {
           "line": {
            "color": "#2a3f5f"
           }
          },
          "ternary": {
           "aaxis": {
            "gridcolor": "white",
            "linecolor": "white",
            "ticks": ""
           },
           "baxis": {
            "gridcolor": "white",
            "linecolor": "white",
            "ticks": ""
           },
           "bgcolor": "#E5ECF6",
           "caxis": {
            "gridcolor": "white",
            "linecolor": "white",
            "ticks": ""
           }
          },
          "title": {
           "x": 0.05
          },
          "xaxis": {
           "automargin": true,
           "gridcolor": "white",
           "linecolor": "white",
           "ticks": "",
           "title": {
            "standoff": 15
           },
           "zerolinecolor": "white",
           "zerolinewidth": 2
          },
          "yaxis": {
           "automargin": true,
           "gridcolor": "white",
           "linecolor": "white",
           "ticks": "",
           "title": {
            "standoff": 15
           },
           "zerolinecolor": "white",
           "zerolinewidth": 2
          }
         }
        },
        "title": {
         "text": "Loss",
         "x": 0.5
        },
        "xaxis": {
         "anchor": "y",
         "domain": [
          0,
          1
         ],
         "title": {
          "text": "Epochs"
         }
        },
        "yaxis": {
         "anchor": "x",
         "domain": [
          0,
          1
         ],
         "title": {
          "text": "Error"
         }
        }
       }
      },
      "text/html": [
       "<div>                            <div id=\"654656bd-fc34-4ca7-8f0c-fd94b194baf2\" class=\"plotly-graph-div\" style=\"height:525px; width:100%;\"></div>            <script type=\"text/javascript\">                require([\"plotly\"], function(Plotly) {                    window.PLOTLYENV=window.PLOTLYENV || {};                                    if (document.getElementById(\"654656bd-fc34-4ca7-8f0c-fd94b194baf2\")) {                    Plotly.newPlot(                        \"654656bd-fc34-4ca7-8f0c-fd94b194baf2\",                        [{\"hovertemplate\":\"Epochs=%{x}<br>Error=%{y}<extra></extra>\",\"legendgroup\":\"\",\"line\":{\"color\":\"#636efa\",\"dash\":\"solid\"},\"marker\":{\"symbol\":\"circle\"},\"mode\":\"lines\",\"name\":\"\",\"orientation\":\"v\",\"showlegend\":false,\"x\":[0,1,2,3,4,5,6,7,8,9],\"xaxis\":\"x\",\"y\":[19.588022232055664,19.327238082885742,19.13926124572754,18.98247528076172,18.843706130981445,18.716846466064453,18.598495483398438,18.48654556274414,18.379575729370117,18.27659034729004],\"yaxis\":\"y\",\"type\":\"scatter\"}],                        {\"template\":{\"data\":{\"histogram2dcontour\":[{\"type\":\"histogram2dcontour\",\"colorbar\":{\"outlinewidth\":0,\"ticks\":\"\"},\"colorscale\":[[0.0,\"#0d0887\"],[0.1111111111111111,\"#46039f\"],[0.2222222222222222,\"#7201a8\"],[0.3333333333333333,\"#9c179e\"],[0.4444444444444444,\"#bd3786\"],[0.5555555555555556,\"#d8576b\"],[0.6666666666666666,\"#ed7953\"],[0.7777777777777778,\"#fb9f3a\"],[0.8888888888888888,\"#fdca26\"],[1.0,\"#f0f921\"]]}],\"choropleth\":[{\"type\":\"choropleth\",\"colorbar\":{\"outlinewidth\":0,\"ticks\":\"\"}}],\"histogram2d\":[{\"type\":\"histogram2d\",\"colorbar\":{\"outlinewidth\":0,\"ticks\":\"\"},\"colorscale\":[[0.0,\"#0d0887\"],[0.1111111111111111,\"#46039f\"],[0.2222222222222222,\"#7201a8\"],[0.3333333333333333,\"#9c179e\"],[0.4444444444444444,\"#bd3786\"],[0.5555555555555556,\"#d8576b\"],[0.6666666666666666,\"#ed7953\"],[0.7777777777777778,\"#fb9f3a\"],[0.8888888888888888,\"#fdca26\"],[1.0,\"#f0f921\"]]}],\"heatmap\":[{\"type\":\"heatmap\",\"colorbar\":{\"outlinewidth\":0,\"ticks\":\"\"},\"colorscale\":[[0.0,\"#0d0887\"],[0.1111111111111111,\"#46039f\"],[0.2222222222222222,\"#7201a8\"],[0.3333333333333333,\"#9c179e\"],[0.4444444444444444,\"#bd3786\"],[0.5555555555555556,\"#d8576b\"],[0.6666666666666666,\"#ed7953\"],[0.7777777777777778,\"#fb9f3a\"],[0.8888888888888888,\"#fdca26\"],[1.0,\"#f0f921\"]]}],\"heatmapgl\":[{\"type\":\"heatmapgl\",\"colorbar\":{\"outlinewidth\":0,\"ticks\":\"\"},\"colorscale\":[[0.0,\"#0d0887\"],[0.1111111111111111,\"#46039f\"],[0.2222222222222222,\"#7201a8\"],[0.3333333333333333,\"#9c179e\"],[0.4444444444444444,\"#bd3786\"],[0.5555555555555556,\"#d8576b\"],[0.6666666666666666,\"#ed7953\"],[0.7777777777777778,\"#fb9f3a\"],[0.8888888888888888,\"#fdca26\"],[1.0,\"#f0f921\"]]}],\"contourcarpet\":[{\"type\":\"contourcarpet\",\"colorbar\":{\"outlinewidth\":0,\"ticks\":\"\"}}],\"contour\":[{\"type\":\"contour\",\"colorbar\":{\"outlinewidth\":0,\"ticks\":\"\"},\"colorscale\":[[0.0,\"#0d0887\"],[0.1111111111111111,\"#46039f\"],[0.2222222222222222,\"#7201a8\"],[0.3333333333333333,\"#9c179e\"],[0.4444444444444444,\"#bd3786\"],[0.5555555555555556,\"#d8576b\"],[0.6666666666666666,\"#ed7953\"],[0.7777777777777778,\"#fb9f3a\"],[0.8888888888888888,\"#fdca26\"],[1.0,\"#f0f921\"]]}],\"surface\":[{\"type\":\"surface\",\"colorbar\":{\"outlinewidth\":0,\"ticks\":\"\"},\"colorscale\":[[0.0,\"#0d0887\"],[0.1111111111111111,\"#46039f\"],[0.2222222222222222,\"#7201a8\"],[0.3333333333333333,\"#9c179e\"],[0.4444444444444444,\"#bd3786\"],[0.5555555555555556,\"#d8576b\"],[0.6666666666666666,\"#ed7953\"],[0.7777777777777778,\"#fb9f3a\"],[0.8888888888888888,\"#fdca26\"],[1.0,\"#f0f921\"]]}],\"mesh3d\":[{\"type\":\"mesh3d\",\"colorbar\":{\"outlinewidth\":0,\"ticks\":\"\"}}],\"scatter\":[{\"fillpattern\":{\"fillmode\":\"overlay\",\"size\":10,\"solidity\":0.2},\"type\":\"scatter\"}],\"parcoords\":[{\"type\":\"parcoords\",\"line\":{\"colorbar\":{\"outlinewidth\":0,\"ticks\":\"\"}}}],\"scatterpolargl\":[{\"type\":\"scatterpolargl\",\"marker\":{\"colorbar\":{\"outlinewidth\":0,\"ticks\":\"\"}}}],\"bar\":[{\"error_x\":{\"color\":\"#2a3f5f\"},\"error_y\":{\"color\":\"#2a3f5f\"},\"marker\":{\"line\":{\"color\":\"#E5ECF6\",\"width\":0.5},\"pattern\":{\"fillmode\":\"overlay\",\"size\":10,\"solidity\":0.2}},\"type\":\"bar\"}],\"scattergeo\":[{\"type\":\"scattergeo\",\"marker\":{\"colorbar\":{\"outlinewidth\":0,\"ticks\":\"\"}}}],\"scatterpolar\":[{\"type\":\"scatterpolar\",\"marker\":{\"colorbar\":{\"outlinewidth\":0,\"ticks\":\"\"}}}],\"histogram\":[{\"marker\":{\"pattern\":{\"fillmode\":\"overlay\",\"size\":10,\"solidity\":0.2}},\"type\":\"histogram\"}],\"scattergl\":[{\"type\":\"scattergl\",\"marker\":{\"colorbar\":{\"outlinewidth\":0,\"ticks\":\"\"}}}],\"scatter3d\":[{\"type\":\"scatter3d\",\"line\":{\"colorbar\":{\"outlinewidth\":0,\"ticks\":\"\"}},\"marker\":{\"colorbar\":{\"outlinewidth\":0,\"ticks\":\"\"}}}],\"scattermapbox\":[{\"type\":\"scattermapbox\",\"marker\":{\"colorbar\":{\"outlinewidth\":0,\"ticks\":\"\"}}}],\"scatterternary\":[{\"type\":\"scatterternary\",\"marker\":{\"colorbar\":{\"outlinewidth\":0,\"ticks\":\"\"}}}],\"scattercarpet\":[{\"type\":\"scattercarpet\",\"marker\":{\"colorbar\":{\"outlinewidth\":0,\"ticks\":\"\"}}}],\"carpet\":[{\"aaxis\":{\"endlinecolor\":\"#2a3f5f\",\"gridcolor\":\"white\",\"linecolor\":\"white\",\"minorgridcolor\":\"white\",\"startlinecolor\":\"#2a3f5f\"},\"baxis\":{\"endlinecolor\":\"#2a3f5f\",\"gridcolor\":\"white\",\"linecolor\":\"white\",\"minorgridcolor\":\"white\",\"startlinecolor\":\"#2a3f5f\"},\"type\":\"carpet\"}],\"table\":[{\"cells\":{\"fill\":{\"color\":\"#EBF0F8\"},\"line\":{\"color\":\"white\"}},\"header\":{\"fill\":{\"color\":\"#C8D4E3\"},\"line\":{\"color\":\"white\"}},\"type\":\"table\"}],\"barpolar\":[{\"marker\":{\"line\":{\"color\":\"#E5ECF6\",\"width\":0.5},\"pattern\":{\"fillmode\":\"overlay\",\"size\":10,\"solidity\":0.2}},\"type\":\"barpolar\"}],\"pie\":[{\"automargin\":true,\"type\":\"pie\"}]},\"layout\":{\"autotypenumbers\":\"strict\",\"colorway\":[\"#636efa\",\"#EF553B\",\"#00cc96\",\"#ab63fa\",\"#FFA15A\",\"#19d3f3\",\"#FF6692\",\"#B6E880\",\"#FF97FF\",\"#FECB52\"],\"font\":{\"color\":\"#2a3f5f\"},\"hovermode\":\"closest\",\"hoverlabel\":{\"align\":\"left\"},\"paper_bgcolor\":\"white\",\"plot_bgcolor\":\"#E5ECF6\",\"polar\":{\"bgcolor\":\"#E5ECF6\",\"angularaxis\":{\"gridcolor\":\"white\",\"linecolor\":\"white\",\"ticks\":\"\"},\"radialaxis\":{\"gridcolor\":\"white\",\"linecolor\":\"white\",\"ticks\":\"\"}},\"ternary\":{\"bgcolor\":\"#E5ECF6\",\"aaxis\":{\"gridcolor\":\"white\",\"linecolor\":\"white\",\"ticks\":\"\"},\"baxis\":{\"gridcolor\":\"white\",\"linecolor\":\"white\",\"ticks\":\"\"},\"caxis\":{\"gridcolor\":\"white\",\"linecolor\":\"white\",\"ticks\":\"\"}},\"coloraxis\":{\"colorbar\":{\"outlinewidth\":0,\"ticks\":\"\"}},\"colorscale\":{\"sequential\":[[0.0,\"#0d0887\"],[0.1111111111111111,\"#46039f\"],[0.2222222222222222,\"#7201a8\"],[0.3333333333333333,\"#9c179e\"],[0.4444444444444444,\"#bd3786\"],[0.5555555555555556,\"#d8576b\"],[0.6666666666666666,\"#ed7953\"],[0.7777777777777778,\"#fb9f3a\"],[0.8888888888888888,\"#fdca26\"],[1.0,\"#f0f921\"]],\"sequentialminus\":[[0.0,\"#0d0887\"],[0.1111111111111111,\"#46039f\"],[0.2222222222222222,\"#7201a8\"],[0.3333333333333333,\"#9c179e\"],[0.4444444444444444,\"#bd3786\"],[0.5555555555555556,\"#d8576b\"],[0.6666666666666666,\"#ed7953\"],[0.7777777777777778,\"#fb9f3a\"],[0.8888888888888888,\"#fdca26\"],[1.0,\"#f0f921\"]],\"diverging\":[[0,\"#8e0152\"],[0.1,\"#c51b7d\"],[0.2,\"#de77ae\"],[0.3,\"#f1b6da\"],[0.4,\"#fde0ef\"],[0.5,\"#f7f7f7\"],[0.6,\"#e6f5d0\"],[0.7,\"#b8e186\"],[0.8,\"#7fbc41\"],[0.9,\"#4d9221\"],[1,\"#276419\"]]},\"xaxis\":{\"gridcolor\":\"white\",\"linecolor\":\"white\",\"ticks\":\"\",\"title\":{\"standoff\":15},\"zerolinecolor\":\"white\",\"automargin\":true,\"zerolinewidth\":2},\"yaxis\":{\"gridcolor\":\"white\",\"linecolor\":\"white\",\"ticks\":\"\",\"title\":{\"standoff\":15},\"zerolinecolor\":\"white\",\"automargin\":true,\"zerolinewidth\":2},\"scene\":{\"xaxis\":{\"backgroundcolor\":\"#E5ECF6\",\"gridcolor\":\"white\",\"linecolor\":\"white\",\"showbackground\":true,\"ticks\":\"\",\"zerolinecolor\":\"white\",\"gridwidth\":2},\"yaxis\":{\"backgroundcolor\":\"#E5ECF6\",\"gridcolor\":\"white\",\"linecolor\":\"white\",\"showbackground\":true,\"ticks\":\"\",\"zerolinecolor\":\"white\",\"gridwidth\":2},\"zaxis\":{\"backgroundcolor\":\"#E5ECF6\",\"gridcolor\":\"white\",\"linecolor\":\"white\",\"showbackground\":true,\"ticks\":\"\",\"zerolinecolor\":\"white\",\"gridwidth\":2}},\"shapedefaults\":{\"line\":{\"color\":\"#2a3f5f\"}},\"annotationdefaults\":{\"arrowcolor\":\"#2a3f5f\",\"arrowhead\":0,\"arrowwidth\":1},\"geo\":{\"bgcolor\":\"white\",\"landcolor\":\"#E5ECF6\",\"subunitcolor\":\"white\",\"showland\":true,\"showlakes\":true,\"lakecolor\":\"white\"},\"title\":{\"x\":0.05},\"mapbox\":{\"style\":\"light\"}}},\"xaxis\":{\"anchor\":\"y\",\"domain\":[0.0,1.0],\"title\":{\"text\":\"Epochs\"}},\"yaxis\":{\"anchor\":\"x\",\"domain\":[0.0,1.0],\"title\":{\"text\":\"Error\"}},\"legend\":{\"tracegroupgap\":0},\"margin\":{\"t\":60},\"title\":{\"text\":\"Loss\",\"x\":0.5}},                        {\"responsive\": true}                    ).then(function(){\n",
       "                            \n",
       "var gd = document.getElementById('654656bd-fc34-4ca7-8f0c-fd94b194baf2');\n",
       "var x = new MutationObserver(function (mutations, observer) {{\n",
       "        var display = window.getComputedStyle(gd).display;\n",
       "        if (!display || display === 'none') {{\n",
       "            console.log([gd, 'removed!']);\n",
       "            Plotly.purge(gd);\n",
       "            observer.disconnect();\n",
       "        }}\n",
       "}});\n",
       "\n",
       "// Listen for the removal of the full notebook cells\n",
       "var notebookContainer = gd.closest('#notebook-container');\n",
       "if (notebookContainer) {{\n",
       "    x.observe(notebookContainer, {childList: true});\n",
       "}}\n",
       "\n",
       "// Listen for the clearing of the current output cell\n",
       "var outputEl = gd.closest('.output');\n",
       "if (outputEl) {{\n",
       "    x.observe(outputEl, {childList: true});\n",
       "}}\n",
       "\n",
       "                        })                };                });            </script>        </div>"
      ]
     },
     "metadata": {},
     "output_type": "display_data"
    }
   ],
   "source": [
    "plot_loss(epochs_from_model, rmse)"
   ]
  },
  {
   "cell_type": "markdown",
   "id": "c6880e46",
   "metadata": {},
   "source": [
    "### Como se puede ver, la prediccion con los hiperparametros establecidos no es muy buena.  A simple vista se puede observar que tiene el error es alto."
   ]
  },
  {
   "cell_type": "markdown",
   "id": "0c495425",
   "metadata": {},
   "source": [
    "## Cambiemos los hiperparametros y  volvemos a entrenar:"
   ]
  },
  {
   "cell_type": "markdown",
   "id": "d2bba638",
   "metadata": {},
   "source": [
    "### Aumentemos los epochs:"
   ]
  },
  {
   "cell_type": "code",
   "execution_count": 17,
   "id": "a1b131f3",
   "metadata": {},
   "outputs": [],
   "source": [
    "learning_rate = 0.01 #que tan rapido se disminuye el error.\n",
    "epochs = 300 #Cantidad de veces que se va a ver el bach de dataset\n",
    "batch_size = 12"
   ]
  },
  {
   "cell_type": "code",
   "execution_count": 18,
   "id": "ece0c4de",
   "metadata": {},
   "outputs": [
    {
     "name": "stdout",
     "output_type": "stream",
     "text": [
      "Epoch 1/300\n",
      "1/1 [==============================] - 0s 117ms/step - loss: 1278.4586 - root_mean_squared_error: 35.7555\n",
      "Epoch 2/300\n",
      "1/1 [==============================] - 0s 2ms/step - loss: 1259.8701 - root_mean_squared_error: 35.4946\n",
      "Epoch 3/300\n",
      "1/1 [==============================] - 0s 2ms/step - loss: 1246.5162 - root_mean_squared_error: 35.3060\n",
      "Epoch 4/300\n",
      "1/1 [==============================] - 0s 1ms/step - loss: 1235.4130 - root_mean_squared_error: 35.1484\n",
      "Epoch 5/300\n",
      "1/1 [==============================] - 0s 2ms/step - loss: 1225.6136 - root_mean_squared_error: 35.0088\n",
      "Epoch 6/300\n",
      "1/1 [==============================] - 0s 2ms/step - loss: 1216.6794 - root_mean_squared_error: 34.8809\n",
      "Epoch 7/300\n",
      "1/1 [==============================] - 0s 2ms/step - loss: 1208.3657 - root_mean_squared_error: 34.7616\n",
      "Epoch 8/300\n",
      "1/1 [==============================] - 0s 2ms/step - loss: 1200.5209 - root_mean_squared_error: 34.6485\n",
      "Epoch 9/300\n",
      "1/1 [==============================] - 0s 2ms/step - loss: 1193.0431 - root_mean_squared_error: 34.5405\n",
      "Epoch 10/300\n",
      "1/1 [==============================] - 0s 2ms/step - loss: 1185.8607 - root_mean_squared_error: 34.4363\n",
      "Epoch 11/300\n",
      "1/1 [==============================] - 0s 2ms/step - loss: 1178.9209 - root_mean_squared_error: 34.3354\n",
      "Epoch 12/300\n",
      "1/1 [==============================] - 0s 2ms/step - loss: 1172.1840 - root_mean_squared_error: 34.2372\n",
      "Epoch 13/300\n",
      "1/1 [==============================] - 0s 2ms/step - loss: 1165.6183 - root_mean_squared_error: 34.1412\n",
      "Epoch 14/300\n",
      "1/1 [==============================] - 0s 1ms/step - loss: 1159.1998 - root_mean_squared_error: 34.0470\n",
      "Epoch 15/300\n",
      "1/1 [==============================] - 0s 2ms/step - loss: 1152.9088 - root_mean_squared_error: 33.9545\n",
      "Epoch 16/300\n",
      "1/1 [==============================] - 0s 2ms/step - loss: 1146.7290 - root_mean_squared_error: 33.8634\n",
      "Epoch 17/300\n",
      "1/1 [==============================] - 0s 2ms/step - loss: 1140.6466 - root_mean_squared_error: 33.7735\n",
      "Epoch 18/300\n",
      "1/1 [==============================] - 0s 2ms/step - loss: 1134.6509 - root_mean_squared_error: 33.6846\n",
      "Epoch 19/300\n",
      "1/1 [==============================] - 0s 2ms/step - loss: 1128.7324 - root_mean_squared_error: 33.5966\n",
      "Epoch 20/300\n",
      "1/1 [==============================] - 0s 2ms/step - loss: 1122.8829 - root_mean_squared_error: 33.5094\n",
      "Epoch 21/300\n",
      "1/1 [==============================] - 0s 2ms/step - loss: 1117.0957 - root_mean_squared_error: 33.4230\n",
      "Epoch 22/300\n",
      "1/1 [==============================] - 0s 2ms/step - loss: 1111.3649 - root_mean_squared_error: 33.3371\n",
      "Epoch 23/300\n",
      "1/1 [==============================] - 0s 2ms/step - loss: 1105.6854 - root_mean_squared_error: 33.2519\n",
      "Epoch 24/300\n",
      "1/1 [==============================] - 0s 2ms/step - loss: 1100.0529 - root_mean_squared_error: 33.1670\n",
      "Epoch 25/300\n",
      "1/1 [==============================] - 0s 2ms/step - loss: 1094.4634 - root_mean_squared_error: 33.0827\n",
      "Epoch 26/300\n",
      "1/1 [==============================] - 0s 2ms/step - loss: 1088.9137 - root_mean_squared_error: 32.9987\n",
      "Epoch 27/300\n",
      "1/1 [==============================] - 0s 2ms/step - loss: 1083.4008 - root_mean_squared_error: 32.9151\n",
      "Epoch 28/300\n",
      "1/1 [==============================] - 0s 2ms/step - loss: 1077.9220 - root_mean_squared_error: 32.8317\n",
      "Epoch 29/300\n",
      "1/1 [==============================] - 0s 2ms/step - loss: 1072.4751 - root_mean_squared_error: 32.7487\n",
      "Epoch 30/300\n",
      "1/1 [==============================] - 0s 1ms/step - loss: 1067.0581 - root_mean_squared_error: 32.6659\n",
      "Epoch 31/300\n",
      "1/1 [==============================] - 0s 2ms/step - loss: 1061.6693 - root_mean_squared_error: 32.5833\n",
      "Epoch 32/300\n",
      "1/1 [==============================] - 0s 2ms/step - loss: 1056.3070 - root_mean_squared_error: 32.5009\n",
      "Epoch 33/300\n",
      "1/1 [==============================] - 0s 2ms/step - loss: 1050.9698 - root_mean_squared_error: 32.4187\n",
      "Epoch 34/300\n",
      "1/1 [==============================] - 0s 2ms/step - loss: 1045.6567 - root_mean_squared_error: 32.3366\n",
      "Epoch 35/300\n",
      "1/1 [==============================] - 0s 2ms/step - loss: 1040.3661 - root_mean_squared_error: 32.2547\n",
      "Epoch 36/300\n",
      "1/1 [==============================] - 0s 2ms/step - loss: 1035.0975 - root_mean_squared_error: 32.1729\n",
      "Epoch 37/300\n",
      "1/1 [==============================] - 0s 2ms/step - loss: 1029.8497 - root_mean_squared_error: 32.0913\n",
      "Epoch 38/300\n",
      "1/1 [==============================] - 0s 2ms/step - loss: 1024.6222 - root_mean_squared_error: 32.0097\n",
      "Epoch 39/300\n",
      "1/1 [==============================] - 0s 1ms/step - loss: 1019.4141 - root_mean_squared_error: 31.9283\n",
      "Epoch 40/300\n",
      "1/1 [==============================] - 0s 2ms/step - loss: 1014.2247 - root_mean_squared_error: 31.8469\n",
      "Epoch 41/300\n",
      "1/1 [==============================] - 0s 2ms/step - loss: 1009.0535 - root_mean_squared_error: 31.7656\n",
      "Epoch 42/300\n",
      "1/1 [==============================] - 0s 1ms/step - loss: 1003.9001 - root_mean_squared_error: 31.6844\n",
      "Epoch 43/300\n",
      "1/1 [==============================] - 0s 2ms/step - loss: 998.7640 - root_mean_squared_error: 31.6032\n",
      "Epoch 44/300\n",
      "1/1 [==============================] - 0s 2ms/step - loss: 993.6448 - root_mean_squared_error: 31.5221\n",
      "Epoch 45/300\n",
      "1/1 [==============================] - 0s 2ms/step - loss: 988.5420 - root_mean_squared_error: 31.4411\n",
      "Epoch 46/300\n",
      "1/1 [==============================] - 0s 2ms/step - loss: 983.4555 - root_mean_squared_error: 31.3601\n",
      "Epoch 47/300\n",
      "1/1 [==============================] - 0s 1ms/step - loss: 978.3848 - root_mean_squared_error: 31.2791\n",
      "Epoch 48/300\n",
      "1/1 [==============================] - 0s 1ms/step - loss: 973.3298 - root_mean_squared_error: 31.1982\n",
      "Epoch 49/300\n",
      "1/1 [==============================] - 0s 1ms/step - loss: 968.2901 - root_mean_squared_error: 31.1174\n",
      "Epoch 50/300\n",
      "1/1 [==============================] - 0s 1ms/step - loss: 963.2658 - root_mean_squared_error: 31.0365\n",
      "Epoch 51/300\n",
      "1/1 [==============================] - 0s 1ms/step - loss: 958.2563 - root_mean_squared_error: 30.9557\n",
      "Epoch 52/300\n",
      "1/1 [==============================] - 0s 2ms/step - loss: 953.2617 - root_mean_squared_error: 30.8749\n",
      "Epoch 53/300\n",
      "1/1 [==============================] - 0s 2ms/step - loss: 948.2817 - root_mean_squared_error: 30.7942\n",
      "Epoch 54/300\n",
      "1/1 [==============================] - 0s 2ms/step - loss: 943.3162 - root_mean_squared_error: 30.7135\n",
      "Epoch 55/300\n",
      "1/1 [==============================] - 0s 1ms/step - loss: 938.3652 - root_mean_squared_error: 30.6327\n",
      "Epoch 56/300\n",
      "1/1 [==============================] - 0s 2ms/step - loss: 933.4285 - root_mean_squared_error: 30.5521\n",
      "Epoch 57/300\n",
      "1/1 [==============================] - 0s 1ms/step - loss: 928.5059 - root_mean_squared_error: 30.4714\n",
      "Epoch 58/300\n",
      "1/1 [==============================] - 0s 2ms/step - loss: 923.5975 - root_mean_squared_error: 30.3907\n",
      "Epoch 59/300\n",
      "1/1 [==============================] - 0s 2ms/step - loss: 918.7031 - root_mean_squared_error: 30.3101\n",
      "Epoch 60/300\n",
      "1/1 [==============================] - 0s 2ms/step - loss: 913.8226 - root_mean_squared_error: 30.2295\n",
      "Epoch 61/300\n",
      "1/1 [==============================] - 0s 2ms/step - loss: 908.9561 - root_mean_squared_error: 30.1489\n",
      "Epoch 62/300\n",
      "1/1 [==============================] - 0s 1ms/step - loss: 904.1033 - root_mean_squared_error: 30.0683\n",
      "Epoch 63/300\n",
      "1/1 [==============================] - 0s 1ms/step - loss: 899.2643 - root_mean_squared_error: 29.9877\n",
      "Epoch 64/300\n",
      "1/1 [==============================] - 0s 1ms/step - loss: 894.4390 - root_mean_squared_error: 29.9072\n",
      "Epoch 65/300\n",
      "1/1 [==============================] - 0s 2ms/step - loss: 889.6274 - root_mean_squared_error: 29.8266\n",
      "Epoch 66/300\n",
      "1/1 [==============================] - 0s 1ms/step - loss: 884.8294 - root_mean_squared_error: 29.7461\n",
      "Epoch 67/300\n",
      "1/1 [==============================] - 0s 2ms/step - loss: 880.0451 - root_mean_squared_error: 29.6656\n",
      "Epoch 68/300\n",
      "1/1 [==============================] - 0s 1ms/step - loss: 875.2744 - root_mean_squared_error: 29.5850\n",
      "Epoch 69/300\n",
      "1/1 [==============================] - 0s 2ms/step - loss: 870.5170 - root_mean_squared_error: 29.5045\n",
      "Epoch 70/300\n",
      "1/1 [==============================] - 0s 2ms/step - loss: 865.7734 - root_mean_squared_error: 29.4240\n",
      "Epoch 71/300\n"
     ]
    },
    {
     "name": "stdout",
     "output_type": "stream",
     "text": [
      "1/1 [==============================] - 0s 2ms/step - loss: 861.0432 - root_mean_squared_error: 29.3435\n",
      "Epoch 72/300\n",
      "1/1 [==============================] - 0s 1ms/step - loss: 856.3264 - root_mean_squared_error: 29.2631\n",
      "Epoch 73/300\n",
      "1/1 [==============================] - 0s 2ms/step - loss: 851.6230 - root_mean_squared_error: 29.1826\n",
      "Epoch 74/300\n",
      "1/1 [==============================] - 0s 1ms/step - loss: 846.9332 - root_mean_squared_error: 29.1021\n",
      "Epoch 75/300\n",
      "1/1 [==============================] - 0s 2ms/step - loss: 842.2568 - root_mean_squared_error: 29.0217\n",
      "Epoch 76/300\n",
      "1/1 [==============================] - 0s 2ms/step - loss: 837.5938 - root_mean_squared_error: 28.9412\n",
      "Epoch 77/300\n",
      "1/1 [==============================] - 0s 2ms/step - loss: 832.9440 - root_mean_squared_error: 28.8608\n",
      "Epoch 78/300\n",
      "1/1 [==============================] - 0s 1ms/step - loss: 828.3078 - root_mean_squared_error: 28.7803\n",
      "Epoch 79/300\n",
      "1/1 [==============================] - 0s 2ms/step - loss: 823.6849 - root_mean_squared_error: 28.6999\n",
      "Epoch 80/300\n",
      "1/1 [==============================] - 0s 2ms/step - loss: 819.0754 - root_mean_squared_error: 28.6195\n",
      "Epoch 81/300\n",
      "1/1 [==============================] - 0s 2ms/step - loss: 814.4792 - root_mean_squared_error: 28.5391\n",
      "Epoch 82/300\n",
      "1/1 [==============================] - 0s 1ms/step - loss: 809.8962 - root_mean_squared_error: 28.4587\n",
      "Epoch 83/300\n",
      "1/1 [==============================] - 0s 2ms/step - loss: 805.3267 - root_mean_squared_error: 28.3783\n",
      "Epoch 84/300\n",
      "1/1 [==============================] - 0s 2ms/step - loss: 800.7705 - root_mean_squared_error: 28.2979\n",
      "Epoch 85/300\n",
      "1/1 [==============================] - 0s 1ms/step - loss: 796.2277 - root_mean_squared_error: 28.2175\n",
      "Epoch 86/300\n",
      "1/1 [==============================] - 0s 2ms/step - loss: 791.6981 - root_mean_squared_error: 28.1371\n",
      "Epoch 87/300\n",
      "1/1 [==============================] - 0s 1ms/step - loss: 787.1819 - root_mean_squared_error: 28.0568\n",
      "Epoch 88/300\n",
      "1/1 [==============================] - 0s 2ms/step - loss: 782.6790 - root_mean_squared_error: 27.9764\n",
      "Epoch 89/300\n",
      "1/1 [==============================] - 0s 2ms/step - loss: 778.1893 - root_mean_squared_error: 27.8960\n",
      "Epoch 90/300\n",
      "1/1 [==============================] - 0s 2ms/step - loss: 773.7131 - root_mean_squared_error: 27.8157\n",
      "Epoch 91/300\n",
      "1/1 [==============================] - 0s 1ms/step - loss: 769.2500 - root_mean_squared_error: 27.7354\n",
      "Epoch 92/300\n",
      "1/1 [==============================] - 0s 2ms/step - loss: 764.8001 - root_mean_squared_error: 27.6550\n",
      "Epoch 93/300\n",
      "1/1 [==============================] - 0s 1ms/step - loss: 760.3638 - root_mean_squared_error: 27.5747\n",
      "Epoch 94/300\n",
      "1/1 [==============================] - 0s 1ms/step - loss: 755.9406 - root_mean_squared_error: 27.4944\n",
      "Epoch 95/300\n",
      "1/1 [==============================] - 0s 2ms/step - loss: 751.5307 - root_mean_squared_error: 27.4141\n",
      "Epoch 96/300\n",
      "1/1 [==============================] - 0s 2ms/step - loss: 747.1341 - root_mean_squared_error: 27.3338\n",
      "Epoch 97/300\n",
      "1/1 [==============================] - 0s 2ms/step - loss: 742.7508 - root_mean_squared_error: 27.2535\n",
      "Epoch 98/300\n",
      "1/1 [==============================] - 0s 2ms/step - loss: 738.3807 - root_mean_squared_error: 27.1732\n",
      "Epoch 99/300\n",
      "1/1 [==============================] - 0s 2ms/step - loss: 734.0239 - root_mean_squared_error: 27.0929\n",
      "Epoch 100/300\n",
      "1/1 [==============================] - 0s 1ms/step - loss: 729.6804 - root_mean_squared_error: 27.0126\n",
      "Epoch 101/300\n",
      "1/1 [==============================] - 0s 2ms/step - loss: 725.3502 - root_mean_squared_error: 26.9323\n",
      "Epoch 102/300\n",
      "1/1 [==============================] - 0s 1ms/step - loss: 721.0332 - root_mean_squared_error: 26.8521\n",
      "Epoch 103/300\n",
      "1/1 [==============================] - 0s 1ms/step - loss: 716.7294 - root_mean_squared_error: 26.7718\n",
      "Epoch 104/300\n",
      "1/1 [==============================] - 0s 1ms/step - loss: 712.4390 - root_mean_squared_error: 26.6916\n",
      "Epoch 105/300\n",
      "1/1 [==============================] - 0s 1ms/step - loss: 708.1617 - root_mean_squared_error: 26.6113\n",
      "Epoch 106/300\n",
      "1/1 [==============================] - 0s 1ms/step - loss: 703.8978 - root_mean_squared_error: 26.5311\n",
      "Epoch 107/300\n",
      "1/1 [==============================] - 0s 1ms/step - loss: 699.6472 - root_mean_squared_error: 26.4508\n",
      "Epoch 108/300\n",
      "1/1 [==============================] - 0s 1ms/step - loss: 695.4097 - root_mean_squared_error: 26.3706\n",
      "Epoch 109/300\n",
      "1/1 [==============================] - 0s 2ms/step - loss: 691.1855 - root_mean_squared_error: 26.2904\n",
      "Epoch 110/300\n",
      "1/1 [==============================] - 0s 2ms/step - loss: 686.9745 - root_mean_squared_error: 26.2102\n",
      "Epoch 111/300\n",
      "1/1 [==============================] - 0s 2ms/step - loss: 682.7769 - root_mean_squared_error: 26.1300\n",
      "Epoch 112/300\n",
      "1/1 [==============================] - 0s 2ms/step - loss: 678.5924 - root_mean_squared_error: 26.0498\n",
      "Epoch 113/300\n",
      "1/1 [==============================] - 0s 1ms/step - loss: 674.4213 - root_mean_squared_error: 25.9696\n",
      "Epoch 114/300\n",
      "1/1 [==============================] - 0s 1ms/step - loss: 670.2634 - root_mean_squared_error: 25.8894\n",
      "Epoch 115/300\n",
      "1/1 [==============================] - 0s 1ms/step - loss: 666.1187 - root_mean_squared_error: 25.8093\n",
      "Epoch 116/300\n",
      "1/1 [==============================] - 0s 1ms/step - loss: 661.9872 - root_mean_squared_error: 25.7291\n",
      "Epoch 117/300\n",
      "1/1 [==============================] - 0s 1ms/step - loss: 657.8690 - root_mean_squared_error: 25.6490\n",
      "Epoch 118/300\n",
      "1/1 [==============================] - 0s 1ms/step - loss: 653.7640 - root_mean_squared_error: 25.5688\n",
      "Epoch 119/300\n",
      "1/1 [==============================] - 0s 1ms/step - loss: 649.6723 - root_mean_squared_error: 25.4887\n",
      "Epoch 120/300\n",
      "1/1 [==============================] - 0s 2ms/step - loss: 645.5938 - root_mean_squared_error: 25.4085\n",
      "Epoch 121/300\n",
      "1/1 [==============================] - 0s 1ms/step - loss: 641.5285 - root_mean_squared_error: 25.3284\n",
      "Epoch 122/300\n",
      "1/1 [==============================] - 0s 2ms/step - loss: 637.4765 - root_mean_squared_error: 25.2483\n",
      "Epoch 123/300\n",
      "1/1 [==============================] - 0s 2ms/step - loss: 633.4377 - root_mean_squared_error: 25.1682\n",
      "Epoch 124/300\n",
      "1/1 [==============================] - 0s 2ms/step - loss: 629.4122 - root_mean_squared_error: 25.0881\n",
      "Epoch 125/300\n",
      "1/1 [==============================] - 0s 2ms/step - loss: 625.3998 - root_mean_squared_error: 25.0080\n",
      "Epoch 126/300\n",
      "1/1 [==============================] - 0s 1ms/step - loss: 621.4008 - root_mean_squared_error: 24.9279\n",
      "Epoch 127/300\n",
      "1/1 [==============================] - 0s 2ms/step - loss: 617.4149 - root_mean_squared_error: 24.8478\n",
      "Epoch 128/300\n",
      "1/1 [==============================] - 0s 1ms/step - loss: 613.4423 - root_mean_squared_error: 24.7678\n",
      "Epoch 129/300\n",
      "1/1 [==============================] - 0s 1ms/step - loss: 609.4828 - root_mean_squared_error: 24.6877\n",
      "Epoch 130/300\n",
      "1/1 [==============================] - 0s 1ms/step - loss: 605.5367 - root_mean_squared_error: 24.6077\n",
      "Epoch 131/300\n",
      "1/1 [==============================] - 0s 1ms/step - loss: 601.6038 - root_mean_squared_error: 24.5276\n",
      "Epoch 132/300\n",
      "1/1 [==============================] - 0s 2ms/step - loss: 597.6840 - root_mean_squared_error: 24.4476\n",
      "Epoch 133/300\n",
      "1/1 [==============================] - 0s 2ms/step - loss: 593.7775 - root_mean_squared_error: 24.3675\n",
      "Epoch 134/300\n",
      "1/1 [==============================] - 0s 2ms/step - loss: 589.8842 - root_mean_squared_error: 24.2875\n",
      "Epoch 135/300\n",
      "1/1 [==============================] - 0s 2ms/step - loss: 586.0041 - root_mean_squared_error: 24.2075\n",
      "Epoch 136/300\n",
      "1/1 [==============================] - 0s 2ms/step - loss: 582.1372 - root_mean_squared_error: 24.1275\n",
      "Epoch 137/300\n",
      "1/1 [==============================] - 0s 2ms/step - loss: 578.2835 - root_mean_squared_error: 24.0475\n",
      "Epoch 138/300\n",
      "1/1 [==============================] - 0s 2ms/step - loss: 574.4431 - root_mean_squared_error: 23.9675\n",
      "Epoch 139/300\n",
      "1/1 [==============================] - 0s 1ms/step - loss: 570.6159 - root_mean_squared_error: 23.8876\n",
      "Epoch 140/300\n",
      "1/1 [==============================] - 0s 2ms/step - loss: 566.8019 - root_mean_squared_error: 23.8076\n",
      "Epoch 141/300\n"
     ]
    },
    {
     "name": "stdout",
     "output_type": "stream",
     "text": [
      "1/1 [==============================] - 0s 1ms/step - loss: 563.0011 - root_mean_squared_error: 23.7276\n",
      "Epoch 142/300\n",
      "1/1 [==============================] - 0s 2ms/step - loss: 559.2134 - root_mean_squared_error: 23.6477\n",
      "Epoch 143/300\n",
      "1/1 [==============================] - 0s 1ms/step - loss: 555.4390 - root_mean_squared_error: 23.5678\n",
      "Epoch 144/300\n",
      "1/1 [==============================] - 0s 2ms/step - loss: 551.6779 - root_mean_squared_error: 23.4878\n",
      "Epoch 145/300\n",
      "1/1 [==============================] - 0s 2ms/step - loss: 547.9299 - root_mean_squared_error: 23.4079\n",
      "Epoch 146/300\n",
      "1/1 [==============================] - 0s 2ms/step - loss: 544.1951 - root_mean_squared_error: 23.3280\n",
      "Epoch 147/300\n",
      "1/1 [==============================] - 0s 2ms/step - loss: 540.4736 - root_mean_squared_error: 23.2481\n",
      "Epoch 148/300\n",
      "1/1 [==============================] - 0s 2ms/step - loss: 536.7651 - root_mean_squared_error: 23.1682\n",
      "Epoch 149/300\n",
      "1/1 [==============================] - 0s 1ms/step - loss: 533.0699 - root_mean_squared_error: 23.0883\n",
      "Epoch 150/300\n",
      "1/1 [==============================] - 0s 2ms/step - loss: 529.3879 - root_mean_squared_error: 23.0084\n",
      "Epoch 151/300\n",
      "1/1 [==============================] - 0s 1ms/step - loss: 525.7192 - root_mean_squared_error: 22.9286\n",
      "Epoch 152/300\n",
      "1/1 [==============================] - 0s 2ms/step - loss: 522.0635 - root_mean_squared_error: 22.8487\n",
      "Epoch 153/300\n",
      "1/1 [==============================] - 0s 2ms/step - loss: 518.4211 - root_mean_squared_error: 22.7689\n",
      "Epoch 154/300\n",
      "1/1 [==============================] - 0s 2ms/step - loss: 514.7919 - root_mean_squared_error: 22.6890\n",
      "Epoch 155/300\n",
      "1/1 [==============================] - 0s 2ms/step - loss: 511.1758 - root_mean_squared_error: 22.6092\n",
      "Epoch 156/300\n",
      "1/1 [==============================] - 0s 2ms/step - loss: 507.5730 - root_mean_squared_error: 22.5294\n",
      "Epoch 157/300\n",
      "1/1 [==============================] - 0s 1ms/step - loss: 503.9833 - root_mean_squared_error: 22.4496\n",
      "Epoch 158/300\n",
      "1/1 [==============================] - 0s 2ms/step - loss: 500.4068 - root_mean_squared_error: 22.3698\n",
      "Epoch 159/300\n",
      "1/1 [==============================] - 0s 2ms/step - loss: 496.8435 - root_mean_squared_error: 22.2900\n",
      "Epoch 160/300\n",
      "1/1 [==============================] - 0s 1ms/step - loss: 493.2934 - root_mean_squared_error: 22.2102\n",
      "Epoch 161/300\n",
      "1/1 [==============================] - 0s 1ms/step - loss: 489.7564 - root_mean_squared_error: 22.1304\n",
      "Epoch 162/300\n",
      "1/1 [==============================] - 0s 2ms/step - loss: 486.2327 - root_mean_squared_error: 22.0507\n",
      "Epoch 163/300\n",
      "1/1 [==============================] - 0s 1ms/step - loss: 482.7220 - root_mean_squared_error: 21.9709\n",
      "Epoch 164/300\n",
      "1/1 [==============================] - 0s 2ms/step - loss: 479.2246 - root_mean_squared_error: 21.8912\n",
      "Epoch 165/300\n",
      "1/1 [==============================] - 0s 2ms/step - loss: 475.7404 - root_mean_squared_error: 21.8115\n",
      "Epoch 166/300\n",
      "1/1 [==============================] - 0s 2ms/step - loss: 472.2693 - root_mean_squared_error: 21.7318\n",
      "Epoch 167/300\n",
      "1/1 [==============================] - 0s 2ms/step - loss: 468.8114 - root_mean_squared_error: 21.6521\n",
      "Epoch 168/300\n",
      "1/1 [==============================] - 0s 1ms/step - loss: 465.3666 - root_mean_squared_error: 21.5724\n",
      "Epoch 169/300\n",
      "1/1 [==============================] - 0s 1ms/step - loss: 461.9351 - root_mean_squared_error: 21.4927\n",
      "Epoch 170/300\n",
      "1/1 [==============================] - 0s 1ms/step - loss: 458.5166 - root_mean_squared_error: 21.4130\n",
      "Epoch 171/300\n",
      "1/1 [==============================] - 0s 2ms/step - loss: 455.1114 - root_mean_squared_error: 21.3333\n",
      "Epoch 172/300\n",
      "1/1 [==============================] - 0s 1ms/step - loss: 451.7193 - root_mean_squared_error: 21.2537\n",
      "Epoch 173/300\n",
      "1/1 [==============================] - 0s 2ms/step - loss: 448.3403 - root_mean_squared_error: 21.1740\n",
      "Epoch 174/300\n",
      "1/1 [==============================] - 0s 1ms/step - loss: 444.9745 - root_mean_squared_error: 21.0944\n",
      "Epoch 175/300\n",
      "1/1 [==============================] - 0s 2ms/step - loss: 441.6219 - root_mean_squared_error: 21.0148\n",
      "Epoch 176/300\n",
      "1/1 [==============================] - 0s 1ms/step - loss: 438.2825 - root_mean_squared_error: 20.9352\n",
      "Epoch 177/300\n",
      "1/1 [==============================] - 0s 2ms/step - loss: 434.9561 - root_mean_squared_error: 20.8556\n",
      "Epoch 178/300\n",
      "1/1 [==============================] - 0s 1ms/step - loss: 431.6429 - root_mean_squared_error: 20.7760\n",
      "Epoch 179/300\n",
      "1/1 [==============================] - 0s 2ms/step - loss: 428.3429 - root_mean_squared_error: 20.6964\n",
      "Epoch 180/300\n",
      "1/1 [==============================] - 0s 1ms/step - loss: 425.0560 - root_mean_squared_error: 20.6169\n",
      "Epoch 181/300\n",
      "1/1 [==============================] - 0s 2ms/step - loss: 421.7823 - root_mean_squared_error: 20.5373\n",
      "Epoch 182/300\n",
      "1/1 [==============================] - 0s 1ms/step - loss: 418.5217 - root_mean_squared_error: 20.4578\n",
      "Epoch 183/300\n",
      "1/1 [==============================] - 0s 2ms/step - loss: 415.2742 - root_mean_squared_error: 20.3783\n",
      "Epoch 184/300\n",
      "1/1 [==============================] - 0s 1ms/step - loss: 412.0399 - root_mean_squared_error: 20.2988\n",
      "Epoch 185/300\n",
      "1/1 [==============================] - 0s 2ms/step - loss: 408.8187 - root_mean_squared_error: 20.2193\n",
      "Epoch 186/300\n",
      "1/1 [==============================] - 0s 1ms/step - loss: 405.6107 - root_mean_squared_error: 20.1398\n",
      "Epoch 187/300\n",
      "1/1 [==============================] - 0s 2ms/step - loss: 402.4157 - root_mean_squared_error: 20.0603\n",
      "Epoch 188/300\n",
      "1/1 [==============================] - 0s 1ms/step - loss: 399.2339 - root_mean_squared_error: 19.9808\n",
      "Epoch 189/300\n",
      "1/1 [==============================] - 0s 2ms/step - loss: 396.0653 - root_mean_squared_error: 19.9014\n",
      "Epoch 190/300\n",
      "1/1 [==============================] - 0s 1ms/step - loss: 392.9098 - root_mean_squared_error: 19.8220\n",
      "Epoch 191/300\n",
      "1/1 [==============================] - 0s 1ms/step - loss: 389.7673 - root_mean_squared_error: 19.7425\n",
      "Epoch 192/300\n",
      "1/1 [==============================] - 0s 1ms/step - loss: 386.6380 - root_mean_squared_error: 19.6631\n",
      "Epoch 193/300\n",
      "1/1 [==============================] - 0s 2ms/step - loss: 383.5218 - root_mean_squared_error: 19.5837\n",
      "Epoch 194/300\n",
      "1/1 [==============================] - 0s 1ms/step - loss: 380.4188 - root_mean_squared_error: 19.5043\n",
      "Epoch 195/300\n",
      "1/1 [==============================] - 0s 2ms/step - loss: 377.3289 - root_mean_squared_error: 19.4250\n",
      "Epoch 196/300\n",
      "1/1 [==============================] - 0s 1ms/step - loss: 374.2520 - root_mean_squared_error: 19.3456\n",
      "Epoch 197/300\n",
      "1/1 [==============================] - 0s 2ms/step - loss: 371.1883 - root_mean_squared_error: 19.2662\n",
      "Epoch 198/300\n",
      "1/1 [==============================] - 0s 1ms/step - loss: 368.1377 - root_mean_squared_error: 19.1869\n",
      "Epoch 199/300\n",
      "1/1 [==============================] - 0s 2ms/step - loss: 365.1002 - root_mean_squared_error: 19.1076\n",
      "Epoch 200/300\n",
      "1/1 [==============================] - 0s 1ms/step - loss: 362.0758 - root_mean_squared_error: 19.0283\n",
      "Epoch 201/300\n",
      "1/1 [==============================] - 0s 2ms/step - loss: 359.0645 - root_mean_squared_error: 18.9490\n",
      "Epoch 202/300\n",
      "1/1 [==============================] - 0s 1ms/step - loss: 356.0663 - root_mean_squared_error: 18.8697\n",
      "Epoch 203/300\n",
      "1/1 [==============================] - 0s 2ms/step - loss: 353.0812 - root_mean_squared_error: 18.7905\n",
      "Epoch 204/300\n",
      "1/1 [==============================] - 0s 2ms/step - loss: 350.1092 - root_mean_squared_error: 18.7112\n",
      "Epoch 205/300\n",
      "1/1 [==============================] - 0s 2ms/step - loss: 347.1503 - root_mean_squared_error: 18.6320\n",
      "Epoch 206/300\n",
      "1/1 [==============================] - 0s 1ms/step - loss: 344.2045 - root_mean_squared_error: 18.5527\n",
      "Epoch 207/300\n",
      "1/1 [==============================] - 0s 1ms/step - loss: 341.2718 - root_mean_squared_error: 18.4735\n",
      "Epoch 208/300\n",
      "1/1 [==============================] - 0s 1ms/step - loss: 338.3521 - root_mean_squared_error: 18.3944\n",
      "Epoch 209/300\n",
      "1/1 [==============================] - 0s 1ms/step - loss: 335.4456 - root_mean_squared_error: 18.3152\n",
      "Epoch 210/300\n",
      "1/1 [==============================] - 0s 1ms/step - loss: 332.5521 - root_mean_squared_error: 18.2360\n",
      "Epoch 211/300\n"
     ]
    },
    {
     "name": "stdout",
     "output_type": "stream",
     "text": [
      "1/1 [==============================] - 0s 1ms/step - loss: 329.6717 - root_mean_squared_error: 18.1569\n",
      "Epoch 212/300\n",
      "1/1 [==============================] - 0s 1ms/step - loss: 326.8044 - root_mean_squared_error: 18.0777\n",
      "Epoch 213/300\n",
      "1/1 [==============================] - 0s 2ms/step - loss: 323.9502 - root_mean_squared_error: 17.9986\n",
      "Epoch 214/300\n",
      "1/1 [==============================] - 0s 1ms/step - loss: 321.1090 - root_mean_squared_error: 17.9195\n",
      "Epoch 215/300\n",
      "1/1 [==============================] - 0s 1ms/step - loss: 318.2809 - root_mean_squared_error: 17.8404\n",
      "Epoch 216/300\n",
      "1/1 [==============================] - 0s 1ms/step - loss: 315.4659 - root_mean_squared_error: 17.7614\n",
      "Epoch 217/300\n",
      "1/1 [==============================] - 0s 2ms/step - loss: 312.6639 - root_mean_squared_error: 17.6823\n",
      "Epoch 218/300\n",
      "1/1 [==============================] - 0s 1ms/step - loss: 309.8750 - root_mean_squared_error: 17.6033\n",
      "Epoch 219/300\n",
      "1/1 [==============================] - 0s 2ms/step - loss: 307.0991 - root_mean_squared_error: 17.5242\n",
      "Epoch 220/300\n",
      "1/1 [==============================] - 0s 1ms/step - loss: 304.3363 - root_mean_squared_error: 17.4452\n",
      "Epoch 221/300\n",
      "1/1 [==============================] - 0s 2ms/step - loss: 301.5866 - root_mean_squared_error: 17.3662\n",
      "Epoch 222/300\n",
      "1/1 [==============================] - 0s 1ms/step - loss: 298.8499 - root_mean_squared_error: 17.2873\n",
      "Epoch 223/300\n",
      "1/1 [==============================] - 0s 2ms/step - loss: 296.1263 - root_mean_squared_error: 17.2083\n",
      "Epoch 224/300\n",
      "1/1 [==============================] - 0s 1ms/step - loss: 293.4157 - root_mean_squared_error: 17.1294\n",
      "Epoch 225/300\n",
      "1/1 [==============================] - 0s 2ms/step - loss: 290.7182 - root_mean_squared_error: 17.0505\n",
      "Epoch 226/300\n",
      "1/1 [==============================] - 0s 1ms/step - loss: 288.0337 - root_mean_squared_error: 16.9716\n",
      "Epoch 227/300\n",
      "1/1 [==============================] - 0s 2ms/step - loss: 285.3622 - root_mean_squared_error: 16.8927\n",
      "Epoch 228/300\n",
      "1/1 [==============================] - 0s 1ms/step - loss: 282.7038 - root_mean_squared_error: 16.8138\n",
      "Epoch 229/300\n",
      "1/1 [==============================] - 0s 2ms/step - loss: 280.0584 - root_mean_squared_error: 16.7349\n",
      "Epoch 230/300\n",
      "1/1 [==============================] - 0s 1ms/step - loss: 277.4260 - root_mean_squared_error: 16.6561\n",
      "Epoch 231/300\n",
      "1/1 [==============================] - 0s 2ms/step - loss: 274.8067 - root_mean_squared_error: 16.5773\n",
      "Epoch 232/300\n",
      "1/1 [==============================] - 0s 2ms/step - loss: 272.2004 - root_mean_squared_error: 16.4985\n",
      "Epoch 233/300\n",
      "1/1 [==============================] - 0s 2ms/step - loss: 269.6071 - root_mean_squared_error: 16.4197\n",
      "Epoch 234/300\n",
      "1/1 [==============================] - 0s 1ms/step - loss: 267.0268 - root_mean_squared_error: 16.3410\n",
      "Epoch 235/300\n",
      "1/1 [==============================] - 0s 2ms/step - loss: 264.4596 - root_mean_squared_error: 16.2622\n",
      "Epoch 236/300\n",
      "1/1 [==============================] - 0s 1ms/step - loss: 261.9053 - root_mean_squared_error: 16.1835\n",
      "Epoch 237/300\n",
      "1/1 [==============================] - 0s 2ms/step - loss: 259.3641 - root_mean_squared_error: 16.1048\n",
      "Epoch 238/300\n",
      "1/1 [==============================] - 0s 2ms/step - loss: 256.8358 - root_mean_squared_error: 16.0261\n",
      "Epoch 239/300\n",
      "1/1 [==============================] - 0s 2ms/step - loss: 254.3207 - root_mean_squared_error: 15.9474\n",
      "Epoch 240/300\n",
      "1/1 [==============================] - 0s 2ms/step - loss: 251.8184 - root_mean_squared_error: 15.8688\n",
      "Epoch 241/300\n",
      "1/1 [==============================] - 0s 2ms/step - loss: 249.3292 - root_mean_squared_error: 15.7902\n",
      "Epoch 242/300\n",
      "1/1 [==============================] - 0s 2ms/step - loss: 246.8530 - root_mean_squared_error: 15.7116\n",
      "Epoch 243/300\n",
      "1/1 [==============================] - 0s 1ms/step - loss: 244.3898 - root_mean_squared_error: 15.6330\n",
      "Epoch 244/300\n",
      "1/1 [==============================] - 0s 1ms/step - loss: 241.9395 - root_mean_squared_error: 15.5544\n",
      "Epoch 245/300\n",
      "1/1 [==============================] - 0s 1ms/step - loss: 239.5022 - root_mean_squared_error: 15.4759\n",
      "Epoch 246/300\n",
      "1/1 [==============================] - 0s 2ms/step - loss: 237.0779 - root_mean_squared_error: 15.3973\n",
      "Epoch 247/300\n",
      "1/1 [==============================] - 0s 1ms/step - loss: 234.6667 - root_mean_squared_error: 15.3188\n",
      "Epoch 248/300\n",
      "1/1 [==============================] - 0s 2ms/step - loss: 232.2683 - root_mean_squared_error: 15.2404\n",
      "Epoch 249/300\n",
      "1/1 [==============================] - 0s 1ms/step - loss: 229.8829 - root_mean_squared_error: 15.1619\n",
      "Epoch 250/300\n",
      "1/1 [==============================] - 0s 2ms/step - loss: 227.5106 - root_mean_squared_error: 15.0835\n",
      "Epoch 251/300\n",
      "1/1 [==============================] - 0s 2ms/step - loss: 225.1511 - root_mean_squared_error: 15.0050\n",
      "Epoch 252/300\n",
      "1/1 [==============================] - 0s 2ms/step - loss: 222.8047 - root_mean_squared_error: 14.9266\n",
      "Epoch 253/300\n",
      "1/1 [==============================] - 0s 1ms/step - loss: 220.4712 - root_mean_squared_error: 14.8483\n",
      "Epoch 254/300\n",
      "1/1 [==============================] - 0s 2ms/step - loss: 218.1506 - root_mean_squared_error: 14.7699\n",
      "Epoch 255/300\n",
      "1/1 [==============================] - 0s 2ms/step - loss: 215.8430 - root_mean_squared_error: 14.6916\n",
      "Epoch 256/300\n",
      "1/1 [==============================] - 0s 2ms/step - loss: 213.5484 - root_mean_squared_error: 14.6133\n",
      "Epoch 257/300\n",
      "1/1 [==============================] - 0s 1ms/step - loss: 211.2666 - root_mean_squared_error: 14.5350\n",
      "Epoch 258/300\n",
      "1/1 [==============================] - 0s 2ms/step - loss: 208.9979 - root_mean_squared_error: 14.4568\n",
      "Epoch 259/300\n",
      "1/1 [==============================] - 0s 2ms/step - loss: 206.7421 - root_mean_squared_error: 14.3785\n",
      "Epoch 260/300\n",
      "1/1 [==============================] - 0s 2ms/step - loss: 204.4991 - root_mean_squared_error: 14.3003\n",
      "Epoch 261/300\n",
      "1/1 [==============================] - 0s 2ms/step - loss: 202.2692 - root_mean_squared_error: 14.2221\n",
      "Epoch 262/300\n",
      "1/1 [==============================] - 0s 2ms/step - loss: 200.0521 - root_mean_squared_error: 14.1440\n",
      "Epoch 263/300\n",
      "1/1 [==============================] - 0s 1ms/step - loss: 197.8480 - root_mean_squared_error: 14.0658\n",
      "Epoch 264/300\n",
      "1/1 [==============================] - 0s 1ms/step - loss: 195.6568 - root_mean_squared_error: 13.9877\n",
      "Epoch 265/300\n",
      "1/1 [==============================] - 0s 1ms/step - loss: 193.4785 - root_mean_squared_error: 13.9097\n",
      "Epoch 266/300\n",
      "1/1 [==============================] - 0s 1ms/step - loss: 191.3131 - root_mean_squared_error: 13.8316\n",
      "Epoch 267/300\n",
      "1/1 [==============================] - 0s 1ms/step - loss: 189.1606 - root_mean_squared_error: 13.7536\n",
      "Epoch 268/300\n",
      "1/1 [==============================] - 0s 1ms/step - loss: 187.0210 - root_mean_squared_error: 13.6756\n",
      "Epoch 269/300\n",
      "1/1 [==============================] - 0s 1ms/step - loss: 184.8943 - root_mean_squared_error: 13.5976\n",
      "Epoch 270/300\n",
      "1/1 [==============================] - 0s 2ms/step - loss: 182.7805 - root_mean_squared_error: 13.5196\n",
      "Epoch 271/300\n",
      "1/1 [==============================] - 0s 1ms/step - loss: 180.6796 - root_mean_squared_error: 13.4417\n",
      "Epoch 272/300\n",
      "1/1 [==============================] - 0s 2ms/step - loss: 178.5916 - root_mean_squared_error: 13.3638\n",
      "Epoch 273/300\n",
      "1/1 [==============================] - 0s 1ms/step - loss: 176.5164 - root_mean_squared_error: 13.2859\n",
      "Epoch 274/300\n",
      "1/1 [==============================] - 0s 2ms/step - loss: 174.4541 - root_mean_squared_error: 13.2081\n",
      "Epoch 275/300\n",
      "1/1 [==============================] - 0s 1ms/step - loss: 172.4047 - root_mean_squared_error: 13.1303\n",
      "Epoch 276/300\n",
      "1/1 [==============================] - 0s 2ms/step - loss: 170.3682 - root_mean_squared_error: 13.0525\n",
      "Epoch 277/300\n",
      "1/1 [==============================] - 0s 1ms/step - loss: 168.3445 - root_mean_squared_error: 12.9748\n",
      "Epoch 278/300\n",
      "1/1 [==============================] - 0s 2ms/step - loss: 166.3337 - root_mean_squared_error: 12.8970\n",
      "Epoch 279/300\n",
      "1/1 [==============================] - 0s 1ms/step - loss: 164.3357 - root_mean_squared_error: 12.8194\n",
      "Epoch 280/300\n",
      "1/1 [==============================] - 0s 2ms/step - loss: 162.3506 - root_mean_squared_error: 12.7417\n",
      "Epoch 281/300\n"
     ]
    },
    {
     "name": "stdout",
     "output_type": "stream",
     "text": [
      "1/1 [==============================] - 0s 1ms/step - loss: 160.3783 - root_mean_squared_error: 12.6641\n",
      "Epoch 282/300\n",
      "1/1 [==============================] - 0s 2ms/step - loss: 158.4189 - root_mean_squared_error: 12.5865\n",
      "Epoch 283/300\n",
      "1/1 [==============================] - 0s 2ms/step - loss: 156.4723 - root_mean_squared_error: 12.5089\n",
      "Epoch 284/300\n",
      "1/1 [==============================] - 0s 2ms/step - loss: 154.5385 - root_mean_squared_error: 12.4314\n",
      "Epoch 285/300\n",
      "1/1 [==============================] - 0s 1ms/step - loss: 152.6176 - root_mean_squared_error: 12.3538\n",
      "Epoch 286/300\n",
      "1/1 [==============================] - 0s 2ms/step - loss: 150.7094 - root_mean_squared_error: 12.2764\n",
      "Epoch 287/300\n",
      "1/1 [==============================] - 0s 1ms/step - loss: 148.8141 - root_mean_squared_error: 12.1989\n",
      "Epoch 288/300\n",
      "1/1 [==============================] - 0s 2ms/step - loss: 146.9316 - root_mean_squared_error: 12.1215\n",
      "Epoch 289/300\n",
      "1/1 [==============================] - 0s 1ms/step - loss: 145.0619 - root_mean_squared_error: 12.0442\n",
      "Epoch 290/300\n",
      "1/1 [==============================] - 0s 2ms/step - loss: 143.2050 - root_mean_squared_error: 11.9668\n",
      "Epoch 291/300\n",
      "1/1 [==============================] - 0s 2ms/step - loss: 141.3608 - root_mean_squared_error: 11.8895\n",
      "Epoch 292/300\n",
      "1/1 [==============================] - 0s 2ms/step - loss: 139.5295 - root_mean_squared_error: 11.8123\n",
      "Epoch 293/300\n",
      "1/1 [==============================] - 0s 1ms/step - loss: 137.7110 - root_mean_squared_error: 11.7350\n",
      "Epoch 294/300\n",
      "1/1 [==============================] - 0s 2ms/step - loss: 135.9052 - root_mean_squared_error: 11.6578\n",
      "Epoch 295/300\n",
      "1/1 [==============================] - 0s 1ms/step - loss: 134.1122 - root_mean_squared_error: 11.5807\n",
      "Epoch 296/300\n",
      "1/1 [==============================] - 0s 2ms/step - loss: 132.3320 - root_mean_squared_error: 11.5036\n",
      "Epoch 297/300\n",
      "1/1 [==============================] - 0s 1ms/step - loss: 130.5645 - root_mean_squared_error: 11.4265\n",
      "Epoch 298/300\n",
      "1/1 [==============================] - 0s 2ms/step - loss: 128.8097 - root_mean_squared_error: 11.3494\n",
      "Epoch 299/300\n",
      "1/1 [==============================] - 0s 1ms/step - loss: 127.0677 - root_mean_squared_error: 11.2724\n",
      "Epoch 300/300\n",
      "1/1 [==============================] - 0s 2ms/step - loss: 125.3385 - root_mean_squared_error: 11.1955\n"
     ]
    }
   ],
   "source": [
    "my_model = create_model()\n",
    "\n",
    "my_model.compile(optimizer = tf.keras.optimizers.RMSprop(learning_rate = learning_rate),\n",
    "                 loss = 'mean_squared_error',\n",
    "                 metrics = tf.keras.metrics.RootMeanSquaredError())\n",
    "\n",
    "History = my_model.fit(x=my_feature,y=my_label,batch_size=batch_size,epochs=epochs)\n",
    "trained_weight = my_model.get_weights()[0]\n",
    "trained_bias = my_model.get_weights()[1]\n",
    "hist = pd.DataFrame(History.history)\n",
    "epochs_from_model = History.epoch\n",
    "rmse = History.history[\"root_mean_squared_error\"]"
   ]
  },
  {
   "cell_type": "code",
   "execution_count": 19,
   "id": "84c17994",
   "metadata": {},
   "outputs": [
    {
     "data": {
      "application/vnd.plotly.v1+json": {
       "config": {
        "plotlyServerURL": "https://plot.ly"
       },
       "data": [
        {
         "mode": "markers",
         "name": "Original labels",
         "type": "scatter",
         "x": [
          1,
          2,
          3,
          4,
          5,
          6,
          7,
          8,
          9,
          10,
          11,
          12
         ],
         "y": [
          5,
          8.8,
          9.6,
          14.2,
          18.8,
          19.5,
          21.4,
          26.8,
          28.9,
          32,
          33.8,
          38.2
         ]
        },
        {
         "mode": "lines+markers",
         "name": "Predicted labels",
         "type": "scatter",
         "x": [
          1,
          2,
          3,
          4,
          5,
          6,
          7,
          8,
          9,
          10,
          11,
          12
         ],
         "y": [
          4.3466033935546875,
          5.7045698165893555,
          7.062536239624023,
          8.420502662658691,
          9.77846908569336,
          11.136435508728027,
          12.494401931762695,
          13.852368354797363,
          15.210334777832031,
          16.5683012008667,
          17.926267623901367,
          19.284234046936035
         ]
        }
       ],
       "layout": {
        "template": {
         "data": {
          "bar": [
           {
            "error_x": {
             "color": "#2a3f5f"
            },
            "error_y": {
             "color": "#2a3f5f"
            },
            "marker": {
             "line": {
              "color": "#E5ECF6",
              "width": 0.5
             },
             "pattern": {
              "fillmode": "overlay",
              "size": 10,
              "solidity": 0.2
             }
            },
            "type": "bar"
           }
          ],
          "barpolar": [
           {
            "marker": {
             "line": {
              "color": "#E5ECF6",
              "width": 0.5
             },
             "pattern": {
              "fillmode": "overlay",
              "size": 10,
              "solidity": 0.2
             }
            },
            "type": "barpolar"
           }
          ],
          "carpet": [
           {
            "aaxis": {
             "endlinecolor": "#2a3f5f",
             "gridcolor": "white",
             "linecolor": "white",
             "minorgridcolor": "white",
             "startlinecolor": "#2a3f5f"
            },
            "baxis": {
             "endlinecolor": "#2a3f5f",
             "gridcolor": "white",
             "linecolor": "white",
             "minorgridcolor": "white",
             "startlinecolor": "#2a3f5f"
            },
            "type": "carpet"
           }
          ],
          "choropleth": [
           {
            "colorbar": {
             "outlinewidth": 0,
             "ticks": ""
            },
            "type": "choropleth"
           }
          ],
          "contour": [
           {
            "colorbar": {
             "outlinewidth": 0,
             "ticks": ""
            },
            "colorscale": [
             [
              0,
              "#0d0887"
             ],
             [
              0.1111111111111111,
              "#46039f"
             ],
             [
              0.2222222222222222,
              "#7201a8"
             ],
             [
              0.3333333333333333,
              "#9c179e"
             ],
             [
              0.4444444444444444,
              "#bd3786"
             ],
             [
              0.5555555555555556,
              "#d8576b"
             ],
             [
              0.6666666666666666,
              "#ed7953"
             ],
             [
              0.7777777777777778,
              "#fb9f3a"
             ],
             [
              0.8888888888888888,
              "#fdca26"
             ],
             [
              1,
              "#f0f921"
             ]
            ],
            "type": "contour"
           }
          ],
          "contourcarpet": [
           {
            "colorbar": {
             "outlinewidth": 0,
             "ticks": ""
            },
            "type": "contourcarpet"
           }
          ],
          "heatmap": [
           {
            "colorbar": {
             "outlinewidth": 0,
             "ticks": ""
            },
            "colorscale": [
             [
              0,
              "#0d0887"
             ],
             [
              0.1111111111111111,
              "#46039f"
             ],
             [
              0.2222222222222222,
              "#7201a8"
             ],
             [
              0.3333333333333333,
              "#9c179e"
             ],
             [
              0.4444444444444444,
              "#bd3786"
             ],
             [
              0.5555555555555556,
              "#d8576b"
             ],
             [
              0.6666666666666666,
              "#ed7953"
             ],
             [
              0.7777777777777778,
              "#fb9f3a"
             ],
             [
              0.8888888888888888,
              "#fdca26"
             ],
             [
              1,
              "#f0f921"
             ]
            ],
            "type": "heatmap"
           }
          ],
          "heatmapgl": [
           {
            "colorbar": {
             "outlinewidth": 0,
             "ticks": ""
            },
            "colorscale": [
             [
              0,
              "#0d0887"
             ],
             [
              0.1111111111111111,
              "#46039f"
             ],
             [
              0.2222222222222222,
              "#7201a8"
             ],
             [
              0.3333333333333333,
              "#9c179e"
             ],
             [
              0.4444444444444444,
              "#bd3786"
             ],
             [
              0.5555555555555556,
              "#d8576b"
             ],
             [
              0.6666666666666666,
              "#ed7953"
             ],
             [
              0.7777777777777778,
              "#fb9f3a"
             ],
             [
              0.8888888888888888,
              "#fdca26"
             ],
             [
              1,
              "#f0f921"
             ]
            ],
            "type": "heatmapgl"
           }
          ],
          "histogram": [
           {
            "marker": {
             "pattern": {
              "fillmode": "overlay",
              "size": 10,
              "solidity": 0.2
             }
            },
            "type": "histogram"
           }
          ],
          "histogram2d": [
           {
            "colorbar": {
             "outlinewidth": 0,
             "ticks": ""
            },
            "colorscale": [
             [
              0,
              "#0d0887"
             ],
             [
              0.1111111111111111,
              "#46039f"
             ],
             [
              0.2222222222222222,
              "#7201a8"
             ],
             [
              0.3333333333333333,
              "#9c179e"
             ],
             [
              0.4444444444444444,
              "#bd3786"
             ],
             [
              0.5555555555555556,
              "#d8576b"
             ],
             [
              0.6666666666666666,
              "#ed7953"
             ],
             [
              0.7777777777777778,
              "#fb9f3a"
             ],
             [
              0.8888888888888888,
              "#fdca26"
             ],
             [
              1,
              "#f0f921"
             ]
            ],
            "type": "histogram2d"
           }
          ],
          "histogram2dcontour": [
           {
            "colorbar": {
             "outlinewidth": 0,
             "ticks": ""
            },
            "colorscale": [
             [
              0,
              "#0d0887"
             ],
             [
              0.1111111111111111,
              "#46039f"
             ],
             [
              0.2222222222222222,
              "#7201a8"
             ],
             [
              0.3333333333333333,
              "#9c179e"
             ],
             [
              0.4444444444444444,
              "#bd3786"
             ],
             [
              0.5555555555555556,
              "#d8576b"
             ],
             [
              0.6666666666666666,
              "#ed7953"
             ],
             [
              0.7777777777777778,
              "#fb9f3a"
             ],
             [
              0.8888888888888888,
              "#fdca26"
             ],
             [
              1,
              "#f0f921"
             ]
            ],
            "type": "histogram2dcontour"
           }
          ],
          "mesh3d": [
           {
            "colorbar": {
             "outlinewidth": 0,
             "ticks": ""
            },
            "type": "mesh3d"
           }
          ],
          "parcoords": [
           {
            "line": {
             "colorbar": {
              "outlinewidth": 0,
              "ticks": ""
             }
            },
            "type": "parcoords"
           }
          ],
          "pie": [
           {
            "automargin": true,
            "type": "pie"
           }
          ],
          "scatter": [
           {
            "fillpattern": {
             "fillmode": "overlay",
             "size": 10,
             "solidity": 0.2
            },
            "type": "scatter"
           }
          ],
          "scatter3d": [
           {
            "line": {
             "colorbar": {
              "outlinewidth": 0,
              "ticks": ""
             }
            },
            "marker": {
             "colorbar": {
              "outlinewidth": 0,
              "ticks": ""
             }
            },
            "type": "scatter3d"
           }
          ],
          "scattercarpet": [
           {
            "marker": {
             "colorbar": {
              "outlinewidth": 0,
              "ticks": ""
             }
            },
            "type": "scattercarpet"
           }
          ],
          "scattergeo": [
           {
            "marker": {
             "colorbar": {
              "outlinewidth": 0,
              "ticks": ""
             }
            },
            "type": "scattergeo"
           }
          ],
          "scattergl": [
           {
            "marker": {
             "colorbar": {
              "outlinewidth": 0,
              "ticks": ""
             }
            },
            "type": "scattergl"
           }
          ],
          "scattermapbox": [
           {
            "marker": {
             "colorbar": {
              "outlinewidth": 0,
              "ticks": ""
             }
            },
            "type": "scattermapbox"
           }
          ],
          "scatterpolar": [
           {
            "marker": {
             "colorbar": {
              "outlinewidth": 0,
              "ticks": ""
             }
            },
            "type": "scatterpolar"
           }
          ],
          "scatterpolargl": [
           {
            "marker": {
             "colorbar": {
              "outlinewidth": 0,
              "ticks": ""
             }
            },
            "type": "scatterpolargl"
           }
          ],
          "scatterternary": [
           {
            "marker": {
             "colorbar": {
              "outlinewidth": 0,
              "ticks": ""
             }
            },
            "type": "scatterternary"
           }
          ],
          "surface": [
           {
            "colorbar": {
             "outlinewidth": 0,
             "ticks": ""
            },
            "colorscale": [
             [
              0,
              "#0d0887"
             ],
             [
              0.1111111111111111,
              "#46039f"
             ],
             [
              0.2222222222222222,
              "#7201a8"
             ],
             [
              0.3333333333333333,
              "#9c179e"
             ],
             [
              0.4444444444444444,
              "#bd3786"
             ],
             [
              0.5555555555555556,
              "#d8576b"
             ],
             [
              0.6666666666666666,
              "#ed7953"
             ],
             [
              0.7777777777777778,
              "#fb9f3a"
             ],
             [
              0.8888888888888888,
              "#fdca26"
             ],
             [
              1,
              "#f0f921"
             ]
            ],
            "type": "surface"
           }
          ],
          "table": [
           {
            "cells": {
             "fill": {
              "color": "#EBF0F8"
             },
             "line": {
              "color": "white"
             }
            },
            "header": {
             "fill": {
              "color": "#C8D4E3"
             },
             "line": {
              "color": "white"
             }
            },
            "type": "table"
           }
          ]
         },
         "layout": {
          "annotationdefaults": {
           "arrowcolor": "#2a3f5f",
           "arrowhead": 0,
           "arrowwidth": 1
          },
          "autotypenumbers": "strict",
          "coloraxis": {
           "colorbar": {
            "outlinewidth": 0,
            "ticks": ""
           }
          },
          "colorscale": {
           "diverging": [
            [
             0,
             "#8e0152"
            ],
            [
             0.1,
             "#c51b7d"
            ],
            [
             0.2,
             "#de77ae"
            ],
            [
             0.3,
             "#f1b6da"
            ],
            [
             0.4,
             "#fde0ef"
            ],
            [
             0.5,
             "#f7f7f7"
            ],
            [
             0.6,
             "#e6f5d0"
            ],
            [
             0.7,
             "#b8e186"
            ],
            [
             0.8,
             "#7fbc41"
            ],
            [
             0.9,
             "#4d9221"
            ],
            [
             1,
             "#276419"
            ]
           ],
           "sequential": [
            [
             0,
             "#0d0887"
            ],
            [
             0.1111111111111111,
             "#46039f"
            ],
            [
             0.2222222222222222,
             "#7201a8"
            ],
            [
             0.3333333333333333,
             "#9c179e"
            ],
            [
             0.4444444444444444,
             "#bd3786"
            ],
            [
             0.5555555555555556,
             "#d8576b"
            ],
            [
             0.6666666666666666,
             "#ed7953"
            ],
            [
             0.7777777777777778,
             "#fb9f3a"
            ],
            [
             0.8888888888888888,
             "#fdca26"
            ],
            [
             1,
             "#f0f921"
            ]
           ],
           "sequentialminus": [
            [
             0,
             "#0d0887"
            ],
            [
             0.1111111111111111,
             "#46039f"
            ],
            [
             0.2222222222222222,
             "#7201a8"
            ],
            [
             0.3333333333333333,
             "#9c179e"
            ],
            [
             0.4444444444444444,
             "#bd3786"
            ],
            [
             0.5555555555555556,
             "#d8576b"
            ],
            [
             0.6666666666666666,
             "#ed7953"
            ],
            [
             0.7777777777777778,
             "#fb9f3a"
            ],
            [
             0.8888888888888888,
             "#fdca26"
            ],
            [
             1,
             "#f0f921"
            ]
           ]
          },
          "colorway": [
           "#636efa",
           "#EF553B",
           "#00cc96",
           "#ab63fa",
           "#FFA15A",
           "#19d3f3",
           "#FF6692",
           "#B6E880",
           "#FF97FF",
           "#FECB52"
          ],
          "font": {
           "color": "#2a3f5f"
          },
          "geo": {
           "bgcolor": "white",
           "lakecolor": "white",
           "landcolor": "#E5ECF6",
           "showlakes": true,
           "showland": true,
           "subunitcolor": "white"
          },
          "hoverlabel": {
           "align": "left"
          },
          "hovermode": "closest",
          "mapbox": {
           "style": "light"
          },
          "paper_bgcolor": "white",
          "plot_bgcolor": "#E5ECF6",
          "polar": {
           "angularaxis": {
            "gridcolor": "white",
            "linecolor": "white",
            "ticks": ""
           },
           "bgcolor": "#E5ECF6",
           "radialaxis": {
            "gridcolor": "white",
            "linecolor": "white",
            "ticks": ""
           }
          },
          "scene": {
           "xaxis": {
            "backgroundcolor": "#E5ECF6",
            "gridcolor": "white",
            "gridwidth": 2,
            "linecolor": "white",
            "showbackground": true,
            "ticks": "",
            "zerolinecolor": "white"
           },
           "yaxis": {
            "backgroundcolor": "#E5ECF6",
            "gridcolor": "white",
            "gridwidth": 2,
            "linecolor": "white",
            "showbackground": true,
            "ticks": "",
            "zerolinecolor": "white"
           },
           "zaxis": {
            "backgroundcolor": "#E5ECF6",
            "gridcolor": "white",
            "gridwidth": 2,
            "linecolor": "white",
            "showbackground": true,
            "ticks": "",
            "zerolinecolor": "white"
           }
          },
          "shapedefaults": {
           "line": {
            "color": "#2a3f5f"
           }
          },
          "ternary": {
           "aaxis": {
            "gridcolor": "white",
            "linecolor": "white",
            "ticks": ""
           },
           "baxis": {
            "gridcolor": "white",
            "linecolor": "white",
            "ticks": ""
           },
           "bgcolor": "#E5ECF6",
           "caxis": {
            "gridcolor": "white",
            "linecolor": "white",
            "ticks": ""
           }
          },
          "title": {
           "x": 0.05
          },
          "xaxis": {
           "automargin": true,
           "gridcolor": "white",
           "linecolor": "white",
           "ticks": "",
           "title": {
            "standoff": 15
           },
           "zerolinecolor": "white",
           "zerolinewidth": 2
          },
          "yaxis": {
           "automargin": true,
           "gridcolor": "white",
           "linecolor": "white",
           "ticks": "",
           "title": {
            "standoff": 15
           },
           "zerolinecolor": "white",
           "zerolinewidth": 2
          }
         }
        },
        "title": {
         "text": "Comparsion chart between predicted and original labels",
         "x": 0.5
        }
       }
      },
      "text/html": [
       "<div>                            <div id=\"19e644fc-2943-4da3-9088-f7f695b245fe\" class=\"plotly-graph-div\" style=\"height:525px; width:100%;\"></div>            <script type=\"text/javascript\">                require([\"plotly\"], function(Plotly) {                    window.PLOTLYENV=window.PLOTLYENV || {};                                    if (document.getElementById(\"19e644fc-2943-4da3-9088-f7f695b245fe\")) {                    Plotly.newPlot(                        \"19e644fc-2943-4da3-9088-f7f695b245fe\",                        [{\"mode\":\"markers\",\"name\":\"Original labels\",\"x\":[1.0,2.0,3.0,4.0,5.0,6.0,7.0,8.0,9.0,10.0,11.0,12.0],\"y\":[5.0,8.8,9.6,14.2,18.8,19.5,21.4,26.8,28.9,32.0,33.8,38.2],\"type\":\"scatter\"},{\"mode\":\"lines+markers\",\"name\":\"Predicted labels\",\"x\":[1.0,2.0,3.0,4.0,5.0,6.0,7.0,8.0,9.0,10.0,11.0,12.0],\"y\":[4.3466033935546875,5.7045698165893555,7.062536239624023,8.420502662658691,9.77846908569336,11.136435508728027,12.494401931762695,13.852368354797363,15.210334777832031,16.5683012008667,17.926267623901367,19.284234046936035],\"type\":\"scatter\"}],                        {\"template\":{\"data\":{\"histogram2dcontour\":[{\"type\":\"histogram2dcontour\",\"colorbar\":{\"outlinewidth\":0,\"ticks\":\"\"},\"colorscale\":[[0.0,\"#0d0887\"],[0.1111111111111111,\"#46039f\"],[0.2222222222222222,\"#7201a8\"],[0.3333333333333333,\"#9c179e\"],[0.4444444444444444,\"#bd3786\"],[0.5555555555555556,\"#d8576b\"],[0.6666666666666666,\"#ed7953\"],[0.7777777777777778,\"#fb9f3a\"],[0.8888888888888888,\"#fdca26\"],[1.0,\"#f0f921\"]]}],\"choropleth\":[{\"type\":\"choropleth\",\"colorbar\":{\"outlinewidth\":0,\"ticks\":\"\"}}],\"histogram2d\":[{\"type\":\"histogram2d\",\"colorbar\":{\"outlinewidth\":0,\"ticks\":\"\"},\"colorscale\":[[0.0,\"#0d0887\"],[0.1111111111111111,\"#46039f\"],[0.2222222222222222,\"#7201a8\"],[0.3333333333333333,\"#9c179e\"],[0.4444444444444444,\"#bd3786\"],[0.5555555555555556,\"#d8576b\"],[0.6666666666666666,\"#ed7953\"],[0.7777777777777778,\"#fb9f3a\"],[0.8888888888888888,\"#fdca26\"],[1.0,\"#f0f921\"]]}],\"heatmap\":[{\"type\":\"heatmap\",\"colorbar\":{\"outlinewidth\":0,\"ticks\":\"\"},\"colorscale\":[[0.0,\"#0d0887\"],[0.1111111111111111,\"#46039f\"],[0.2222222222222222,\"#7201a8\"],[0.3333333333333333,\"#9c179e\"],[0.4444444444444444,\"#bd3786\"],[0.5555555555555556,\"#d8576b\"],[0.6666666666666666,\"#ed7953\"],[0.7777777777777778,\"#fb9f3a\"],[0.8888888888888888,\"#fdca26\"],[1.0,\"#f0f921\"]]}],\"heatmapgl\":[{\"type\":\"heatmapgl\",\"colorbar\":{\"outlinewidth\":0,\"ticks\":\"\"},\"colorscale\":[[0.0,\"#0d0887\"],[0.1111111111111111,\"#46039f\"],[0.2222222222222222,\"#7201a8\"],[0.3333333333333333,\"#9c179e\"],[0.4444444444444444,\"#bd3786\"],[0.5555555555555556,\"#d8576b\"],[0.6666666666666666,\"#ed7953\"],[0.7777777777777778,\"#fb9f3a\"],[0.8888888888888888,\"#fdca26\"],[1.0,\"#f0f921\"]]}],\"contourcarpet\":[{\"type\":\"contourcarpet\",\"colorbar\":{\"outlinewidth\":0,\"ticks\":\"\"}}],\"contour\":[{\"type\":\"contour\",\"colorbar\":{\"outlinewidth\":0,\"ticks\":\"\"},\"colorscale\":[[0.0,\"#0d0887\"],[0.1111111111111111,\"#46039f\"],[0.2222222222222222,\"#7201a8\"],[0.3333333333333333,\"#9c179e\"],[0.4444444444444444,\"#bd3786\"],[0.5555555555555556,\"#d8576b\"],[0.6666666666666666,\"#ed7953\"],[0.7777777777777778,\"#fb9f3a\"],[0.8888888888888888,\"#fdca26\"],[1.0,\"#f0f921\"]]}],\"surface\":[{\"type\":\"surface\",\"colorbar\":{\"outlinewidth\":0,\"ticks\":\"\"},\"colorscale\":[[0.0,\"#0d0887\"],[0.1111111111111111,\"#46039f\"],[0.2222222222222222,\"#7201a8\"],[0.3333333333333333,\"#9c179e\"],[0.4444444444444444,\"#bd3786\"],[0.5555555555555556,\"#d8576b\"],[0.6666666666666666,\"#ed7953\"],[0.7777777777777778,\"#fb9f3a\"],[0.8888888888888888,\"#fdca26\"],[1.0,\"#f0f921\"]]}],\"mesh3d\":[{\"type\":\"mesh3d\",\"colorbar\":{\"outlinewidth\":0,\"ticks\":\"\"}}],\"scatter\":[{\"fillpattern\":{\"fillmode\":\"overlay\",\"size\":10,\"solidity\":0.2},\"type\":\"scatter\"}],\"parcoords\":[{\"type\":\"parcoords\",\"line\":{\"colorbar\":{\"outlinewidth\":0,\"ticks\":\"\"}}}],\"scatterpolargl\":[{\"type\":\"scatterpolargl\",\"marker\":{\"colorbar\":{\"outlinewidth\":0,\"ticks\":\"\"}}}],\"bar\":[{\"error_x\":{\"color\":\"#2a3f5f\"},\"error_y\":{\"color\":\"#2a3f5f\"},\"marker\":{\"line\":{\"color\":\"#E5ECF6\",\"width\":0.5},\"pattern\":{\"fillmode\":\"overlay\",\"size\":10,\"solidity\":0.2}},\"type\":\"bar\"}],\"scattergeo\":[{\"type\":\"scattergeo\",\"marker\":{\"colorbar\":{\"outlinewidth\":0,\"ticks\":\"\"}}}],\"scatterpolar\":[{\"type\":\"scatterpolar\",\"marker\":{\"colorbar\":{\"outlinewidth\":0,\"ticks\":\"\"}}}],\"histogram\":[{\"marker\":{\"pattern\":{\"fillmode\":\"overlay\",\"size\":10,\"solidity\":0.2}},\"type\":\"histogram\"}],\"scattergl\":[{\"type\":\"scattergl\",\"marker\":{\"colorbar\":{\"outlinewidth\":0,\"ticks\":\"\"}}}],\"scatter3d\":[{\"type\":\"scatter3d\",\"line\":{\"colorbar\":{\"outlinewidth\":0,\"ticks\":\"\"}},\"marker\":{\"colorbar\":{\"outlinewidth\":0,\"ticks\":\"\"}}}],\"scattermapbox\":[{\"type\":\"scattermapbox\",\"marker\":{\"colorbar\":{\"outlinewidth\":0,\"ticks\":\"\"}}}],\"scatterternary\":[{\"type\":\"scatterternary\",\"marker\":{\"colorbar\":{\"outlinewidth\":0,\"ticks\":\"\"}}}],\"scattercarpet\":[{\"type\":\"scattercarpet\",\"marker\":{\"colorbar\":{\"outlinewidth\":0,\"ticks\":\"\"}}}],\"carpet\":[{\"aaxis\":{\"endlinecolor\":\"#2a3f5f\",\"gridcolor\":\"white\",\"linecolor\":\"white\",\"minorgridcolor\":\"white\",\"startlinecolor\":\"#2a3f5f\"},\"baxis\":{\"endlinecolor\":\"#2a3f5f\",\"gridcolor\":\"white\",\"linecolor\":\"white\",\"minorgridcolor\":\"white\",\"startlinecolor\":\"#2a3f5f\"},\"type\":\"carpet\"}],\"table\":[{\"cells\":{\"fill\":{\"color\":\"#EBF0F8\"},\"line\":{\"color\":\"white\"}},\"header\":{\"fill\":{\"color\":\"#C8D4E3\"},\"line\":{\"color\":\"white\"}},\"type\":\"table\"}],\"barpolar\":[{\"marker\":{\"line\":{\"color\":\"#E5ECF6\",\"width\":0.5},\"pattern\":{\"fillmode\":\"overlay\",\"size\":10,\"solidity\":0.2}},\"type\":\"barpolar\"}],\"pie\":[{\"automargin\":true,\"type\":\"pie\"}]},\"layout\":{\"autotypenumbers\":\"strict\",\"colorway\":[\"#636efa\",\"#EF553B\",\"#00cc96\",\"#ab63fa\",\"#FFA15A\",\"#19d3f3\",\"#FF6692\",\"#B6E880\",\"#FF97FF\",\"#FECB52\"],\"font\":{\"color\":\"#2a3f5f\"},\"hovermode\":\"closest\",\"hoverlabel\":{\"align\":\"left\"},\"paper_bgcolor\":\"white\",\"plot_bgcolor\":\"#E5ECF6\",\"polar\":{\"bgcolor\":\"#E5ECF6\",\"angularaxis\":{\"gridcolor\":\"white\",\"linecolor\":\"white\",\"ticks\":\"\"},\"radialaxis\":{\"gridcolor\":\"white\",\"linecolor\":\"white\",\"ticks\":\"\"}},\"ternary\":{\"bgcolor\":\"#E5ECF6\",\"aaxis\":{\"gridcolor\":\"white\",\"linecolor\":\"white\",\"ticks\":\"\"},\"baxis\":{\"gridcolor\":\"white\",\"linecolor\":\"white\",\"ticks\":\"\"},\"caxis\":{\"gridcolor\":\"white\",\"linecolor\":\"white\",\"ticks\":\"\"}},\"coloraxis\":{\"colorbar\":{\"outlinewidth\":0,\"ticks\":\"\"}},\"colorscale\":{\"sequential\":[[0.0,\"#0d0887\"],[0.1111111111111111,\"#46039f\"],[0.2222222222222222,\"#7201a8\"],[0.3333333333333333,\"#9c179e\"],[0.4444444444444444,\"#bd3786\"],[0.5555555555555556,\"#d8576b\"],[0.6666666666666666,\"#ed7953\"],[0.7777777777777778,\"#fb9f3a\"],[0.8888888888888888,\"#fdca26\"],[1.0,\"#f0f921\"]],\"sequentialminus\":[[0.0,\"#0d0887\"],[0.1111111111111111,\"#46039f\"],[0.2222222222222222,\"#7201a8\"],[0.3333333333333333,\"#9c179e\"],[0.4444444444444444,\"#bd3786\"],[0.5555555555555556,\"#d8576b\"],[0.6666666666666666,\"#ed7953\"],[0.7777777777777778,\"#fb9f3a\"],[0.8888888888888888,\"#fdca26\"],[1.0,\"#f0f921\"]],\"diverging\":[[0,\"#8e0152\"],[0.1,\"#c51b7d\"],[0.2,\"#de77ae\"],[0.3,\"#f1b6da\"],[0.4,\"#fde0ef\"],[0.5,\"#f7f7f7\"],[0.6,\"#e6f5d0\"],[0.7,\"#b8e186\"],[0.8,\"#7fbc41\"],[0.9,\"#4d9221\"],[1,\"#276419\"]]},\"xaxis\":{\"gridcolor\":\"white\",\"linecolor\":\"white\",\"ticks\":\"\",\"title\":{\"standoff\":15},\"zerolinecolor\":\"white\",\"automargin\":true,\"zerolinewidth\":2},\"yaxis\":{\"gridcolor\":\"white\",\"linecolor\":\"white\",\"ticks\":\"\",\"title\":{\"standoff\":15},\"zerolinecolor\":\"white\",\"automargin\":true,\"zerolinewidth\":2},\"scene\":{\"xaxis\":{\"backgroundcolor\":\"#E5ECF6\",\"gridcolor\":\"white\",\"linecolor\":\"white\",\"showbackground\":true,\"ticks\":\"\",\"zerolinecolor\":\"white\",\"gridwidth\":2},\"yaxis\":{\"backgroundcolor\":\"#E5ECF6\",\"gridcolor\":\"white\",\"linecolor\":\"white\",\"showbackground\":true,\"ticks\":\"\",\"zerolinecolor\":\"white\",\"gridwidth\":2},\"zaxis\":{\"backgroundcolor\":\"#E5ECF6\",\"gridcolor\":\"white\",\"linecolor\":\"white\",\"showbackground\":true,\"ticks\":\"\",\"zerolinecolor\":\"white\",\"gridwidth\":2}},\"shapedefaults\":{\"line\":{\"color\":\"#2a3f5f\"}},\"annotationdefaults\":{\"arrowcolor\":\"#2a3f5f\",\"arrowhead\":0,\"arrowwidth\":1},\"geo\":{\"bgcolor\":\"white\",\"landcolor\":\"#E5ECF6\",\"subunitcolor\":\"white\",\"showland\":true,\"showlakes\":true,\"lakecolor\":\"white\"},\"title\":{\"x\":0.05},\"mapbox\":{\"style\":\"light\"}}},\"title\":{\"text\":\"Comparsion chart between predicted and original labels\",\"x\":0.5}},                        {\"responsive\": true}                    ).then(function(){\n",
       "                            \n",
       "var gd = document.getElementById('19e644fc-2943-4da3-9088-f7f695b245fe');\n",
       "var x = new MutationObserver(function (mutations, observer) {{\n",
       "        var display = window.getComputedStyle(gd).display;\n",
       "        if (!display || display === 'none') {{\n",
       "            console.log([gd, 'removed!']);\n",
       "            Plotly.purge(gd);\n",
       "            observer.disconnect();\n",
       "        }}\n",
       "}});\n",
       "\n",
       "// Listen for the removal of the full notebook cells\n",
       "var notebookContainer = gd.closest('#notebook-container');\n",
       "if (notebookContainer) {{\n",
       "    x.observe(notebookContainer, {childList: true});\n",
       "}}\n",
       "\n",
       "// Listen for the clearing of the current output cell\n",
       "var outputEl = gd.closest('.output');\n",
       "if (outputEl) {{\n",
       "    x.observe(outputEl, {childList: true});\n",
       "}}\n",
       "\n",
       "                        })                };                });            </script>        </div>"
      ]
     },
     "metadata": {},
     "output_type": "display_data"
    }
   ],
   "source": [
    "model_label_output = get_new_labels(trained_weight, trained_bias, my_feature)\n",
    "\n",
    "plot_original_and_predicted_label(my_feature, my_label, model_label_output)"
   ]
  },
  {
   "cell_type": "code",
   "execution_count": 20,
   "id": "69bb387e",
   "metadata": {},
   "outputs": [
    {
     "data": {
      "application/vnd.plotly.v1+json": {
       "config": {
        "plotlyServerURL": "https://plot.ly"
       },
       "data": [
        {
         "hovertemplate": "Epochs=%{x}<br>Error=%{y}<extra></extra>",
         "legendgroup": "",
         "line": {
          "color": "#636efa",
          "dash": "solid"
         },
         "marker": {
          "symbol": "circle"
         },
         "mode": "lines",
         "name": "",
         "orientation": "v",
         "showlegend": false,
         "type": "scatter",
         "x": [
          0,
          1,
          2,
          3,
          4,
          5,
          6,
          7,
          8,
          9,
          10,
          11,
          12,
          13,
          14,
          15,
          16,
          17,
          18,
          19,
          20,
          21,
          22,
          23,
          24,
          25,
          26,
          27,
          28,
          29,
          30,
          31,
          32,
          33,
          34,
          35,
          36,
          37,
          38,
          39,
          40,
          41,
          42,
          43,
          44,
          45,
          46,
          47,
          48,
          49,
          50,
          51,
          52,
          53,
          54,
          55,
          56,
          57,
          58,
          59,
          60,
          61,
          62,
          63,
          64,
          65,
          66,
          67,
          68,
          69,
          70,
          71,
          72,
          73,
          74,
          75,
          76,
          77,
          78,
          79,
          80,
          81,
          82,
          83,
          84,
          85,
          86,
          87,
          88,
          89,
          90,
          91,
          92,
          93,
          94,
          95,
          96,
          97,
          98,
          99,
          100,
          101,
          102,
          103,
          104,
          105,
          106,
          107,
          108,
          109,
          110,
          111,
          112,
          113,
          114,
          115,
          116,
          117,
          118,
          119,
          120,
          121,
          122,
          123,
          124,
          125,
          126,
          127,
          128,
          129,
          130,
          131,
          132,
          133,
          134,
          135,
          136,
          137,
          138,
          139,
          140,
          141,
          142,
          143,
          144,
          145,
          146,
          147,
          148,
          149,
          150,
          151,
          152,
          153,
          154,
          155,
          156,
          157,
          158,
          159,
          160,
          161,
          162,
          163,
          164,
          165,
          166,
          167,
          168,
          169,
          170,
          171,
          172,
          173,
          174,
          175,
          176,
          177,
          178,
          179,
          180,
          181,
          182,
          183,
          184,
          185,
          186,
          187,
          188,
          189,
          190,
          191,
          192,
          193,
          194,
          195,
          196,
          197,
          198,
          199,
          200,
          201,
          202,
          203,
          204,
          205,
          206,
          207,
          208,
          209,
          210,
          211,
          212,
          213,
          214,
          215,
          216,
          217,
          218,
          219,
          220,
          221,
          222,
          223,
          224,
          225,
          226,
          227,
          228,
          229,
          230,
          231,
          232,
          233,
          234,
          235,
          236,
          237,
          238,
          239,
          240,
          241,
          242,
          243,
          244,
          245,
          246,
          247,
          248,
          249,
          250,
          251,
          252,
          253,
          254,
          255,
          256,
          257,
          258,
          259,
          260,
          261,
          262,
          263,
          264,
          265,
          266,
          267,
          268,
          269,
          270,
          271,
          272,
          273,
          274,
          275,
          276,
          277,
          278,
          279,
          280,
          281,
          282,
          283,
          284,
          285,
          286,
          287,
          288,
          289,
          290,
          291,
          292,
          293,
          294,
          295,
          296,
          297,
          298,
          299
         ],
         "xaxis": "x",
         "y": [
          35.75553894042969,
          35.49464797973633,
          35.30603790283203,
          35.148441314697266,
          35.008766174316406,
          34.88093185424805,
          34.76155471801758,
          34.64853286743164,
          34.54045486450195,
          34.43632888793945,
          34.335418701171875,
          34.2371711730957,
          34.141151428222656,
          34.04702377319336,
          33.95450973510742,
          33.86338806152344,
          33.773460388183594,
          33.68457794189453,
          33.596614837646484,
          33.50944519042969,
          33.42298126220703,
          33.33713912963867,
          33.25185012817383,
          33.16704559326172,
          33.08267593383789,
          32.99869155883789,
          32.91505432128906,
          32.831722259521484,
          32.74866485595703,
          32.665855407714844,
          32.58326721191406,
          32.500877380371094,
          32.41866683959961,
          32.33661651611328,
          32.25470733642578,
          32.17293167114258,
          32.091270446777344,
          32.00971984863281,
          31.928264617919922,
          31.846893310546875,
          31.765602111816406,
          31.684383392333984,
          31.603227615356445,
          31.522130966186523,
          31.44108772277832,
          31.36009407043457,
          31.279142379760742,
          31.198232650756836,
          31.117359161376953,
          31.036523818969727,
          30.95571517944336,
          30.874935150146484,
          30.79418182373047,
          30.71345329284668,
          30.632747650146484,
          30.55206298828125,
          30.47139549255371,
          30.3907470703125,
          30.310115814208984,
          30.2294979095459,
          30.148897171020508,
          30.068309783935547,
          29.987735748291016,
          29.90717315673828,
          29.826622009277344,
          29.746082305908203,
          29.66555404663086,
          29.58503532409668,
          29.504526138305664,
          29.424028396606445,
          29.343536376953125,
          29.2630558013916,
          29.182580947875977,
          29.102115631103516,
          29.02166175842285,
          28.941211700439453,
          28.860769271850586,
          28.780336380004883,
          28.69991111755371,
          28.61949348449707,
          28.539081573486328,
          28.458675384521484,
          28.378278732299805,
          28.297887802124023,
          28.21750831604004,
          28.137128829956055,
          28.0567626953125,
          27.97640037536621,
          27.89604377746582,
          27.815698623657227,
          27.7353572845459,
          27.655019760131836,
          27.57469367980957,
          27.494373321533203,
          27.414060592651367,
          27.33375358581543,
          27.253454208374023,
          27.173160552978516,
          27.092876434326172,
          27.012596130371094,
          26.93232536315918,
          26.852062225341797,
          26.77180290222168,
          26.691553115844727,
          26.61130714416504,
          26.53107261657715,
          26.450843811035156,
          26.370620727539062,
          26.290407180786133,
          26.2101993560791,
          26.1299991607666,
          26.049806594848633,
          25.969621658325195,
          25.88944435119629,
          25.809274673461914,
          25.72911262512207,
          25.648956298828125,
          25.568809509277344,
          25.488670349121094,
          25.408538818359375,
          25.328413009643555,
          25.2482967376709,
          25.168188095092773,
          25.088088989257812,
          25.00799560546875,
          24.92791175842285,
          24.84783363342285,
          24.76776695251465,
          24.687705993652344,
          24.607654571533203,
          24.527612686157227,
          24.44757652282715,
          24.367549896240234,
          24.287532806396484,
          24.207521438598633,
          24.127519607543945,
          24.04752540588379,
          23.96754264831543,
          23.8875675201416,
          23.807601928710938,
          23.727643966674805,
          23.647693634033203,
          23.5677547454834,
          23.487825393676758,
          23.407901763916016,
          23.32798957824707,
          23.24808692932129,
          23.16819190979004,
          23.088306427001953,
          23.00843048095703,
          22.928565979003906,
          22.848709106445312,
          22.768861770629883,
          22.68902587890625,
          22.60919761657715,
          22.529380798339844,
          22.44957160949707,
          22.369775772094727,
          22.289987564086914,
          22.210208892822266,
          22.130441665649414,
          22.050683975219727,
          21.970935821533203,
          21.891199111938477,
          21.811473846435547,
          21.73175811767578,
          21.65205192565918,
          21.572357177734375,
          21.492673873901367,
          21.413000106811523,
          21.33333969116211,
          21.25368881225586,
          21.174049377441406,
          21.094419479370117,
          21.014802932739258,
          20.935197830200195,
          20.855602264404297,
          20.776018142700195,
          20.696447372436523,
          20.616886138916016,
          20.53734016418457,
          20.45780372619629,
          20.378276824951172,
          20.298765182495117,
          20.21926498413086,
          20.13977813720703,
          20.060302734375,
          19.980838775634766,
          19.90138816833496,
          19.821950912475586,
          19.742525100708008,
          19.66311264038086,
          19.58371353149414,
          19.50432777404785,
          19.424955368041992,
          19.34559440612793,
          19.26624870300293,
          19.186914443969727,
          19.107595443725586,
          19.028287887573242,
          18.948997497558594,
          18.869718551635742,
          18.790454864501953,
          18.711206436157227,
          18.631969451904297,
          18.55274772644043,
          18.473541259765625,
          18.394350051879883,
          18.315174102783203,
          18.236011505126953,
          18.156864166259766,
          18.07773208618164,
          17.998615264892578,
          17.919513702392578,
          17.84042739868164,
          17.7613582611084,
          17.68230438232422,
          17.603267669677734,
          17.52424430847168,
          17.44523811340332,
          17.366249084472656,
          17.287277221679688,
          17.20832061767578,
          17.12938117980957,
          17.050458908081055,
          16.971553802490234,
          16.892667770385742,
          16.813796997070312,
          16.73494529724121,
          16.656110763549805,
          16.577293395996094,
          16.498497009277344,
          16.419715881347656,
          16.34095573425293,
          16.2622127532959,
          16.183488845825195,
          16.104785919189453,
          16.026098251342773,
          15.947434425354004,
          15.86878776550293,
          15.790162086486816,
          15.711555480957031,
          15.632969856262207,
          15.554404258728027,
          15.475859642028809,
          15.39733600616455,
          15.31883430480957,
          15.240351676940918,
          15.161890983581543,
          15.083454132080078,
          15.005036354064941,
          14.926643371582031,
          14.848271369934082,
          14.769923210144043,
          14.691596984863281,
          14.61329460144043,
          14.535014152526855,
          14.456758499145508,
          14.378527641296387,
          14.30031967163086,
          14.222136497497559,
          14.143978118896484,
          14.065844535827637,
          13.987735748291016,
          13.909653663635254,
          13.831596374511719,
          13.753565788269043,
          13.675561904907227,
          13.59758472442627,
          13.519634246826172,
          13.441709518432617,
          13.363815307617188,
          13.285947799682617,
          13.208108901977539,
          13.130298614501953,
          13.05251693725586,
          12.974764823913574,
          12.897043228149414,
          12.819350242614746,
          12.741687774658203,
          12.664056777954102,
          12.586457252502441,
          12.508889198303223,
          12.431352615356445,
          12.353848457336426,
          12.276376724243164,
          12.198938369750977,
          12.12153434753418,
          12.044163703918457,
          11.966828346252441,
          11.8895263671875,
          11.812260627746582,
          11.735031127929688,
          11.6578369140625,
          11.580681800842285,
          11.503562927246094,
          11.426481246948242,
          11.34943675994873,
          11.272432327270508,
          11.195466995239258
         ],
         "yaxis": "y"
        }
       ],
       "layout": {
        "legend": {
         "tracegroupgap": 0
        },
        "margin": {
         "t": 60
        },
        "template": {
         "data": {
          "bar": [
           {
            "error_x": {
             "color": "#2a3f5f"
            },
            "error_y": {
             "color": "#2a3f5f"
            },
            "marker": {
             "line": {
              "color": "#E5ECF6",
              "width": 0.5
             },
             "pattern": {
              "fillmode": "overlay",
              "size": 10,
              "solidity": 0.2
             }
            },
            "type": "bar"
           }
          ],
          "barpolar": [
           {
            "marker": {
             "line": {
              "color": "#E5ECF6",
              "width": 0.5
             },
             "pattern": {
              "fillmode": "overlay",
              "size": 10,
              "solidity": 0.2
             }
            },
            "type": "barpolar"
           }
          ],
          "carpet": [
           {
            "aaxis": {
             "endlinecolor": "#2a3f5f",
             "gridcolor": "white",
             "linecolor": "white",
             "minorgridcolor": "white",
             "startlinecolor": "#2a3f5f"
            },
            "baxis": {
             "endlinecolor": "#2a3f5f",
             "gridcolor": "white",
             "linecolor": "white",
             "minorgridcolor": "white",
             "startlinecolor": "#2a3f5f"
            },
            "type": "carpet"
           }
          ],
          "choropleth": [
           {
            "colorbar": {
             "outlinewidth": 0,
             "ticks": ""
            },
            "type": "choropleth"
           }
          ],
          "contour": [
           {
            "colorbar": {
             "outlinewidth": 0,
             "ticks": ""
            },
            "colorscale": [
             [
              0,
              "#0d0887"
             ],
             [
              0.1111111111111111,
              "#46039f"
             ],
             [
              0.2222222222222222,
              "#7201a8"
             ],
             [
              0.3333333333333333,
              "#9c179e"
             ],
             [
              0.4444444444444444,
              "#bd3786"
             ],
             [
              0.5555555555555556,
              "#d8576b"
             ],
             [
              0.6666666666666666,
              "#ed7953"
             ],
             [
              0.7777777777777778,
              "#fb9f3a"
             ],
             [
              0.8888888888888888,
              "#fdca26"
             ],
             [
              1,
              "#f0f921"
             ]
            ],
            "type": "contour"
           }
          ],
          "contourcarpet": [
           {
            "colorbar": {
             "outlinewidth": 0,
             "ticks": ""
            },
            "type": "contourcarpet"
           }
          ],
          "heatmap": [
           {
            "colorbar": {
             "outlinewidth": 0,
             "ticks": ""
            },
            "colorscale": [
             [
              0,
              "#0d0887"
             ],
             [
              0.1111111111111111,
              "#46039f"
             ],
             [
              0.2222222222222222,
              "#7201a8"
             ],
             [
              0.3333333333333333,
              "#9c179e"
             ],
             [
              0.4444444444444444,
              "#bd3786"
             ],
             [
              0.5555555555555556,
              "#d8576b"
             ],
             [
              0.6666666666666666,
              "#ed7953"
             ],
             [
              0.7777777777777778,
              "#fb9f3a"
             ],
             [
              0.8888888888888888,
              "#fdca26"
             ],
             [
              1,
              "#f0f921"
             ]
            ],
            "type": "heatmap"
           }
          ],
          "heatmapgl": [
           {
            "colorbar": {
             "outlinewidth": 0,
             "ticks": ""
            },
            "colorscale": [
             [
              0,
              "#0d0887"
             ],
             [
              0.1111111111111111,
              "#46039f"
             ],
             [
              0.2222222222222222,
              "#7201a8"
             ],
             [
              0.3333333333333333,
              "#9c179e"
             ],
             [
              0.4444444444444444,
              "#bd3786"
             ],
             [
              0.5555555555555556,
              "#d8576b"
             ],
             [
              0.6666666666666666,
              "#ed7953"
             ],
             [
              0.7777777777777778,
              "#fb9f3a"
             ],
             [
              0.8888888888888888,
              "#fdca26"
             ],
             [
              1,
              "#f0f921"
             ]
            ],
            "type": "heatmapgl"
           }
          ],
          "histogram": [
           {
            "marker": {
             "pattern": {
              "fillmode": "overlay",
              "size": 10,
              "solidity": 0.2
             }
            },
            "type": "histogram"
           }
          ],
          "histogram2d": [
           {
            "colorbar": {
             "outlinewidth": 0,
             "ticks": ""
            },
            "colorscale": [
             [
              0,
              "#0d0887"
             ],
             [
              0.1111111111111111,
              "#46039f"
             ],
             [
              0.2222222222222222,
              "#7201a8"
             ],
             [
              0.3333333333333333,
              "#9c179e"
             ],
             [
              0.4444444444444444,
              "#bd3786"
             ],
             [
              0.5555555555555556,
              "#d8576b"
             ],
             [
              0.6666666666666666,
              "#ed7953"
             ],
             [
              0.7777777777777778,
              "#fb9f3a"
             ],
             [
              0.8888888888888888,
              "#fdca26"
             ],
             [
              1,
              "#f0f921"
             ]
            ],
            "type": "histogram2d"
           }
          ],
          "histogram2dcontour": [
           {
            "colorbar": {
             "outlinewidth": 0,
             "ticks": ""
            },
            "colorscale": [
             [
              0,
              "#0d0887"
             ],
             [
              0.1111111111111111,
              "#46039f"
             ],
             [
              0.2222222222222222,
              "#7201a8"
             ],
             [
              0.3333333333333333,
              "#9c179e"
             ],
             [
              0.4444444444444444,
              "#bd3786"
             ],
             [
              0.5555555555555556,
              "#d8576b"
             ],
             [
              0.6666666666666666,
              "#ed7953"
             ],
             [
              0.7777777777777778,
              "#fb9f3a"
             ],
             [
              0.8888888888888888,
              "#fdca26"
             ],
             [
              1,
              "#f0f921"
             ]
            ],
            "type": "histogram2dcontour"
           }
          ],
          "mesh3d": [
           {
            "colorbar": {
             "outlinewidth": 0,
             "ticks": ""
            },
            "type": "mesh3d"
           }
          ],
          "parcoords": [
           {
            "line": {
             "colorbar": {
              "outlinewidth": 0,
              "ticks": ""
             }
            },
            "type": "parcoords"
           }
          ],
          "pie": [
           {
            "automargin": true,
            "type": "pie"
           }
          ],
          "scatter": [
           {
            "fillpattern": {
             "fillmode": "overlay",
             "size": 10,
             "solidity": 0.2
            },
            "type": "scatter"
           }
          ],
          "scatter3d": [
           {
            "line": {
             "colorbar": {
              "outlinewidth": 0,
              "ticks": ""
             }
            },
            "marker": {
             "colorbar": {
              "outlinewidth": 0,
              "ticks": ""
             }
            },
            "type": "scatter3d"
           }
          ],
          "scattercarpet": [
           {
            "marker": {
             "colorbar": {
              "outlinewidth": 0,
              "ticks": ""
             }
            },
            "type": "scattercarpet"
           }
          ],
          "scattergeo": [
           {
            "marker": {
             "colorbar": {
              "outlinewidth": 0,
              "ticks": ""
             }
            },
            "type": "scattergeo"
           }
          ],
          "scattergl": [
           {
            "marker": {
             "colorbar": {
              "outlinewidth": 0,
              "ticks": ""
             }
            },
            "type": "scattergl"
           }
          ],
          "scattermapbox": [
           {
            "marker": {
             "colorbar": {
              "outlinewidth": 0,
              "ticks": ""
             }
            },
            "type": "scattermapbox"
           }
          ],
          "scatterpolar": [
           {
            "marker": {
             "colorbar": {
              "outlinewidth": 0,
              "ticks": ""
             }
            },
            "type": "scatterpolar"
           }
          ],
          "scatterpolargl": [
           {
            "marker": {
             "colorbar": {
              "outlinewidth": 0,
              "ticks": ""
             }
            },
            "type": "scatterpolargl"
           }
          ],
          "scatterternary": [
           {
            "marker": {
             "colorbar": {
              "outlinewidth": 0,
              "ticks": ""
             }
            },
            "type": "scatterternary"
           }
          ],
          "surface": [
           {
            "colorbar": {
             "outlinewidth": 0,
             "ticks": ""
            },
            "colorscale": [
             [
              0,
              "#0d0887"
             ],
             [
              0.1111111111111111,
              "#46039f"
             ],
             [
              0.2222222222222222,
              "#7201a8"
             ],
             [
              0.3333333333333333,
              "#9c179e"
             ],
             [
              0.4444444444444444,
              "#bd3786"
             ],
             [
              0.5555555555555556,
              "#d8576b"
             ],
             [
              0.6666666666666666,
              "#ed7953"
             ],
             [
              0.7777777777777778,
              "#fb9f3a"
             ],
             [
              0.8888888888888888,
              "#fdca26"
             ],
             [
              1,
              "#f0f921"
             ]
            ],
            "type": "surface"
           }
          ],
          "table": [
           {
            "cells": {
             "fill": {
              "color": "#EBF0F8"
             },
             "line": {
              "color": "white"
             }
            },
            "header": {
             "fill": {
              "color": "#C8D4E3"
             },
             "line": {
              "color": "white"
             }
            },
            "type": "table"
           }
          ]
         },
         "layout": {
          "annotationdefaults": {
           "arrowcolor": "#2a3f5f",
           "arrowhead": 0,
           "arrowwidth": 1
          },
          "autotypenumbers": "strict",
          "coloraxis": {
           "colorbar": {
            "outlinewidth": 0,
            "ticks": ""
           }
          },
          "colorscale": {
           "diverging": [
            [
             0,
             "#8e0152"
            ],
            [
             0.1,
             "#c51b7d"
            ],
            [
             0.2,
             "#de77ae"
            ],
            [
             0.3,
             "#f1b6da"
            ],
            [
             0.4,
             "#fde0ef"
            ],
            [
             0.5,
             "#f7f7f7"
            ],
            [
             0.6,
             "#e6f5d0"
            ],
            [
             0.7,
             "#b8e186"
            ],
            [
             0.8,
             "#7fbc41"
            ],
            [
             0.9,
             "#4d9221"
            ],
            [
             1,
             "#276419"
            ]
           ],
           "sequential": [
            [
             0,
             "#0d0887"
            ],
            [
             0.1111111111111111,
             "#46039f"
            ],
            [
             0.2222222222222222,
             "#7201a8"
            ],
            [
             0.3333333333333333,
             "#9c179e"
            ],
            [
             0.4444444444444444,
             "#bd3786"
            ],
            [
             0.5555555555555556,
             "#d8576b"
            ],
            [
             0.6666666666666666,
             "#ed7953"
            ],
            [
             0.7777777777777778,
             "#fb9f3a"
            ],
            [
             0.8888888888888888,
             "#fdca26"
            ],
            [
             1,
             "#f0f921"
            ]
           ],
           "sequentialminus": [
            [
             0,
             "#0d0887"
            ],
            [
             0.1111111111111111,
             "#46039f"
            ],
            [
             0.2222222222222222,
             "#7201a8"
            ],
            [
             0.3333333333333333,
             "#9c179e"
            ],
            [
             0.4444444444444444,
             "#bd3786"
            ],
            [
             0.5555555555555556,
             "#d8576b"
            ],
            [
             0.6666666666666666,
             "#ed7953"
            ],
            [
             0.7777777777777778,
             "#fb9f3a"
            ],
            [
             0.8888888888888888,
             "#fdca26"
            ],
            [
             1,
             "#f0f921"
            ]
           ]
          },
          "colorway": [
           "#636efa",
           "#EF553B",
           "#00cc96",
           "#ab63fa",
           "#FFA15A",
           "#19d3f3",
           "#FF6692",
           "#B6E880",
           "#FF97FF",
           "#FECB52"
          ],
          "font": {
           "color": "#2a3f5f"
          },
          "geo": {
           "bgcolor": "white",
           "lakecolor": "white",
           "landcolor": "#E5ECF6",
           "showlakes": true,
           "showland": true,
           "subunitcolor": "white"
          },
          "hoverlabel": {
           "align": "left"
          },
          "hovermode": "closest",
          "mapbox": {
           "style": "light"
          },
          "paper_bgcolor": "white",
          "plot_bgcolor": "#E5ECF6",
          "polar": {
           "angularaxis": {
            "gridcolor": "white",
            "linecolor": "white",
            "ticks": ""
           },
           "bgcolor": "#E5ECF6",
           "radialaxis": {
            "gridcolor": "white",
            "linecolor": "white",
            "ticks": ""
           }
          },
          "scene": {
           "xaxis": {
            "backgroundcolor": "#E5ECF6",
            "gridcolor": "white",
            "gridwidth": 2,
            "linecolor": "white",
            "showbackground": true,
            "ticks": "",
            "zerolinecolor": "white"
           },
           "yaxis": {
            "backgroundcolor": "#E5ECF6",
            "gridcolor": "white",
            "gridwidth": 2,
            "linecolor": "white",
            "showbackground": true,
            "ticks": "",
            "zerolinecolor": "white"
           },
           "zaxis": {
            "backgroundcolor": "#E5ECF6",
            "gridcolor": "white",
            "gridwidth": 2,
            "linecolor": "white",
            "showbackground": true,
            "ticks": "",
            "zerolinecolor": "white"
           }
          },
          "shapedefaults": {
           "line": {
            "color": "#2a3f5f"
           }
          },
          "ternary": {
           "aaxis": {
            "gridcolor": "white",
            "linecolor": "white",
            "ticks": ""
           },
           "baxis": {
            "gridcolor": "white",
            "linecolor": "white",
            "ticks": ""
           },
           "bgcolor": "#E5ECF6",
           "caxis": {
            "gridcolor": "white",
            "linecolor": "white",
            "ticks": ""
           }
          },
          "title": {
           "x": 0.05
          },
          "xaxis": {
           "automargin": true,
           "gridcolor": "white",
           "linecolor": "white",
           "ticks": "",
           "title": {
            "standoff": 15
           },
           "zerolinecolor": "white",
           "zerolinewidth": 2
          },
          "yaxis": {
           "automargin": true,
           "gridcolor": "white",
           "linecolor": "white",
           "ticks": "",
           "title": {
            "standoff": 15
           },
           "zerolinecolor": "white",
           "zerolinewidth": 2
          }
         }
        },
        "title": {
         "text": "Loss",
         "x": 0.5
        },
        "xaxis": {
         "anchor": "y",
         "domain": [
          0,
          1
         ],
         "title": {
          "text": "Epochs"
         }
        },
        "yaxis": {
         "anchor": "x",
         "domain": [
          0,
          1
         ],
         "title": {
          "text": "Error"
         }
        }
       }
      },
      "text/html": [
       "<div>                            <div id=\"3bb301bb-27c8-4da4-bf24-4432943ee135\" class=\"plotly-graph-div\" style=\"height:525px; width:100%;\"></div>            <script type=\"text/javascript\">                require([\"plotly\"], function(Plotly) {                    window.PLOTLYENV=window.PLOTLYENV || {};                                    if (document.getElementById(\"3bb301bb-27c8-4da4-bf24-4432943ee135\")) {                    Plotly.newPlot(                        \"3bb301bb-27c8-4da4-bf24-4432943ee135\",                        [{\"hovertemplate\":\"Epochs=%{x}<br>Error=%{y}<extra></extra>\",\"legendgroup\":\"\",\"line\":{\"color\":\"#636efa\",\"dash\":\"solid\"},\"marker\":{\"symbol\":\"circle\"},\"mode\":\"lines\",\"name\":\"\",\"orientation\":\"v\",\"showlegend\":false,\"x\":[0,1,2,3,4,5,6,7,8,9,10,11,12,13,14,15,16,17,18,19,20,21,22,23,24,25,26,27,28,29,30,31,32,33,34,35,36,37,38,39,40,41,42,43,44,45,46,47,48,49,50,51,52,53,54,55,56,57,58,59,60,61,62,63,64,65,66,67,68,69,70,71,72,73,74,75,76,77,78,79,80,81,82,83,84,85,86,87,88,89,90,91,92,93,94,95,96,97,98,99,100,101,102,103,104,105,106,107,108,109,110,111,112,113,114,115,116,117,118,119,120,121,122,123,124,125,126,127,128,129,130,131,132,133,134,135,136,137,138,139,140,141,142,143,144,145,146,147,148,149,150,151,152,153,154,155,156,157,158,159,160,161,162,163,164,165,166,167,168,169,170,171,172,173,174,175,176,177,178,179,180,181,182,183,184,185,186,187,188,189,190,191,192,193,194,195,196,197,198,199,200,201,202,203,204,205,206,207,208,209,210,211,212,213,214,215,216,217,218,219,220,221,222,223,224,225,226,227,228,229,230,231,232,233,234,235,236,237,238,239,240,241,242,243,244,245,246,247,248,249,250,251,252,253,254,255,256,257,258,259,260,261,262,263,264,265,266,267,268,269,270,271,272,273,274,275,276,277,278,279,280,281,282,283,284,285,286,287,288,289,290,291,292,293,294,295,296,297,298,299],\"xaxis\":\"x\",\"y\":[35.75553894042969,35.49464797973633,35.30603790283203,35.148441314697266,35.008766174316406,34.88093185424805,34.76155471801758,34.64853286743164,34.54045486450195,34.43632888793945,34.335418701171875,34.2371711730957,34.141151428222656,34.04702377319336,33.95450973510742,33.86338806152344,33.773460388183594,33.68457794189453,33.596614837646484,33.50944519042969,33.42298126220703,33.33713912963867,33.25185012817383,33.16704559326172,33.08267593383789,32.99869155883789,32.91505432128906,32.831722259521484,32.74866485595703,32.665855407714844,32.58326721191406,32.500877380371094,32.41866683959961,32.33661651611328,32.25470733642578,32.17293167114258,32.091270446777344,32.00971984863281,31.928264617919922,31.846893310546875,31.765602111816406,31.684383392333984,31.603227615356445,31.522130966186523,31.44108772277832,31.36009407043457,31.279142379760742,31.198232650756836,31.117359161376953,31.036523818969727,30.95571517944336,30.874935150146484,30.79418182373047,30.71345329284668,30.632747650146484,30.55206298828125,30.47139549255371,30.3907470703125,30.310115814208984,30.2294979095459,30.148897171020508,30.068309783935547,29.987735748291016,29.90717315673828,29.826622009277344,29.746082305908203,29.66555404663086,29.58503532409668,29.504526138305664,29.424028396606445,29.343536376953125,29.2630558013916,29.182580947875977,29.102115631103516,29.02166175842285,28.941211700439453,28.860769271850586,28.780336380004883,28.69991111755371,28.61949348449707,28.539081573486328,28.458675384521484,28.378278732299805,28.297887802124023,28.21750831604004,28.137128829956055,28.0567626953125,27.97640037536621,27.89604377746582,27.815698623657227,27.7353572845459,27.655019760131836,27.57469367980957,27.494373321533203,27.414060592651367,27.33375358581543,27.253454208374023,27.173160552978516,27.092876434326172,27.012596130371094,26.93232536315918,26.852062225341797,26.77180290222168,26.691553115844727,26.61130714416504,26.53107261657715,26.450843811035156,26.370620727539062,26.290407180786133,26.2101993560791,26.1299991607666,26.049806594848633,25.969621658325195,25.88944435119629,25.809274673461914,25.72911262512207,25.648956298828125,25.568809509277344,25.488670349121094,25.408538818359375,25.328413009643555,25.2482967376709,25.168188095092773,25.088088989257812,25.00799560546875,24.92791175842285,24.84783363342285,24.76776695251465,24.687705993652344,24.607654571533203,24.527612686157227,24.44757652282715,24.367549896240234,24.287532806396484,24.207521438598633,24.127519607543945,24.04752540588379,23.96754264831543,23.8875675201416,23.807601928710938,23.727643966674805,23.647693634033203,23.5677547454834,23.487825393676758,23.407901763916016,23.32798957824707,23.24808692932129,23.16819190979004,23.088306427001953,23.00843048095703,22.928565979003906,22.848709106445312,22.768861770629883,22.68902587890625,22.60919761657715,22.529380798339844,22.44957160949707,22.369775772094727,22.289987564086914,22.210208892822266,22.130441665649414,22.050683975219727,21.970935821533203,21.891199111938477,21.811473846435547,21.73175811767578,21.65205192565918,21.572357177734375,21.492673873901367,21.413000106811523,21.33333969116211,21.25368881225586,21.174049377441406,21.094419479370117,21.014802932739258,20.935197830200195,20.855602264404297,20.776018142700195,20.696447372436523,20.616886138916016,20.53734016418457,20.45780372619629,20.378276824951172,20.298765182495117,20.21926498413086,20.13977813720703,20.060302734375,19.980838775634766,19.90138816833496,19.821950912475586,19.742525100708008,19.66311264038086,19.58371353149414,19.50432777404785,19.424955368041992,19.34559440612793,19.26624870300293,19.186914443969727,19.107595443725586,19.028287887573242,18.948997497558594,18.869718551635742,18.790454864501953,18.711206436157227,18.631969451904297,18.55274772644043,18.473541259765625,18.394350051879883,18.315174102783203,18.236011505126953,18.156864166259766,18.07773208618164,17.998615264892578,17.919513702392578,17.84042739868164,17.7613582611084,17.68230438232422,17.603267669677734,17.52424430847168,17.44523811340332,17.366249084472656,17.287277221679688,17.20832061767578,17.12938117980957,17.050458908081055,16.971553802490234,16.892667770385742,16.813796997070312,16.73494529724121,16.656110763549805,16.577293395996094,16.498497009277344,16.419715881347656,16.34095573425293,16.2622127532959,16.183488845825195,16.104785919189453,16.026098251342773,15.947434425354004,15.86878776550293,15.790162086486816,15.711555480957031,15.632969856262207,15.554404258728027,15.475859642028809,15.39733600616455,15.31883430480957,15.240351676940918,15.161890983581543,15.083454132080078,15.005036354064941,14.926643371582031,14.848271369934082,14.769923210144043,14.691596984863281,14.61329460144043,14.535014152526855,14.456758499145508,14.378527641296387,14.30031967163086,14.222136497497559,14.143978118896484,14.065844535827637,13.987735748291016,13.909653663635254,13.831596374511719,13.753565788269043,13.675561904907227,13.59758472442627,13.519634246826172,13.441709518432617,13.363815307617188,13.285947799682617,13.208108901977539,13.130298614501953,13.05251693725586,12.974764823913574,12.897043228149414,12.819350242614746,12.741687774658203,12.664056777954102,12.586457252502441,12.508889198303223,12.431352615356445,12.353848457336426,12.276376724243164,12.198938369750977,12.12153434753418,12.044163703918457,11.966828346252441,11.8895263671875,11.812260627746582,11.735031127929688,11.6578369140625,11.580681800842285,11.503562927246094,11.426481246948242,11.34943675994873,11.272432327270508,11.195466995239258],\"yaxis\":\"y\",\"type\":\"scatter\"}],                        {\"template\":{\"data\":{\"histogram2dcontour\":[{\"type\":\"histogram2dcontour\",\"colorbar\":{\"outlinewidth\":0,\"ticks\":\"\"},\"colorscale\":[[0.0,\"#0d0887\"],[0.1111111111111111,\"#46039f\"],[0.2222222222222222,\"#7201a8\"],[0.3333333333333333,\"#9c179e\"],[0.4444444444444444,\"#bd3786\"],[0.5555555555555556,\"#d8576b\"],[0.6666666666666666,\"#ed7953\"],[0.7777777777777778,\"#fb9f3a\"],[0.8888888888888888,\"#fdca26\"],[1.0,\"#f0f921\"]]}],\"choropleth\":[{\"type\":\"choropleth\",\"colorbar\":{\"outlinewidth\":0,\"ticks\":\"\"}}],\"histogram2d\":[{\"type\":\"histogram2d\",\"colorbar\":{\"outlinewidth\":0,\"ticks\":\"\"},\"colorscale\":[[0.0,\"#0d0887\"],[0.1111111111111111,\"#46039f\"],[0.2222222222222222,\"#7201a8\"],[0.3333333333333333,\"#9c179e\"],[0.4444444444444444,\"#bd3786\"],[0.5555555555555556,\"#d8576b\"],[0.6666666666666666,\"#ed7953\"],[0.7777777777777778,\"#fb9f3a\"],[0.8888888888888888,\"#fdca26\"],[1.0,\"#f0f921\"]]}],\"heatmap\":[{\"type\":\"heatmap\",\"colorbar\":{\"outlinewidth\":0,\"ticks\":\"\"},\"colorscale\":[[0.0,\"#0d0887\"],[0.1111111111111111,\"#46039f\"],[0.2222222222222222,\"#7201a8\"],[0.3333333333333333,\"#9c179e\"],[0.4444444444444444,\"#bd3786\"],[0.5555555555555556,\"#d8576b\"],[0.6666666666666666,\"#ed7953\"],[0.7777777777777778,\"#fb9f3a\"],[0.8888888888888888,\"#fdca26\"],[1.0,\"#f0f921\"]]}],\"heatmapgl\":[{\"type\":\"heatmapgl\",\"colorbar\":{\"outlinewidth\":0,\"ticks\":\"\"},\"colorscale\":[[0.0,\"#0d0887\"],[0.1111111111111111,\"#46039f\"],[0.2222222222222222,\"#7201a8\"],[0.3333333333333333,\"#9c179e\"],[0.4444444444444444,\"#bd3786\"],[0.5555555555555556,\"#d8576b\"],[0.6666666666666666,\"#ed7953\"],[0.7777777777777778,\"#fb9f3a\"],[0.8888888888888888,\"#fdca26\"],[1.0,\"#f0f921\"]]}],\"contourcarpet\":[{\"type\":\"contourcarpet\",\"colorbar\":{\"outlinewidth\":0,\"ticks\":\"\"}}],\"contour\":[{\"type\":\"contour\",\"colorbar\":{\"outlinewidth\":0,\"ticks\":\"\"},\"colorscale\":[[0.0,\"#0d0887\"],[0.1111111111111111,\"#46039f\"],[0.2222222222222222,\"#7201a8\"],[0.3333333333333333,\"#9c179e\"],[0.4444444444444444,\"#bd3786\"],[0.5555555555555556,\"#d8576b\"],[0.6666666666666666,\"#ed7953\"],[0.7777777777777778,\"#fb9f3a\"],[0.8888888888888888,\"#fdca26\"],[1.0,\"#f0f921\"]]}],\"surface\":[{\"type\":\"surface\",\"colorbar\":{\"outlinewidth\":0,\"ticks\":\"\"},\"colorscale\":[[0.0,\"#0d0887\"],[0.1111111111111111,\"#46039f\"],[0.2222222222222222,\"#7201a8\"],[0.3333333333333333,\"#9c179e\"],[0.4444444444444444,\"#bd3786\"],[0.5555555555555556,\"#d8576b\"],[0.6666666666666666,\"#ed7953\"],[0.7777777777777778,\"#fb9f3a\"],[0.8888888888888888,\"#fdca26\"],[1.0,\"#f0f921\"]]}],\"mesh3d\":[{\"type\":\"mesh3d\",\"colorbar\":{\"outlinewidth\":0,\"ticks\":\"\"}}],\"scatter\":[{\"fillpattern\":{\"fillmode\":\"overlay\",\"size\":10,\"solidity\":0.2},\"type\":\"scatter\"}],\"parcoords\":[{\"type\":\"parcoords\",\"line\":{\"colorbar\":{\"outlinewidth\":0,\"ticks\":\"\"}}}],\"scatterpolargl\":[{\"type\":\"scatterpolargl\",\"marker\":{\"colorbar\":{\"outlinewidth\":0,\"ticks\":\"\"}}}],\"bar\":[{\"error_x\":{\"color\":\"#2a3f5f\"},\"error_y\":{\"color\":\"#2a3f5f\"},\"marker\":{\"line\":{\"color\":\"#E5ECF6\",\"width\":0.5},\"pattern\":{\"fillmode\":\"overlay\",\"size\":10,\"solidity\":0.2}},\"type\":\"bar\"}],\"scattergeo\":[{\"type\":\"scattergeo\",\"marker\":{\"colorbar\":{\"outlinewidth\":0,\"ticks\":\"\"}}}],\"scatterpolar\":[{\"type\":\"scatterpolar\",\"marker\":{\"colorbar\":{\"outlinewidth\":0,\"ticks\":\"\"}}}],\"histogram\":[{\"marker\":{\"pattern\":{\"fillmode\":\"overlay\",\"size\":10,\"solidity\":0.2}},\"type\":\"histogram\"}],\"scattergl\":[{\"type\":\"scattergl\",\"marker\":{\"colorbar\":{\"outlinewidth\":0,\"ticks\":\"\"}}}],\"scatter3d\":[{\"type\":\"scatter3d\",\"line\":{\"colorbar\":{\"outlinewidth\":0,\"ticks\":\"\"}},\"marker\":{\"colorbar\":{\"outlinewidth\":0,\"ticks\":\"\"}}}],\"scattermapbox\":[{\"type\":\"scattermapbox\",\"marker\":{\"colorbar\":{\"outlinewidth\":0,\"ticks\":\"\"}}}],\"scatterternary\":[{\"type\":\"scatterternary\",\"marker\":{\"colorbar\":{\"outlinewidth\":0,\"ticks\":\"\"}}}],\"scattercarpet\":[{\"type\":\"scattercarpet\",\"marker\":{\"colorbar\":{\"outlinewidth\":0,\"ticks\":\"\"}}}],\"carpet\":[{\"aaxis\":{\"endlinecolor\":\"#2a3f5f\",\"gridcolor\":\"white\",\"linecolor\":\"white\",\"minorgridcolor\":\"white\",\"startlinecolor\":\"#2a3f5f\"},\"baxis\":{\"endlinecolor\":\"#2a3f5f\",\"gridcolor\":\"white\",\"linecolor\":\"white\",\"minorgridcolor\":\"white\",\"startlinecolor\":\"#2a3f5f\"},\"type\":\"carpet\"}],\"table\":[{\"cells\":{\"fill\":{\"color\":\"#EBF0F8\"},\"line\":{\"color\":\"white\"}},\"header\":{\"fill\":{\"color\":\"#C8D4E3\"},\"line\":{\"color\":\"white\"}},\"type\":\"table\"}],\"barpolar\":[{\"marker\":{\"line\":{\"color\":\"#E5ECF6\",\"width\":0.5},\"pattern\":{\"fillmode\":\"overlay\",\"size\":10,\"solidity\":0.2}},\"type\":\"barpolar\"}],\"pie\":[{\"automargin\":true,\"type\":\"pie\"}]},\"layout\":{\"autotypenumbers\":\"strict\",\"colorway\":[\"#636efa\",\"#EF553B\",\"#00cc96\",\"#ab63fa\",\"#FFA15A\",\"#19d3f3\",\"#FF6692\",\"#B6E880\",\"#FF97FF\",\"#FECB52\"],\"font\":{\"color\":\"#2a3f5f\"},\"hovermode\":\"closest\",\"hoverlabel\":{\"align\":\"left\"},\"paper_bgcolor\":\"white\",\"plot_bgcolor\":\"#E5ECF6\",\"polar\":{\"bgcolor\":\"#E5ECF6\",\"angularaxis\":{\"gridcolor\":\"white\",\"linecolor\":\"white\",\"ticks\":\"\"},\"radialaxis\":{\"gridcolor\":\"white\",\"linecolor\":\"white\",\"ticks\":\"\"}},\"ternary\":{\"bgcolor\":\"#E5ECF6\",\"aaxis\":{\"gridcolor\":\"white\",\"linecolor\":\"white\",\"ticks\":\"\"},\"baxis\":{\"gridcolor\":\"white\",\"linecolor\":\"white\",\"ticks\":\"\"},\"caxis\":{\"gridcolor\":\"white\",\"linecolor\":\"white\",\"ticks\":\"\"}},\"coloraxis\":{\"colorbar\":{\"outlinewidth\":0,\"ticks\":\"\"}},\"colorscale\":{\"sequential\":[[0.0,\"#0d0887\"],[0.1111111111111111,\"#46039f\"],[0.2222222222222222,\"#7201a8\"],[0.3333333333333333,\"#9c179e\"],[0.4444444444444444,\"#bd3786\"],[0.5555555555555556,\"#d8576b\"],[0.6666666666666666,\"#ed7953\"],[0.7777777777777778,\"#fb9f3a\"],[0.8888888888888888,\"#fdca26\"],[1.0,\"#f0f921\"]],\"sequentialminus\":[[0.0,\"#0d0887\"],[0.1111111111111111,\"#46039f\"],[0.2222222222222222,\"#7201a8\"],[0.3333333333333333,\"#9c179e\"],[0.4444444444444444,\"#bd3786\"],[0.5555555555555556,\"#d8576b\"],[0.6666666666666666,\"#ed7953\"],[0.7777777777777778,\"#fb9f3a\"],[0.8888888888888888,\"#fdca26\"],[1.0,\"#f0f921\"]],\"diverging\":[[0,\"#8e0152\"],[0.1,\"#c51b7d\"],[0.2,\"#de77ae\"],[0.3,\"#f1b6da\"],[0.4,\"#fde0ef\"],[0.5,\"#f7f7f7\"],[0.6,\"#e6f5d0\"],[0.7,\"#b8e186\"],[0.8,\"#7fbc41\"],[0.9,\"#4d9221\"],[1,\"#276419\"]]},\"xaxis\":{\"gridcolor\":\"white\",\"linecolor\":\"white\",\"ticks\":\"\",\"title\":{\"standoff\":15},\"zerolinecolor\":\"white\",\"automargin\":true,\"zerolinewidth\":2},\"yaxis\":{\"gridcolor\":\"white\",\"linecolor\":\"white\",\"ticks\":\"\",\"title\":{\"standoff\":15},\"zerolinecolor\":\"white\",\"automargin\":true,\"zerolinewidth\":2},\"scene\":{\"xaxis\":{\"backgroundcolor\":\"#E5ECF6\",\"gridcolor\":\"white\",\"linecolor\":\"white\",\"showbackground\":true,\"ticks\":\"\",\"zerolinecolor\":\"white\",\"gridwidth\":2},\"yaxis\":{\"backgroundcolor\":\"#E5ECF6\",\"gridcolor\":\"white\",\"linecolor\":\"white\",\"showbackground\":true,\"ticks\":\"\",\"zerolinecolor\":\"white\",\"gridwidth\":2},\"zaxis\":{\"backgroundcolor\":\"#E5ECF6\",\"gridcolor\":\"white\",\"linecolor\":\"white\",\"showbackground\":true,\"ticks\":\"\",\"zerolinecolor\":\"white\",\"gridwidth\":2}},\"shapedefaults\":{\"line\":{\"color\":\"#2a3f5f\"}},\"annotationdefaults\":{\"arrowcolor\":\"#2a3f5f\",\"arrowhead\":0,\"arrowwidth\":1},\"geo\":{\"bgcolor\":\"white\",\"landcolor\":\"#E5ECF6\",\"subunitcolor\":\"white\",\"showland\":true,\"showlakes\":true,\"lakecolor\":\"white\"},\"title\":{\"x\":0.05},\"mapbox\":{\"style\":\"light\"}}},\"xaxis\":{\"anchor\":\"y\",\"domain\":[0.0,1.0],\"title\":{\"text\":\"Epochs\"}},\"yaxis\":{\"anchor\":\"x\",\"domain\":[0.0,1.0],\"title\":{\"text\":\"Error\"}},\"legend\":{\"tracegroupgap\":0},\"margin\":{\"t\":60},\"title\":{\"text\":\"Loss\",\"x\":0.5}},                        {\"responsive\": true}                    ).then(function(){\n",
       "                            \n",
       "var gd = document.getElementById('3bb301bb-27c8-4da4-bf24-4432943ee135');\n",
       "var x = new MutationObserver(function (mutations, observer) {{\n",
       "        var display = window.getComputedStyle(gd).display;\n",
       "        if (!display || display === 'none') {{\n",
       "            console.log([gd, 'removed!']);\n",
       "            Plotly.purge(gd);\n",
       "            observer.disconnect();\n",
       "        }}\n",
       "}});\n",
       "\n",
       "// Listen for the removal of the full notebook cells\n",
       "var notebookContainer = gd.closest('#notebook-container');\n",
       "if (notebookContainer) {{\n",
       "    x.observe(notebookContainer, {childList: true});\n",
       "}}\n",
       "\n",
       "// Listen for the clearing of the current output cell\n",
       "var outputEl = gd.closest('.output');\n",
       "if (outputEl) {{\n",
       "    x.observe(outputEl, {childList: true});\n",
       "}}\n",
       "\n",
       "                        })                };                });            </script>        </div>"
      ]
     },
     "metadata": {},
     "output_type": "display_data"
    }
   ],
   "source": [
    "plot_loss(epochs_from_model, rmse)"
   ]
  },
  {
   "cell_type": "markdown",
   "id": "16e111db",
   "metadata": {},
   "source": [
    "#### Vemos que el Loss disminuye mucho mas al aumentar los epochs."
   ]
  },
  {
   "cell_type": "markdown",
   "id": "17b3d8f2",
   "metadata": {},
   "source": [
    "### Veamos ahora aumentando el learning rate:"
   ]
  },
  {
   "cell_type": "code",
   "execution_count": 21,
   "id": "2541fc58",
   "metadata": {},
   "outputs": [],
   "source": [
    "learning_rate = 0.3 #que tan rapido se disminuye el error.\n",
    "epochs = 200 #Cantidad de veces que se va a ver el bach de dataset\n",
    "batch_size = 12"
   ]
  },
  {
   "cell_type": "code",
   "execution_count": 22,
   "id": "56843e39",
   "metadata": {},
   "outputs": [
    {
     "name": "stdout",
     "output_type": "stream",
     "text": [
      "Epoch 1/200\n",
      "1/1 [==============================] - 0s 110ms/step - loss: 1029.6537 - root_mean_squared_error: 32.0882\n",
      "Epoch 2/200\n",
      "1/1 [==============================] - 0s 2ms/step - loss: 588.7039 - root_mean_squared_error: 24.2632\n",
      "Epoch 3/200\n",
      "1/1 [==============================] - 0s 2ms/step - loss: 376.0023 - root_mean_squared_error: 19.3908\n",
      "Epoch 4/200\n",
      "1/1 [==============================] - 0s 2ms/step - loss: 248.4287 - root_mean_squared_error: 15.7616\n",
      "Epoch 5/200\n",
      "1/1 [==============================] - 0s 1ms/step - loss: 165.8610 - root_mean_squared_error: 12.8787\n",
      "Epoch 6/200\n",
      "1/1 [==============================] - 0s 2ms/step - loss: 110.6748 - root_mean_squared_error: 10.5202\n",
      "Epoch 7/200\n",
      "1/1 [==============================] - 0s 1ms/step - loss: 73.3559 - root_mean_squared_error: 8.5648\n",
      "Epoch 8/200\n",
      "1/1 [==============================] - 0s 2ms/step - loss: 48.1241 - root_mean_squared_error: 6.9372\n",
      "Epoch 9/200\n",
      "1/1 [==============================] - 0s 1ms/step - loss: 31.2028 - root_mean_squared_error: 5.5859\n",
      "Epoch 10/200\n",
      "1/1 [==============================] - 0s 2ms/step - loss: 20.0129 - root_mean_squared_error: 4.4736\n",
      "Epoch 11/200\n",
      "1/1 [==============================] - 0s 2ms/step - loss: 12.7509 - root_mean_squared_error: 3.5708\n",
      "Epoch 12/200\n",
      "1/1 [==============================] - 0s 1ms/step - loss: 8.1440 - root_mean_squared_error: 2.8538\n",
      "Epoch 13/200\n",
      "1/1 [==============================] - 0s 1ms/step - loss: 5.2970 - root_mean_squared_error: 2.3015\n",
      "Epoch 14/200\n",
      "1/1 [==============================] - 0s 2ms/step - loss: 3.5882 - root_mean_squared_error: 1.8943\n",
      "Epoch 15/200\n",
      "1/1 [==============================] - 0s 2ms/step - loss: 2.5945 - root_mean_squared_error: 1.6107\n",
      "Epoch 16/200\n",
      "1/1 [==============================] - 0s 2ms/step - loss: 2.0353 - root_mean_squared_error: 1.4267\n",
      "Epoch 17/200\n",
      "1/1 [==============================] - 0s 2ms/step - loss: 1.7308 - root_mean_squared_error: 1.3156\n",
      "Epoch 18/200\n",
      "1/1 [==============================] - 0s 1ms/step - loss: 1.5694 - root_mean_squared_error: 1.2528\n",
      "Epoch 19/200\n",
      "1/1 [==============================] - 0s 2ms/step - loss: 1.4851 - root_mean_squared_error: 1.2186\n",
      "Epoch 20/200\n",
      "1/1 [==============================] - 0s 1ms/step - loss: 1.4401 - root_mean_squared_error: 1.2000\n",
      "Epoch 21/200\n",
      "1/1 [==============================] - 0s 2ms/step - loss: 1.4142 - root_mean_squared_error: 1.1892\n",
      "Epoch 22/200\n",
      "1/1 [==============================] - 0s 1ms/step - loss: 1.3969 - root_mean_squared_error: 1.1819\n",
      "Epoch 23/200\n",
      "1/1 [==============================] - 0s 2ms/step - loss: 1.3831 - root_mean_squared_error: 1.1761\n",
      "Epoch 24/200\n",
      "1/1 [==============================] - 0s 1ms/step - loss: 1.3706 - root_mean_squared_error: 1.1707\n",
      "Epoch 25/200\n",
      "1/1 [==============================] - 0s 1ms/step - loss: 1.3583 - root_mean_squared_error: 1.1655\n",
      "Epoch 26/200\n",
      "1/1 [==============================] - 0s 2ms/step - loss: 1.3459 - root_mean_squared_error: 1.1601\n",
      "Epoch 27/200\n",
      "1/1 [==============================] - 0s 2ms/step - loss: 1.3332 - root_mean_squared_error: 1.1547\n",
      "Epoch 28/200\n",
      "1/1 [==============================] - 0s 1ms/step - loss: 1.3203 - root_mean_squared_error: 1.1490\n",
      "Epoch 29/200\n",
      "1/1 [==============================] - 0s 2ms/step - loss: 1.3070 - root_mean_squared_error: 1.1432\n",
      "Epoch 30/200\n",
      "1/1 [==============================] - 0s 1ms/step - loss: 1.2934 - root_mean_squared_error: 1.1373\n",
      "Epoch 31/200\n",
      "1/1 [==============================] - 0s 2ms/step - loss: 1.2796 - root_mean_squared_error: 1.1312\n",
      "Epoch 32/200\n",
      "1/1 [==============================] - 0s 2ms/step - loss: 1.2655 - root_mean_squared_error: 1.1250\n",
      "Epoch 33/200\n",
      "1/1 [==============================] - 0s 2ms/step - loss: 1.2512 - root_mean_squared_error: 1.1186\n",
      "Epoch 34/200\n",
      "1/1 [==============================] - 0s 2ms/step - loss: 1.2367 - root_mean_squared_error: 1.1121\n",
      "Epoch 35/200\n",
      "1/1 [==============================] - 0s 2ms/step - loss: 1.2220 - root_mean_squared_error: 1.1054\n",
      "Epoch 36/200\n",
      "1/1 [==============================] - 0s 2ms/step - loss: 1.2071 - root_mean_squared_error: 1.0987\n",
      "Epoch 37/200\n",
      "1/1 [==============================] - 0s 2ms/step - loss: 1.1921 - root_mean_squared_error: 1.0919\n",
      "Epoch 38/200\n",
      "1/1 [==============================] - 0s 1ms/step - loss: 1.1771 - root_mean_squared_error: 1.0849\n",
      "Epoch 39/200\n",
      "1/1 [==============================] - 0s 2ms/step - loss: 1.1620 - root_mean_squared_error: 1.0779\n",
      "Epoch 40/200\n",
      "1/1 [==============================] - 0s 2ms/step - loss: 1.1469 - root_mean_squared_error: 1.0709\n",
      "Epoch 41/200\n",
      "1/1 [==============================] - 0s 1ms/step - loss: 1.1318 - root_mean_squared_error: 1.0639\n",
      "Epoch 42/200\n",
      "1/1 [==============================] - 0s 1ms/step - loss: 1.1168 - root_mean_squared_error: 1.0568\n",
      "Epoch 43/200\n",
      "1/1 [==============================] - 0s 1ms/step - loss: 1.1020 - root_mean_squared_error: 1.0497\n",
      "Epoch 44/200\n",
      "1/1 [==============================] - 0s 2ms/step - loss: 1.0873 - root_mean_squared_error: 1.0427\n",
      "Epoch 45/200\n",
      "1/1 [==============================] - 0s 1ms/step - loss: 1.0728 - root_mean_squared_error: 1.0358\n",
      "Epoch 46/200\n",
      "1/1 [==============================] - 0s 1ms/step - loss: 1.0587 - root_mean_squared_error: 1.0289\n",
      "Epoch 47/200\n",
      "1/1 [==============================] - 0s 2ms/step - loss: 1.0448 - root_mean_squared_error: 1.0222\n",
      "Epoch 48/200\n",
      "1/1 [==============================] - 0s 2ms/step - loss: 1.0314 - root_mean_squared_error: 1.0156\n",
      "Epoch 49/200\n",
      "1/1 [==============================] - 0s 2ms/step - loss: 1.0183 - root_mean_squared_error: 1.0091\n",
      "Epoch 50/200\n",
      "1/1 [==============================] - 0s 2ms/step - loss: 1.0057 - root_mean_squared_error: 1.0029\n",
      "Epoch 51/200\n",
      "1/1 [==============================] - 0s 2ms/step - loss: 0.9937 - root_mean_squared_error: 0.9968\n",
      "Epoch 52/200\n",
      "1/1 [==============================] - 0s 2ms/step - loss: 0.9821 - root_mean_squared_error: 0.9910\n",
      "Epoch 53/200\n",
      "1/1 [==============================] - 0s 1ms/step - loss: 0.9712 - root_mean_squared_error: 0.9855\n",
      "Epoch 54/200\n",
      "1/1 [==============================] - 0s 2ms/step - loss: 0.9608 - root_mean_squared_error: 0.9802\n",
      "Epoch 55/200\n",
      "1/1 [==============================] - 0s 1ms/step - loss: 0.9511 - root_mean_squared_error: 0.9753\n",
      "Epoch 56/200\n",
      "1/1 [==============================] - 0s 2ms/step - loss: 0.9421 - root_mean_squared_error: 0.9706\n",
      "Epoch 57/200\n",
      "1/1 [==============================] - 0s 1ms/step - loss: 0.9337 - root_mean_squared_error: 0.9663\n",
      "Epoch 58/200\n",
      "1/1 [==============================] - 0s 2ms/step - loss: 0.9260 - root_mean_squared_error: 0.9623\n",
      "Epoch 59/200\n",
      "1/1 [==============================] - 0s 2ms/step - loss: 0.9189 - root_mean_squared_error: 0.9586\n",
      "Epoch 60/200\n",
      "1/1 [==============================] - 0s 2ms/step - loss: 0.9126 - root_mean_squared_error: 0.9553\n",
      "Epoch 61/200\n",
      "1/1 [==============================] - 0s 1ms/step - loss: 0.9068 - root_mean_squared_error: 0.9523\n",
      "Epoch 62/200\n",
      "1/1 [==============================] - 0s 2ms/step - loss: 0.9017 - root_mean_squared_error: 0.9496\n",
      "Epoch 63/200\n",
      "1/1 [==============================] - 0s 1ms/step - loss: 0.8972 - root_mean_squared_error: 0.9472\n",
      "Epoch 64/200\n",
      "1/1 [==============================] - 0s 2ms/step - loss: 0.8933 - root_mean_squared_error: 0.9451\n",
      "Epoch 65/200\n",
      "1/1 [==============================] - 0s 1ms/step - loss: 0.8899 - root_mean_squared_error: 0.9434\n",
      "Epoch 66/200\n",
      "1/1 [==============================] - 0s 2ms/step - loss: 0.8870 - root_mean_squared_error: 0.9418\n",
      "Epoch 67/200\n",
      "1/1 [==============================] - 0s 1ms/step - loss: 0.8849 - root_mean_squared_error: 0.9407\n",
      "Epoch 68/200\n",
      "1/1 [==============================] - 0s 1ms/step - loss: 0.8869 - root_mean_squared_error: 0.9417\n",
      "Epoch 69/200\n",
      "1/1 [==============================] - 0s 1ms/step - loss: 0.9371 - root_mean_squared_error: 0.9680\n",
      "Epoch 70/200\n",
      "1/1 [==============================] - 0s 1ms/step - loss: 1.6890 - root_mean_squared_error: 1.2996\n",
      "Epoch 71/200\n",
      "1/1 [==============================] - 0s 1ms/step - loss: 10.0732 - root_mean_squared_error: 3.1738\n",
      "Epoch 72/200\n",
      "1/1 [==============================] - 0s 1ms/step - loss: 15.3154 - root_mean_squared_error: 3.9135\n",
      "Epoch 73/200\n"
     ]
    },
    {
     "name": "stdout",
     "output_type": "stream",
     "text": [
      "1/1 [==============================] - 0s 1ms/step - loss: 5.3539 - root_mean_squared_error: 2.3138\n",
      "Epoch 74/200\n",
      "1/1 [==============================] - 0s 2ms/step - loss: 1.9981 - root_mean_squared_error: 1.4135\n",
      "Epoch 75/200\n",
      "1/1 [==============================] - 0s 1ms/step - loss: 1.2124 - root_mean_squared_error: 1.1011\n",
      "Epoch 76/200\n",
      "1/1 [==============================] - 0s 2ms/step - loss: 1.0056 - root_mean_squared_error: 1.0028\n",
      "Epoch 77/200\n",
      "1/1 [==============================] - 0s 2ms/step - loss: 0.9403 - root_mean_squared_error: 0.9697\n",
      "Epoch 78/200\n",
      "1/1 [==============================] - 0s 2ms/step - loss: 0.9164 - root_mean_squared_error: 0.9573\n",
      "Epoch 79/200\n",
      "1/1 [==============================] - 0s 1ms/step - loss: 0.9077 - root_mean_squared_error: 0.9527\n",
      "Epoch 80/200\n",
      "1/1 [==============================] - 0s 2ms/step - loss: 0.9066 - root_mean_squared_error: 0.9521\n",
      "Epoch 81/200\n",
      "1/1 [==============================] - 0s 1ms/step - loss: 0.9120 - root_mean_squared_error: 0.9550\n",
      "Epoch 82/200\n",
      "1/1 [==============================] - 0s 2ms/step - loss: 0.9273 - root_mean_squared_error: 0.9630\n",
      "Epoch 83/200\n",
      "1/1 [==============================] - 0s 1ms/step - loss: 0.9640 - root_mean_squared_error: 0.9818\n",
      "Epoch 84/200\n",
      "1/1 [==============================] - 0s 1ms/step - loss: 1.0550 - root_mean_squared_error: 1.0271\n",
      "Epoch 85/200\n",
      "1/1 [==============================] - 0s 1ms/step - loss: 1.2977 - root_mean_squared_error: 1.1392\n",
      "Epoch 86/200\n",
      "1/1 [==============================] - 0s 2ms/step - loss: 1.9682 - root_mean_squared_error: 1.4029\n",
      "Epoch 87/200\n",
      "1/1 [==============================] - 0s 1ms/step - loss: 3.6101 - root_mean_squared_error: 1.9000\n",
      "Epoch 88/200\n",
      "1/1 [==============================] - 0s 1ms/step - loss: 5.9329 - root_mean_squared_error: 2.4357\n",
      "Epoch 89/200\n",
      "1/1 [==============================] - 0s 2ms/step - loss: 6.1819 - root_mean_squared_error: 2.4863\n",
      "Epoch 90/200\n",
      "1/1 [==============================] - 0s 2ms/step - loss: 4.3348 - root_mean_squared_error: 2.0820\n",
      "Epoch 91/200\n",
      "1/1 [==============================] - 0s 2ms/step - loss: 2.7485 - root_mean_squared_error: 1.6579\n",
      "Epoch 92/200\n",
      "1/1 [==============================] - 0s 2ms/step - loss: 1.9090 - root_mean_squared_error: 1.3817\n",
      "Epoch 93/200\n",
      "1/1 [==============================] - 0s 1ms/step - loss: 1.5156 - root_mean_squared_error: 1.2311\n",
      "Epoch 94/200\n",
      "1/1 [==============================] - 0s 2ms/step - loss: 1.3376 - root_mean_squared_error: 1.1566\n",
      "Epoch 95/200\n",
      "1/1 [==============================] - 0s 1ms/step - loss: 1.2687 - root_mean_squared_error: 1.1264\n",
      "Epoch 96/200\n",
      "1/1 [==============================] - 0s 2ms/step - loss: 1.2689 - root_mean_squared_error: 1.1265\n",
      "Epoch 97/200\n",
      "1/1 [==============================] - 0s 1ms/step - loss: 1.3336 - root_mean_squared_error: 1.1548\n",
      "Epoch 98/200\n",
      "1/1 [==============================] - 0s 2ms/step - loss: 1.4847 - root_mean_squared_error: 1.2185\n",
      "Epoch 99/200\n",
      "1/1 [==============================] - 0s 2ms/step - loss: 1.7731 - root_mean_squared_error: 1.3316\n",
      "Epoch 100/200\n",
      "1/1 [==============================] - 0s 2ms/step - loss: 2.2686 - root_mean_squared_error: 1.5062\n",
      "Epoch 101/200\n",
      "1/1 [==============================] - 0s 2ms/step - loss: 2.9819 - root_mean_squared_error: 1.7268\n",
      "Epoch 102/200\n",
      "1/1 [==============================] - 0s 1ms/step - loss: 3.6843 - root_mean_squared_error: 1.9195\n",
      "Epoch 103/200\n",
      "1/1 [==============================] - 0s 2ms/step - loss: 3.9301 - root_mean_squared_error: 1.9824\n",
      "Epoch 104/200\n",
      "1/1 [==============================] - 0s 1ms/step - loss: 3.5796 - root_mean_squared_error: 1.8920\n",
      "Epoch 105/200\n",
      "1/1 [==============================] - 0s 2ms/step - loss: 2.9685 - root_mean_squared_error: 1.7229\n",
      "Epoch 106/200\n",
      "1/1 [==============================] - 0s 1ms/step - loss: 2.4262 - root_mean_squared_error: 1.5576\n",
      "Epoch 107/200\n",
      "1/1 [==============================] - 0s 2ms/step - loss: 2.0558 - root_mean_squared_error: 1.4338\n",
      "Epoch 108/200\n",
      "1/1 [==============================] - 0s 1ms/step - loss: 1.8393 - root_mean_squared_error: 1.3562\n",
      "Epoch 109/200\n",
      "1/1 [==============================] - 0s 2ms/step - loss: 1.7381 - root_mean_squared_error: 1.3184\n",
      "Epoch 110/200\n",
      "1/1 [==============================] - 0s 2ms/step - loss: 1.7263 - root_mean_squared_error: 1.3139\n",
      "Epoch 111/200\n",
      "1/1 [==============================] - 0s 1ms/step - loss: 1.7948 - root_mean_squared_error: 1.3397\n",
      "Epoch 112/200\n",
      "1/1 [==============================] - 0s 2ms/step - loss: 1.9458 - root_mean_squared_error: 1.3949\n",
      "Epoch 113/200\n",
      "1/1 [==============================] - 0s 1ms/step - loss: 2.1824 - root_mean_squared_error: 1.4773\n",
      "Epoch 114/200\n",
      "1/1 [==============================] - 0s 2ms/step - loss: 2.4885 - root_mean_squared_error: 1.5775\n",
      "Epoch 115/200\n",
      "1/1 [==============================] - 0s 1ms/step - loss: 2.8025 - root_mean_squared_error: 1.6741\n",
      "Epoch 116/200\n",
      "1/1 [==============================] - 0s 1ms/step - loss: 3.0192 - root_mean_squared_error: 1.7376\n",
      "Epoch 117/200\n",
      "1/1 [==============================] - 0s 1ms/step - loss: 3.0516 - root_mean_squared_error: 1.7469\n",
      "Epoch 118/200\n",
      "1/1 [==============================] - 0s 2ms/step - loss: 2.9051 - root_mean_squared_error: 1.7044\n",
      "Epoch 119/200\n",
      "1/1 [==============================] - 0s 1ms/step - loss: 2.6647 - root_mean_squared_error: 1.6324\n",
      "Epoch 120/200\n",
      "1/1 [==============================] - 0s 2ms/step - loss: 2.4217 - root_mean_squared_error: 1.5562\n",
      "Epoch 121/200\n",
      "1/1 [==============================] - 0s 2ms/step - loss: 2.2288 - root_mean_squared_error: 1.4929\n",
      "Epoch 122/200\n",
      "1/1 [==============================] - 0s 1ms/step - loss: 2.1035 - root_mean_squared_error: 1.4503\n",
      "Epoch 123/200\n",
      "1/1 [==============================] - 0s 2ms/step - loss: 2.0454 - root_mean_squared_error: 1.4302\n",
      "Epoch 124/200\n",
      "1/1 [==============================] - 0s 1ms/step - loss: 2.0496 - root_mean_squared_error: 1.4317\n",
      "Epoch 125/200\n",
      "1/1 [==============================] - 0s 2ms/step - loss: 2.1103 - root_mean_squared_error: 1.4527\n",
      "Epoch 126/200\n",
      "1/1 [==============================] - 0s 1ms/step - loss: 2.2198 - root_mean_squared_error: 1.4899\n",
      "Epoch 127/200\n",
      "1/1 [==============================] - 0s 2ms/step - loss: 2.3635 - root_mean_squared_error: 1.5374\n",
      "Epoch 128/200\n",
      "1/1 [==============================] - 0s 1ms/step - loss: 2.5157 - root_mean_squared_error: 1.5861\n",
      "Epoch 129/200\n",
      "1/1 [==============================] - 0s 2ms/step - loss: 2.6404 - root_mean_squared_error: 1.6249\n",
      "Epoch 130/200\n",
      "1/1 [==============================] - 0s 1ms/step - loss: 2.7038 - root_mean_squared_error: 1.6443\n",
      "Epoch 131/200\n",
      "1/1 [==============================] - 0s 2ms/step - loss: 2.6914 - root_mean_squared_error: 1.6405\n",
      "Epoch 132/200\n",
      "1/1 [==============================] - 0s 1ms/step - loss: 2.6153 - root_mean_squared_error: 1.6172\n",
      "Epoch 133/200\n",
      "1/1 [==============================] - 0s 2ms/step - loss: 2.5057 - root_mean_squared_error: 1.5829\n",
      "Epoch 134/200\n",
      "1/1 [==============================] - 0s 1ms/step - loss: 2.3938 - root_mean_squared_error: 1.5472\n",
      "Epoch 135/200\n",
      "1/1 [==============================] - 0s 1ms/step - loss: 2.3024 - root_mean_squared_error: 1.5174\n",
      "Epoch 136/200\n",
      "1/1 [==============================] - 0s 1ms/step - loss: 2.2435 - root_mean_squared_error: 1.4978\n",
      "Epoch 137/200\n",
      "1/1 [==============================] - 0s 2ms/step - loss: 2.2210 - root_mean_squared_error: 1.4903\n",
      "Epoch 138/200\n",
      "1/1 [==============================] - 0s 2ms/step - loss: 2.2339 - root_mean_squared_error: 1.4946\n",
      "Epoch 139/200\n",
      "1/1 [==============================] - 0s 2ms/step - loss: 2.2775 - root_mean_squared_error: 1.5091\n",
      "Epoch 140/200\n",
      "1/1 [==============================] - 0s 1ms/step - loss: 2.3430 - root_mean_squared_error: 1.5307\n",
      "Epoch 141/200\n",
      "1/1 [==============================] - 0s 1ms/step - loss: 2.4179 - root_mean_squared_error: 1.5550\n",
      "Epoch 142/200\n",
      "1/1 [==============================] - 0s 1ms/step - loss: 2.4866 - root_mean_squared_error: 1.5769\n",
      "Epoch 143/200\n",
      "1/1 [==============================] - 0s 1ms/step - loss: 2.5340 - root_mean_squared_error: 1.5919\n",
      "Epoch 144/200\n",
      "1/1 [==============================] - 0s 2ms/step - loss: 2.5501 - root_mean_squared_error: 1.5969\n",
      "Epoch 145/200\n"
     ]
    },
    {
     "name": "stdout",
     "output_type": "stream",
     "text": [
      "1/1 [==============================] - 0s 2ms/step - loss: 2.5339 - root_mean_squared_error: 1.5918\n",
      "Epoch 146/200\n",
      "1/1 [==============================] - 0s 2ms/step - loss: 2.4930 - root_mean_squared_error: 1.5789\n",
      "Epoch 147/200\n",
      "1/1 [==============================] - 0s 2ms/step - loss: 2.4399 - root_mean_squared_error: 1.5620\n",
      "Epoch 148/200\n",
      "1/1 [==============================] - 0s 2ms/step - loss: 2.3875 - root_mean_squared_error: 1.5451\n",
      "Epoch 149/200\n",
      "1/1 [==============================] - 0s 2ms/step - loss: 2.3459 - root_mean_squared_error: 1.5316\n",
      "Epoch 150/200\n",
      "1/1 [==============================] - 0s 2ms/step - loss: 2.3211 - root_mean_squared_error: 1.5235\n",
      "Epoch 151/200\n",
      "1/1 [==============================] - 0s 2ms/step - loss: 2.3156 - root_mean_squared_error: 1.5217\n",
      "Epoch 152/200\n",
      "1/1 [==============================] - 0s 1ms/step - loss: 2.3282 - root_mean_squared_error: 1.5258\n",
      "Epoch 153/200\n",
      "1/1 [==============================] - 0s 1ms/step - loss: 2.3552 - root_mean_squared_error: 1.5347\n",
      "Epoch 154/200\n",
      "1/1 [==============================] - 0s 1ms/step - loss: 2.3905 - root_mean_squared_error: 1.5461\n",
      "Epoch 155/200\n",
      "1/1 [==============================] - 0s 2ms/step - loss: 2.4267 - root_mean_squared_error: 1.5578\n",
      "Epoch 156/200\n",
      "1/1 [==============================] - 0s 1ms/step - loss: 2.4564 - root_mean_squared_error: 1.5673\n",
      "Epoch 157/200\n",
      "1/1 [==============================] - 0s 2ms/step - loss: 2.4736 - root_mean_squared_error: 1.5728\n",
      "Epoch 158/200\n",
      "1/1 [==============================] - 0s 2ms/step - loss: 2.4756 - root_mean_squared_error: 1.5734\n",
      "Epoch 159/200\n",
      "1/1 [==============================] - 0s 2ms/step - loss: 2.4636 - root_mean_squared_error: 1.5696\n",
      "Epoch 160/200\n",
      "1/1 [==============================] - 0s 2ms/step - loss: 2.4416 - root_mean_squared_error: 1.5626\n",
      "Epoch 161/200\n",
      "1/1 [==============================] - 0s 2ms/step - loss: 2.4156 - root_mean_squared_error: 1.5542\n",
      "Epoch 162/200\n",
      "1/1 [==============================] - 0s 1ms/step - loss: 2.3912 - root_mean_squared_error: 1.5463\n",
      "Epoch 163/200\n",
      "1/1 [==============================] - 0s 2ms/step - loss: 2.3730 - root_mean_squared_error: 1.5404\n",
      "Epoch 164/200\n",
      "1/1 [==============================] - 0s 1ms/step - loss: 2.3637 - root_mean_squared_error: 1.5374\n",
      "Epoch 165/200\n",
      "1/1 [==============================] - 0s 2ms/step - loss: 2.3642 - root_mean_squared_error: 1.5376\n",
      "Epoch 166/200\n",
      "1/1 [==============================] - 0s 1ms/step - loss: 2.3733 - root_mean_squared_error: 1.5405\n",
      "Epoch 167/200\n",
      "1/1 [==============================] - 0s 1ms/step - loss: 2.3886 - root_mean_squared_error: 1.5455\n",
      "Epoch 168/200\n",
      "1/1 [==============================] - 0s 1ms/step - loss: 2.4065 - root_mean_squared_error: 1.5513\n",
      "Epoch 169/200\n",
      "1/1 [==============================] - 0s 2ms/step - loss: 2.4233 - root_mean_squared_error: 1.5567\n",
      "Epoch 170/200\n",
      "1/1 [==============================] - 0s 2ms/step - loss: 2.4356 - root_mean_squared_error: 1.5607\n",
      "Epoch 171/200\n",
      "1/1 [==============================] - 0s 2ms/step - loss: 2.4413 - root_mean_squared_error: 1.5625\n",
      "Epoch 172/200\n",
      "1/1 [==============================] - 0s 1ms/step - loss: 2.4398 - root_mean_squared_error: 1.5620\n",
      "Epoch 173/200\n",
      "1/1 [==============================] - 0s 2ms/step - loss: 2.4322 - root_mean_squared_error: 1.5596\n",
      "Epoch 174/200\n",
      "1/1 [==============================] - 0s 1ms/step - loss: 2.4206 - root_mean_squared_error: 1.5558\n",
      "Epoch 175/200\n",
      "1/1 [==============================] - 0s 2ms/step - loss: 2.4080 - root_mean_squared_error: 1.5518\n",
      "Epoch 176/200\n",
      "1/1 [==============================] - 0s 1ms/step - loss: 2.3968 - root_mean_squared_error: 1.5482\n",
      "Epoch 177/200\n",
      "1/1 [==============================] - 0s 2ms/step - loss: 2.3892 - root_mean_squared_error: 1.5457\n",
      "Epoch 178/200\n",
      "1/1 [==============================] - 0s 1ms/step - loss: 2.3863 - root_mean_squared_error: 1.5448\n",
      "Epoch 179/200\n",
      "1/1 [==============================] - 0s 2ms/step - loss: 2.3881 - root_mean_squared_error: 1.5454\n",
      "Epoch 180/200\n",
      "1/1 [==============================] - 0s 2ms/step - loss: 2.3938 - root_mean_squared_error: 1.5472\n",
      "Epoch 181/200\n",
      "1/1 [==============================] - 0s 2ms/step - loss: 2.4020 - root_mean_squared_error: 1.5498\n",
      "Epoch 182/200\n",
      "1/1 [==============================] - 0s 2ms/step - loss: 2.4108 - root_mean_squared_error: 1.5527\n",
      "Epoch 183/200\n",
      "1/1 [==============================] - 0s 2ms/step - loss: 2.4183 - root_mean_squared_error: 1.5551\n",
      "Epoch 184/200\n",
      "1/1 [==============================] - 0s 2ms/step - loss: 2.4232 - root_mean_squared_error: 1.5567\n",
      "Epoch 185/200\n",
      "1/1 [==============================] - 0s 2ms/step - loss: 2.4248 - root_mean_squared_error: 1.5572\n",
      "Epoch 186/200\n",
      "1/1 [==============================] - 0s 1ms/step - loss: 2.4229 - root_mean_squared_error: 1.5566\n",
      "Epoch 187/200\n",
      "1/1 [==============================] - 0s 2ms/step - loss: 2.4184 - root_mean_squared_error: 1.5551\n",
      "Epoch 188/200\n",
      "1/1 [==============================] - 0s 2ms/step - loss: 2.4125 - root_mean_squared_error: 1.5532\n",
      "Epoch 189/200\n",
      "1/1 [==============================] - 0s 2ms/step - loss: 2.4064 - root_mean_squared_error: 1.5513\n",
      "Epoch 190/200\n",
      "1/1 [==============================] - 0s 2ms/step - loss: 2.4015 - root_mean_squared_error: 1.5497\n",
      "Epoch 191/200\n",
      "1/1 [==============================] - 0s 2ms/step - loss: 2.3985 - root_mean_squared_error: 1.5487\n",
      "Epoch 192/200\n",
      "1/1 [==============================] - 0s 2ms/step - loss: 2.3979 - root_mean_squared_error: 1.5485\n",
      "Epoch 193/200\n",
      "1/1 [==============================] - 0s 1ms/step - loss: 2.3995 - root_mean_squared_error: 1.5490\n",
      "Epoch 194/200\n",
      "1/1 [==============================] - 0s 2ms/step - loss: 2.4028 - root_mean_squared_error: 1.5501\n",
      "Epoch 195/200\n",
      "1/1 [==============================] - 0s 2ms/step - loss: 2.4070 - root_mean_squared_error: 1.5515\n",
      "Epoch 196/200\n",
      "1/1 [==============================] - 0s 2ms/step - loss: 2.4112 - root_mean_squared_error: 1.5528\n",
      "Epoch 197/200\n",
      "1/1 [==============================] - 0s 1ms/step - loss: 2.4145 - root_mean_squared_error: 1.5539\n",
      "Epoch 198/200\n",
      "1/1 [==============================] - 0s 2ms/step - loss: 2.4163 - root_mean_squared_error: 1.5544\n",
      "Epoch 199/200\n",
      "1/1 [==============================] - 0s 1ms/step - loss: 2.4165 - root_mean_squared_error: 1.5545\n",
      "Epoch 200/200\n",
      "1/1 [==============================] - 0s 2ms/step - loss: 2.4151 - root_mean_squared_error: 1.5541\n"
     ]
    }
   ],
   "source": [
    "my_model = create_model()\n",
    "my_model.compile(optimizer = tf.keras.optimizers.RMSprop(learning_rate = learning_rate),\n",
    "                 loss = 'mean_squared_error',\n",
    "                 metrics = tf.keras.metrics.RootMeanSquaredError())\n",
    "\n",
    "History = my_model.fit(x=my_feature,y=my_label,batch_size=batch_size,epochs=epochs)\n",
    "trained_weight = my_model.get_weights()[0]\n",
    "trained_bias = my_model.get_weights()[1]\n",
    "hist = pd.DataFrame(History.history)\n",
    "epochs_from_model = History.epoch\n",
    "rmse = History.history[\"root_mean_squared_error\"]"
   ]
  },
  {
   "cell_type": "code",
   "execution_count": 23,
   "id": "941a5df6",
   "metadata": {},
   "outputs": [
    {
     "data": {
      "application/vnd.plotly.v1+json": {
       "config": {
        "plotlyServerURL": "https://plot.ly"
       },
       "data": [
        {
         "mode": "markers",
         "name": "Original labels",
         "type": "scatter",
         "x": [
          1,
          2,
          3,
          4,
          5,
          6,
          7,
          8,
          9,
          10,
          11,
          12
         ],
         "y": [
          5,
          8.8,
          9.6,
          14.2,
          18.8,
          19.5,
          21.4,
          26.8,
          28.9,
          32,
          33.8,
          38.2
         ]
        },
        {
         "mode": "lines+markers",
         "name": "Predicted labels",
         "type": "scatter",
         "x": [
          1,
          2,
          3,
          4,
          5,
          6,
          7,
          8,
          9,
          10,
          11,
          12
         ],
         "y": [
          5.440256834030151,
          8.54985761642456,
          11.65945839881897,
          14.769059181213379,
          17.878659963607788,
          20.988260746002197,
          24.097861528396606,
          27.207462310791016,
          30.317063093185425,
          33.426663875579834,
          36.53626465797424,
          39.64586544036865
         ]
        }
       ],
       "layout": {
        "template": {
         "data": {
          "bar": [
           {
            "error_x": {
             "color": "#2a3f5f"
            },
            "error_y": {
             "color": "#2a3f5f"
            },
            "marker": {
             "line": {
              "color": "#E5ECF6",
              "width": 0.5
             },
             "pattern": {
              "fillmode": "overlay",
              "size": 10,
              "solidity": 0.2
             }
            },
            "type": "bar"
           }
          ],
          "barpolar": [
           {
            "marker": {
             "line": {
              "color": "#E5ECF6",
              "width": 0.5
             },
             "pattern": {
              "fillmode": "overlay",
              "size": 10,
              "solidity": 0.2
             }
            },
            "type": "barpolar"
           }
          ],
          "carpet": [
           {
            "aaxis": {
             "endlinecolor": "#2a3f5f",
             "gridcolor": "white",
             "linecolor": "white",
             "minorgridcolor": "white",
             "startlinecolor": "#2a3f5f"
            },
            "baxis": {
             "endlinecolor": "#2a3f5f",
             "gridcolor": "white",
             "linecolor": "white",
             "minorgridcolor": "white",
             "startlinecolor": "#2a3f5f"
            },
            "type": "carpet"
           }
          ],
          "choropleth": [
           {
            "colorbar": {
             "outlinewidth": 0,
             "ticks": ""
            },
            "type": "choropleth"
           }
          ],
          "contour": [
           {
            "colorbar": {
             "outlinewidth": 0,
             "ticks": ""
            },
            "colorscale": [
             [
              0,
              "#0d0887"
             ],
             [
              0.1111111111111111,
              "#46039f"
             ],
             [
              0.2222222222222222,
              "#7201a8"
             ],
             [
              0.3333333333333333,
              "#9c179e"
             ],
             [
              0.4444444444444444,
              "#bd3786"
             ],
             [
              0.5555555555555556,
              "#d8576b"
             ],
             [
              0.6666666666666666,
              "#ed7953"
             ],
             [
              0.7777777777777778,
              "#fb9f3a"
             ],
             [
              0.8888888888888888,
              "#fdca26"
             ],
             [
              1,
              "#f0f921"
             ]
            ],
            "type": "contour"
           }
          ],
          "contourcarpet": [
           {
            "colorbar": {
             "outlinewidth": 0,
             "ticks": ""
            },
            "type": "contourcarpet"
           }
          ],
          "heatmap": [
           {
            "colorbar": {
             "outlinewidth": 0,
             "ticks": ""
            },
            "colorscale": [
             [
              0,
              "#0d0887"
             ],
             [
              0.1111111111111111,
              "#46039f"
             ],
             [
              0.2222222222222222,
              "#7201a8"
             ],
             [
              0.3333333333333333,
              "#9c179e"
             ],
             [
              0.4444444444444444,
              "#bd3786"
             ],
             [
              0.5555555555555556,
              "#d8576b"
             ],
             [
              0.6666666666666666,
              "#ed7953"
             ],
             [
              0.7777777777777778,
              "#fb9f3a"
             ],
             [
              0.8888888888888888,
              "#fdca26"
             ],
             [
              1,
              "#f0f921"
             ]
            ],
            "type": "heatmap"
           }
          ],
          "heatmapgl": [
           {
            "colorbar": {
             "outlinewidth": 0,
             "ticks": ""
            },
            "colorscale": [
             [
              0,
              "#0d0887"
             ],
             [
              0.1111111111111111,
              "#46039f"
             ],
             [
              0.2222222222222222,
              "#7201a8"
             ],
             [
              0.3333333333333333,
              "#9c179e"
             ],
             [
              0.4444444444444444,
              "#bd3786"
             ],
             [
              0.5555555555555556,
              "#d8576b"
             ],
             [
              0.6666666666666666,
              "#ed7953"
             ],
             [
              0.7777777777777778,
              "#fb9f3a"
             ],
             [
              0.8888888888888888,
              "#fdca26"
             ],
             [
              1,
              "#f0f921"
             ]
            ],
            "type": "heatmapgl"
           }
          ],
          "histogram": [
           {
            "marker": {
             "pattern": {
              "fillmode": "overlay",
              "size": 10,
              "solidity": 0.2
             }
            },
            "type": "histogram"
           }
          ],
          "histogram2d": [
           {
            "colorbar": {
             "outlinewidth": 0,
             "ticks": ""
            },
            "colorscale": [
             [
              0,
              "#0d0887"
             ],
             [
              0.1111111111111111,
              "#46039f"
             ],
             [
              0.2222222222222222,
              "#7201a8"
             ],
             [
              0.3333333333333333,
              "#9c179e"
             ],
             [
              0.4444444444444444,
              "#bd3786"
             ],
             [
              0.5555555555555556,
              "#d8576b"
             ],
             [
              0.6666666666666666,
              "#ed7953"
             ],
             [
              0.7777777777777778,
              "#fb9f3a"
             ],
             [
              0.8888888888888888,
              "#fdca26"
             ],
             [
              1,
              "#f0f921"
             ]
            ],
            "type": "histogram2d"
           }
          ],
          "histogram2dcontour": [
           {
            "colorbar": {
             "outlinewidth": 0,
             "ticks": ""
            },
            "colorscale": [
             [
              0,
              "#0d0887"
             ],
             [
              0.1111111111111111,
              "#46039f"
             ],
             [
              0.2222222222222222,
              "#7201a8"
             ],
             [
              0.3333333333333333,
              "#9c179e"
             ],
             [
              0.4444444444444444,
              "#bd3786"
             ],
             [
              0.5555555555555556,
              "#d8576b"
             ],
             [
              0.6666666666666666,
              "#ed7953"
             ],
             [
              0.7777777777777778,
              "#fb9f3a"
             ],
             [
              0.8888888888888888,
              "#fdca26"
             ],
             [
              1,
              "#f0f921"
             ]
            ],
            "type": "histogram2dcontour"
           }
          ],
          "mesh3d": [
           {
            "colorbar": {
             "outlinewidth": 0,
             "ticks": ""
            },
            "type": "mesh3d"
           }
          ],
          "parcoords": [
           {
            "line": {
             "colorbar": {
              "outlinewidth": 0,
              "ticks": ""
             }
            },
            "type": "parcoords"
           }
          ],
          "pie": [
           {
            "automargin": true,
            "type": "pie"
           }
          ],
          "scatter": [
           {
            "fillpattern": {
             "fillmode": "overlay",
             "size": 10,
             "solidity": 0.2
            },
            "type": "scatter"
           }
          ],
          "scatter3d": [
           {
            "line": {
             "colorbar": {
              "outlinewidth": 0,
              "ticks": ""
             }
            },
            "marker": {
             "colorbar": {
              "outlinewidth": 0,
              "ticks": ""
             }
            },
            "type": "scatter3d"
           }
          ],
          "scattercarpet": [
           {
            "marker": {
             "colorbar": {
              "outlinewidth": 0,
              "ticks": ""
             }
            },
            "type": "scattercarpet"
           }
          ],
          "scattergeo": [
           {
            "marker": {
             "colorbar": {
              "outlinewidth": 0,
              "ticks": ""
             }
            },
            "type": "scattergeo"
           }
          ],
          "scattergl": [
           {
            "marker": {
             "colorbar": {
              "outlinewidth": 0,
              "ticks": ""
             }
            },
            "type": "scattergl"
           }
          ],
          "scattermapbox": [
           {
            "marker": {
             "colorbar": {
              "outlinewidth": 0,
              "ticks": ""
             }
            },
            "type": "scattermapbox"
           }
          ],
          "scatterpolar": [
           {
            "marker": {
             "colorbar": {
              "outlinewidth": 0,
              "ticks": ""
             }
            },
            "type": "scatterpolar"
           }
          ],
          "scatterpolargl": [
           {
            "marker": {
             "colorbar": {
              "outlinewidth": 0,
              "ticks": ""
             }
            },
            "type": "scatterpolargl"
           }
          ],
          "scatterternary": [
           {
            "marker": {
             "colorbar": {
              "outlinewidth": 0,
              "ticks": ""
             }
            },
            "type": "scatterternary"
           }
          ],
          "surface": [
           {
            "colorbar": {
             "outlinewidth": 0,
             "ticks": ""
            },
            "colorscale": [
             [
              0,
              "#0d0887"
             ],
             [
              0.1111111111111111,
              "#46039f"
             ],
             [
              0.2222222222222222,
              "#7201a8"
             ],
             [
              0.3333333333333333,
              "#9c179e"
             ],
             [
              0.4444444444444444,
              "#bd3786"
             ],
             [
              0.5555555555555556,
              "#d8576b"
             ],
             [
              0.6666666666666666,
              "#ed7953"
             ],
             [
              0.7777777777777778,
              "#fb9f3a"
             ],
             [
              0.8888888888888888,
              "#fdca26"
             ],
             [
              1,
              "#f0f921"
             ]
            ],
            "type": "surface"
           }
          ],
          "table": [
           {
            "cells": {
             "fill": {
              "color": "#EBF0F8"
             },
             "line": {
              "color": "white"
             }
            },
            "header": {
             "fill": {
              "color": "#C8D4E3"
             },
             "line": {
              "color": "white"
             }
            },
            "type": "table"
           }
          ]
         },
         "layout": {
          "annotationdefaults": {
           "arrowcolor": "#2a3f5f",
           "arrowhead": 0,
           "arrowwidth": 1
          },
          "autotypenumbers": "strict",
          "coloraxis": {
           "colorbar": {
            "outlinewidth": 0,
            "ticks": ""
           }
          },
          "colorscale": {
           "diverging": [
            [
             0,
             "#8e0152"
            ],
            [
             0.1,
             "#c51b7d"
            ],
            [
             0.2,
             "#de77ae"
            ],
            [
             0.3,
             "#f1b6da"
            ],
            [
             0.4,
             "#fde0ef"
            ],
            [
             0.5,
             "#f7f7f7"
            ],
            [
             0.6,
             "#e6f5d0"
            ],
            [
             0.7,
             "#b8e186"
            ],
            [
             0.8,
             "#7fbc41"
            ],
            [
             0.9,
             "#4d9221"
            ],
            [
             1,
             "#276419"
            ]
           ],
           "sequential": [
            [
             0,
             "#0d0887"
            ],
            [
             0.1111111111111111,
             "#46039f"
            ],
            [
             0.2222222222222222,
             "#7201a8"
            ],
            [
             0.3333333333333333,
             "#9c179e"
            ],
            [
             0.4444444444444444,
             "#bd3786"
            ],
            [
             0.5555555555555556,
             "#d8576b"
            ],
            [
             0.6666666666666666,
             "#ed7953"
            ],
            [
             0.7777777777777778,
             "#fb9f3a"
            ],
            [
             0.8888888888888888,
             "#fdca26"
            ],
            [
             1,
             "#f0f921"
            ]
           ],
           "sequentialminus": [
            [
             0,
             "#0d0887"
            ],
            [
             0.1111111111111111,
             "#46039f"
            ],
            [
             0.2222222222222222,
             "#7201a8"
            ],
            [
             0.3333333333333333,
             "#9c179e"
            ],
            [
             0.4444444444444444,
             "#bd3786"
            ],
            [
             0.5555555555555556,
             "#d8576b"
            ],
            [
             0.6666666666666666,
             "#ed7953"
            ],
            [
             0.7777777777777778,
             "#fb9f3a"
            ],
            [
             0.8888888888888888,
             "#fdca26"
            ],
            [
             1,
             "#f0f921"
            ]
           ]
          },
          "colorway": [
           "#636efa",
           "#EF553B",
           "#00cc96",
           "#ab63fa",
           "#FFA15A",
           "#19d3f3",
           "#FF6692",
           "#B6E880",
           "#FF97FF",
           "#FECB52"
          ],
          "font": {
           "color": "#2a3f5f"
          },
          "geo": {
           "bgcolor": "white",
           "lakecolor": "white",
           "landcolor": "#E5ECF6",
           "showlakes": true,
           "showland": true,
           "subunitcolor": "white"
          },
          "hoverlabel": {
           "align": "left"
          },
          "hovermode": "closest",
          "mapbox": {
           "style": "light"
          },
          "paper_bgcolor": "white",
          "plot_bgcolor": "#E5ECF6",
          "polar": {
           "angularaxis": {
            "gridcolor": "white",
            "linecolor": "white",
            "ticks": ""
           },
           "bgcolor": "#E5ECF6",
           "radialaxis": {
            "gridcolor": "white",
            "linecolor": "white",
            "ticks": ""
           }
          },
          "scene": {
           "xaxis": {
            "backgroundcolor": "#E5ECF6",
            "gridcolor": "white",
            "gridwidth": 2,
            "linecolor": "white",
            "showbackground": true,
            "ticks": "",
            "zerolinecolor": "white"
           },
           "yaxis": {
            "backgroundcolor": "#E5ECF6",
            "gridcolor": "white",
            "gridwidth": 2,
            "linecolor": "white",
            "showbackground": true,
            "ticks": "",
            "zerolinecolor": "white"
           },
           "zaxis": {
            "backgroundcolor": "#E5ECF6",
            "gridcolor": "white",
            "gridwidth": 2,
            "linecolor": "white",
            "showbackground": true,
            "ticks": "",
            "zerolinecolor": "white"
           }
          },
          "shapedefaults": {
           "line": {
            "color": "#2a3f5f"
           }
          },
          "ternary": {
           "aaxis": {
            "gridcolor": "white",
            "linecolor": "white",
            "ticks": ""
           },
           "baxis": {
            "gridcolor": "white",
            "linecolor": "white",
            "ticks": ""
           },
           "bgcolor": "#E5ECF6",
           "caxis": {
            "gridcolor": "white",
            "linecolor": "white",
            "ticks": ""
           }
          },
          "title": {
           "x": 0.05
          },
          "xaxis": {
           "automargin": true,
           "gridcolor": "white",
           "linecolor": "white",
           "ticks": "",
           "title": {
            "standoff": 15
           },
           "zerolinecolor": "white",
           "zerolinewidth": 2
          },
          "yaxis": {
           "automargin": true,
           "gridcolor": "white",
           "linecolor": "white",
           "ticks": "",
           "title": {
            "standoff": 15
           },
           "zerolinecolor": "white",
           "zerolinewidth": 2
          }
         }
        },
        "title": {
         "text": "Comparsion chart between predicted and original labels",
         "x": 0.5
        }
       }
      },
      "text/html": [
       "<div>                            <div id=\"b5cd513b-95fe-49aa-9c00-0b7c1781a178\" class=\"plotly-graph-div\" style=\"height:525px; width:100%;\"></div>            <script type=\"text/javascript\">                require([\"plotly\"], function(Plotly) {                    window.PLOTLYENV=window.PLOTLYENV || {};                                    if (document.getElementById(\"b5cd513b-95fe-49aa-9c00-0b7c1781a178\")) {                    Plotly.newPlot(                        \"b5cd513b-95fe-49aa-9c00-0b7c1781a178\",                        [{\"mode\":\"markers\",\"name\":\"Original labels\",\"x\":[1.0,2.0,3.0,4.0,5.0,6.0,7.0,8.0,9.0,10.0,11.0,12.0],\"y\":[5.0,8.8,9.6,14.2,18.8,19.5,21.4,26.8,28.9,32.0,33.8,38.2],\"type\":\"scatter\"},{\"mode\":\"lines+markers\",\"name\":\"Predicted labels\",\"x\":[1.0,2.0,3.0,4.0,5.0,6.0,7.0,8.0,9.0,10.0,11.0,12.0],\"y\":[5.440256834030151,8.54985761642456,11.65945839881897,14.769059181213379,17.878659963607788,20.988260746002197,24.097861528396606,27.207462310791016,30.317063093185425,33.426663875579834,36.53626465797424,39.64586544036865],\"type\":\"scatter\"}],                        {\"template\":{\"data\":{\"histogram2dcontour\":[{\"type\":\"histogram2dcontour\",\"colorbar\":{\"outlinewidth\":0,\"ticks\":\"\"},\"colorscale\":[[0.0,\"#0d0887\"],[0.1111111111111111,\"#46039f\"],[0.2222222222222222,\"#7201a8\"],[0.3333333333333333,\"#9c179e\"],[0.4444444444444444,\"#bd3786\"],[0.5555555555555556,\"#d8576b\"],[0.6666666666666666,\"#ed7953\"],[0.7777777777777778,\"#fb9f3a\"],[0.8888888888888888,\"#fdca26\"],[1.0,\"#f0f921\"]]}],\"choropleth\":[{\"type\":\"choropleth\",\"colorbar\":{\"outlinewidth\":0,\"ticks\":\"\"}}],\"histogram2d\":[{\"type\":\"histogram2d\",\"colorbar\":{\"outlinewidth\":0,\"ticks\":\"\"},\"colorscale\":[[0.0,\"#0d0887\"],[0.1111111111111111,\"#46039f\"],[0.2222222222222222,\"#7201a8\"],[0.3333333333333333,\"#9c179e\"],[0.4444444444444444,\"#bd3786\"],[0.5555555555555556,\"#d8576b\"],[0.6666666666666666,\"#ed7953\"],[0.7777777777777778,\"#fb9f3a\"],[0.8888888888888888,\"#fdca26\"],[1.0,\"#f0f921\"]]}],\"heatmap\":[{\"type\":\"heatmap\",\"colorbar\":{\"outlinewidth\":0,\"ticks\":\"\"},\"colorscale\":[[0.0,\"#0d0887\"],[0.1111111111111111,\"#46039f\"],[0.2222222222222222,\"#7201a8\"],[0.3333333333333333,\"#9c179e\"],[0.4444444444444444,\"#bd3786\"],[0.5555555555555556,\"#d8576b\"],[0.6666666666666666,\"#ed7953\"],[0.7777777777777778,\"#fb9f3a\"],[0.8888888888888888,\"#fdca26\"],[1.0,\"#f0f921\"]]}],\"heatmapgl\":[{\"type\":\"heatmapgl\",\"colorbar\":{\"outlinewidth\":0,\"ticks\":\"\"},\"colorscale\":[[0.0,\"#0d0887\"],[0.1111111111111111,\"#46039f\"],[0.2222222222222222,\"#7201a8\"],[0.3333333333333333,\"#9c179e\"],[0.4444444444444444,\"#bd3786\"],[0.5555555555555556,\"#d8576b\"],[0.6666666666666666,\"#ed7953\"],[0.7777777777777778,\"#fb9f3a\"],[0.8888888888888888,\"#fdca26\"],[1.0,\"#f0f921\"]]}],\"contourcarpet\":[{\"type\":\"contourcarpet\",\"colorbar\":{\"outlinewidth\":0,\"ticks\":\"\"}}],\"contour\":[{\"type\":\"contour\",\"colorbar\":{\"outlinewidth\":0,\"ticks\":\"\"},\"colorscale\":[[0.0,\"#0d0887\"],[0.1111111111111111,\"#46039f\"],[0.2222222222222222,\"#7201a8\"],[0.3333333333333333,\"#9c179e\"],[0.4444444444444444,\"#bd3786\"],[0.5555555555555556,\"#d8576b\"],[0.6666666666666666,\"#ed7953\"],[0.7777777777777778,\"#fb9f3a\"],[0.8888888888888888,\"#fdca26\"],[1.0,\"#f0f921\"]]}],\"surface\":[{\"type\":\"surface\",\"colorbar\":{\"outlinewidth\":0,\"ticks\":\"\"},\"colorscale\":[[0.0,\"#0d0887\"],[0.1111111111111111,\"#46039f\"],[0.2222222222222222,\"#7201a8\"],[0.3333333333333333,\"#9c179e\"],[0.4444444444444444,\"#bd3786\"],[0.5555555555555556,\"#d8576b\"],[0.6666666666666666,\"#ed7953\"],[0.7777777777777778,\"#fb9f3a\"],[0.8888888888888888,\"#fdca26\"],[1.0,\"#f0f921\"]]}],\"mesh3d\":[{\"type\":\"mesh3d\",\"colorbar\":{\"outlinewidth\":0,\"ticks\":\"\"}}],\"scatter\":[{\"fillpattern\":{\"fillmode\":\"overlay\",\"size\":10,\"solidity\":0.2},\"type\":\"scatter\"}],\"parcoords\":[{\"type\":\"parcoords\",\"line\":{\"colorbar\":{\"outlinewidth\":0,\"ticks\":\"\"}}}],\"scatterpolargl\":[{\"type\":\"scatterpolargl\",\"marker\":{\"colorbar\":{\"outlinewidth\":0,\"ticks\":\"\"}}}],\"bar\":[{\"error_x\":{\"color\":\"#2a3f5f\"},\"error_y\":{\"color\":\"#2a3f5f\"},\"marker\":{\"line\":{\"color\":\"#E5ECF6\",\"width\":0.5},\"pattern\":{\"fillmode\":\"overlay\",\"size\":10,\"solidity\":0.2}},\"type\":\"bar\"}],\"scattergeo\":[{\"type\":\"scattergeo\",\"marker\":{\"colorbar\":{\"outlinewidth\":0,\"ticks\":\"\"}}}],\"scatterpolar\":[{\"type\":\"scatterpolar\",\"marker\":{\"colorbar\":{\"outlinewidth\":0,\"ticks\":\"\"}}}],\"histogram\":[{\"marker\":{\"pattern\":{\"fillmode\":\"overlay\",\"size\":10,\"solidity\":0.2}},\"type\":\"histogram\"}],\"scattergl\":[{\"type\":\"scattergl\",\"marker\":{\"colorbar\":{\"outlinewidth\":0,\"ticks\":\"\"}}}],\"scatter3d\":[{\"type\":\"scatter3d\",\"line\":{\"colorbar\":{\"outlinewidth\":0,\"ticks\":\"\"}},\"marker\":{\"colorbar\":{\"outlinewidth\":0,\"ticks\":\"\"}}}],\"scattermapbox\":[{\"type\":\"scattermapbox\",\"marker\":{\"colorbar\":{\"outlinewidth\":0,\"ticks\":\"\"}}}],\"scatterternary\":[{\"type\":\"scatterternary\",\"marker\":{\"colorbar\":{\"outlinewidth\":0,\"ticks\":\"\"}}}],\"scattercarpet\":[{\"type\":\"scattercarpet\",\"marker\":{\"colorbar\":{\"outlinewidth\":0,\"ticks\":\"\"}}}],\"carpet\":[{\"aaxis\":{\"endlinecolor\":\"#2a3f5f\",\"gridcolor\":\"white\",\"linecolor\":\"white\",\"minorgridcolor\":\"white\",\"startlinecolor\":\"#2a3f5f\"},\"baxis\":{\"endlinecolor\":\"#2a3f5f\",\"gridcolor\":\"white\",\"linecolor\":\"white\",\"minorgridcolor\":\"white\",\"startlinecolor\":\"#2a3f5f\"},\"type\":\"carpet\"}],\"table\":[{\"cells\":{\"fill\":{\"color\":\"#EBF0F8\"},\"line\":{\"color\":\"white\"}},\"header\":{\"fill\":{\"color\":\"#C8D4E3\"},\"line\":{\"color\":\"white\"}},\"type\":\"table\"}],\"barpolar\":[{\"marker\":{\"line\":{\"color\":\"#E5ECF6\",\"width\":0.5},\"pattern\":{\"fillmode\":\"overlay\",\"size\":10,\"solidity\":0.2}},\"type\":\"barpolar\"}],\"pie\":[{\"automargin\":true,\"type\":\"pie\"}]},\"layout\":{\"autotypenumbers\":\"strict\",\"colorway\":[\"#636efa\",\"#EF553B\",\"#00cc96\",\"#ab63fa\",\"#FFA15A\",\"#19d3f3\",\"#FF6692\",\"#B6E880\",\"#FF97FF\",\"#FECB52\"],\"font\":{\"color\":\"#2a3f5f\"},\"hovermode\":\"closest\",\"hoverlabel\":{\"align\":\"left\"},\"paper_bgcolor\":\"white\",\"plot_bgcolor\":\"#E5ECF6\",\"polar\":{\"bgcolor\":\"#E5ECF6\",\"angularaxis\":{\"gridcolor\":\"white\",\"linecolor\":\"white\",\"ticks\":\"\"},\"radialaxis\":{\"gridcolor\":\"white\",\"linecolor\":\"white\",\"ticks\":\"\"}},\"ternary\":{\"bgcolor\":\"#E5ECF6\",\"aaxis\":{\"gridcolor\":\"white\",\"linecolor\":\"white\",\"ticks\":\"\"},\"baxis\":{\"gridcolor\":\"white\",\"linecolor\":\"white\",\"ticks\":\"\"},\"caxis\":{\"gridcolor\":\"white\",\"linecolor\":\"white\",\"ticks\":\"\"}},\"coloraxis\":{\"colorbar\":{\"outlinewidth\":0,\"ticks\":\"\"}},\"colorscale\":{\"sequential\":[[0.0,\"#0d0887\"],[0.1111111111111111,\"#46039f\"],[0.2222222222222222,\"#7201a8\"],[0.3333333333333333,\"#9c179e\"],[0.4444444444444444,\"#bd3786\"],[0.5555555555555556,\"#d8576b\"],[0.6666666666666666,\"#ed7953\"],[0.7777777777777778,\"#fb9f3a\"],[0.8888888888888888,\"#fdca26\"],[1.0,\"#f0f921\"]],\"sequentialminus\":[[0.0,\"#0d0887\"],[0.1111111111111111,\"#46039f\"],[0.2222222222222222,\"#7201a8\"],[0.3333333333333333,\"#9c179e\"],[0.4444444444444444,\"#bd3786\"],[0.5555555555555556,\"#d8576b\"],[0.6666666666666666,\"#ed7953\"],[0.7777777777777778,\"#fb9f3a\"],[0.8888888888888888,\"#fdca26\"],[1.0,\"#f0f921\"]],\"diverging\":[[0,\"#8e0152\"],[0.1,\"#c51b7d\"],[0.2,\"#de77ae\"],[0.3,\"#f1b6da\"],[0.4,\"#fde0ef\"],[0.5,\"#f7f7f7\"],[0.6,\"#e6f5d0\"],[0.7,\"#b8e186\"],[0.8,\"#7fbc41\"],[0.9,\"#4d9221\"],[1,\"#276419\"]]},\"xaxis\":{\"gridcolor\":\"white\",\"linecolor\":\"white\",\"ticks\":\"\",\"title\":{\"standoff\":15},\"zerolinecolor\":\"white\",\"automargin\":true,\"zerolinewidth\":2},\"yaxis\":{\"gridcolor\":\"white\",\"linecolor\":\"white\",\"ticks\":\"\",\"title\":{\"standoff\":15},\"zerolinecolor\":\"white\",\"automargin\":true,\"zerolinewidth\":2},\"scene\":{\"xaxis\":{\"backgroundcolor\":\"#E5ECF6\",\"gridcolor\":\"white\",\"linecolor\":\"white\",\"showbackground\":true,\"ticks\":\"\",\"zerolinecolor\":\"white\",\"gridwidth\":2},\"yaxis\":{\"backgroundcolor\":\"#E5ECF6\",\"gridcolor\":\"white\",\"linecolor\":\"white\",\"showbackground\":true,\"ticks\":\"\",\"zerolinecolor\":\"white\",\"gridwidth\":2},\"zaxis\":{\"backgroundcolor\":\"#E5ECF6\",\"gridcolor\":\"white\",\"linecolor\":\"white\",\"showbackground\":true,\"ticks\":\"\",\"zerolinecolor\":\"white\",\"gridwidth\":2}},\"shapedefaults\":{\"line\":{\"color\":\"#2a3f5f\"}},\"annotationdefaults\":{\"arrowcolor\":\"#2a3f5f\",\"arrowhead\":0,\"arrowwidth\":1},\"geo\":{\"bgcolor\":\"white\",\"landcolor\":\"#E5ECF6\",\"subunitcolor\":\"white\",\"showland\":true,\"showlakes\":true,\"lakecolor\":\"white\"},\"title\":{\"x\":0.05},\"mapbox\":{\"style\":\"light\"}}},\"title\":{\"text\":\"Comparsion chart between predicted and original labels\",\"x\":0.5}},                        {\"responsive\": true}                    ).then(function(){\n",
       "                            \n",
       "var gd = document.getElementById('b5cd513b-95fe-49aa-9c00-0b7c1781a178');\n",
       "var x = new MutationObserver(function (mutations, observer) {{\n",
       "        var display = window.getComputedStyle(gd).display;\n",
       "        if (!display || display === 'none') {{\n",
       "            console.log([gd, 'removed!']);\n",
       "            Plotly.purge(gd);\n",
       "            observer.disconnect();\n",
       "        }}\n",
       "}});\n",
       "\n",
       "// Listen for the removal of the full notebook cells\n",
       "var notebookContainer = gd.closest('#notebook-container');\n",
       "if (notebookContainer) {{\n",
       "    x.observe(notebookContainer, {childList: true});\n",
       "}}\n",
       "\n",
       "// Listen for the clearing of the current output cell\n",
       "var outputEl = gd.closest('.output');\n",
       "if (outputEl) {{\n",
       "    x.observe(outputEl, {childList: true});\n",
       "}}\n",
       "\n",
       "                        })                };                });            </script>        </div>"
      ]
     },
     "metadata": {},
     "output_type": "display_data"
    }
   ],
   "source": [
    "model_label_output = get_new_labels(trained_weight, trained_bias, my_feature)\n",
    "\n",
    "plot_original_and_predicted_label(my_feature, my_label, model_label_output)"
   ]
  },
  {
   "cell_type": "code",
   "execution_count": 24,
   "id": "c57e1b1a",
   "metadata": {},
   "outputs": [
    {
     "data": {
      "application/vnd.plotly.v1+json": {
       "config": {
        "plotlyServerURL": "https://plot.ly"
       },
       "data": [
        {
         "hovertemplate": "Epochs=%{x}<br>Error=%{y}<extra></extra>",
         "legendgroup": "",
         "line": {
          "color": "#636efa",
          "dash": "solid"
         },
         "marker": {
          "symbol": "circle"
         },
         "mode": "lines",
         "name": "",
         "orientation": "v",
         "showlegend": false,
         "type": "scatter",
         "x": [
          0,
          1,
          2,
          3,
          4,
          5,
          6,
          7,
          8,
          9,
          10,
          11,
          12,
          13,
          14,
          15,
          16,
          17,
          18,
          19,
          20,
          21,
          22,
          23,
          24,
          25,
          26,
          27,
          28,
          29,
          30,
          31,
          32,
          33,
          34,
          35,
          36,
          37,
          38,
          39,
          40,
          41,
          42,
          43,
          44,
          45,
          46,
          47,
          48,
          49,
          50,
          51,
          52,
          53,
          54,
          55,
          56,
          57,
          58,
          59,
          60,
          61,
          62,
          63,
          64,
          65,
          66,
          67,
          68,
          69,
          70,
          71,
          72,
          73,
          74,
          75,
          76,
          77,
          78,
          79,
          80,
          81,
          82,
          83,
          84,
          85,
          86,
          87,
          88,
          89,
          90,
          91,
          92,
          93,
          94,
          95,
          96,
          97,
          98,
          99,
          100,
          101,
          102,
          103,
          104,
          105,
          106,
          107,
          108,
          109,
          110,
          111,
          112,
          113,
          114,
          115,
          116,
          117,
          118,
          119,
          120,
          121,
          122,
          123,
          124,
          125,
          126,
          127,
          128,
          129,
          130,
          131,
          132,
          133,
          134,
          135,
          136,
          137,
          138,
          139,
          140,
          141,
          142,
          143,
          144,
          145,
          146,
          147,
          148,
          149,
          150,
          151,
          152,
          153,
          154,
          155,
          156,
          157,
          158,
          159,
          160,
          161,
          162,
          163,
          164,
          165,
          166,
          167,
          168,
          169,
          170,
          171,
          172,
          173,
          174,
          175,
          176,
          177,
          178,
          179,
          180,
          181,
          182,
          183,
          184,
          185,
          186,
          187,
          188,
          189,
          190,
          191,
          192,
          193,
          194,
          195,
          196,
          197,
          198,
          199
         ],
         "xaxis": "x",
         "y": [
          32.088218688964844,
          24.263219833374023,
          19.390779495239258,
          15.761619567871094,
          12.878703117370605,
          10.520207405090332,
          8.56480598449707,
          6.9371538162231445,
          5.585942268371582,
          4.473580837249756,
          3.570842981338501,
          2.853771448135376,
          2.3015291690826416,
          1.8942676782608032,
          1.6107436418533325,
          1.4266537427902222,
          1.3155912160873413,
          1.2527625560760498,
          1.2186275720596313,
          1.2000389099121094,
          1.1891934871673584,
          1.1818941831588745,
          1.1760550737380981,
          1.1707148551940918,
          1.1654598712921143,
          1.1601266860961914,
          1.154655933380127,
          1.14902925491333,
          1.1432428359985352,
          1.1372994184494019,
          1.1312029361724854,
          1.1249598264694214,
          1.1185771226882935,
          1.1120647192001343,
          1.1054309606552124,
          1.0986884832382202,
          1.0918501615524292,
          1.0849310159683228,
          1.0779474973678589,
          1.0709164142608643,
          1.0638576745986938,
          1.0567916631698608,
          1.0497406721115112,
          1.0427284240722656,
          1.035778284072876,
          1.0289160013198853,
          1.0221667289733887,
          1.0155572891235352,
          1.0091135501861572,
          1.0028599500656128,
          0.9968217015266418,
          0.9910219311714172,
          0.9854834079742432,
          0.9802244305610657,
          0.9752626419067383,
          0.9706121683120728,
          0.9662829637527466,
          0.9622837901115417,
          0.9586179256439209,
          0.9552847146987915,
          0.9522804617881775,
          0.9495981931686401,
          0.9472251534461975,
          0.945148766040802,
          0.9433521628379822,
          0.941830575466156,
          0.940712571144104,
          0.9417324662208557,
          0.9680284857749939,
          1.299616813659668,
          3.1738247871398926,
          3.913489818572998,
          2.3138482570648193,
          1.41353440284729,
          1.1010749340057373,
          1.00279700756073,
          0.9696848392486572,
          0.9573121070861816,
          0.9527397751808167,
          0.9521440863609314,
          0.9549692869186401,
          0.9629641175270081,
          0.9818297028541565,
          1.0271409749984741,
          1.139186978340149,
          1.4029419422149658,
          1.9000380039215088,
          2.4357471466064453,
          2.4863343238830566,
          2.082029342651367,
          1.6578649282455444,
          1.3816635608673096,
          1.2310947179794312,
          1.1565674543380737,
          1.1263738870620728,
          1.126460075378418,
          1.1547971963882446,
          1.2184858322143555,
          1.3315669298171997,
          1.506172776222229,
          1.7268052101135254,
          1.9194583892822266,
          1.9824382066726685,
          1.8919857740402222,
          1.7229477167129517,
          1.5576189756393433,
          1.433807373046875,
          1.3562215566635132,
          1.3183609247207642,
          1.313894271850586,
          1.339706540107727,
          1.394920825958252,
          1.4773073196411133,
          1.5774866342544556,
          1.6740667819976807,
          1.737572431564331,
          1.7468914985656738,
          1.7044281959533691,
          1.6323896646499634,
          1.5561777353286743,
          1.492928147315979,
          1.4503356218338013,
          1.4301913976669312,
          1.4316595792770386,
          1.4527029991149902,
          1.48989999294281,
          1.5373810529708862,
          1.5860971212387085,
          1.6249377727508545,
          1.6443350315093994,
          1.6405445337295532,
          1.6172034740447998,
          1.5829322338104248,
          1.547202229499817,
          1.5173771381378174,
          1.4978197813034058,
          1.4902946949005127,
          1.4946306943893433,
          1.509125828742981,
          1.5306838750839233,
          1.554960012435913,
          1.5769010782241821,
          1.591850757598877,
          1.5969080924987793,
          1.5918320417404175,
          1.5789252519607544,
          1.5620143413543701,
          1.5451456308364868,
          1.5316177606582642,
          1.5235271453857422,
          1.521704912185669,
          1.5258408784866333,
          1.5346555709838867,
          1.5461236238479614,
          1.5577991008758545,
          1.5672831535339355,
          1.5727559328079224,
          1.5734059810638428,
          1.5695797204971313,
          1.562575340270996,
          1.5542141199111938,
          1.5463404655456543,
          1.5404443740844727,
          1.5374356508255005,
          1.537582278251648,
          1.5405457019805908,
          1.5454972982406616,
          1.5512908697128296,
          1.5566972494125366,
          1.560653567314148,
          1.5624791383743286,
          1.5619995594024658,
          1.5595511198043823,
          1.555843710899353,
          1.5517653226852417,
          1.5481712818145752,
          1.5457179546356201,
          1.5447666645050049,
          1.545351505279541,
          1.5472055673599243,
          1.549843668937683,
          1.5526692867279053,
          1.5550966262817383,
          1.556674838066101,
          1.5571644306182861,
          1.556574821472168,
          1.5551338195800781,
          1.5532222986221313,
          1.5512731075286865,
          1.5496788024902344,
          1.5487174987792969,
          1.5485166311264038,
          1.5490391254425049,
          1.5501099824905396,
          1.5514628887176514,
          1.5528008937835693,
          1.5538573265075684,
          1.5544477701187134,
          1.5544975996017456,
          1.5540515184402466
         ],
         "yaxis": "y"
        }
       ],
       "layout": {
        "legend": {
         "tracegroupgap": 0
        },
        "margin": {
         "t": 60
        },
        "template": {
         "data": {
          "bar": [
           {
            "error_x": {
             "color": "#2a3f5f"
            },
            "error_y": {
             "color": "#2a3f5f"
            },
            "marker": {
             "line": {
              "color": "#E5ECF6",
              "width": 0.5
             },
             "pattern": {
              "fillmode": "overlay",
              "size": 10,
              "solidity": 0.2
             }
            },
            "type": "bar"
           }
          ],
          "barpolar": [
           {
            "marker": {
             "line": {
              "color": "#E5ECF6",
              "width": 0.5
             },
             "pattern": {
              "fillmode": "overlay",
              "size": 10,
              "solidity": 0.2
             }
            },
            "type": "barpolar"
           }
          ],
          "carpet": [
           {
            "aaxis": {
             "endlinecolor": "#2a3f5f",
             "gridcolor": "white",
             "linecolor": "white",
             "minorgridcolor": "white",
             "startlinecolor": "#2a3f5f"
            },
            "baxis": {
             "endlinecolor": "#2a3f5f",
             "gridcolor": "white",
             "linecolor": "white",
             "minorgridcolor": "white",
             "startlinecolor": "#2a3f5f"
            },
            "type": "carpet"
           }
          ],
          "choropleth": [
           {
            "colorbar": {
             "outlinewidth": 0,
             "ticks": ""
            },
            "type": "choropleth"
           }
          ],
          "contour": [
           {
            "colorbar": {
             "outlinewidth": 0,
             "ticks": ""
            },
            "colorscale": [
             [
              0,
              "#0d0887"
             ],
             [
              0.1111111111111111,
              "#46039f"
             ],
             [
              0.2222222222222222,
              "#7201a8"
             ],
             [
              0.3333333333333333,
              "#9c179e"
             ],
             [
              0.4444444444444444,
              "#bd3786"
             ],
             [
              0.5555555555555556,
              "#d8576b"
             ],
             [
              0.6666666666666666,
              "#ed7953"
             ],
             [
              0.7777777777777778,
              "#fb9f3a"
             ],
             [
              0.8888888888888888,
              "#fdca26"
             ],
             [
              1,
              "#f0f921"
             ]
            ],
            "type": "contour"
           }
          ],
          "contourcarpet": [
           {
            "colorbar": {
             "outlinewidth": 0,
             "ticks": ""
            },
            "type": "contourcarpet"
           }
          ],
          "heatmap": [
           {
            "colorbar": {
             "outlinewidth": 0,
             "ticks": ""
            },
            "colorscale": [
             [
              0,
              "#0d0887"
             ],
             [
              0.1111111111111111,
              "#46039f"
             ],
             [
              0.2222222222222222,
              "#7201a8"
             ],
             [
              0.3333333333333333,
              "#9c179e"
             ],
             [
              0.4444444444444444,
              "#bd3786"
             ],
             [
              0.5555555555555556,
              "#d8576b"
             ],
             [
              0.6666666666666666,
              "#ed7953"
             ],
             [
              0.7777777777777778,
              "#fb9f3a"
             ],
             [
              0.8888888888888888,
              "#fdca26"
             ],
             [
              1,
              "#f0f921"
             ]
            ],
            "type": "heatmap"
           }
          ],
          "heatmapgl": [
           {
            "colorbar": {
             "outlinewidth": 0,
             "ticks": ""
            },
            "colorscale": [
             [
              0,
              "#0d0887"
             ],
             [
              0.1111111111111111,
              "#46039f"
             ],
             [
              0.2222222222222222,
              "#7201a8"
             ],
             [
              0.3333333333333333,
              "#9c179e"
             ],
             [
              0.4444444444444444,
              "#bd3786"
             ],
             [
              0.5555555555555556,
              "#d8576b"
             ],
             [
              0.6666666666666666,
              "#ed7953"
             ],
             [
              0.7777777777777778,
              "#fb9f3a"
             ],
             [
              0.8888888888888888,
              "#fdca26"
             ],
             [
              1,
              "#f0f921"
             ]
            ],
            "type": "heatmapgl"
           }
          ],
          "histogram": [
           {
            "marker": {
             "pattern": {
              "fillmode": "overlay",
              "size": 10,
              "solidity": 0.2
             }
            },
            "type": "histogram"
           }
          ],
          "histogram2d": [
           {
            "colorbar": {
             "outlinewidth": 0,
             "ticks": ""
            },
            "colorscale": [
             [
              0,
              "#0d0887"
             ],
             [
              0.1111111111111111,
              "#46039f"
             ],
             [
              0.2222222222222222,
              "#7201a8"
             ],
             [
              0.3333333333333333,
              "#9c179e"
             ],
             [
              0.4444444444444444,
              "#bd3786"
             ],
             [
              0.5555555555555556,
              "#d8576b"
             ],
             [
              0.6666666666666666,
              "#ed7953"
             ],
             [
              0.7777777777777778,
              "#fb9f3a"
             ],
             [
              0.8888888888888888,
              "#fdca26"
             ],
             [
              1,
              "#f0f921"
             ]
            ],
            "type": "histogram2d"
           }
          ],
          "histogram2dcontour": [
           {
            "colorbar": {
             "outlinewidth": 0,
             "ticks": ""
            },
            "colorscale": [
             [
              0,
              "#0d0887"
             ],
             [
              0.1111111111111111,
              "#46039f"
             ],
             [
              0.2222222222222222,
              "#7201a8"
             ],
             [
              0.3333333333333333,
              "#9c179e"
             ],
             [
              0.4444444444444444,
              "#bd3786"
             ],
             [
              0.5555555555555556,
              "#d8576b"
             ],
             [
              0.6666666666666666,
              "#ed7953"
             ],
             [
              0.7777777777777778,
              "#fb9f3a"
             ],
             [
              0.8888888888888888,
              "#fdca26"
             ],
             [
              1,
              "#f0f921"
             ]
            ],
            "type": "histogram2dcontour"
           }
          ],
          "mesh3d": [
           {
            "colorbar": {
             "outlinewidth": 0,
             "ticks": ""
            },
            "type": "mesh3d"
           }
          ],
          "parcoords": [
           {
            "line": {
             "colorbar": {
              "outlinewidth": 0,
              "ticks": ""
             }
            },
            "type": "parcoords"
           }
          ],
          "pie": [
           {
            "automargin": true,
            "type": "pie"
           }
          ],
          "scatter": [
           {
            "fillpattern": {
             "fillmode": "overlay",
             "size": 10,
             "solidity": 0.2
            },
            "type": "scatter"
           }
          ],
          "scatter3d": [
           {
            "line": {
             "colorbar": {
              "outlinewidth": 0,
              "ticks": ""
             }
            },
            "marker": {
             "colorbar": {
              "outlinewidth": 0,
              "ticks": ""
             }
            },
            "type": "scatter3d"
           }
          ],
          "scattercarpet": [
           {
            "marker": {
             "colorbar": {
              "outlinewidth": 0,
              "ticks": ""
             }
            },
            "type": "scattercarpet"
           }
          ],
          "scattergeo": [
           {
            "marker": {
             "colorbar": {
              "outlinewidth": 0,
              "ticks": ""
             }
            },
            "type": "scattergeo"
           }
          ],
          "scattergl": [
           {
            "marker": {
             "colorbar": {
              "outlinewidth": 0,
              "ticks": ""
             }
            },
            "type": "scattergl"
           }
          ],
          "scattermapbox": [
           {
            "marker": {
             "colorbar": {
              "outlinewidth": 0,
              "ticks": ""
             }
            },
            "type": "scattermapbox"
           }
          ],
          "scatterpolar": [
           {
            "marker": {
             "colorbar": {
              "outlinewidth": 0,
              "ticks": ""
             }
            },
            "type": "scatterpolar"
           }
          ],
          "scatterpolargl": [
           {
            "marker": {
             "colorbar": {
              "outlinewidth": 0,
              "ticks": ""
             }
            },
            "type": "scatterpolargl"
           }
          ],
          "scatterternary": [
           {
            "marker": {
             "colorbar": {
              "outlinewidth": 0,
              "ticks": ""
             }
            },
            "type": "scatterternary"
           }
          ],
          "surface": [
           {
            "colorbar": {
             "outlinewidth": 0,
             "ticks": ""
            },
            "colorscale": [
             [
              0,
              "#0d0887"
             ],
             [
              0.1111111111111111,
              "#46039f"
             ],
             [
              0.2222222222222222,
              "#7201a8"
             ],
             [
              0.3333333333333333,
              "#9c179e"
             ],
             [
              0.4444444444444444,
              "#bd3786"
             ],
             [
              0.5555555555555556,
              "#d8576b"
             ],
             [
              0.6666666666666666,
              "#ed7953"
             ],
             [
              0.7777777777777778,
              "#fb9f3a"
             ],
             [
              0.8888888888888888,
              "#fdca26"
             ],
             [
              1,
              "#f0f921"
             ]
            ],
            "type": "surface"
           }
          ],
          "table": [
           {
            "cells": {
             "fill": {
              "color": "#EBF0F8"
             },
             "line": {
              "color": "white"
             }
            },
            "header": {
             "fill": {
              "color": "#C8D4E3"
             },
             "line": {
              "color": "white"
             }
            },
            "type": "table"
           }
          ]
         },
         "layout": {
          "annotationdefaults": {
           "arrowcolor": "#2a3f5f",
           "arrowhead": 0,
           "arrowwidth": 1
          },
          "autotypenumbers": "strict",
          "coloraxis": {
           "colorbar": {
            "outlinewidth": 0,
            "ticks": ""
           }
          },
          "colorscale": {
           "diverging": [
            [
             0,
             "#8e0152"
            ],
            [
             0.1,
             "#c51b7d"
            ],
            [
             0.2,
             "#de77ae"
            ],
            [
             0.3,
             "#f1b6da"
            ],
            [
             0.4,
             "#fde0ef"
            ],
            [
             0.5,
             "#f7f7f7"
            ],
            [
             0.6,
             "#e6f5d0"
            ],
            [
             0.7,
             "#b8e186"
            ],
            [
             0.8,
             "#7fbc41"
            ],
            [
             0.9,
             "#4d9221"
            ],
            [
             1,
             "#276419"
            ]
           ],
           "sequential": [
            [
             0,
             "#0d0887"
            ],
            [
             0.1111111111111111,
             "#46039f"
            ],
            [
             0.2222222222222222,
             "#7201a8"
            ],
            [
             0.3333333333333333,
             "#9c179e"
            ],
            [
             0.4444444444444444,
             "#bd3786"
            ],
            [
             0.5555555555555556,
             "#d8576b"
            ],
            [
             0.6666666666666666,
             "#ed7953"
            ],
            [
             0.7777777777777778,
             "#fb9f3a"
            ],
            [
             0.8888888888888888,
             "#fdca26"
            ],
            [
             1,
             "#f0f921"
            ]
           ],
           "sequentialminus": [
            [
             0,
             "#0d0887"
            ],
            [
             0.1111111111111111,
             "#46039f"
            ],
            [
             0.2222222222222222,
             "#7201a8"
            ],
            [
             0.3333333333333333,
             "#9c179e"
            ],
            [
             0.4444444444444444,
             "#bd3786"
            ],
            [
             0.5555555555555556,
             "#d8576b"
            ],
            [
             0.6666666666666666,
             "#ed7953"
            ],
            [
             0.7777777777777778,
             "#fb9f3a"
            ],
            [
             0.8888888888888888,
             "#fdca26"
            ],
            [
             1,
             "#f0f921"
            ]
           ]
          },
          "colorway": [
           "#636efa",
           "#EF553B",
           "#00cc96",
           "#ab63fa",
           "#FFA15A",
           "#19d3f3",
           "#FF6692",
           "#B6E880",
           "#FF97FF",
           "#FECB52"
          ],
          "font": {
           "color": "#2a3f5f"
          },
          "geo": {
           "bgcolor": "white",
           "lakecolor": "white",
           "landcolor": "#E5ECF6",
           "showlakes": true,
           "showland": true,
           "subunitcolor": "white"
          },
          "hoverlabel": {
           "align": "left"
          },
          "hovermode": "closest",
          "mapbox": {
           "style": "light"
          },
          "paper_bgcolor": "white",
          "plot_bgcolor": "#E5ECF6",
          "polar": {
           "angularaxis": {
            "gridcolor": "white",
            "linecolor": "white",
            "ticks": ""
           },
           "bgcolor": "#E5ECF6",
           "radialaxis": {
            "gridcolor": "white",
            "linecolor": "white",
            "ticks": ""
           }
          },
          "scene": {
           "xaxis": {
            "backgroundcolor": "#E5ECF6",
            "gridcolor": "white",
            "gridwidth": 2,
            "linecolor": "white",
            "showbackground": true,
            "ticks": "",
            "zerolinecolor": "white"
           },
           "yaxis": {
            "backgroundcolor": "#E5ECF6",
            "gridcolor": "white",
            "gridwidth": 2,
            "linecolor": "white",
            "showbackground": true,
            "ticks": "",
            "zerolinecolor": "white"
           },
           "zaxis": {
            "backgroundcolor": "#E5ECF6",
            "gridcolor": "white",
            "gridwidth": 2,
            "linecolor": "white",
            "showbackground": true,
            "ticks": "",
            "zerolinecolor": "white"
           }
          },
          "shapedefaults": {
           "line": {
            "color": "#2a3f5f"
           }
          },
          "ternary": {
           "aaxis": {
            "gridcolor": "white",
            "linecolor": "white",
            "ticks": ""
           },
           "baxis": {
            "gridcolor": "white",
            "linecolor": "white",
            "ticks": ""
           },
           "bgcolor": "#E5ECF6",
           "caxis": {
            "gridcolor": "white",
            "linecolor": "white",
            "ticks": ""
           }
          },
          "title": {
           "x": 0.05
          },
          "xaxis": {
           "automargin": true,
           "gridcolor": "white",
           "linecolor": "white",
           "ticks": "",
           "title": {
            "standoff": 15
           },
           "zerolinecolor": "white",
           "zerolinewidth": 2
          },
          "yaxis": {
           "automargin": true,
           "gridcolor": "white",
           "linecolor": "white",
           "ticks": "",
           "title": {
            "standoff": 15
           },
           "zerolinecolor": "white",
           "zerolinewidth": 2
          }
         }
        },
        "title": {
         "text": "Loss",
         "x": 0.5
        },
        "xaxis": {
         "anchor": "y",
         "domain": [
          0,
          1
         ],
         "title": {
          "text": "Epochs"
         }
        },
        "yaxis": {
         "anchor": "x",
         "domain": [
          0,
          1
         ],
         "title": {
          "text": "Error"
         }
        }
       }
      },
      "text/html": [
       "<div>                            <div id=\"20475352-7260-437c-87b9-0f5153bf29be\" class=\"plotly-graph-div\" style=\"height:525px; width:100%;\"></div>            <script type=\"text/javascript\">                require([\"plotly\"], function(Plotly) {                    window.PLOTLYENV=window.PLOTLYENV || {};                                    if (document.getElementById(\"20475352-7260-437c-87b9-0f5153bf29be\")) {                    Plotly.newPlot(                        \"20475352-7260-437c-87b9-0f5153bf29be\",                        [{\"hovertemplate\":\"Epochs=%{x}<br>Error=%{y}<extra></extra>\",\"legendgroup\":\"\",\"line\":{\"color\":\"#636efa\",\"dash\":\"solid\"},\"marker\":{\"symbol\":\"circle\"},\"mode\":\"lines\",\"name\":\"\",\"orientation\":\"v\",\"showlegend\":false,\"x\":[0,1,2,3,4,5,6,7,8,9,10,11,12,13,14,15,16,17,18,19,20,21,22,23,24,25,26,27,28,29,30,31,32,33,34,35,36,37,38,39,40,41,42,43,44,45,46,47,48,49,50,51,52,53,54,55,56,57,58,59,60,61,62,63,64,65,66,67,68,69,70,71,72,73,74,75,76,77,78,79,80,81,82,83,84,85,86,87,88,89,90,91,92,93,94,95,96,97,98,99,100,101,102,103,104,105,106,107,108,109,110,111,112,113,114,115,116,117,118,119,120,121,122,123,124,125,126,127,128,129,130,131,132,133,134,135,136,137,138,139,140,141,142,143,144,145,146,147,148,149,150,151,152,153,154,155,156,157,158,159,160,161,162,163,164,165,166,167,168,169,170,171,172,173,174,175,176,177,178,179,180,181,182,183,184,185,186,187,188,189,190,191,192,193,194,195,196,197,198,199],\"xaxis\":\"x\",\"y\":[32.088218688964844,24.263219833374023,19.390779495239258,15.761619567871094,12.878703117370605,10.520207405090332,8.56480598449707,6.9371538162231445,5.585942268371582,4.473580837249756,3.570842981338501,2.853771448135376,2.3015291690826416,1.8942676782608032,1.6107436418533325,1.4266537427902222,1.3155912160873413,1.2527625560760498,1.2186275720596313,1.2000389099121094,1.1891934871673584,1.1818941831588745,1.1760550737380981,1.1707148551940918,1.1654598712921143,1.1601266860961914,1.154655933380127,1.14902925491333,1.1432428359985352,1.1372994184494019,1.1312029361724854,1.1249598264694214,1.1185771226882935,1.1120647192001343,1.1054309606552124,1.0986884832382202,1.0918501615524292,1.0849310159683228,1.0779474973678589,1.0709164142608643,1.0638576745986938,1.0567916631698608,1.0497406721115112,1.0427284240722656,1.035778284072876,1.0289160013198853,1.0221667289733887,1.0155572891235352,1.0091135501861572,1.0028599500656128,0.9968217015266418,0.9910219311714172,0.9854834079742432,0.9802244305610657,0.9752626419067383,0.9706121683120728,0.9662829637527466,0.9622837901115417,0.9586179256439209,0.9552847146987915,0.9522804617881775,0.9495981931686401,0.9472251534461975,0.945148766040802,0.9433521628379822,0.941830575466156,0.940712571144104,0.9417324662208557,0.9680284857749939,1.299616813659668,3.1738247871398926,3.913489818572998,2.3138482570648193,1.41353440284729,1.1010749340057373,1.00279700756073,0.9696848392486572,0.9573121070861816,0.9527397751808167,0.9521440863609314,0.9549692869186401,0.9629641175270081,0.9818297028541565,1.0271409749984741,1.139186978340149,1.4029419422149658,1.9000380039215088,2.4357471466064453,2.4863343238830566,2.082029342651367,1.6578649282455444,1.3816635608673096,1.2310947179794312,1.1565674543380737,1.1263738870620728,1.126460075378418,1.1547971963882446,1.2184858322143555,1.3315669298171997,1.506172776222229,1.7268052101135254,1.9194583892822266,1.9824382066726685,1.8919857740402222,1.7229477167129517,1.5576189756393433,1.433807373046875,1.3562215566635132,1.3183609247207642,1.313894271850586,1.339706540107727,1.394920825958252,1.4773073196411133,1.5774866342544556,1.6740667819976807,1.737572431564331,1.7468914985656738,1.7044281959533691,1.6323896646499634,1.5561777353286743,1.492928147315979,1.4503356218338013,1.4301913976669312,1.4316595792770386,1.4527029991149902,1.48989999294281,1.5373810529708862,1.5860971212387085,1.6249377727508545,1.6443350315093994,1.6405445337295532,1.6172034740447998,1.5829322338104248,1.547202229499817,1.5173771381378174,1.4978197813034058,1.4902946949005127,1.4946306943893433,1.509125828742981,1.5306838750839233,1.554960012435913,1.5769010782241821,1.591850757598877,1.5969080924987793,1.5918320417404175,1.5789252519607544,1.5620143413543701,1.5451456308364868,1.5316177606582642,1.5235271453857422,1.521704912185669,1.5258408784866333,1.5346555709838867,1.5461236238479614,1.5577991008758545,1.5672831535339355,1.5727559328079224,1.5734059810638428,1.5695797204971313,1.562575340270996,1.5542141199111938,1.5463404655456543,1.5404443740844727,1.5374356508255005,1.537582278251648,1.5405457019805908,1.5454972982406616,1.5512908697128296,1.5566972494125366,1.560653567314148,1.5624791383743286,1.5619995594024658,1.5595511198043823,1.555843710899353,1.5517653226852417,1.5481712818145752,1.5457179546356201,1.5447666645050049,1.545351505279541,1.5472055673599243,1.549843668937683,1.5526692867279053,1.5550966262817383,1.556674838066101,1.5571644306182861,1.556574821472168,1.5551338195800781,1.5532222986221313,1.5512731075286865,1.5496788024902344,1.5487174987792969,1.5485166311264038,1.5490391254425049,1.5501099824905396,1.5514628887176514,1.5528008937835693,1.5538573265075684,1.5544477701187134,1.5544975996017456,1.5540515184402466],\"yaxis\":\"y\",\"type\":\"scatter\"}],                        {\"template\":{\"data\":{\"histogram2dcontour\":[{\"type\":\"histogram2dcontour\",\"colorbar\":{\"outlinewidth\":0,\"ticks\":\"\"},\"colorscale\":[[0.0,\"#0d0887\"],[0.1111111111111111,\"#46039f\"],[0.2222222222222222,\"#7201a8\"],[0.3333333333333333,\"#9c179e\"],[0.4444444444444444,\"#bd3786\"],[0.5555555555555556,\"#d8576b\"],[0.6666666666666666,\"#ed7953\"],[0.7777777777777778,\"#fb9f3a\"],[0.8888888888888888,\"#fdca26\"],[1.0,\"#f0f921\"]]}],\"choropleth\":[{\"type\":\"choropleth\",\"colorbar\":{\"outlinewidth\":0,\"ticks\":\"\"}}],\"histogram2d\":[{\"type\":\"histogram2d\",\"colorbar\":{\"outlinewidth\":0,\"ticks\":\"\"},\"colorscale\":[[0.0,\"#0d0887\"],[0.1111111111111111,\"#46039f\"],[0.2222222222222222,\"#7201a8\"],[0.3333333333333333,\"#9c179e\"],[0.4444444444444444,\"#bd3786\"],[0.5555555555555556,\"#d8576b\"],[0.6666666666666666,\"#ed7953\"],[0.7777777777777778,\"#fb9f3a\"],[0.8888888888888888,\"#fdca26\"],[1.0,\"#f0f921\"]]}],\"heatmap\":[{\"type\":\"heatmap\",\"colorbar\":{\"outlinewidth\":0,\"ticks\":\"\"},\"colorscale\":[[0.0,\"#0d0887\"],[0.1111111111111111,\"#46039f\"],[0.2222222222222222,\"#7201a8\"],[0.3333333333333333,\"#9c179e\"],[0.4444444444444444,\"#bd3786\"],[0.5555555555555556,\"#d8576b\"],[0.6666666666666666,\"#ed7953\"],[0.7777777777777778,\"#fb9f3a\"],[0.8888888888888888,\"#fdca26\"],[1.0,\"#f0f921\"]]}],\"heatmapgl\":[{\"type\":\"heatmapgl\",\"colorbar\":{\"outlinewidth\":0,\"ticks\":\"\"},\"colorscale\":[[0.0,\"#0d0887\"],[0.1111111111111111,\"#46039f\"],[0.2222222222222222,\"#7201a8\"],[0.3333333333333333,\"#9c179e\"],[0.4444444444444444,\"#bd3786\"],[0.5555555555555556,\"#d8576b\"],[0.6666666666666666,\"#ed7953\"],[0.7777777777777778,\"#fb9f3a\"],[0.8888888888888888,\"#fdca26\"],[1.0,\"#f0f921\"]]}],\"contourcarpet\":[{\"type\":\"contourcarpet\",\"colorbar\":{\"outlinewidth\":0,\"ticks\":\"\"}}],\"contour\":[{\"type\":\"contour\",\"colorbar\":{\"outlinewidth\":0,\"ticks\":\"\"},\"colorscale\":[[0.0,\"#0d0887\"],[0.1111111111111111,\"#46039f\"],[0.2222222222222222,\"#7201a8\"],[0.3333333333333333,\"#9c179e\"],[0.4444444444444444,\"#bd3786\"],[0.5555555555555556,\"#d8576b\"],[0.6666666666666666,\"#ed7953\"],[0.7777777777777778,\"#fb9f3a\"],[0.8888888888888888,\"#fdca26\"],[1.0,\"#f0f921\"]]}],\"surface\":[{\"type\":\"surface\",\"colorbar\":{\"outlinewidth\":0,\"ticks\":\"\"},\"colorscale\":[[0.0,\"#0d0887\"],[0.1111111111111111,\"#46039f\"],[0.2222222222222222,\"#7201a8\"],[0.3333333333333333,\"#9c179e\"],[0.4444444444444444,\"#bd3786\"],[0.5555555555555556,\"#d8576b\"],[0.6666666666666666,\"#ed7953\"],[0.7777777777777778,\"#fb9f3a\"],[0.8888888888888888,\"#fdca26\"],[1.0,\"#f0f921\"]]}],\"mesh3d\":[{\"type\":\"mesh3d\",\"colorbar\":{\"outlinewidth\":0,\"ticks\":\"\"}}],\"scatter\":[{\"fillpattern\":{\"fillmode\":\"overlay\",\"size\":10,\"solidity\":0.2},\"type\":\"scatter\"}],\"parcoords\":[{\"type\":\"parcoords\",\"line\":{\"colorbar\":{\"outlinewidth\":0,\"ticks\":\"\"}}}],\"scatterpolargl\":[{\"type\":\"scatterpolargl\",\"marker\":{\"colorbar\":{\"outlinewidth\":0,\"ticks\":\"\"}}}],\"bar\":[{\"error_x\":{\"color\":\"#2a3f5f\"},\"error_y\":{\"color\":\"#2a3f5f\"},\"marker\":{\"line\":{\"color\":\"#E5ECF6\",\"width\":0.5},\"pattern\":{\"fillmode\":\"overlay\",\"size\":10,\"solidity\":0.2}},\"type\":\"bar\"}],\"scattergeo\":[{\"type\":\"scattergeo\",\"marker\":{\"colorbar\":{\"outlinewidth\":0,\"ticks\":\"\"}}}],\"scatterpolar\":[{\"type\":\"scatterpolar\",\"marker\":{\"colorbar\":{\"outlinewidth\":0,\"ticks\":\"\"}}}],\"histogram\":[{\"marker\":{\"pattern\":{\"fillmode\":\"overlay\",\"size\":10,\"solidity\":0.2}},\"type\":\"histogram\"}],\"scattergl\":[{\"type\":\"scattergl\",\"marker\":{\"colorbar\":{\"outlinewidth\":0,\"ticks\":\"\"}}}],\"scatter3d\":[{\"type\":\"scatter3d\",\"line\":{\"colorbar\":{\"outlinewidth\":0,\"ticks\":\"\"}},\"marker\":{\"colorbar\":{\"outlinewidth\":0,\"ticks\":\"\"}}}],\"scattermapbox\":[{\"type\":\"scattermapbox\",\"marker\":{\"colorbar\":{\"outlinewidth\":0,\"ticks\":\"\"}}}],\"scatterternary\":[{\"type\":\"scatterternary\",\"marker\":{\"colorbar\":{\"outlinewidth\":0,\"ticks\":\"\"}}}],\"scattercarpet\":[{\"type\":\"scattercarpet\",\"marker\":{\"colorbar\":{\"outlinewidth\":0,\"ticks\":\"\"}}}],\"carpet\":[{\"aaxis\":{\"endlinecolor\":\"#2a3f5f\",\"gridcolor\":\"white\",\"linecolor\":\"white\",\"minorgridcolor\":\"white\",\"startlinecolor\":\"#2a3f5f\"},\"baxis\":{\"endlinecolor\":\"#2a3f5f\",\"gridcolor\":\"white\",\"linecolor\":\"white\",\"minorgridcolor\":\"white\",\"startlinecolor\":\"#2a3f5f\"},\"type\":\"carpet\"}],\"table\":[{\"cells\":{\"fill\":{\"color\":\"#EBF0F8\"},\"line\":{\"color\":\"white\"}},\"header\":{\"fill\":{\"color\":\"#C8D4E3\"},\"line\":{\"color\":\"white\"}},\"type\":\"table\"}],\"barpolar\":[{\"marker\":{\"line\":{\"color\":\"#E5ECF6\",\"width\":0.5},\"pattern\":{\"fillmode\":\"overlay\",\"size\":10,\"solidity\":0.2}},\"type\":\"barpolar\"}],\"pie\":[{\"automargin\":true,\"type\":\"pie\"}]},\"layout\":{\"autotypenumbers\":\"strict\",\"colorway\":[\"#636efa\",\"#EF553B\",\"#00cc96\",\"#ab63fa\",\"#FFA15A\",\"#19d3f3\",\"#FF6692\",\"#B6E880\",\"#FF97FF\",\"#FECB52\"],\"font\":{\"color\":\"#2a3f5f\"},\"hovermode\":\"closest\",\"hoverlabel\":{\"align\":\"left\"},\"paper_bgcolor\":\"white\",\"plot_bgcolor\":\"#E5ECF6\",\"polar\":{\"bgcolor\":\"#E5ECF6\",\"angularaxis\":{\"gridcolor\":\"white\",\"linecolor\":\"white\",\"ticks\":\"\"},\"radialaxis\":{\"gridcolor\":\"white\",\"linecolor\":\"white\",\"ticks\":\"\"}},\"ternary\":{\"bgcolor\":\"#E5ECF6\",\"aaxis\":{\"gridcolor\":\"white\",\"linecolor\":\"white\",\"ticks\":\"\"},\"baxis\":{\"gridcolor\":\"white\",\"linecolor\":\"white\",\"ticks\":\"\"},\"caxis\":{\"gridcolor\":\"white\",\"linecolor\":\"white\",\"ticks\":\"\"}},\"coloraxis\":{\"colorbar\":{\"outlinewidth\":0,\"ticks\":\"\"}},\"colorscale\":{\"sequential\":[[0.0,\"#0d0887\"],[0.1111111111111111,\"#46039f\"],[0.2222222222222222,\"#7201a8\"],[0.3333333333333333,\"#9c179e\"],[0.4444444444444444,\"#bd3786\"],[0.5555555555555556,\"#d8576b\"],[0.6666666666666666,\"#ed7953\"],[0.7777777777777778,\"#fb9f3a\"],[0.8888888888888888,\"#fdca26\"],[1.0,\"#f0f921\"]],\"sequentialminus\":[[0.0,\"#0d0887\"],[0.1111111111111111,\"#46039f\"],[0.2222222222222222,\"#7201a8\"],[0.3333333333333333,\"#9c179e\"],[0.4444444444444444,\"#bd3786\"],[0.5555555555555556,\"#d8576b\"],[0.6666666666666666,\"#ed7953\"],[0.7777777777777778,\"#fb9f3a\"],[0.8888888888888888,\"#fdca26\"],[1.0,\"#f0f921\"]],\"diverging\":[[0,\"#8e0152\"],[0.1,\"#c51b7d\"],[0.2,\"#de77ae\"],[0.3,\"#f1b6da\"],[0.4,\"#fde0ef\"],[0.5,\"#f7f7f7\"],[0.6,\"#e6f5d0\"],[0.7,\"#b8e186\"],[0.8,\"#7fbc41\"],[0.9,\"#4d9221\"],[1,\"#276419\"]]},\"xaxis\":{\"gridcolor\":\"white\",\"linecolor\":\"white\",\"ticks\":\"\",\"title\":{\"standoff\":15},\"zerolinecolor\":\"white\",\"automargin\":true,\"zerolinewidth\":2},\"yaxis\":{\"gridcolor\":\"white\",\"linecolor\":\"white\",\"ticks\":\"\",\"title\":{\"standoff\":15},\"zerolinecolor\":\"white\",\"automargin\":true,\"zerolinewidth\":2},\"scene\":{\"xaxis\":{\"backgroundcolor\":\"#E5ECF6\",\"gridcolor\":\"white\",\"linecolor\":\"white\",\"showbackground\":true,\"ticks\":\"\",\"zerolinecolor\":\"white\",\"gridwidth\":2},\"yaxis\":{\"backgroundcolor\":\"#E5ECF6\",\"gridcolor\":\"white\",\"linecolor\":\"white\",\"showbackground\":true,\"ticks\":\"\",\"zerolinecolor\":\"white\",\"gridwidth\":2},\"zaxis\":{\"backgroundcolor\":\"#E5ECF6\",\"gridcolor\":\"white\",\"linecolor\":\"white\",\"showbackground\":true,\"ticks\":\"\",\"zerolinecolor\":\"white\",\"gridwidth\":2}},\"shapedefaults\":{\"line\":{\"color\":\"#2a3f5f\"}},\"annotationdefaults\":{\"arrowcolor\":\"#2a3f5f\",\"arrowhead\":0,\"arrowwidth\":1},\"geo\":{\"bgcolor\":\"white\",\"landcolor\":\"#E5ECF6\",\"subunitcolor\":\"white\",\"showland\":true,\"showlakes\":true,\"lakecolor\":\"white\"},\"title\":{\"x\":0.05},\"mapbox\":{\"style\":\"light\"}}},\"xaxis\":{\"anchor\":\"y\",\"domain\":[0.0,1.0],\"title\":{\"text\":\"Epochs\"}},\"yaxis\":{\"anchor\":\"x\",\"domain\":[0.0,1.0],\"title\":{\"text\":\"Error\"}},\"legend\":{\"tracegroupgap\":0},\"margin\":{\"t\":60},\"title\":{\"text\":\"Loss\",\"x\":0.5}},                        {\"responsive\": true}                    ).then(function(){\n",
       "                            \n",
       "var gd = document.getElementById('20475352-7260-437c-87b9-0f5153bf29be');\n",
       "var x = new MutationObserver(function (mutations, observer) {{\n",
       "        var display = window.getComputedStyle(gd).display;\n",
       "        if (!display || display === 'none') {{\n",
       "            console.log([gd, 'removed!']);\n",
       "            Plotly.purge(gd);\n",
       "            observer.disconnect();\n",
       "        }}\n",
       "}});\n",
       "\n",
       "// Listen for the removal of the full notebook cells\n",
       "var notebookContainer = gd.closest('#notebook-container');\n",
       "if (notebookContainer) {{\n",
       "    x.observe(notebookContainer, {childList: true});\n",
       "}}\n",
       "\n",
       "// Listen for the clearing of the current output cell\n",
       "var outputEl = gd.closest('.output');\n",
       "if (outputEl) {{\n",
       "    x.observe(outputEl, {childList: true});\n",
       "}}\n",
       "\n",
       "                        })                };                });            </script>        </div>"
      ]
     },
     "metadata": {},
     "output_type": "display_data"
    }
   ],
   "source": [
    "plot_loss(epochs_from_model, rmse)"
   ]
  },
  {
   "cell_type": "markdown",
   "id": "4bdac868",
   "metadata": {},
   "source": [
    "#### Vemos que el loss, tiene altos y bajos antes de estabilizarse. Si lo trasladamos a la curva del gradiente descendiente, sabemos que estos altibajos, son en realidad que el lerning rate es lo suficientemente alto como para  que el valor pase de un lado de la curva al otro "
   ]
  },
  {
   "cell_type": "markdown",
   "id": "67537c5a",
   "metadata": {},
   "source": [
    "<br>"
   ]
  },
  {
   "cell_type": "markdown",
   "id": "4d2f92ea",
   "metadata": {},
   "source": [
    "### Reduzcamos el batch_size:"
   ]
  },
  {
   "cell_type": "code",
   "execution_count": 25,
   "id": "ac8e939c",
   "metadata": {},
   "outputs": [],
   "source": [
    "learning_rate = 0.05 #que tan rapido se disminuye el error.\n",
    "epochs = 300#Cantidad de veces que se va a ver el bach de dataset\n",
    "batch_size = 6"
   ]
  },
  {
   "cell_type": "code",
   "execution_count": 26,
   "id": "ffa948cc",
   "metadata": {},
   "outputs": [
    {
     "name": "stdout",
     "output_type": "stream",
     "text": [
      "Epoch 1/300\n",
      "2/2 [==============================] - 0s 1ms/step - loss: 719.1164 - root_mean_squared_error: 26.8163\n",
      "Epoch 2/300\n",
      "2/2 [==============================] - 0s 898us/step - loss: 621.2567 - root_mean_squared_error: 24.9250\n",
      "Epoch 3/300\n",
      "2/2 [==============================] - 0s 1ms/step - loss: 556.4400 - root_mean_squared_error: 23.5890\n",
      "Epoch 4/300\n",
      "2/2 [==============================] - 0s 872us/step - loss: 504.5598 - root_mean_squared_error: 22.4624\n",
      "Epoch 5/300\n",
      "2/2 [==============================] - 0s 946us/step - loss: 461.2827 - root_mean_squared_error: 21.4775\n",
      "Epoch 6/300\n",
      "2/2 [==============================] - 0s 1ms/step - loss: 423.4740 - root_mean_squared_error: 20.5785\n",
      "Epoch 7/300\n",
      "2/2 [==============================] - 0s 865us/step - loss: 389.1849 - root_mean_squared_error: 19.7278\n",
      "Epoch 8/300\n",
      "2/2 [==============================] - 0s 1ms/step - loss: 357.6471 - root_mean_squared_error: 18.9116\n",
      "Epoch 9/300\n",
      "2/2 [==============================] - 0s 946us/step - loss: 327.9587 - root_mean_squared_error: 18.1096\n",
      "Epoch 10/300\n",
      "2/2 [==============================] - 0s 829us/step - loss: 301.1060 - root_mean_squared_error: 17.3524\n",
      "Epoch 11/300\n",
      "2/2 [==============================] - 0s 839us/step - loss: 275.9560 - root_mean_squared_error: 16.6119\n",
      "Epoch 12/300\n",
      "2/2 [==============================] - 0s 774us/step - loss: 252.4108 - root_mean_squared_error: 15.8874\n",
      "Epoch 13/300\n",
      "2/2 [==============================] - 0s 839us/step - loss: 230.1921 - root_mean_squared_error: 15.1721\n",
      "Epoch 14/300\n",
      "2/2 [==============================] - 0s 917us/step - loss: 209.8379 - root_mean_squared_error: 14.4858\n",
      "Epoch 15/300\n",
      "2/2 [==============================] - 0s 839us/step - loss: 190.6235 - root_mean_squared_error: 13.8066\n",
      "Epoch 16/300\n",
      "2/2 [==============================] - 0s 851us/step - loss: 172.4754 - root_mean_squared_error: 13.1330\n",
      "Epoch 17/300\n",
      "2/2 [==============================] - 0s 2ms/step - loss: 155.8917 - root_mean_squared_error: 12.4857\n",
      "Epoch 18/300\n",
      "2/2 [==============================] - 0s 999us/step - loss: 139.5890 - root_mean_squared_error: 11.8148\n",
      "Epoch 19/300\n",
      "2/2 [==============================] - 0s 806us/step - loss: 124.8286 - root_mean_squared_error: 11.1727\n",
      "Epoch 20/300\n",
      "2/2 [==============================] - 0s 849us/step - loss: 111.1418 - root_mean_squared_error: 10.5424\n",
      "Epoch 21/300\n",
      "2/2 [==============================] - 0s 739us/step - loss: 98.8149 - root_mean_squared_error: 9.9406\n",
      "Epoch 22/300\n",
      "2/2 [==============================] - 0s 941us/step - loss: 86.9562 - root_mean_squared_error: 9.3250\n",
      "Epoch 23/300\n",
      "2/2 [==============================] - 0s 848us/step - loss: 76.0043 - root_mean_squared_error: 8.7180\n",
      "Epoch 24/300\n",
      "2/2 [==============================] - 0s 892us/step - loss: 66.6431 - root_mean_squared_error: 8.1635\n",
      "Epoch 25/300\n",
      "2/2 [==============================] - 0s 995us/step - loss: 57.0901 - root_mean_squared_error: 7.5558\n",
      "Epoch 26/300\n",
      "2/2 [==============================] - 0s 1ms/step - loss: 48.9699 - root_mean_squared_error: 6.9979\n",
      "Epoch 27/300\n",
      "2/2 [==============================] - 0s 862us/step - loss: 41.8078 - root_mean_squared_error: 6.4659\n",
      "Epoch 28/300\n",
      "2/2 [==============================] - 0s 833us/step - loss: 35.1584 - root_mean_squared_error: 5.9295\n",
      "Epoch 29/300\n",
      "2/2 [==============================] - 0s 845us/step - loss: 29.3553 - root_mean_squared_error: 5.4181\n",
      "Epoch 30/300\n",
      "2/2 [==============================] - 0s 837us/step - loss: 24.2253 - root_mean_squared_error: 4.9219\n",
      "Epoch 31/300\n",
      "2/2 [==============================] - 0s 881us/step - loss: 19.7196 - root_mean_squared_error: 4.4407\n",
      "Epoch 32/300\n",
      "2/2 [==============================] - 0s 818us/step - loss: 15.8920 - root_mean_squared_error: 3.9865\n",
      "Epoch 33/300\n",
      "2/2 [==============================] - 0s 855us/step - loss: 12.6393 - root_mean_squared_error: 3.5552\n",
      "Epoch 34/300\n",
      "2/2 [==============================] - 0s 798us/step - loss: 9.9512 - root_mean_squared_error: 3.1546\n",
      "Epoch 35/300\n",
      "2/2 [==============================] - 0s 1ms/step - loss: 7.7484 - root_mean_squared_error: 2.7836\n",
      "Epoch 36/300\n",
      "2/2 [==============================] - 0s 943us/step - loss: 5.8706 - root_mean_squared_error: 2.4229\n",
      "Epoch 37/300\n",
      "2/2 [==============================] - 0s 842us/step - loss: 4.4899 - root_mean_squared_error: 2.1189\n",
      "Epoch 38/300\n",
      "2/2 [==============================] - 0s 906us/step - loss: 3.4566 - root_mean_squared_error: 1.8592\n",
      "Epoch 39/300\n",
      "2/2 [==============================] - 0s 860us/step - loss: 2.6662 - root_mean_squared_error: 1.6329\n",
      "Epoch 40/300\n",
      "2/2 [==============================] - 0s 722us/step - loss: 2.1242 - root_mean_squared_error: 1.4575\n",
      "Epoch 41/300\n",
      "2/2 [==============================] - 0s 854us/step - loss: 1.7518 - root_mean_squared_error: 1.3236\n",
      "Epoch 42/300\n",
      "2/2 [==============================] - 0s 846us/step - loss: 1.4823 - root_mean_squared_error: 1.2175\n",
      "Epoch 43/300\n",
      "2/2 [==============================] - 0s 862us/step - loss: 1.3370 - root_mean_squared_error: 1.1563\n",
      "Epoch 44/300\n",
      "2/2 [==============================] - 0s 805us/step - loss: 1.2318 - root_mean_squared_error: 1.1099\n",
      "Epoch 45/300\n",
      "2/2 [==============================] - 0s 807us/step - loss: 1.1796 - root_mean_squared_error: 1.0861\n",
      "Epoch 46/300\n",
      "2/2 [==============================] - 0s 864us/step - loss: 1.1782 - root_mean_squared_error: 1.0854\n",
      "Epoch 47/300\n",
      "2/2 [==============================] - 0s 859us/step - loss: 1.1329 - root_mean_squared_error: 1.0644\n",
      "Epoch 48/300\n",
      "2/2 [==============================] - 0s 775us/step - loss: 1.1733 - root_mean_squared_error: 1.0832\n",
      "Epoch 49/300\n",
      "2/2 [==============================] - 0s 790us/step - loss: 1.1887 - root_mean_squared_error: 1.0903\n",
      "Epoch 50/300\n",
      "2/2 [==============================] - 0s 835us/step - loss: 1.1382 - root_mean_squared_error: 1.0669\n",
      "Epoch 51/300\n",
      "2/2 [==============================] - 0s 973us/step - loss: 1.1058 - root_mean_squared_error: 1.0516\n",
      "Epoch 52/300\n",
      "2/2 [==============================] - 0s 859us/step - loss: 1.2847 - root_mean_squared_error: 1.1335\n",
      "Epoch 53/300\n",
      "2/2 [==============================] - 0s 803us/step - loss: 1.1205 - root_mean_squared_error: 1.0586\n",
      "Epoch 54/300\n",
      "2/2 [==============================] - 0s 824us/step - loss: 1.1321 - root_mean_squared_error: 1.0640\n",
      "Epoch 55/300\n",
      "2/2 [==============================] - 0s 774us/step - loss: 1.0763 - root_mean_squared_error: 1.0374\n",
      "Epoch 56/300\n",
      "2/2 [==============================] - 0s 802us/step - loss: 1.0555 - root_mean_squared_error: 1.0274\n",
      "Epoch 57/300\n",
      "2/2 [==============================] - 0s 909us/step - loss: 1.0642 - root_mean_squared_error: 1.0316\n",
      "Epoch 58/300\n",
      "2/2 [==============================] - 0s 854us/step - loss: 1.1611 - root_mean_squared_error: 1.0775\n",
      "Epoch 59/300\n",
      "2/2 [==============================] - 0s 1ms/step - loss: 1.0643 - root_mean_squared_error: 1.0317\n",
      "Epoch 60/300\n",
      "2/2 [==============================] - 0s 1ms/step - loss: 1.0165 - root_mean_squared_error: 1.0082\n",
      "Epoch 61/300\n",
      "2/2 [==============================] - 0s 891us/step - loss: 1.0768 - root_mean_squared_error: 1.0377\n",
      "Epoch 62/300\n",
      "2/2 [==============================] - 0s 931us/step - loss: 1.0311 - root_mean_squared_error: 1.0155\n",
      "Epoch 63/300\n",
      "2/2 [==============================] - 0s 785us/step - loss: 1.0902 - root_mean_squared_error: 1.0441\n",
      "Epoch 64/300\n",
      "2/2 [==============================] - 0s 919us/step - loss: 1.0872 - root_mean_squared_error: 1.0427\n",
      "Epoch 65/300\n",
      "2/2 [==============================] - 0s 1ms/step - loss: 1.0456 - root_mean_squared_error: 1.0225\n",
      "Epoch 66/300\n",
      "2/2 [==============================] - 0s 684us/step - loss: 1.1915 - root_mean_squared_error: 1.0916\n",
      "Epoch 67/300\n",
      "2/2 [==============================] - 0s 879us/step - loss: 0.9901 - root_mean_squared_error: 0.9950\n",
      "Epoch 68/300\n",
      "2/2 [==============================] - 0s 702us/step - loss: 1.0615 - root_mean_squared_error: 1.0303\n",
      "Epoch 69/300\n",
      "2/2 [==============================] - 0s 1ms/step - loss: 0.9999 - root_mean_squared_error: 1.0000\n",
      "Epoch 70/300\n",
      "2/2 [==============================] - 0s 1ms/step - loss: 1.0105 - root_mean_squared_error: 1.0052\n",
      "Epoch 71/300\n"
     ]
    },
    {
     "name": "stdout",
     "output_type": "stream",
     "text": [
      "2/2 [==============================] - 0s 844us/step - loss: 1.0132 - root_mean_squared_error: 1.0066\n",
      "Epoch 72/300\n",
      "2/2 [==============================] - 0s 836us/step - loss: 1.1693 - root_mean_squared_error: 1.0814\n",
      "Epoch 73/300\n",
      "2/2 [==============================] - 0s 910us/step - loss: 0.9506 - root_mean_squared_error: 0.9750\n",
      "Epoch 74/300\n",
      "2/2 [==============================] - 0s 834us/step - loss: 0.9529 - root_mean_squared_error: 0.9761\n",
      "Epoch 75/300\n",
      "2/2 [==============================] - 0s 1ms/step - loss: 1.0140 - root_mean_squared_error: 1.0070\n",
      "Epoch 76/300\n",
      "2/2 [==============================] - 0s 702us/step - loss: 1.1932 - root_mean_squared_error: 1.0924\n",
      "Epoch 77/300\n",
      "2/2 [==============================] - 0s 814us/step - loss: 0.9294 - root_mean_squared_error: 0.9640\n",
      "Epoch 78/300\n",
      "2/2 [==============================] - 0s 890us/step - loss: 1.2230 - root_mean_squared_error: 1.1059\n",
      "Epoch 79/300\n",
      "2/2 [==============================] - 0s 751us/step - loss: 1.0549 - root_mean_squared_error: 1.0271\n",
      "Epoch 80/300\n",
      "2/2 [==============================] - 0s 796us/step - loss: 0.9068 - root_mean_squared_error: 0.9522\n",
      "Epoch 81/300\n",
      "2/2 [==============================] - 0s 822us/step - loss: 1.0503 - root_mean_squared_error: 1.0248\n",
      "Epoch 82/300\n",
      "2/2 [==============================] - 0s 1ms/step - loss: 0.9369 - root_mean_squared_error: 0.9679\n",
      "Epoch 83/300\n",
      "2/2 [==============================] - 0s 829us/step - loss: 1.0087 - root_mean_squared_error: 1.0043\n",
      "Epoch 84/300\n",
      "2/2 [==============================] - 0s 849us/step - loss: 1.1267 - root_mean_squared_error: 1.0615\n",
      "Epoch 85/300\n",
      "2/2 [==============================] - 0s 791us/step - loss: 1.1123 - root_mean_squared_error: 1.0547\n",
      "Epoch 86/300\n",
      "2/2 [==============================] - 0s 799us/step - loss: 0.9007 - root_mean_squared_error: 0.9490\n",
      "Epoch 87/300\n",
      "2/2 [==============================] - 0s 923us/step - loss: 0.8933 - root_mean_squared_error: 0.9451\n",
      "Epoch 88/300\n",
      "2/2 [==============================] - 0s 829us/step - loss: 0.9668 - root_mean_squared_error: 0.9833\n",
      "Epoch 89/300\n",
      "2/2 [==============================] - 0s 809us/step - loss: 0.9046 - root_mean_squared_error: 0.9511\n",
      "Epoch 90/300\n",
      "2/2 [==============================] - 0s 857us/step - loss: 1.3156 - root_mean_squared_error: 1.1470\n",
      "Epoch 91/300\n",
      "2/2 [==============================] - 0s 1ms/step - loss: 1.0178 - root_mean_squared_error: 1.0088\n",
      "Epoch 92/300\n",
      "2/2 [==============================] - 0s 833us/step - loss: 1.1043 - root_mean_squared_error: 1.0509\n",
      "Epoch 93/300\n",
      "2/2 [==============================] - 0s 842us/step - loss: 0.9590 - root_mean_squared_error: 0.9793\n",
      "Epoch 94/300\n",
      "2/2 [==============================] - 0s 719us/step - loss: 0.9418 - root_mean_squared_error: 0.9705\n",
      "Epoch 95/300\n",
      "2/2 [==============================] - 0s 962us/step - loss: 0.8900 - root_mean_squared_error: 0.9434\n",
      "Epoch 96/300\n",
      "2/2 [==============================] - 0s 992us/step - loss: 1.0927 - root_mean_squared_error: 1.0453\n",
      "Epoch 97/300\n",
      "2/2 [==============================] - 0s 911us/step - loss: 1.1051 - root_mean_squared_error: 1.0512\n",
      "Epoch 98/300\n",
      "2/2 [==============================] - 0s 817us/step - loss: 1.1231 - root_mean_squared_error: 1.0597\n",
      "Epoch 99/300\n",
      "2/2 [==============================] - 0s 1ms/step - loss: 0.9109 - root_mean_squared_error: 0.9544\n",
      "Epoch 100/300\n",
      "2/2 [==============================] - 0s 807us/step - loss: 0.9555 - root_mean_squared_error: 0.9775\n",
      "Epoch 101/300\n",
      "2/2 [==============================] - 0s 992us/step - loss: 0.9558 - root_mean_squared_error: 0.9776\n",
      "Epoch 102/300\n",
      "2/2 [==============================] - 0s 859us/step - loss: 1.3305 - root_mean_squared_error: 1.1535\n",
      "Epoch 103/300\n",
      "2/2 [==============================] - 0s 1ms/step - loss: 1.0424 - root_mean_squared_error: 1.0210\n",
      "Epoch 104/300\n",
      "2/2 [==============================] - 0s 803us/step - loss: 0.9292 - root_mean_squared_error: 0.9640\n",
      "Epoch 105/300\n",
      "2/2 [==============================] - 0s 920us/step - loss: 0.9013 - root_mean_squared_error: 0.9494\n",
      "Epoch 106/300\n",
      "2/2 [==============================] - 0s 766us/step - loss: 0.8893 - root_mean_squared_error: 0.9430\n",
      "Epoch 107/300\n",
      "2/2 [==============================] - 0s 920us/step - loss: 0.9112 - root_mean_squared_error: 0.9546\n",
      "Epoch 108/300\n",
      "2/2 [==============================] - 0s 1ms/step - loss: 1.0177 - root_mean_squared_error: 1.0088\n",
      "Epoch 109/300\n",
      "2/2 [==============================] - 0s 881us/step - loss: 0.9080 - root_mean_squared_error: 0.9529\n",
      "Epoch 110/300\n",
      "2/2 [==============================] - 0s 946us/step - loss: 1.2976 - root_mean_squared_error: 1.1391\n",
      "Epoch 111/300\n",
      "2/2 [==============================] - 0s 964us/step - loss: 0.9347 - root_mean_squared_error: 0.9668\n",
      "Epoch 112/300\n",
      "2/2 [==============================] - 0s 829us/step - loss: 0.9408 - root_mean_squared_error: 0.9700\n",
      "Epoch 113/300\n",
      "2/2 [==============================] - 0s 708us/step - loss: 0.9932 - root_mean_squared_error: 0.9966\n",
      "Epoch 114/300\n",
      "2/2 [==============================] - 0s 728us/step - loss: 0.9451 - root_mean_squared_error: 0.9721\n",
      "Epoch 115/300\n",
      "2/2 [==============================] - 0s 876us/step - loss: 0.9038 - root_mean_squared_error: 0.9507\n",
      "Epoch 116/300\n",
      "2/2 [==============================] - 0s 821us/step - loss: 1.0728 - root_mean_squared_error: 1.0357\n",
      "Epoch 117/300\n",
      "2/2 [==============================] - 0s 934us/step - loss: 0.9789 - root_mean_squared_error: 0.9894\n",
      "Epoch 118/300\n",
      "2/2 [==============================] - 0s 876us/step - loss: 0.9589 - root_mean_squared_error: 0.9792\n",
      "Epoch 119/300\n",
      "2/2 [==============================] - 0s 807us/step - loss: 1.0396 - root_mean_squared_error: 1.0196\n",
      "Epoch 120/300\n",
      "2/2 [==============================] - 0s 799us/step - loss: 0.8912 - root_mean_squared_error: 0.9440\n",
      "Epoch 121/300\n",
      "2/2 [==============================] - 0s 816us/step - loss: 1.0062 - root_mean_squared_error: 1.0031\n",
      "Epoch 122/300\n",
      "2/2 [==============================] - 0s 801us/step - loss: 0.9153 - root_mean_squared_error: 0.9567\n",
      "Epoch 123/300\n",
      "2/2 [==============================] - 0s 932us/step - loss: 0.8836 - root_mean_squared_error: 0.9400\n",
      "Epoch 124/300\n",
      "2/2 [==============================] - 0s 712us/step - loss: 0.8863 - root_mean_squared_error: 0.9414\n",
      "Epoch 125/300\n",
      "2/2 [==============================] - 0s 709us/step - loss: 1.2713 - root_mean_squared_error: 1.1275\n",
      "Epoch 126/300\n",
      "2/2 [==============================] - 0s 822us/step - loss: 0.9282 - root_mean_squared_error: 0.9634\n",
      "Epoch 127/300\n",
      "2/2 [==============================] - 0s 762us/step - loss: 0.9009 - root_mean_squared_error: 0.9492\n",
      "Epoch 128/300\n",
      "2/2 [==============================] - 0s 801us/step - loss: 0.9449 - root_mean_squared_error: 0.9720\n",
      "Epoch 129/300\n",
      "2/2 [==============================] - 0s 750us/step - loss: 0.8930 - root_mean_squared_error: 0.9450\n",
      "Epoch 130/300\n",
      "2/2 [==============================] - 0s 728us/step - loss: 0.8952 - root_mean_squared_error: 0.9461\n",
      "Epoch 131/300\n",
      "2/2 [==============================] - 0s 748us/step - loss: 0.9184 - root_mean_squared_error: 0.9583\n",
      "Epoch 132/300\n",
      "2/2 [==============================] - 0s 808us/step - loss: 1.0628 - root_mean_squared_error: 1.0309\n",
      "Epoch 133/300\n",
      "2/2 [==============================] - 0s 786us/step - loss: 0.9014 - root_mean_squared_error: 0.9494\n",
      "Epoch 134/300\n",
      "2/2 [==============================] - 0s 742us/step - loss: 0.9688 - root_mean_squared_error: 0.9843\n",
      "Epoch 135/300\n",
      "2/2 [==============================] - 0s 805us/step - loss: 1.2828 - root_mean_squared_error: 1.1326\n",
      "Epoch 136/300\n",
      "2/2 [==============================] - 0s 920us/step - loss: 1.1508 - root_mean_squared_error: 1.0728\n",
      "Epoch 137/300\n",
      "2/2 [==============================] - 0s 848us/step - loss: 1.0024 - root_mean_squared_error: 1.0012\n",
      "Epoch 138/300\n",
      "2/2 [==============================] - 0s 787us/step - loss: 0.8755 - root_mean_squared_error: 0.9357\n",
      "Epoch 139/300\n",
      "2/2 [==============================] - 0s 696us/step - loss: 0.9933 - root_mean_squared_error: 0.9967\n",
      "Epoch 140/300\n",
      "2/2 [==============================] - 0s 969us/step - loss: 0.9436 - root_mean_squared_error: 0.9714\n",
      "Epoch 141/300\n",
      "2/2 [==============================] - 0s 1ms/step - loss: 1.0139 - root_mean_squared_error: 1.0069\n",
      "Epoch 142/300\n"
     ]
    },
    {
     "name": "stdout",
     "output_type": "stream",
     "text": [
      "2/2 [==============================] - 0s 959us/step - loss: 0.9407 - root_mean_squared_error: 0.9699\n",
      "Epoch 143/300\n",
      "2/2 [==============================] - 0s 741us/step - loss: 0.8998 - root_mean_squared_error: 0.9486\n",
      "Epoch 144/300\n",
      "2/2 [==============================] - 0s 792us/step - loss: 1.0342 - root_mean_squared_error: 1.0169\n",
      "Epoch 145/300\n",
      "2/2 [==============================] - 0s 810us/step - loss: 1.1870 - root_mean_squared_error: 1.0895\n",
      "Epoch 146/300\n",
      "2/2 [==============================] - 0s 785us/step - loss: 0.9849 - root_mean_squared_error: 0.9924\n",
      "Epoch 147/300\n",
      "2/2 [==============================] - 0s 818us/step - loss: 0.8945 - root_mean_squared_error: 0.9458\n",
      "Epoch 148/300\n",
      "2/2 [==============================] - 0s 822us/step - loss: 0.9455 - root_mean_squared_error: 0.9724\n",
      "Epoch 149/300\n",
      "2/2 [==============================] - 0s 933us/step - loss: 1.0667 - root_mean_squared_error: 1.0328\n",
      "Epoch 150/300\n",
      "2/2 [==============================] - 0s 921us/step - loss: 0.9592 - root_mean_squared_error: 0.9794\n",
      "Epoch 151/300\n",
      "2/2 [==============================] - 0s 930us/step - loss: 0.9710 - root_mean_squared_error: 0.9854\n",
      "Epoch 152/300\n",
      "2/2 [==============================] - 0s 854us/step - loss: 0.9215 - root_mean_squared_error: 0.9599\n",
      "Epoch 153/300\n",
      "2/2 [==============================] - 0s 826us/step - loss: 1.1126 - root_mean_squared_error: 1.0548\n",
      "Epoch 154/300\n",
      "2/2 [==============================] - 0s 926us/step - loss: 0.9061 - root_mean_squared_error: 0.9519\n",
      "Epoch 155/300\n",
      "2/2 [==============================] - 0s 840us/step - loss: 0.8959 - root_mean_squared_error: 0.9465\n",
      "Epoch 156/300\n",
      "2/2 [==============================] - 0s 890us/step - loss: 1.1358 - root_mean_squared_error: 1.0657\n",
      "Epoch 157/300\n",
      "2/2 [==============================] - 0s 816us/step - loss: 0.9298 - root_mean_squared_error: 0.9643\n",
      "Epoch 158/300\n",
      "2/2 [==============================] - 0s 925us/step - loss: 0.9198 - root_mean_squared_error: 0.9591\n",
      "Epoch 159/300\n",
      "2/2 [==============================] - 0s 744us/step - loss: 1.0797 - root_mean_squared_error: 1.0391\n",
      "Epoch 160/300\n",
      "2/2 [==============================] - 0s 839us/step - loss: 0.8764 - root_mean_squared_error: 0.9362\n",
      "Epoch 161/300\n",
      "2/2 [==============================] - 0s 974us/step - loss: 0.9230 - root_mean_squared_error: 0.9607\n",
      "Epoch 162/300\n",
      "2/2 [==============================] - 0s 833us/step - loss: 0.9034 - root_mean_squared_error: 0.9505\n",
      "Epoch 163/300\n",
      "2/2 [==============================] - 0s 943us/step - loss: 0.9416 - root_mean_squared_error: 0.9704\n",
      "Epoch 164/300\n",
      "2/2 [==============================] - 0s 832us/step - loss: 0.9020 - root_mean_squared_error: 0.9497\n",
      "Epoch 165/300\n",
      "2/2 [==============================] - 0s 883us/step - loss: 1.0915 - root_mean_squared_error: 1.0447\n",
      "Epoch 166/300\n",
      "2/2 [==============================] - 0s 830us/step - loss: 0.9452 - root_mean_squared_error: 0.9722\n",
      "Epoch 167/300\n",
      "2/2 [==============================] - 0s 943us/step - loss: 1.0264 - root_mean_squared_error: 1.0131\n",
      "Epoch 168/300\n",
      "2/2 [==============================] - 0s 1ms/step - loss: 0.8959 - root_mean_squared_error: 0.9465\n",
      "Epoch 169/300\n",
      "2/2 [==============================] - 0s 860us/step - loss: 0.8794 - root_mean_squared_error: 0.9378\n",
      "Epoch 170/300\n",
      "2/2 [==============================] - 0s 858us/step - loss: 0.9769 - root_mean_squared_error: 0.9884\n",
      "Epoch 171/300\n",
      "2/2 [==============================] - 0s 1ms/step - loss: 0.9495 - root_mean_squared_error: 0.9744\n",
      "Epoch 172/300\n",
      "2/2 [==============================] - 0s 770us/step - loss: 1.4084 - root_mean_squared_error: 1.1867\n",
      "Epoch 173/300\n",
      "2/2 [==============================] - 0s 808us/step - loss: 0.8973 - root_mean_squared_error: 0.9473\n",
      "Epoch 174/300\n",
      "2/2 [==============================] - 0s 970us/step - loss: 0.9449 - root_mean_squared_error: 0.9720\n",
      "Epoch 175/300\n",
      "2/2 [==============================] - 0s 780us/step - loss: 0.8899 - root_mean_squared_error: 0.9434\n",
      "Epoch 176/300\n",
      "2/2 [==============================] - 0s 826us/step - loss: 0.9528 - root_mean_squared_error: 0.9761\n",
      "Epoch 177/300\n",
      "2/2 [==============================] - 0s 1ms/step - loss: 0.9263 - root_mean_squared_error: 0.9625\n",
      "Epoch 178/300\n",
      "2/2 [==============================] - 0s 1ms/step - loss: 0.9679 - root_mean_squared_error: 0.9838\n",
      "Epoch 179/300\n",
      "2/2 [==============================] - 0s 808us/step - loss: 0.9734 - root_mean_squared_error: 0.9866\n",
      "Epoch 180/300\n",
      "2/2 [==============================] - 0s 799us/step - loss: 1.2876 - root_mean_squared_error: 1.1347\n",
      "Epoch 181/300\n",
      "2/2 [==============================] - 0s 911us/step - loss: 1.0209 - root_mean_squared_error: 1.0104\n",
      "Epoch 182/300\n",
      "2/2 [==============================] - 0s 974us/step - loss: 0.9276 - root_mean_squared_error: 0.9631\n",
      "Epoch 183/300\n",
      "2/2 [==============================] - 0s 904us/step - loss: 0.9150 - root_mean_squared_error: 0.9566\n",
      "Epoch 184/300\n",
      "2/2 [==============================] - 0s 713us/step - loss: 0.8933 - root_mean_squared_error: 0.9451\n",
      "Epoch 185/300\n",
      "2/2 [==============================] - 0s 805us/step - loss: 0.9819 - root_mean_squared_error: 0.9909\n",
      "Epoch 186/300\n",
      "2/2 [==============================] - 0s 792us/step - loss: 1.0194 - root_mean_squared_error: 1.0096\n",
      "Epoch 187/300\n",
      "2/2 [==============================] - 0s 1ms/step - loss: 0.9272 - root_mean_squared_error: 0.9629\n",
      "Epoch 188/300\n",
      "2/2 [==============================] - 0s 824us/step - loss: 0.9397 - root_mean_squared_error: 0.9694\n",
      "Epoch 189/300\n",
      "2/2 [==============================] - 0s 841us/step - loss: 1.1987 - root_mean_squared_error: 1.0949\n",
      "Epoch 190/300\n",
      "2/2 [==============================] - 0s 940us/step - loss: 0.9179 - root_mean_squared_error: 0.9581\n",
      "Epoch 191/300\n",
      "2/2 [==============================] - 0s 915us/step - loss: 0.9166 - root_mean_squared_error: 0.9574\n",
      "Epoch 192/300\n",
      "2/2 [==============================] - 0s 779us/step - loss: 0.8853 - root_mean_squared_error: 0.9409\n",
      "Epoch 193/300\n",
      "2/2 [==============================] - 0s 750us/step - loss: 0.8802 - root_mean_squared_error: 0.9382\n",
      "Epoch 194/300\n",
      "2/2 [==============================] - 0s 819us/step - loss: 0.9154 - root_mean_squared_error: 0.9567\n",
      "Epoch 195/300\n",
      "2/2 [==============================] - 0s 795us/step - loss: 0.9054 - root_mean_squared_error: 0.9515\n",
      "Epoch 196/300\n",
      "2/2 [==============================] - 0s 981us/step - loss: 0.9319 - root_mean_squared_error: 0.9654\n",
      "Epoch 197/300\n",
      "2/2 [==============================] - 0s 856us/step - loss: 0.9403 - root_mean_squared_error: 0.9697\n",
      "Epoch 198/300\n",
      "2/2 [==============================] - 0s 996us/step - loss: 0.8998 - root_mean_squared_error: 0.9486\n",
      "Epoch 199/300\n",
      "2/2 [==============================] - 0s 961us/step - loss: 0.9666 - root_mean_squared_error: 0.9832\n",
      "Epoch 200/300\n",
      "2/2 [==============================] - 0s 780us/step - loss: 1.4079 - root_mean_squared_error: 1.1865\n",
      "Epoch 201/300\n",
      "2/2 [==============================] - 0s 931us/step - loss: 1.0896 - root_mean_squared_error: 1.0438\n",
      "Epoch 202/300\n",
      "2/2 [==============================] - 0s 705us/step - loss: 0.8909 - root_mean_squared_error: 0.9439\n",
      "Epoch 203/300\n",
      "2/2 [==============================] - 0s 825us/step - loss: 0.8805 - root_mean_squared_error: 0.9384\n",
      "Epoch 204/300\n",
      "2/2 [==============================] - 0s 811us/step - loss: 0.8774 - root_mean_squared_error: 0.9367\n",
      "Epoch 205/300\n",
      "2/2 [==============================] - 0s 778us/step - loss: 0.9988 - root_mean_squared_error: 0.9994\n",
      "Epoch 206/300\n",
      "2/2 [==============================] - 0s 932us/step - loss: 1.1689 - root_mean_squared_error: 1.0811\n",
      "Epoch 207/300\n",
      "2/2 [==============================] - 0s 847us/step - loss: 1.1496 - root_mean_squared_error: 1.0722\n",
      "Epoch 208/300\n",
      "2/2 [==============================] - 0s 795us/step - loss: 1.0451 - root_mean_squared_error: 1.0223\n",
      "Epoch 209/300\n",
      "2/2 [==============================] - 0s 816us/step - loss: 0.8881 - root_mean_squared_error: 0.9424\n",
      "Epoch 210/300\n",
      "2/2 [==============================] - 0s 878us/step - loss: 1.0895 - root_mean_squared_error: 1.0438\n",
      "Epoch 211/300\n",
      "2/2 [==============================] - 0s 837us/step - loss: 0.9074 - root_mean_squared_error: 0.9526\n",
      "Epoch 212/300\n"
     ]
    },
    {
     "name": "stdout",
     "output_type": "stream",
     "text": [
      "2/2 [==============================] - 0s 1ms/step - loss: 0.8841 - root_mean_squared_error: 0.9403\n",
      "Epoch 213/300\n",
      "2/2 [==============================] - 0s 891us/step - loss: 0.9110 - root_mean_squared_error: 0.9545\n",
      "Epoch 214/300\n",
      "2/2 [==============================] - 0s 857us/step - loss: 1.1450 - root_mean_squared_error: 1.0700\n",
      "Epoch 215/300\n",
      "2/2 [==============================] - 0s 803us/step - loss: 1.0499 - root_mean_squared_error: 1.0246\n",
      "Epoch 216/300\n",
      "2/2 [==============================] - 0s 834us/step - loss: 0.8927 - root_mean_squared_error: 0.9448\n",
      "Epoch 217/300\n",
      "2/2 [==============================] - 0s 899us/step - loss: 0.9590 - root_mean_squared_error: 0.9793\n",
      "Epoch 218/300\n",
      "2/2 [==============================] - 0s 1ms/step - loss: 0.9368 - root_mean_squared_error: 0.9679\n",
      "Epoch 219/300\n",
      "2/2 [==============================] - 0s 769us/step - loss: 1.0487 - root_mean_squared_error: 1.0241\n",
      "Epoch 220/300\n",
      "2/2 [==============================] - 0s 934us/step - loss: 0.9839 - root_mean_squared_error: 0.9919\n",
      "Epoch 221/300\n",
      "2/2 [==============================] - 0s 869us/step - loss: 0.9330 - root_mean_squared_error: 0.9659\n",
      "Epoch 222/300\n",
      "2/2 [==============================] - 0s 884us/step - loss: 0.9745 - root_mean_squared_error: 0.9872\n",
      "Epoch 223/300\n",
      "2/2 [==============================] - 0s 787us/step - loss: 1.1780 - root_mean_squared_error: 1.0853\n",
      "Epoch 224/300\n",
      "2/2 [==============================] - 0s 880us/step - loss: 0.8954 - root_mean_squared_error: 0.9463\n",
      "Epoch 225/300\n",
      "2/2 [==============================] - 0s 853us/step - loss: 1.1425 - root_mean_squared_error: 1.0689\n",
      "Epoch 226/300\n",
      "2/2 [==============================] - 0s 818us/step - loss: 0.9696 - root_mean_squared_error: 0.9847\n",
      "Epoch 227/300\n",
      "2/2 [==============================] - 0s 844us/step - loss: 0.9375 - root_mean_squared_error: 0.9683\n",
      "Epoch 228/300\n",
      "2/2 [==============================] - 0s 879us/step - loss: 0.9986 - root_mean_squared_error: 0.9993\n",
      "Epoch 229/300\n",
      "2/2 [==============================] - 0s 803us/step - loss: 0.9108 - root_mean_squared_error: 0.9544\n",
      "Epoch 230/300\n",
      "2/2 [==============================] - 0s 1ms/step - loss: 1.0191 - root_mean_squared_error: 1.0095\n",
      "Epoch 231/300\n",
      "2/2 [==============================] - 0s 875us/step - loss: 0.9533 - root_mean_squared_error: 0.9763\n",
      "Epoch 232/300\n",
      "2/2 [==============================] - 0s 853us/step - loss: 0.9579 - root_mean_squared_error: 0.9787\n",
      "Epoch 233/300\n",
      "2/2 [==============================] - 0s 819us/step - loss: 1.1968 - root_mean_squared_error: 1.0940\n",
      "Epoch 234/300\n",
      "2/2 [==============================] - 0s 854us/step - loss: 1.0624 - root_mean_squared_error: 1.0307\n",
      "Epoch 235/300\n",
      "2/2 [==============================] - 0s 925us/step - loss: 0.9273 - root_mean_squared_error: 0.9630\n",
      "Epoch 236/300\n",
      "2/2 [==============================] - 0s 814us/step - loss: 1.1235 - root_mean_squared_error: 1.0599\n",
      "Epoch 237/300\n",
      "2/2 [==============================] - 0s 798us/step - loss: 0.9403 - root_mean_squared_error: 0.9697\n",
      "Epoch 238/300\n",
      "2/2 [==============================] - 0s 818us/step - loss: 0.9804 - root_mean_squared_error: 0.9902\n",
      "Epoch 239/300\n",
      "2/2 [==============================] - 0s 905us/step - loss: 0.9193 - root_mean_squared_error: 0.9588\n",
      "Epoch 240/300\n",
      "2/2 [==============================] - 0s 941us/step - loss: 0.9012 - root_mean_squared_error: 0.9493\n",
      "Epoch 241/300\n",
      "2/2 [==============================] - 0s 850us/step - loss: 0.9874 - root_mean_squared_error: 0.9937\n",
      "Epoch 242/300\n",
      "2/2 [==============================] - 0s 806us/step - loss: 0.9775 - root_mean_squared_error: 0.9887\n",
      "Epoch 243/300\n",
      "2/2 [==============================] - 0s 1ms/step - loss: 1.1417 - root_mean_squared_error: 1.0685\n",
      "Epoch 244/300\n",
      "2/2 [==============================] - 0s 750us/step - loss: 0.9674 - root_mean_squared_error: 0.9836\n",
      "Epoch 245/300\n",
      "2/2 [==============================] - 0s 937us/step - loss: 0.9078 - root_mean_squared_error: 0.9528\n",
      "Epoch 246/300\n",
      "2/2 [==============================] - 0s 873us/step - loss: 1.1364 - root_mean_squared_error: 1.0660\n",
      "Epoch 247/300\n",
      "2/2 [==============================] - 0s 811us/step - loss: 1.0028 - root_mean_squared_error: 1.0014\n",
      "Epoch 248/300\n",
      "2/2 [==============================] - 0s 964us/step - loss: 0.9381 - root_mean_squared_error: 0.9686\n",
      "Epoch 249/300\n",
      "2/2 [==============================] - 0s 903us/step - loss: 0.9256 - root_mean_squared_error: 0.9621\n",
      "Epoch 250/300\n",
      "2/2 [==============================] - 0s 767us/step - loss: 1.1038 - root_mean_squared_error: 1.0506\n",
      "Epoch 251/300\n",
      "2/2 [==============================] - 0s 810us/step - loss: 0.8973 - root_mean_squared_error: 0.9473\n",
      "Epoch 252/300\n",
      "2/2 [==============================] - 0s 813us/step - loss: 0.9115 - root_mean_squared_error: 0.9547\n",
      "Epoch 253/300\n",
      "2/2 [==============================] - 0s 745us/step - loss: 1.0105 - root_mean_squared_error: 1.0053\n",
      "Epoch 254/300\n",
      "2/2 [==============================] - 0s 867us/step - loss: 0.8917 - root_mean_squared_error: 0.9443\n",
      "Epoch 255/300\n",
      "2/2 [==============================] - 0s 858us/step - loss: 1.0531 - root_mean_squared_error: 1.0262\n",
      "Epoch 256/300\n",
      "2/2 [==============================] - 0s 824us/step - loss: 0.9792 - root_mean_squared_error: 0.9895\n",
      "Epoch 257/300\n",
      "2/2 [==============================] - 0s 849us/step - loss: 0.8757 - root_mean_squared_error: 0.9358\n",
      "Epoch 258/300\n",
      "2/2 [==============================] - 0s 846us/step - loss: 0.8916 - root_mean_squared_error: 0.9443\n",
      "Epoch 259/300\n",
      "2/2 [==============================] - 0s 904us/step - loss: 1.2495 - root_mean_squared_error: 1.1178\n",
      "Epoch 260/300\n",
      "2/2 [==============================] - 0s 704us/step - loss: 1.3099 - root_mean_squared_error: 1.1445\n",
      "Epoch 261/300\n",
      "2/2 [==============================] - 0s 878us/step - loss: 0.9816 - root_mean_squared_error: 0.9908\n",
      "Epoch 262/300\n",
      "2/2 [==============================] - 0s 698us/step - loss: 1.0575 - root_mean_squared_error: 1.0284\n",
      "Epoch 263/300\n",
      "2/2 [==============================] - 0s 936us/step - loss: 0.9214 - root_mean_squared_error: 0.9599\n",
      "Epoch 264/300\n",
      "2/2 [==============================] - 0s 777us/step - loss: 0.9308 - root_mean_squared_error: 0.9648\n",
      "Epoch 265/300\n",
      "2/2 [==============================] - 0s 889us/step - loss: 0.8978 - root_mean_squared_error: 0.9475\n",
      "Epoch 266/300\n",
      "2/2 [==============================] - 0s 761us/step - loss: 1.0662 - root_mean_squared_error: 1.0326\n",
      "Epoch 267/300\n",
      "2/2 [==============================] - 0s 975us/step - loss: 0.9492 - root_mean_squared_error: 0.9742\n",
      "Epoch 268/300\n",
      "2/2 [==============================] - 0s 971us/step - loss: 1.2118 - root_mean_squared_error: 1.1008\n",
      "Epoch 269/300\n",
      "2/2 [==============================] - 0s 938us/step - loss: 0.9414 - root_mean_squared_error: 0.9702\n",
      "Epoch 270/300\n",
      "2/2 [==============================] - 0s 962us/step - loss: 1.1160 - root_mean_squared_error: 1.0564\n",
      "Epoch 271/300\n",
      "2/2 [==============================] - 0s 948us/step - loss: 1.0057 - root_mean_squared_error: 1.0028\n",
      "Epoch 272/300\n",
      "2/2 [==============================] - 0s 857us/step - loss: 0.8863 - root_mean_squared_error: 0.9414\n",
      "Epoch 273/300\n",
      "2/2 [==============================] - 0s 969us/step - loss: 0.9361 - root_mean_squared_error: 0.9675\n",
      "Epoch 274/300\n",
      "2/2 [==============================] - 0s 1ms/step - loss: 1.0922 - root_mean_squared_error: 1.0451\n",
      "Epoch 275/300\n",
      "2/2 [==============================] - 0s 780us/step - loss: 0.9224 - root_mean_squared_error: 0.9604\n",
      "Epoch 276/300\n",
      "2/2 [==============================] - 0s 861us/step - loss: 1.2067 - root_mean_squared_error: 1.0985\n",
      "Epoch 277/300\n",
      "2/2 [==============================] - 0s 947us/step - loss: 0.9723 - root_mean_squared_error: 0.9861\n",
      "Epoch 278/300\n",
      "2/2 [==============================] - 0s 992us/step - loss: 0.9331 - root_mean_squared_error: 0.9660\n",
      "Epoch 279/300\n",
      "2/2 [==============================] - 0s 777us/step - loss: 1.2648 - root_mean_squared_error: 1.1246\n",
      "Epoch 280/300\n",
      "2/2 [==============================] - 0s 751us/step - loss: 1.1401 - root_mean_squared_error: 1.0677\n",
      "Epoch 281/300\n",
      "2/2 [==============================] - 0s 896us/step - loss: 0.9927 - root_mean_squared_error: 0.9964\n",
      "Epoch 282/300\n"
     ]
    },
    {
     "name": "stdout",
     "output_type": "stream",
     "text": [
      "2/2 [==============================] - 0s 818us/step - loss: 0.9617 - root_mean_squared_error: 0.9806\n",
      "Epoch 283/300\n",
      "2/2 [==============================] - 0s 936us/step - loss: 0.8860 - root_mean_squared_error: 0.9413\n",
      "Epoch 284/300\n",
      "2/2 [==============================] - 0s 798us/step - loss: 0.8766 - root_mean_squared_error: 0.9363\n",
      "Epoch 285/300\n",
      "2/2 [==============================] - 0s 972us/step - loss: 1.0094 - root_mean_squared_error: 1.0047\n",
      "Epoch 286/300\n",
      "2/2 [==============================] - 0s 768us/step - loss: 0.9100 - root_mean_squared_error: 0.9539\n",
      "Epoch 287/300\n",
      "2/2 [==============================] - 0s 865us/step - loss: 0.9011 - root_mean_squared_error: 0.9493\n",
      "Epoch 288/300\n",
      "2/2 [==============================] - 0s 979us/step - loss: 1.0610 - root_mean_squared_error: 1.0301\n",
      "Epoch 289/300\n",
      "2/2 [==============================] - 0s 937us/step - loss: 0.9388 - root_mean_squared_error: 0.9689\n",
      "Epoch 290/300\n",
      "2/2 [==============================] - 0s 869us/step - loss: 0.9032 - root_mean_squared_error: 0.9504\n",
      "Epoch 291/300\n",
      "2/2 [==============================] - 0s 828us/step - loss: 0.8888 - root_mean_squared_error: 0.9428\n",
      "Epoch 292/300\n",
      "2/2 [==============================] - 0s 853us/step - loss: 1.0450 - root_mean_squared_error: 1.0222\n",
      "Epoch 293/300\n",
      "2/2 [==============================] - 0s 886us/step - loss: 0.9143 - root_mean_squared_error: 0.9562\n",
      "Epoch 294/300\n",
      "2/2 [==============================] - 0s 932us/step - loss: 0.9550 - root_mean_squared_error: 0.9772\n",
      "Epoch 295/300\n",
      "2/2 [==============================] - 0s 1ms/step - loss: 1.2393 - root_mean_squared_error: 1.1133\n",
      "Epoch 296/300\n",
      "2/2 [==============================] - 0s 915us/step - loss: 1.0445 - root_mean_squared_error: 1.0220\n",
      "Epoch 297/300\n",
      "2/2 [==============================] - 0s 860us/step - loss: 0.8848 - root_mean_squared_error: 0.9406\n",
      "Epoch 298/300\n",
      "2/2 [==============================] - 0s 806us/step - loss: 1.4568 - root_mean_squared_error: 1.2070\n",
      "Epoch 299/300\n",
      "2/2 [==============================] - 0s 795us/step - loss: 0.9726 - root_mean_squared_error: 0.9862\n",
      "Epoch 300/300\n",
      "2/2 [==============================] - 0s 822us/step - loss: 0.9340 - root_mean_squared_error: 0.9664\n"
     ]
    }
   ],
   "source": [
    "my_model = create_model()\n",
    "my_model.compile(optimizer = tf.keras.optimizers.RMSprop(learning_rate = learning_rate),\n",
    "                 loss = 'mean_squared_error',\n",
    "                 metrics = tf.keras.metrics.RootMeanSquaredError())\n",
    "\n",
    "History = my_model.fit(x=my_feature,y=my_label,batch_size=batch_size,epochs=epochs)\n",
    "trained_weight = my_model.get_weights()[0]\n",
    "trained_bias = my_model.get_weights()[1]\n",
    "hist = pd.DataFrame(History.history)\n",
    "epochs_from_model = History.epoch\n",
    "rmse = History.history[\"root_mean_squared_error\"]"
   ]
  },
  {
   "cell_type": "code",
   "execution_count": 27,
   "id": "4d2bfdd2",
   "metadata": {},
   "outputs": [
    {
     "data": {
      "application/vnd.plotly.v1+json": {
       "config": {
        "plotlyServerURL": "https://plot.ly"
       },
       "data": [
        {
         "mode": "markers",
         "name": "Original labels",
         "type": "scatter",
         "x": [
          1,
          2,
          3,
          4,
          5,
          6,
          7,
          8,
          9,
          10,
          11,
          12
         ],
         "y": [
          5,
          8.8,
          9.6,
          14.2,
          18.8,
          19.5,
          21.4,
          26.8,
          28.9,
          32,
          33.8,
          38.2
         ]
        },
        {
         "mode": "lines+markers",
         "name": "Predicted labels",
         "type": "scatter",
         "x": [
          1,
          2,
          3,
          4,
          5,
          6,
          7,
          8,
          9,
          10,
          11,
          12
         ],
         "y": [
          5.110982656478882,
          8.058235883712769,
          11.005489110946655,
          13.952742338180542,
          16.89999556541443,
          19.847248792648315,
          22.794502019882202,
          25.74175524711609,
          28.689008474349976,
          31.636261701583862,
          34.58351492881775,
          37.530768156051636
         ]
        }
       ],
       "layout": {
        "template": {
         "data": {
          "bar": [
           {
            "error_x": {
             "color": "#2a3f5f"
            },
            "error_y": {
             "color": "#2a3f5f"
            },
            "marker": {
             "line": {
              "color": "#E5ECF6",
              "width": 0.5
             },
             "pattern": {
              "fillmode": "overlay",
              "size": 10,
              "solidity": 0.2
             }
            },
            "type": "bar"
           }
          ],
          "barpolar": [
           {
            "marker": {
             "line": {
              "color": "#E5ECF6",
              "width": 0.5
             },
             "pattern": {
              "fillmode": "overlay",
              "size": 10,
              "solidity": 0.2
             }
            },
            "type": "barpolar"
           }
          ],
          "carpet": [
           {
            "aaxis": {
             "endlinecolor": "#2a3f5f",
             "gridcolor": "white",
             "linecolor": "white",
             "minorgridcolor": "white",
             "startlinecolor": "#2a3f5f"
            },
            "baxis": {
             "endlinecolor": "#2a3f5f",
             "gridcolor": "white",
             "linecolor": "white",
             "minorgridcolor": "white",
             "startlinecolor": "#2a3f5f"
            },
            "type": "carpet"
           }
          ],
          "choropleth": [
           {
            "colorbar": {
             "outlinewidth": 0,
             "ticks": ""
            },
            "type": "choropleth"
           }
          ],
          "contour": [
           {
            "colorbar": {
             "outlinewidth": 0,
             "ticks": ""
            },
            "colorscale": [
             [
              0,
              "#0d0887"
             ],
             [
              0.1111111111111111,
              "#46039f"
             ],
             [
              0.2222222222222222,
              "#7201a8"
             ],
             [
              0.3333333333333333,
              "#9c179e"
             ],
             [
              0.4444444444444444,
              "#bd3786"
             ],
             [
              0.5555555555555556,
              "#d8576b"
             ],
             [
              0.6666666666666666,
              "#ed7953"
             ],
             [
              0.7777777777777778,
              "#fb9f3a"
             ],
             [
              0.8888888888888888,
              "#fdca26"
             ],
             [
              1,
              "#f0f921"
             ]
            ],
            "type": "contour"
           }
          ],
          "contourcarpet": [
           {
            "colorbar": {
             "outlinewidth": 0,
             "ticks": ""
            },
            "type": "contourcarpet"
           }
          ],
          "heatmap": [
           {
            "colorbar": {
             "outlinewidth": 0,
             "ticks": ""
            },
            "colorscale": [
             [
              0,
              "#0d0887"
             ],
             [
              0.1111111111111111,
              "#46039f"
             ],
             [
              0.2222222222222222,
              "#7201a8"
             ],
             [
              0.3333333333333333,
              "#9c179e"
             ],
             [
              0.4444444444444444,
              "#bd3786"
             ],
             [
              0.5555555555555556,
              "#d8576b"
             ],
             [
              0.6666666666666666,
              "#ed7953"
             ],
             [
              0.7777777777777778,
              "#fb9f3a"
             ],
             [
              0.8888888888888888,
              "#fdca26"
             ],
             [
              1,
              "#f0f921"
             ]
            ],
            "type": "heatmap"
           }
          ],
          "heatmapgl": [
           {
            "colorbar": {
             "outlinewidth": 0,
             "ticks": ""
            },
            "colorscale": [
             [
              0,
              "#0d0887"
             ],
             [
              0.1111111111111111,
              "#46039f"
             ],
             [
              0.2222222222222222,
              "#7201a8"
             ],
             [
              0.3333333333333333,
              "#9c179e"
             ],
             [
              0.4444444444444444,
              "#bd3786"
             ],
             [
              0.5555555555555556,
              "#d8576b"
             ],
             [
              0.6666666666666666,
              "#ed7953"
             ],
             [
              0.7777777777777778,
              "#fb9f3a"
             ],
             [
              0.8888888888888888,
              "#fdca26"
             ],
             [
              1,
              "#f0f921"
             ]
            ],
            "type": "heatmapgl"
           }
          ],
          "histogram": [
           {
            "marker": {
             "pattern": {
              "fillmode": "overlay",
              "size": 10,
              "solidity": 0.2
             }
            },
            "type": "histogram"
           }
          ],
          "histogram2d": [
           {
            "colorbar": {
             "outlinewidth": 0,
             "ticks": ""
            },
            "colorscale": [
             [
              0,
              "#0d0887"
             ],
             [
              0.1111111111111111,
              "#46039f"
             ],
             [
              0.2222222222222222,
              "#7201a8"
             ],
             [
              0.3333333333333333,
              "#9c179e"
             ],
             [
              0.4444444444444444,
              "#bd3786"
             ],
             [
              0.5555555555555556,
              "#d8576b"
             ],
             [
              0.6666666666666666,
              "#ed7953"
             ],
             [
              0.7777777777777778,
              "#fb9f3a"
             ],
             [
              0.8888888888888888,
              "#fdca26"
             ],
             [
              1,
              "#f0f921"
             ]
            ],
            "type": "histogram2d"
           }
          ],
          "histogram2dcontour": [
           {
            "colorbar": {
             "outlinewidth": 0,
             "ticks": ""
            },
            "colorscale": [
             [
              0,
              "#0d0887"
             ],
             [
              0.1111111111111111,
              "#46039f"
             ],
             [
              0.2222222222222222,
              "#7201a8"
             ],
             [
              0.3333333333333333,
              "#9c179e"
             ],
             [
              0.4444444444444444,
              "#bd3786"
             ],
             [
              0.5555555555555556,
              "#d8576b"
             ],
             [
              0.6666666666666666,
              "#ed7953"
             ],
             [
              0.7777777777777778,
              "#fb9f3a"
             ],
             [
              0.8888888888888888,
              "#fdca26"
             ],
             [
              1,
              "#f0f921"
             ]
            ],
            "type": "histogram2dcontour"
           }
          ],
          "mesh3d": [
           {
            "colorbar": {
             "outlinewidth": 0,
             "ticks": ""
            },
            "type": "mesh3d"
           }
          ],
          "parcoords": [
           {
            "line": {
             "colorbar": {
              "outlinewidth": 0,
              "ticks": ""
             }
            },
            "type": "parcoords"
           }
          ],
          "pie": [
           {
            "automargin": true,
            "type": "pie"
           }
          ],
          "scatter": [
           {
            "fillpattern": {
             "fillmode": "overlay",
             "size": 10,
             "solidity": 0.2
            },
            "type": "scatter"
           }
          ],
          "scatter3d": [
           {
            "line": {
             "colorbar": {
              "outlinewidth": 0,
              "ticks": ""
             }
            },
            "marker": {
             "colorbar": {
              "outlinewidth": 0,
              "ticks": ""
             }
            },
            "type": "scatter3d"
           }
          ],
          "scattercarpet": [
           {
            "marker": {
             "colorbar": {
              "outlinewidth": 0,
              "ticks": ""
             }
            },
            "type": "scattercarpet"
           }
          ],
          "scattergeo": [
           {
            "marker": {
             "colorbar": {
              "outlinewidth": 0,
              "ticks": ""
             }
            },
            "type": "scattergeo"
           }
          ],
          "scattergl": [
           {
            "marker": {
             "colorbar": {
              "outlinewidth": 0,
              "ticks": ""
             }
            },
            "type": "scattergl"
           }
          ],
          "scattermapbox": [
           {
            "marker": {
             "colorbar": {
              "outlinewidth": 0,
              "ticks": ""
             }
            },
            "type": "scattermapbox"
           }
          ],
          "scatterpolar": [
           {
            "marker": {
             "colorbar": {
              "outlinewidth": 0,
              "ticks": ""
             }
            },
            "type": "scatterpolar"
           }
          ],
          "scatterpolargl": [
           {
            "marker": {
             "colorbar": {
              "outlinewidth": 0,
              "ticks": ""
             }
            },
            "type": "scatterpolargl"
           }
          ],
          "scatterternary": [
           {
            "marker": {
             "colorbar": {
              "outlinewidth": 0,
              "ticks": ""
             }
            },
            "type": "scatterternary"
           }
          ],
          "surface": [
           {
            "colorbar": {
             "outlinewidth": 0,
             "ticks": ""
            },
            "colorscale": [
             [
              0,
              "#0d0887"
             ],
             [
              0.1111111111111111,
              "#46039f"
             ],
             [
              0.2222222222222222,
              "#7201a8"
             ],
             [
              0.3333333333333333,
              "#9c179e"
             ],
             [
              0.4444444444444444,
              "#bd3786"
             ],
             [
              0.5555555555555556,
              "#d8576b"
             ],
             [
              0.6666666666666666,
              "#ed7953"
             ],
             [
              0.7777777777777778,
              "#fb9f3a"
             ],
             [
              0.8888888888888888,
              "#fdca26"
             ],
             [
              1,
              "#f0f921"
             ]
            ],
            "type": "surface"
           }
          ],
          "table": [
           {
            "cells": {
             "fill": {
              "color": "#EBF0F8"
             },
             "line": {
              "color": "white"
             }
            },
            "header": {
             "fill": {
              "color": "#C8D4E3"
             },
             "line": {
              "color": "white"
             }
            },
            "type": "table"
           }
          ]
         },
         "layout": {
          "annotationdefaults": {
           "arrowcolor": "#2a3f5f",
           "arrowhead": 0,
           "arrowwidth": 1
          },
          "autotypenumbers": "strict",
          "coloraxis": {
           "colorbar": {
            "outlinewidth": 0,
            "ticks": ""
           }
          },
          "colorscale": {
           "diverging": [
            [
             0,
             "#8e0152"
            ],
            [
             0.1,
             "#c51b7d"
            ],
            [
             0.2,
             "#de77ae"
            ],
            [
             0.3,
             "#f1b6da"
            ],
            [
             0.4,
             "#fde0ef"
            ],
            [
             0.5,
             "#f7f7f7"
            ],
            [
             0.6,
             "#e6f5d0"
            ],
            [
             0.7,
             "#b8e186"
            ],
            [
             0.8,
             "#7fbc41"
            ],
            [
             0.9,
             "#4d9221"
            ],
            [
             1,
             "#276419"
            ]
           ],
           "sequential": [
            [
             0,
             "#0d0887"
            ],
            [
             0.1111111111111111,
             "#46039f"
            ],
            [
             0.2222222222222222,
             "#7201a8"
            ],
            [
             0.3333333333333333,
             "#9c179e"
            ],
            [
             0.4444444444444444,
             "#bd3786"
            ],
            [
             0.5555555555555556,
             "#d8576b"
            ],
            [
             0.6666666666666666,
             "#ed7953"
            ],
            [
             0.7777777777777778,
             "#fb9f3a"
            ],
            [
             0.8888888888888888,
             "#fdca26"
            ],
            [
             1,
             "#f0f921"
            ]
           ],
           "sequentialminus": [
            [
             0,
             "#0d0887"
            ],
            [
             0.1111111111111111,
             "#46039f"
            ],
            [
             0.2222222222222222,
             "#7201a8"
            ],
            [
             0.3333333333333333,
             "#9c179e"
            ],
            [
             0.4444444444444444,
             "#bd3786"
            ],
            [
             0.5555555555555556,
             "#d8576b"
            ],
            [
             0.6666666666666666,
             "#ed7953"
            ],
            [
             0.7777777777777778,
             "#fb9f3a"
            ],
            [
             0.8888888888888888,
             "#fdca26"
            ],
            [
             1,
             "#f0f921"
            ]
           ]
          },
          "colorway": [
           "#636efa",
           "#EF553B",
           "#00cc96",
           "#ab63fa",
           "#FFA15A",
           "#19d3f3",
           "#FF6692",
           "#B6E880",
           "#FF97FF",
           "#FECB52"
          ],
          "font": {
           "color": "#2a3f5f"
          },
          "geo": {
           "bgcolor": "white",
           "lakecolor": "white",
           "landcolor": "#E5ECF6",
           "showlakes": true,
           "showland": true,
           "subunitcolor": "white"
          },
          "hoverlabel": {
           "align": "left"
          },
          "hovermode": "closest",
          "mapbox": {
           "style": "light"
          },
          "paper_bgcolor": "white",
          "plot_bgcolor": "#E5ECF6",
          "polar": {
           "angularaxis": {
            "gridcolor": "white",
            "linecolor": "white",
            "ticks": ""
           },
           "bgcolor": "#E5ECF6",
           "radialaxis": {
            "gridcolor": "white",
            "linecolor": "white",
            "ticks": ""
           }
          },
          "scene": {
           "xaxis": {
            "backgroundcolor": "#E5ECF6",
            "gridcolor": "white",
            "gridwidth": 2,
            "linecolor": "white",
            "showbackground": true,
            "ticks": "",
            "zerolinecolor": "white"
           },
           "yaxis": {
            "backgroundcolor": "#E5ECF6",
            "gridcolor": "white",
            "gridwidth": 2,
            "linecolor": "white",
            "showbackground": true,
            "ticks": "",
            "zerolinecolor": "white"
           },
           "zaxis": {
            "backgroundcolor": "#E5ECF6",
            "gridcolor": "white",
            "gridwidth": 2,
            "linecolor": "white",
            "showbackground": true,
            "ticks": "",
            "zerolinecolor": "white"
           }
          },
          "shapedefaults": {
           "line": {
            "color": "#2a3f5f"
           }
          },
          "ternary": {
           "aaxis": {
            "gridcolor": "white",
            "linecolor": "white",
            "ticks": ""
           },
           "baxis": {
            "gridcolor": "white",
            "linecolor": "white",
            "ticks": ""
           },
           "bgcolor": "#E5ECF6",
           "caxis": {
            "gridcolor": "white",
            "linecolor": "white",
            "ticks": ""
           }
          },
          "title": {
           "x": 0.05
          },
          "xaxis": {
           "automargin": true,
           "gridcolor": "white",
           "linecolor": "white",
           "ticks": "",
           "title": {
            "standoff": 15
           },
           "zerolinecolor": "white",
           "zerolinewidth": 2
          },
          "yaxis": {
           "automargin": true,
           "gridcolor": "white",
           "linecolor": "white",
           "ticks": "",
           "title": {
            "standoff": 15
           },
           "zerolinecolor": "white",
           "zerolinewidth": 2
          }
         }
        },
        "title": {
         "text": "Comparsion chart between predicted and original labels",
         "x": 0.5
        }
       }
      },
      "text/html": [
       "<div>                            <div id=\"c0fdcc34-7c16-458f-9d11-8b38ebd1726b\" class=\"plotly-graph-div\" style=\"height:525px; width:100%;\"></div>            <script type=\"text/javascript\">                require([\"plotly\"], function(Plotly) {                    window.PLOTLYENV=window.PLOTLYENV || {};                                    if (document.getElementById(\"c0fdcc34-7c16-458f-9d11-8b38ebd1726b\")) {                    Plotly.newPlot(                        \"c0fdcc34-7c16-458f-9d11-8b38ebd1726b\",                        [{\"mode\":\"markers\",\"name\":\"Original labels\",\"x\":[1.0,2.0,3.0,4.0,5.0,6.0,7.0,8.0,9.0,10.0,11.0,12.0],\"y\":[5.0,8.8,9.6,14.2,18.8,19.5,21.4,26.8,28.9,32.0,33.8,38.2],\"type\":\"scatter\"},{\"mode\":\"lines+markers\",\"name\":\"Predicted labels\",\"x\":[1.0,2.0,3.0,4.0,5.0,6.0,7.0,8.0,9.0,10.0,11.0,12.0],\"y\":[5.110982656478882,8.058235883712769,11.005489110946655,13.952742338180542,16.89999556541443,19.847248792648315,22.794502019882202,25.74175524711609,28.689008474349976,31.636261701583862,34.58351492881775,37.530768156051636],\"type\":\"scatter\"}],                        {\"template\":{\"data\":{\"histogram2dcontour\":[{\"type\":\"histogram2dcontour\",\"colorbar\":{\"outlinewidth\":0,\"ticks\":\"\"},\"colorscale\":[[0.0,\"#0d0887\"],[0.1111111111111111,\"#46039f\"],[0.2222222222222222,\"#7201a8\"],[0.3333333333333333,\"#9c179e\"],[0.4444444444444444,\"#bd3786\"],[0.5555555555555556,\"#d8576b\"],[0.6666666666666666,\"#ed7953\"],[0.7777777777777778,\"#fb9f3a\"],[0.8888888888888888,\"#fdca26\"],[1.0,\"#f0f921\"]]}],\"choropleth\":[{\"type\":\"choropleth\",\"colorbar\":{\"outlinewidth\":0,\"ticks\":\"\"}}],\"histogram2d\":[{\"type\":\"histogram2d\",\"colorbar\":{\"outlinewidth\":0,\"ticks\":\"\"},\"colorscale\":[[0.0,\"#0d0887\"],[0.1111111111111111,\"#46039f\"],[0.2222222222222222,\"#7201a8\"],[0.3333333333333333,\"#9c179e\"],[0.4444444444444444,\"#bd3786\"],[0.5555555555555556,\"#d8576b\"],[0.6666666666666666,\"#ed7953\"],[0.7777777777777778,\"#fb9f3a\"],[0.8888888888888888,\"#fdca26\"],[1.0,\"#f0f921\"]]}],\"heatmap\":[{\"type\":\"heatmap\",\"colorbar\":{\"outlinewidth\":0,\"ticks\":\"\"},\"colorscale\":[[0.0,\"#0d0887\"],[0.1111111111111111,\"#46039f\"],[0.2222222222222222,\"#7201a8\"],[0.3333333333333333,\"#9c179e\"],[0.4444444444444444,\"#bd3786\"],[0.5555555555555556,\"#d8576b\"],[0.6666666666666666,\"#ed7953\"],[0.7777777777777778,\"#fb9f3a\"],[0.8888888888888888,\"#fdca26\"],[1.0,\"#f0f921\"]]}],\"heatmapgl\":[{\"type\":\"heatmapgl\",\"colorbar\":{\"outlinewidth\":0,\"ticks\":\"\"},\"colorscale\":[[0.0,\"#0d0887\"],[0.1111111111111111,\"#46039f\"],[0.2222222222222222,\"#7201a8\"],[0.3333333333333333,\"#9c179e\"],[0.4444444444444444,\"#bd3786\"],[0.5555555555555556,\"#d8576b\"],[0.6666666666666666,\"#ed7953\"],[0.7777777777777778,\"#fb9f3a\"],[0.8888888888888888,\"#fdca26\"],[1.0,\"#f0f921\"]]}],\"contourcarpet\":[{\"type\":\"contourcarpet\",\"colorbar\":{\"outlinewidth\":0,\"ticks\":\"\"}}],\"contour\":[{\"type\":\"contour\",\"colorbar\":{\"outlinewidth\":0,\"ticks\":\"\"},\"colorscale\":[[0.0,\"#0d0887\"],[0.1111111111111111,\"#46039f\"],[0.2222222222222222,\"#7201a8\"],[0.3333333333333333,\"#9c179e\"],[0.4444444444444444,\"#bd3786\"],[0.5555555555555556,\"#d8576b\"],[0.6666666666666666,\"#ed7953\"],[0.7777777777777778,\"#fb9f3a\"],[0.8888888888888888,\"#fdca26\"],[1.0,\"#f0f921\"]]}],\"surface\":[{\"type\":\"surface\",\"colorbar\":{\"outlinewidth\":0,\"ticks\":\"\"},\"colorscale\":[[0.0,\"#0d0887\"],[0.1111111111111111,\"#46039f\"],[0.2222222222222222,\"#7201a8\"],[0.3333333333333333,\"#9c179e\"],[0.4444444444444444,\"#bd3786\"],[0.5555555555555556,\"#d8576b\"],[0.6666666666666666,\"#ed7953\"],[0.7777777777777778,\"#fb9f3a\"],[0.8888888888888888,\"#fdca26\"],[1.0,\"#f0f921\"]]}],\"mesh3d\":[{\"type\":\"mesh3d\",\"colorbar\":{\"outlinewidth\":0,\"ticks\":\"\"}}],\"scatter\":[{\"fillpattern\":{\"fillmode\":\"overlay\",\"size\":10,\"solidity\":0.2},\"type\":\"scatter\"}],\"parcoords\":[{\"type\":\"parcoords\",\"line\":{\"colorbar\":{\"outlinewidth\":0,\"ticks\":\"\"}}}],\"scatterpolargl\":[{\"type\":\"scatterpolargl\",\"marker\":{\"colorbar\":{\"outlinewidth\":0,\"ticks\":\"\"}}}],\"bar\":[{\"error_x\":{\"color\":\"#2a3f5f\"},\"error_y\":{\"color\":\"#2a3f5f\"},\"marker\":{\"line\":{\"color\":\"#E5ECF6\",\"width\":0.5},\"pattern\":{\"fillmode\":\"overlay\",\"size\":10,\"solidity\":0.2}},\"type\":\"bar\"}],\"scattergeo\":[{\"type\":\"scattergeo\",\"marker\":{\"colorbar\":{\"outlinewidth\":0,\"ticks\":\"\"}}}],\"scatterpolar\":[{\"type\":\"scatterpolar\",\"marker\":{\"colorbar\":{\"outlinewidth\":0,\"ticks\":\"\"}}}],\"histogram\":[{\"marker\":{\"pattern\":{\"fillmode\":\"overlay\",\"size\":10,\"solidity\":0.2}},\"type\":\"histogram\"}],\"scattergl\":[{\"type\":\"scattergl\",\"marker\":{\"colorbar\":{\"outlinewidth\":0,\"ticks\":\"\"}}}],\"scatter3d\":[{\"type\":\"scatter3d\",\"line\":{\"colorbar\":{\"outlinewidth\":0,\"ticks\":\"\"}},\"marker\":{\"colorbar\":{\"outlinewidth\":0,\"ticks\":\"\"}}}],\"scattermapbox\":[{\"type\":\"scattermapbox\",\"marker\":{\"colorbar\":{\"outlinewidth\":0,\"ticks\":\"\"}}}],\"scatterternary\":[{\"type\":\"scatterternary\",\"marker\":{\"colorbar\":{\"outlinewidth\":0,\"ticks\":\"\"}}}],\"scattercarpet\":[{\"type\":\"scattercarpet\",\"marker\":{\"colorbar\":{\"outlinewidth\":0,\"ticks\":\"\"}}}],\"carpet\":[{\"aaxis\":{\"endlinecolor\":\"#2a3f5f\",\"gridcolor\":\"white\",\"linecolor\":\"white\",\"minorgridcolor\":\"white\",\"startlinecolor\":\"#2a3f5f\"},\"baxis\":{\"endlinecolor\":\"#2a3f5f\",\"gridcolor\":\"white\",\"linecolor\":\"white\",\"minorgridcolor\":\"white\",\"startlinecolor\":\"#2a3f5f\"},\"type\":\"carpet\"}],\"table\":[{\"cells\":{\"fill\":{\"color\":\"#EBF0F8\"},\"line\":{\"color\":\"white\"}},\"header\":{\"fill\":{\"color\":\"#C8D4E3\"},\"line\":{\"color\":\"white\"}},\"type\":\"table\"}],\"barpolar\":[{\"marker\":{\"line\":{\"color\":\"#E5ECF6\",\"width\":0.5},\"pattern\":{\"fillmode\":\"overlay\",\"size\":10,\"solidity\":0.2}},\"type\":\"barpolar\"}],\"pie\":[{\"automargin\":true,\"type\":\"pie\"}]},\"layout\":{\"autotypenumbers\":\"strict\",\"colorway\":[\"#636efa\",\"#EF553B\",\"#00cc96\",\"#ab63fa\",\"#FFA15A\",\"#19d3f3\",\"#FF6692\",\"#B6E880\",\"#FF97FF\",\"#FECB52\"],\"font\":{\"color\":\"#2a3f5f\"},\"hovermode\":\"closest\",\"hoverlabel\":{\"align\":\"left\"},\"paper_bgcolor\":\"white\",\"plot_bgcolor\":\"#E5ECF6\",\"polar\":{\"bgcolor\":\"#E5ECF6\",\"angularaxis\":{\"gridcolor\":\"white\",\"linecolor\":\"white\",\"ticks\":\"\"},\"radialaxis\":{\"gridcolor\":\"white\",\"linecolor\":\"white\",\"ticks\":\"\"}},\"ternary\":{\"bgcolor\":\"#E5ECF6\",\"aaxis\":{\"gridcolor\":\"white\",\"linecolor\":\"white\",\"ticks\":\"\"},\"baxis\":{\"gridcolor\":\"white\",\"linecolor\":\"white\",\"ticks\":\"\"},\"caxis\":{\"gridcolor\":\"white\",\"linecolor\":\"white\",\"ticks\":\"\"}},\"coloraxis\":{\"colorbar\":{\"outlinewidth\":0,\"ticks\":\"\"}},\"colorscale\":{\"sequential\":[[0.0,\"#0d0887\"],[0.1111111111111111,\"#46039f\"],[0.2222222222222222,\"#7201a8\"],[0.3333333333333333,\"#9c179e\"],[0.4444444444444444,\"#bd3786\"],[0.5555555555555556,\"#d8576b\"],[0.6666666666666666,\"#ed7953\"],[0.7777777777777778,\"#fb9f3a\"],[0.8888888888888888,\"#fdca26\"],[1.0,\"#f0f921\"]],\"sequentialminus\":[[0.0,\"#0d0887\"],[0.1111111111111111,\"#46039f\"],[0.2222222222222222,\"#7201a8\"],[0.3333333333333333,\"#9c179e\"],[0.4444444444444444,\"#bd3786\"],[0.5555555555555556,\"#d8576b\"],[0.6666666666666666,\"#ed7953\"],[0.7777777777777778,\"#fb9f3a\"],[0.8888888888888888,\"#fdca26\"],[1.0,\"#f0f921\"]],\"diverging\":[[0,\"#8e0152\"],[0.1,\"#c51b7d\"],[0.2,\"#de77ae\"],[0.3,\"#f1b6da\"],[0.4,\"#fde0ef\"],[0.5,\"#f7f7f7\"],[0.6,\"#e6f5d0\"],[0.7,\"#b8e186\"],[0.8,\"#7fbc41\"],[0.9,\"#4d9221\"],[1,\"#276419\"]]},\"xaxis\":{\"gridcolor\":\"white\",\"linecolor\":\"white\",\"ticks\":\"\",\"title\":{\"standoff\":15},\"zerolinecolor\":\"white\",\"automargin\":true,\"zerolinewidth\":2},\"yaxis\":{\"gridcolor\":\"white\",\"linecolor\":\"white\",\"ticks\":\"\",\"title\":{\"standoff\":15},\"zerolinecolor\":\"white\",\"automargin\":true,\"zerolinewidth\":2},\"scene\":{\"xaxis\":{\"backgroundcolor\":\"#E5ECF6\",\"gridcolor\":\"white\",\"linecolor\":\"white\",\"showbackground\":true,\"ticks\":\"\",\"zerolinecolor\":\"white\",\"gridwidth\":2},\"yaxis\":{\"backgroundcolor\":\"#E5ECF6\",\"gridcolor\":\"white\",\"linecolor\":\"white\",\"showbackground\":true,\"ticks\":\"\",\"zerolinecolor\":\"white\",\"gridwidth\":2},\"zaxis\":{\"backgroundcolor\":\"#E5ECF6\",\"gridcolor\":\"white\",\"linecolor\":\"white\",\"showbackground\":true,\"ticks\":\"\",\"zerolinecolor\":\"white\",\"gridwidth\":2}},\"shapedefaults\":{\"line\":{\"color\":\"#2a3f5f\"}},\"annotationdefaults\":{\"arrowcolor\":\"#2a3f5f\",\"arrowhead\":0,\"arrowwidth\":1},\"geo\":{\"bgcolor\":\"white\",\"landcolor\":\"#E5ECF6\",\"subunitcolor\":\"white\",\"showland\":true,\"showlakes\":true,\"lakecolor\":\"white\"},\"title\":{\"x\":0.05},\"mapbox\":{\"style\":\"light\"}}},\"title\":{\"text\":\"Comparsion chart between predicted and original labels\",\"x\":0.5}},                        {\"responsive\": true}                    ).then(function(){\n",
       "                            \n",
       "var gd = document.getElementById('c0fdcc34-7c16-458f-9d11-8b38ebd1726b');\n",
       "var x = new MutationObserver(function (mutations, observer) {{\n",
       "        var display = window.getComputedStyle(gd).display;\n",
       "        if (!display || display === 'none') {{\n",
       "            console.log([gd, 'removed!']);\n",
       "            Plotly.purge(gd);\n",
       "            observer.disconnect();\n",
       "        }}\n",
       "}});\n",
       "\n",
       "// Listen for the removal of the full notebook cells\n",
       "var notebookContainer = gd.closest('#notebook-container');\n",
       "if (notebookContainer) {{\n",
       "    x.observe(notebookContainer, {childList: true});\n",
       "}}\n",
       "\n",
       "// Listen for the clearing of the current output cell\n",
       "var outputEl = gd.closest('.output');\n",
       "if (outputEl) {{\n",
       "    x.observe(outputEl, {childList: true});\n",
       "}}\n",
       "\n",
       "                        })                };                });            </script>        </div>"
      ]
     },
     "metadata": {},
     "output_type": "display_data"
    }
   ],
   "source": [
    "model_label_output = get_new_labels(trained_weight, trained_bias, my_feature)\n",
    "\n",
    "plot_original_and_predicted_label(my_feature, my_label, model_label_output)"
   ]
  },
  {
   "cell_type": "code",
   "execution_count": 28,
   "id": "33045acd",
   "metadata": {
    "scrolled": false
   },
   "outputs": [
    {
     "data": {
      "application/vnd.plotly.v1+json": {
       "config": {
        "plotlyServerURL": "https://plot.ly"
       },
       "data": [
        {
         "hovertemplate": "Epochs=%{x}<br>Error=%{y}<extra></extra>",
         "legendgroup": "",
         "line": {
          "color": "#636efa",
          "dash": "solid"
         },
         "marker": {
          "symbol": "circle"
         },
         "mode": "lines",
         "name": "",
         "orientation": "v",
         "showlegend": false,
         "type": "scatter",
         "x": [
          0,
          1,
          2,
          3,
          4,
          5,
          6,
          7,
          8,
          9,
          10,
          11,
          12,
          13,
          14,
          15,
          16,
          17,
          18,
          19,
          20,
          21,
          22,
          23,
          24,
          25,
          26,
          27,
          28,
          29,
          30,
          31,
          32,
          33,
          34,
          35,
          36,
          37,
          38,
          39,
          40,
          41,
          42,
          43,
          44,
          45,
          46,
          47,
          48,
          49,
          50,
          51,
          52,
          53,
          54,
          55,
          56,
          57,
          58,
          59,
          60,
          61,
          62,
          63,
          64,
          65,
          66,
          67,
          68,
          69,
          70,
          71,
          72,
          73,
          74,
          75,
          76,
          77,
          78,
          79,
          80,
          81,
          82,
          83,
          84,
          85,
          86,
          87,
          88,
          89,
          90,
          91,
          92,
          93,
          94,
          95,
          96,
          97,
          98,
          99,
          100,
          101,
          102,
          103,
          104,
          105,
          106,
          107,
          108,
          109,
          110,
          111,
          112,
          113,
          114,
          115,
          116,
          117,
          118,
          119,
          120,
          121,
          122,
          123,
          124,
          125,
          126,
          127,
          128,
          129,
          130,
          131,
          132,
          133,
          134,
          135,
          136,
          137,
          138,
          139,
          140,
          141,
          142,
          143,
          144,
          145,
          146,
          147,
          148,
          149,
          150,
          151,
          152,
          153,
          154,
          155,
          156,
          157,
          158,
          159,
          160,
          161,
          162,
          163,
          164,
          165,
          166,
          167,
          168,
          169,
          170,
          171,
          172,
          173,
          174,
          175,
          176,
          177,
          178,
          179,
          180,
          181,
          182,
          183,
          184,
          185,
          186,
          187,
          188,
          189,
          190,
          191,
          192,
          193,
          194,
          195,
          196,
          197,
          198,
          199,
          200,
          201,
          202,
          203,
          204,
          205,
          206,
          207,
          208,
          209,
          210,
          211,
          212,
          213,
          214,
          215,
          216,
          217,
          218,
          219,
          220,
          221,
          222,
          223,
          224,
          225,
          226,
          227,
          228,
          229,
          230,
          231,
          232,
          233,
          234,
          235,
          236,
          237,
          238,
          239,
          240,
          241,
          242,
          243,
          244,
          245,
          246,
          247,
          248,
          249,
          250,
          251,
          252,
          253,
          254,
          255,
          256,
          257,
          258,
          259,
          260,
          261,
          262,
          263,
          264,
          265,
          266,
          267,
          268,
          269,
          270,
          271,
          272,
          273,
          274,
          275,
          276,
          277,
          278,
          279,
          280,
          281,
          282,
          283,
          284,
          285,
          286,
          287,
          288,
          289,
          290,
          291,
          292,
          293,
          294,
          295,
          296,
          297,
          298,
          299
         ],
         "xaxis": "x",
         "y": [
          26.81634521484375,
          24.92502212524414,
          23.588979721069336,
          22.46240997314453,
          21.477493286132812,
          20.57848358154297,
          19.72776985168457,
          18.911558151245117,
          18.109628677368164,
          17.352405548095703,
          16.611923217773438,
          15.88744068145752,
          15.172082901000977,
          14.485782623291016,
          13.806647300720215,
          13.132987022399902,
          12.485658645629883,
          11.814779281616211,
          11.172672271728516,
          10.542380332946777,
          9.940566062927246,
          9.325031280517578,
          8.718043327331543,
          8.163520812988281,
          7.555797100067139,
          6.997851848602295,
          6.465892791748047,
          5.929452419281006,
          5.418056011199951,
          4.921919345855713,
          4.440671443939209,
          3.986471176147461,
          3.5551815032958984,
          3.154557704925537,
          2.7835865020751953,
          2.4229350090026855,
          2.118927478790283,
          1.8591852188110352,
          1.6328628063201904,
          1.4574707746505737,
          1.323570966720581,
          1.21750807762146,
          1.1563081741333008,
          1.109860897064209,
          1.0861046314239502,
          1.0854445695877075,
          1.0643553733825684,
          1.0832111835479736,
          1.0902881622314453,
          1.0668699741363525,
          1.051558256149292,
          1.1334521770477295,
          1.0585569143295288,
          1.0640077590942383,
          1.0374342203140259,
          1.0273923873901367,
          1.0316191911697388,
          1.077543020248413,
          1.0316721200942993,
          1.0082379579544067,
          1.037712812423706,
          1.015451192855835,
          1.0441104173660278,
          1.042673110961914,
          1.0225411653518677,
          1.091569185256958,
          0.9950451254844666,
          1.030282974243164,
          0.9999681115150452,
          1.0052490234375,
          1.0065929889678955,
          1.0813616514205933,
          0.974994421005249,
          0.976140558719635,
          1.0069568157196045,
          1.0923504829406738,
          0.9640348553657532,
          1.1058892011642456,
          1.0270867347717285,
          0.9522367119789124,
          1.0248260498046875,
          0.967927873134613,
          1.004334807395935,
          1.0614691972732544,
          1.0546568632125854,
          0.9490270018577576,
          0.9451378583908081,
          0.9832608699798584,
          0.9511090517044067,
          1.1469902992248535,
          1.0088382959365845,
          1.0508754253387451,
          0.9792916178703308,
          0.9704563617706299,
          0.9433942437171936,
          1.045346736907959,
          1.0512144565582275,
          1.0597496032714844,
          0.9544205665588379,
          0.9774762392044067,
          0.9776424169540405,
          1.1534786224365234,
          1.0209907293319702,
          0.9639657139778137,
          0.94938725233078,
          0.9430005550384521,
          0.9545918107032776,
          1.0088144540786743,
          0.9528952836990356,
          1.1391206979751587,
          0.9668163061141968,
          0.9699708819389343,
          0.9965924620628357,
          0.9721403121948242,
          0.9506629109382629,
          1.0357452630996704,
          0.989411473274231,
          0.9792140126228333,
          1.0196179151535034,
          0.9440105557441711,
          1.0030794143676758,
          0.9567078351974487,
          0.9399734735488892,
          0.9414139986038208,
          1.127521276473999,
          0.9634340405464172,
          0.9491837024688721,
          0.9720374345779419,
          0.9449614882469177,
          0.9461252689361572,
          0.9583253860473633,
          1.0309330224990845,
          0.9493985772132874,
          0.9842628836631775,
          1.132620930671692,
          1.0727506875991821,
          1.0011783838272095,
          0.9356898665428162,
          0.996668815612793,
          0.9714090824127197,
          1.0069172382354736,
          0.9698874950408936,
          0.9485652446746826,
          1.016939640045166,
          1.0894993543624878,
          0.9924370646476746,
          0.9457713961601257,
          0.9723631739616394,
          1.0327943563461304,
          0.9793996810913086,
          0.9854072332382202,
          0.9599447250366211,
          1.0548027753829956,
          0.9519053101539612,
          0.9465315937995911,
          1.065721869468689,
          0.9642810225486755,
          0.9590538740158081,
          1.0390770435333252,
          0.9361547231674194,
          0.9607036113739014,
          0.9504997134208679,
          0.9703792333602905,
          0.9497441649436951,
          1.0447298288345337,
          0.9721998572349548,
          1.0131371021270752,
          0.946537435054779,
          0.9377538561820984,
          0.9883803129196167,
          0.9744173288345337,
          1.1867491006851196,
          0.9472745060920715,
          0.9720373749732971,
          0.9433555603027344,
          0.9760997295379639,
          0.962455153465271,
          0.9838261008262634,
          0.9865851998329163,
          1.1347113847732544,
          1.0103795528411865,
          0.963133692741394,
          0.9565788507461548,
          0.9451495409011841,
          0.9908994436264038,
          1.0096338987350464,
          0.9629366397857666,
          0.9693600535392761,
          1.094857931137085,
          0.9580594897270203,
          0.9573753476142883,
          0.9408916234970093,
          0.9381847977638245,
          0.9567495584487915,
          0.9515446424484253,
          0.9653570652008057,
          0.9696751832962036,
          0.9485774040222168,
          0.9831588864326477,
          1.1865428686141968,
          1.0438231229782104,
          0.9438753128051758,
          0.9383528828620911,
          0.9366778135299683,
          0.9994029998779297,
          1.0811492204666138,
          1.0721886157989502,
          1.0223205089569092,
          0.9424008131027222,
          1.0437884330749512,
          0.9525946974754333,
          0.9402911067008972,
          0.954460620880127,
          1.0700279474258423,
          1.0246493816375732,
          0.944806694984436,
          0.9792644381523132,
          0.9678794741630554,
          1.0240826606750488,
          0.9919075965881348,
          0.9658965468406677,
          0.9871734380722046,
          1.0853389501571655,
          0.9462546706199646,
          1.0688785314559937,
          0.9847056865692139,
          0.9682703018188477,
          0.9992765188217163,
          0.9543617367744446,
          1.0095263719558716,
          0.9763457179069519,
          0.978729784488678,
          1.0939663648605347,
          1.0307059288024902,
          0.9629899859428406,
          1.0599377155303955,
          0.9696753621101379,
          0.9901611804962158,
          0.9587898254394531,
          0.9492995142936707,
          0.9936898946762085,
          0.9886881709098816,
          1.0685217380523682,
          0.9835661053657532,
          0.9527925252914429,
          1.0660351514816284,
          1.001405119895935,
          0.968558132648468,
          0.9621067047119141,
          1.0505964756011963,
          0.9472532868385315,
          0.954738199710846,
          1.005257248878479,
          0.9443228840827942,
          1.026208758354187,
          0.9895437359809875,
          0.935784101486206,
          0.9442595839500427,
          1.1178280115127563,
          1.1445035934448242,
          0.9907611608505249,
          1.0283575057983398,
          0.9599186182022095,
          0.964785099029541,
          0.947500467300415,
          1.03257155418396,
          0.9742469787597656,
          1.100796103477478,
          0.9702394008636475,
          1.0564218759536743,
          1.002826452255249,
          0.9414342641830444,
          0.9675437808036804,
          1.0450636148452759,
          0.9604215025901794,
          1.0985040664672852,
          0.986052393913269,
          0.9659500122070312,
          1.1246416568756104,
          1.067746639251709,
          0.9963634610176086,
          0.9806455373764038,
          0.9412568211555481,
          0.936287522315979,
          1.0046738386154175,
          0.9539355635643005,
          0.9492685794830322,
          1.030059814453125,
          0.9688966870307922,
          0.950374960899353,
          0.9427561163902283,
          1.0222371816635132,
          0.9561980366706848,
          0.9772241115570068,
          1.1132583618164062,
          1.0220284461975098,
          0.9406253099441528,
          1.2069883346557617,
          0.986221969127655,
          0.9664286375045776
         ],
         "yaxis": "y"
        }
       ],
       "layout": {
        "legend": {
         "tracegroupgap": 0
        },
        "margin": {
         "t": 60
        },
        "template": {
         "data": {
          "bar": [
           {
            "error_x": {
             "color": "#2a3f5f"
            },
            "error_y": {
             "color": "#2a3f5f"
            },
            "marker": {
             "line": {
              "color": "#E5ECF6",
              "width": 0.5
             },
             "pattern": {
              "fillmode": "overlay",
              "size": 10,
              "solidity": 0.2
             }
            },
            "type": "bar"
           }
          ],
          "barpolar": [
           {
            "marker": {
             "line": {
              "color": "#E5ECF6",
              "width": 0.5
             },
             "pattern": {
              "fillmode": "overlay",
              "size": 10,
              "solidity": 0.2
             }
            },
            "type": "barpolar"
           }
          ],
          "carpet": [
           {
            "aaxis": {
             "endlinecolor": "#2a3f5f",
             "gridcolor": "white",
             "linecolor": "white",
             "minorgridcolor": "white",
             "startlinecolor": "#2a3f5f"
            },
            "baxis": {
             "endlinecolor": "#2a3f5f",
             "gridcolor": "white",
             "linecolor": "white",
             "minorgridcolor": "white",
             "startlinecolor": "#2a3f5f"
            },
            "type": "carpet"
           }
          ],
          "choropleth": [
           {
            "colorbar": {
             "outlinewidth": 0,
             "ticks": ""
            },
            "type": "choropleth"
           }
          ],
          "contour": [
           {
            "colorbar": {
             "outlinewidth": 0,
             "ticks": ""
            },
            "colorscale": [
             [
              0,
              "#0d0887"
             ],
             [
              0.1111111111111111,
              "#46039f"
             ],
             [
              0.2222222222222222,
              "#7201a8"
             ],
             [
              0.3333333333333333,
              "#9c179e"
             ],
             [
              0.4444444444444444,
              "#bd3786"
             ],
             [
              0.5555555555555556,
              "#d8576b"
             ],
             [
              0.6666666666666666,
              "#ed7953"
             ],
             [
              0.7777777777777778,
              "#fb9f3a"
             ],
             [
              0.8888888888888888,
              "#fdca26"
             ],
             [
              1,
              "#f0f921"
             ]
            ],
            "type": "contour"
           }
          ],
          "contourcarpet": [
           {
            "colorbar": {
             "outlinewidth": 0,
             "ticks": ""
            },
            "type": "contourcarpet"
           }
          ],
          "heatmap": [
           {
            "colorbar": {
             "outlinewidth": 0,
             "ticks": ""
            },
            "colorscale": [
             [
              0,
              "#0d0887"
             ],
             [
              0.1111111111111111,
              "#46039f"
             ],
             [
              0.2222222222222222,
              "#7201a8"
             ],
             [
              0.3333333333333333,
              "#9c179e"
             ],
             [
              0.4444444444444444,
              "#bd3786"
             ],
             [
              0.5555555555555556,
              "#d8576b"
             ],
             [
              0.6666666666666666,
              "#ed7953"
             ],
             [
              0.7777777777777778,
              "#fb9f3a"
             ],
             [
              0.8888888888888888,
              "#fdca26"
             ],
             [
              1,
              "#f0f921"
             ]
            ],
            "type": "heatmap"
           }
          ],
          "heatmapgl": [
           {
            "colorbar": {
             "outlinewidth": 0,
             "ticks": ""
            },
            "colorscale": [
             [
              0,
              "#0d0887"
             ],
             [
              0.1111111111111111,
              "#46039f"
             ],
             [
              0.2222222222222222,
              "#7201a8"
             ],
             [
              0.3333333333333333,
              "#9c179e"
             ],
             [
              0.4444444444444444,
              "#bd3786"
             ],
             [
              0.5555555555555556,
              "#d8576b"
             ],
             [
              0.6666666666666666,
              "#ed7953"
             ],
             [
              0.7777777777777778,
              "#fb9f3a"
             ],
             [
              0.8888888888888888,
              "#fdca26"
             ],
             [
              1,
              "#f0f921"
             ]
            ],
            "type": "heatmapgl"
           }
          ],
          "histogram": [
           {
            "marker": {
             "pattern": {
              "fillmode": "overlay",
              "size": 10,
              "solidity": 0.2
             }
            },
            "type": "histogram"
           }
          ],
          "histogram2d": [
           {
            "colorbar": {
             "outlinewidth": 0,
             "ticks": ""
            },
            "colorscale": [
             [
              0,
              "#0d0887"
             ],
             [
              0.1111111111111111,
              "#46039f"
             ],
             [
              0.2222222222222222,
              "#7201a8"
             ],
             [
              0.3333333333333333,
              "#9c179e"
             ],
             [
              0.4444444444444444,
              "#bd3786"
             ],
             [
              0.5555555555555556,
              "#d8576b"
             ],
             [
              0.6666666666666666,
              "#ed7953"
             ],
             [
              0.7777777777777778,
              "#fb9f3a"
             ],
             [
              0.8888888888888888,
              "#fdca26"
             ],
             [
              1,
              "#f0f921"
             ]
            ],
            "type": "histogram2d"
           }
          ],
          "histogram2dcontour": [
           {
            "colorbar": {
             "outlinewidth": 0,
             "ticks": ""
            },
            "colorscale": [
             [
              0,
              "#0d0887"
             ],
             [
              0.1111111111111111,
              "#46039f"
             ],
             [
              0.2222222222222222,
              "#7201a8"
             ],
             [
              0.3333333333333333,
              "#9c179e"
             ],
             [
              0.4444444444444444,
              "#bd3786"
             ],
             [
              0.5555555555555556,
              "#d8576b"
             ],
             [
              0.6666666666666666,
              "#ed7953"
             ],
             [
              0.7777777777777778,
              "#fb9f3a"
             ],
             [
              0.8888888888888888,
              "#fdca26"
             ],
             [
              1,
              "#f0f921"
             ]
            ],
            "type": "histogram2dcontour"
           }
          ],
          "mesh3d": [
           {
            "colorbar": {
             "outlinewidth": 0,
             "ticks": ""
            },
            "type": "mesh3d"
           }
          ],
          "parcoords": [
           {
            "line": {
             "colorbar": {
              "outlinewidth": 0,
              "ticks": ""
             }
            },
            "type": "parcoords"
           }
          ],
          "pie": [
           {
            "automargin": true,
            "type": "pie"
           }
          ],
          "scatter": [
           {
            "fillpattern": {
             "fillmode": "overlay",
             "size": 10,
             "solidity": 0.2
            },
            "type": "scatter"
           }
          ],
          "scatter3d": [
           {
            "line": {
             "colorbar": {
              "outlinewidth": 0,
              "ticks": ""
             }
            },
            "marker": {
             "colorbar": {
              "outlinewidth": 0,
              "ticks": ""
             }
            },
            "type": "scatter3d"
           }
          ],
          "scattercarpet": [
           {
            "marker": {
             "colorbar": {
              "outlinewidth": 0,
              "ticks": ""
             }
            },
            "type": "scattercarpet"
           }
          ],
          "scattergeo": [
           {
            "marker": {
             "colorbar": {
              "outlinewidth": 0,
              "ticks": ""
             }
            },
            "type": "scattergeo"
           }
          ],
          "scattergl": [
           {
            "marker": {
             "colorbar": {
              "outlinewidth": 0,
              "ticks": ""
             }
            },
            "type": "scattergl"
           }
          ],
          "scattermapbox": [
           {
            "marker": {
             "colorbar": {
              "outlinewidth": 0,
              "ticks": ""
             }
            },
            "type": "scattermapbox"
           }
          ],
          "scatterpolar": [
           {
            "marker": {
             "colorbar": {
              "outlinewidth": 0,
              "ticks": ""
             }
            },
            "type": "scatterpolar"
           }
          ],
          "scatterpolargl": [
           {
            "marker": {
             "colorbar": {
              "outlinewidth": 0,
              "ticks": ""
             }
            },
            "type": "scatterpolargl"
           }
          ],
          "scatterternary": [
           {
            "marker": {
             "colorbar": {
              "outlinewidth": 0,
              "ticks": ""
             }
            },
            "type": "scatterternary"
           }
          ],
          "surface": [
           {
            "colorbar": {
             "outlinewidth": 0,
             "ticks": ""
            },
            "colorscale": [
             [
              0,
              "#0d0887"
             ],
             [
              0.1111111111111111,
              "#46039f"
             ],
             [
              0.2222222222222222,
              "#7201a8"
             ],
             [
              0.3333333333333333,
              "#9c179e"
             ],
             [
              0.4444444444444444,
              "#bd3786"
             ],
             [
              0.5555555555555556,
              "#d8576b"
             ],
             [
              0.6666666666666666,
              "#ed7953"
             ],
             [
              0.7777777777777778,
              "#fb9f3a"
             ],
             [
              0.8888888888888888,
              "#fdca26"
             ],
             [
              1,
              "#f0f921"
             ]
            ],
            "type": "surface"
           }
          ],
          "table": [
           {
            "cells": {
             "fill": {
              "color": "#EBF0F8"
             },
             "line": {
              "color": "white"
             }
            },
            "header": {
             "fill": {
              "color": "#C8D4E3"
             },
             "line": {
              "color": "white"
             }
            },
            "type": "table"
           }
          ]
         },
         "layout": {
          "annotationdefaults": {
           "arrowcolor": "#2a3f5f",
           "arrowhead": 0,
           "arrowwidth": 1
          },
          "autotypenumbers": "strict",
          "coloraxis": {
           "colorbar": {
            "outlinewidth": 0,
            "ticks": ""
           }
          },
          "colorscale": {
           "diverging": [
            [
             0,
             "#8e0152"
            ],
            [
             0.1,
             "#c51b7d"
            ],
            [
             0.2,
             "#de77ae"
            ],
            [
             0.3,
             "#f1b6da"
            ],
            [
             0.4,
             "#fde0ef"
            ],
            [
             0.5,
             "#f7f7f7"
            ],
            [
             0.6,
             "#e6f5d0"
            ],
            [
             0.7,
             "#b8e186"
            ],
            [
             0.8,
             "#7fbc41"
            ],
            [
             0.9,
             "#4d9221"
            ],
            [
             1,
             "#276419"
            ]
           ],
           "sequential": [
            [
             0,
             "#0d0887"
            ],
            [
             0.1111111111111111,
             "#46039f"
            ],
            [
             0.2222222222222222,
             "#7201a8"
            ],
            [
             0.3333333333333333,
             "#9c179e"
            ],
            [
             0.4444444444444444,
             "#bd3786"
            ],
            [
             0.5555555555555556,
             "#d8576b"
            ],
            [
             0.6666666666666666,
             "#ed7953"
            ],
            [
             0.7777777777777778,
             "#fb9f3a"
            ],
            [
             0.8888888888888888,
             "#fdca26"
            ],
            [
             1,
             "#f0f921"
            ]
           ],
           "sequentialminus": [
            [
             0,
             "#0d0887"
            ],
            [
             0.1111111111111111,
             "#46039f"
            ],
            [
             0.2222222222222222,
             "#7201a8"
            ],
            [
             0.3333333333333333,
             "#9c179e"
            ],
            [
             0.4444444444444444,
             "#bd3786"
            ],
            [
             0.5555555555555556,
             "#d8576b"
            ],
            [
             0.6666666666666666,
             "#ed7953"
            ],
            [
             0.7777777777777778,
             "#fb9f3a"
            ],
            [
             0.8888888888888888,
             "#fdca26"
            ],
            [
             1,
             "#f0f921"
            ]
           ]
          },
          "colorway": [
           "#636efa",
           "#EF553B",
           "#00cc96",
           "#ab63fa",
           "#FFA15A",
           "#19d3f3",
           "#FF6692",
           "#B6E880",
           "#FF97FF",
           "#FECB52"
          ],
          "font": {
           "color": "#2a3f5f"
          },
          "geo": {
           "bgcolor": "white",
           "lakecolor": "white",
           "landcolor": "#E5ECF6",
           "showlakes": true,
           "showland": true,
           "subunitcolor": "white"
          },
          "hoverlabel": {
           "align": "left"
          },
          "hovermode": "closest",
          "mapbox": {
           "style": "light"
          },
          "paper_bgcolor": "white",
          "plot_bgcolor": "#E5ECF6",
          "polar": {
           "angularaxis": {
            "gridcolor": "white",
            "linecolor": "white",
            "ticks": ""
           },
           "bgcolor": "#E5ECF6",
           "radialaxis": {
            "gridcolor": "white",
            "linecolor": "white",
            "ticks": ""
           }
          },
          "scene": {
           "xaxis": {
            "backgroundcolor": "#E5ECF6",
            "gridcolor": "white",
            "gridwidth": 2,
            "linecolor": "white",
            "showbackground": true,
            "ticks": "",
            "zerolinecolor": "white"
           },
           "yaxis": {
            "backgroundcolor": "#E5ECF6",
            "gridcolor": "white",
            "gridwidth": 2,
            "linecolor": "white",
            "showbackground": true,
            "ticks": "",
            "zerolinecolor": "white"
           },
           "zaxis": {
            "backgroundcolor": "#E5ECF6",
            "gridcolor": "white",
            "gridwidth": 2,
            "linecolor": "white",
            "showbackground": true,
            "ticks": "",
            "zerolinecolor": "white"
           }
          },
          "shapedefaults": {
           "line": {
            "color": "#2a3f5f"
           }
          },
          "ternary": {
           "aaxis": {
            "gridcolor": "white",
            "linecolor": "white",
            "ticks": ""
           },
           "baxis": {
            "gridcolor": "white",
            "linecolor": "white",
            "ticks": ""
           },
           "bgcolor": "#E5ECF6",
           "caxis": {
            "gridcolor": "white",
            "linecolor": "white",
            "ticks": ""
           }
          },
          "title": {
           "x": 0.05
          },
          "xaxis": {
           "automargin": true,
           "gridcolor": "white",
           "linecolor": "white",
           "ticks": "",
           "title": {
            "standoff": 15
           },
           "zerolinecolor": "white",
           "zerolinewidth": 2
          },
          "yaxis": {
           "automargin": true,
           "gridcolor": "white",
           "linecolor": "white",
           "ticks": "",
           "title": {
            "standoff": 15
           },
           "zerolinecolor": "white",
           "zerolinewidth": 2
          }
         }
        },
        "title": {
         "text": "Loss",
         "x": 0.5
        },
        "xaxis": {
         "anchor": "y",
         "domain": [
          0,
          1
         ],
         "title": {
          "text": "Epochs"
         }
        },
        "yaxis": {
         "anchor": "x",
         "domain": [
          0,
          1
         ],
         "title": {
          "text": "Error"
         }
        }
       }
      },
      "text/html": [
       "<div>                            <div id=\"57882ca2-dc8d-4853-b748-1e0b319e9ca9\" class=\"plotly-graph-div\" style=\"height:525px; width:100%;\"></div>            <script type=\"text/javascript\">                require([\"plotly\"], function(Plotly) {                    window.PLOTLYENV=window.PLOTLYENV || {};                                    if (document.getElementById(\"57882ca2-dc8d-4853-b748-1e0b319e9ca9\")) {                    Plotly.newPlot(                        \"57882ca2-dc8d-4853-b748-1e0b319e9ca9\",                        [{\"hovertemplate\":\"Epochs=%{x}<br>Error=%{y}<extra></extra>\",\"legendgroup\":\"\",\"line\":{\"color\":\"#636efa\",\"dash\":\"solid\"},\"marker\":{\"symbol\":\"circle\"},\"mode\":\"lines\",\"name\":\"\",\"orientation\":\"v\",\"showlegend\":false,\"x\":[0,1,2,3,4,5,6,7,8,9,10,11,12,13,14,15,16,17,18,19,20,21,22,23,24,25,26,27,28,29,30,31,32,33,34,35,36,37,38,39,40,41,42,43,44,45,46,47,48,49,50,51,52,53,54,55,56,57,58,59,60,61,62,63,64,65,66,67,68,69,70,71,72,73,74,75,76,77,78,79,80,81,82,83,84,85,86,87,88,89,90,91,92,93,94,95,96,97,98,99,100,101,102,103,104,105,106,107,108,109,110,111,112,113,114,115,116,117,118,119,120,121,122,123,124,125,126,127,128,129,130,131,132,133,134,135,136,137,138,139,140,141,142,143,144,145,146,147,148,149,150,151,152,153,154,155,156,157,158,159,160,161,162,163,164,165,166,167,168,169,170,171,172,173,174,175,176,177,178,179,180,181,182,183,184,185,186,187,188,189,190,191,192,193,194,195,196,197,198,199,200,201,202,203,204,205,206,207,208,209,210,211,212,213,214,215,216,217,218,219,220,221,222,223,224,225,226,227,228,229,230,231,232,233,234,235,236,237,238,239,240,241,242,243,244,245,246,247,248,249,250,251,252,253,254,255,256,257,258,259,260,261,262,263,264,265,266,267,268,269,270,271,272,273,274,275,276,277,278,279,280,281,282,283,284,285,286,287,288,289,290,291,292,293,294,295,296,297,298,299],\"xaxis\":\"x\",\"y\":[26.81634521484375,24.92502212524414,23.588979721069336,22.46240997314453,21.477493286132812,20.57848358154297,19.72776985168457,18.911558151245117,18.109628677368164,17.352405548095703,16.611923217773438,15.88744068145752,15.172082901000977,14.485782623291016,13.806647300720215,13.132987022399902,12.485658645629883,11.814779281616211,11.172672271728516,10.542380332946777,9.940566062927246,9.325031280517578,8.718043327331543,8.163520812988281,7.555797100067139,6.997851848602295,6.465892791748047,5.929452419281006,5.418056011199951,4.921919345855713,4.440671443939209,3.986471176147461,3.5551815032958984,3.154557704925537,2.7835865020751953,2.4229350090026855,2.118927478790283,1.8591852188110352,1.6328628063201904,1.4574707746505737,1.323570966720581,1.21750807762146,1.1563081741333008,1.109860897064209,1.0861046314239502,1.0854445695877075,1.0643553733825684,1.0832111835479736,1.0902881622314453,1.0668699741363525,1.051558256149292,1.1334521770477295,1.0585569143295288,1.0640077590942383,1.0374342203140259,1.0273923873901367,1.0316191911697388,1.077543020248413,1.0316721200942993,1.0082379579544067,1.037712812423706,1.015451192855835,1.0441104173660278,1.042673110961914,1.0225411653518677,1.091569185256958,0.9950451254844666,1.030282974243164,0.9999681115150452,1.0052490234375,1.0065929889678955,1.0813616514205933,0.974994421005249,0.976140558719635,1.0069568157196045,1.0923504829406738,0.9640348553657532,1.1058892011642456,1.0270867347717285,0.9522367119789124,1.0248260498046875,0.967927873134613,1.004334807395935,1.0614691972732544,1.0546568632125854,0.9490270018577576,0.9451378583908081,0.9832608699798584,0.9511090517044067,1.1469902992248535,1.0088382959365845,1.0508754253387451,0.9792916178703308,0.9704563617706299,0.9433942437171936,1.045346736907959,1.0512144565582275,1.0597496032714844,0.9544205665588379,0.9774762392044067,0.9776424169540405,1.1534786224365234,1.0209907293319702,0.9639657139778137,0.94938725233078,0.9430005550384521,0.9545918107032776,1.0088144540786743,0.9528952836990356,1.1391206979751587,0.9668163061141968,0.9699708819389343,0.9965924620628357,0.9721403121948242,0.9506629109382629,1.0357452630996704,0.989411473274231,0.9792140126228333,1.0196179151535034,0.9440105557441711,1.0030794143676758,0.9567078351974487,0.9399734735488892,0.9414139986038208,1.127521276473999,0.9634340405464172,0.9491837024688721,0.9720374345779419,0.9449614882469177,0.9461252689361572,0.9583253860473633,1.0309330224990845,0.9493985772132874,0.9842628836631775,1.132620930671692,1.0727506875991821,1.0011783838272095,0.9356898665428162,0.996668815612793,0.9714090824127197,1.0069172382354736,0.9698874950408936,0.9485652446746826,1.016939640045166,1.0894993543624878,0.9924370646476746,0.9457713961601257,0.9723631739616394,1.0327943563461304,0.9793996810913086,0.9854072332382202,0.9599447250366211,1.0548027753829956,0.9519053101539612,0.9465315937995911,1.065721869468689,0.9642810225486755,0.9590538740158081,1.0390770435333252,0.9361547231674194,0.9607036113739014,0.9504997134208679,0.9703792333602905,0.9497441649436951,1.0447298288345337,0.9721998572349548,1.0131371021270752,0.946537435054779,0.9377538561820984,0.9883803129196167,0.9744173288345337,1.1867491006851196,0.9472745060920715,0.9720373749732971,0.9433555603027344,0.9760997295379639,0.962455153465271,0.9838261008262634,0.9865851998329163,1.1347113847732544,1.0103795528411865,0.963133692741394,0.9565788507461548,0.9451495409011841,0.9908994436264038,1.0096338987350464,0.9629366397857666,0.9693600535392761,1.094857931137085,0.9580594897270203,0.9573753476142883,0.9408916234970093,0.9381847977638245,0.9567495584487915,0.9515446424484253,0.9653570652008057,0.9696751832962036,0.9485774040222168,0.9831588864326477,1.1865428686141968,1.0438231229782104,0.9438753128051758,0.9383528828620911,0.9366778135299683,0.9994029998779297,1.0811492204666138,1.0721886157989502,1.0223205089569092,0.9424008131027222,1.0437884330749512,0.9525946974754333,0.9402911067008972,0.954460620880127,1.0700279474258423,1.0246493816375732,0.944806694984436,0.9792644381523132,0.9678794741630554,1.0240826606750488,0.9919075965881348,0.9658965468406677,0.9871734380722046,1.0853389501571655,0.9462546706199646,1.0688785314559937,0.9847056865692139,0.9682703018188477,0.9992765188217163,0.9543617367744446,1.0095263719558716,0.9763457179069519,0.978729784488678,1.0939663648605347,1.0307059288024902,0.9629899859428406,1.0599377155303955,0.9696753621101379,0.9901611804962158,0.9587898254394531,0.9492995142936707,0.9936898946762085,0.9886881709098816,1.0685217380523682,0.9835661053657532,0.9527925252914429,1.0660351514816284,1.001405119895935,0.968558132648468,0.9621067047119141,1.0505964756011963,0.9472532868385315,0.954738199710846,1.005257248878479,0.9443228840827942,1.026208758354187,0.9895437359809875,0.935784101486206,0.9442595839500427,1.1178280115127563,1.1445035934448242,0.9907611608505249,1.0283575057983398,0.9599186182022095,0.964785099029541,0.947500467300415,1.03257155418396,0.9742469787597656,1.100796103477478,0.9702394008636475,1.0564218759536743,1.002826452255249,0.9414342641830444,0.9675437808036804,1.0450636148452759,0.9604215025901794,1.0985040664672852,0.986052393913269,0.9659500122070312,1.1246416568756104,1.067746639251709,0.9963634610176086,0.9806455373764038,0.9412568211555481,0.936287522315979,1.0046738386154175,0.9539355635643005,0.9492685794830322,1.030059814453125,0.9688966870307922,0.950374960899353,0.9427561163902283,1.0222371816635132,0.9561980366706848,0.9772241115570068,1.1132583618164062,1.0220284461975098,0.9406253099441528,1.2069883346557617,0.986221969127655,0.9664286375045776],\"yaxis\":\"y\",\"type\":\"scatter\"}],                        {\"template\":{\"data\":{\"histogram2dcontour\":[{\"type\":\"histogram2dcontour\",\"colorbar\":{\"outlinewidth\":0,\"ticks\":\"\"},\"colorscale\":[[0.0,\"#0d0887\"],[0.1111111111111111,\"#46039f\"],[0.2222222222222222,\"#7201a8\"],[0.3333333333333333,\"#9c179e\"],[0.4444444444444444,\"#bd3786\"],[0.5555555555555556,\"#d8576b\"],[0.6666666666666666,\"#ed7953\"],[0.7777777777777778,\"#fb9f3a\"],[0.8888888888888888,\"#fdca26\"],[1.0,\"#f0f921\"]]}],\"choropleth\":[{\"type\":\"choropleth\",\"colorbar\":{\"outlinewidth\":0,\"ticks\":\"\"}}],\"histogram2d\":[{\"type\":\"histogram2d\",\"colorbar\":{\"outlinewidth\":0,\"ticks\":\"\"},\"colorscale\":[[0.0,\"#0d0887\"],[0.1111111111111111,\"#46039f\"],[0.2222222222222222,\"#7201a8\"],[0.3333333333333333,\"#9c179e\"],[0.4444444444444444,\"#bd3786\"],[0.5555555555555556,\"#d8576b\"],[0.6666666666666666,\"#ed7953\"],[0.7777777777777778,\"#fb9f3a\"],[0.8888888888888888,\"#fdca26\"],[1.0,\"#f0f921\"]]}],\"heatmap\":[{\"type\":\"heatmap\",\"colorbar\":{\"outlinewidth\":0,\"ticks\":\"\"},\"colorscale\":[[0.0,\"#0d0887\"],[0.1111111111111111,\"#46039f\"],[0.2222222222222222,\"#7201a8\"],[0.3333333333333333,\"#9c179e\"],[0.4444444444444444,\"#bd3786\"],[0.5555555555555556,\"#d8576b\"],[0.6666666666666666,\"#ed7953\"],[0.7777777777777778,\"#fb9f3a\"],[0.8888888888888888,\"#fdca26\"],[1.0,\"#f0f921\"]]}],\"heatmapgl\":[{\"type\":\"heatmapgl\",\"colorbar\":{\"outlinewidth\":0,\"ticks\":\"\"},\"colorscale\":[[0.0,\"#0d0887\"],[0.1111111111111111,\"#46039f\"],[0.2222222222222222,\"#7201a8\"],[0.3333333333333333,\"#9c179e\"],[0.4444444444444444,\"#bd3786\"],[0.5555555555555556,\"#d8576b\"],[0.6666666666666666,\"#ed7953\"],[0.7777777777777778,\"#fb9f3a\"],[0.8888888888888888,\"#fdca26\"],[1.0,\"#f0f921\"]]}],\"contourcarpet\":[{\"type\":\"contourcarpet\",\"colorbar\":{\"outlinewidth\":0,\"ticks\":\"\"}}],\"contour\":[{\"type\":\"contour\",\"colorbar\":{\"outlinewidth\":0,\"ticks\":\"\"},\"colorscale\":[[0.0,\"#0d0887\"],[0.1111111111111111,\"#46039f\"],[0.2222222222222222,\"#7201a8\"],[0.3333333333333333,\"#9c179e\"],[0.4444444444444444,\"#bd3786\"],[0.5555555555555556,\"#d8576b\"],[0.6666666666666666,\"#ed7953\"],[0.7777777777777778,\"#fb9f3a\"],[0.8888888888888888,\"#fdca26\"],[1.0,\"#f0f921\"]]}],\"surface\":[{\"type\":\"surface\",\"colorbar\":{\"outlinewidth\":0,\"ticks\":\"\"},\"colorscale\":[[0.0,\"#0d0887\"],[0.1111111111111111,\"#46039f\"],[0.2222222222222222,\"#7201a8\"],[0.3333333333333333,\"#9c179e\"],[0.4444444444444444,\"#bd3786\"],[0.5555555555555556,\"#d8576b\"],[0.6666666666666666,\"#ed7953\"],[0.7777777777777778,\"#fb9f3a\"],[0.8888888888888888,\"#fdca26\"],[1.0,\"#f0f921\"]]}],\"mesh3d\":[{\"type\":\"mesh3d\",\"colorbar\":{\"outlinewidth\":0,\"ticks\":\"\"}}],\"scatter\":[{\"fillpattern\":{\"fillmode\":\"overlay\",\"size\":10,\"solidity\":0.2},\"type\":\"scatter\"}],\"parcoords\":[{\"type\":\"parcoords\",\"line\":{\"colorbar\":{\"outlinewidth\":0,\"ticks\":\"\"}}}],\"scatterpolargl\":[{\"type\":\"scatterpolargl\",\"marker\":{\"colorbar\":{\"outlinewidth\":0,\"ticks\":\"\"}}}],\"bar\":[{\"error_x\":{\"color\":\"#2a3f5f\"},\"error_y\":{\"color\":\"#2a3f5f\"},\"marker\":{\"line\":{\"color\":\"#E5ECF6\",\"width\":0.5},\"pattern\":{\"fillmode\":\"overlay\",\"size\":10,\"solidity\":0.2}},\"type\":\"bar\"}],\"scattergeo\":[{\"type\":\"scattergeo\",\"marker\":{\"colorbar\":{\"outlinewidth\":0,\"ticks\":\"\"}}}],\"scatterpolar\":[{\"type\":\"scatterpolar\",\"marker\":{\"colorbar\":{\"outlinewidth\":0,\"ticks\":\"\"}}}],\"histogram\":[{\"marker\":{\"pattern\":{\"fillmode\":\"overlay\",\"size\":10,\"solidity\":0.2}},\"type\":\"histogram\"}],\"scattergl\":[{\"type\":\"scattergl\",\"marker\":{\"colorbar\":{\"outlinewidth\":0,\"ticks\":\"\"}}}],\"scatter3d\":[{\"type\":\"scatter3d\",\"line\":{\"colorbar\":{\"outlinewidth\":0,\"ticks\":\"\"}},\"marker\":{\"colorbar\":{\"outlinewidth\":0,\"ticks\":\"\"}}}],\"scattermapbox\":[{\"type\":\"scattermapbox\",\"marker\":{\"colorbar\":{\"outlinewidth\":0,\"ticks\":\"\"}}}],\"scatterternary\":[{\"type\":\"scatterternary\",\"marker\":{\"colorbar\":{\"outlinewidth\":0,\"ticks\":\"\"}}}],\"scattercarpet\":[{\"type\":\"scattercarpet\",\"marker\":{\"colorbar\":{\"outlinewidth\":0,\"ticks\":\"\"}}}],\"carpet\":[{\"aaxis\":{\"endlinecolor\":\"#2a3f5f\",\"gridcolor\":\"white\",\"linecolor\":\"white\",\"minorgridcolor\":\"white\",\"startlinecolor\":\"#2a3f5f\"},\"baxis\":{\"endlinecolor\":\"#2a3f5f\",\"gridcolor\":\"white\",\"linecolor\":\"white\",\"minorgridcolor\":\"white\",\"startlinecolor\":\"#2a3f5f\"},\"type\":\"carpet\"}],\"table\":[{\"cells\":{\"fill\":{\"color\":\"#EBF0F8\"},\"line\":{\"color\":\"white\"}},\"header\":{\"fill\":{\"color\":\"#C8D4E3\"},\"line\":{\"color\":\"white\"}},\"type\":\"table\"}],\"barpolar\":[{\"marker\":{\"line\":{\"color\":\"#E5ECF6\",\"width\":0.5},\"pattern\":{\"fillmode\":\"overlay\",\"size\":10,\"solidity\":0.2}},\"type\":\"barpolar\"}],\"pie\":[{\"automargin\":true,\"type\":\"pie\"}]},\"layout\":{\"autotypenumbers\":\"strict\",\"colorway\":[\"#636efa\",\"#EF553B\",\"#00cc96\",\"#ab63fa\",\"#FFA15A\",\"#19d3f3\",\"#FF6692\",\"#B6E880\",\"#FF97FF\",\"#FECB52\"],\"font\":{\"color\":\"#2a3f5f\"},\"hovermode\":\"closest\",\"hoverlabel\":{\"align\":\"left\"},\"paper_bgcolor\":\"white\",\"plot_bgcolor\":\"#E5ECF6\",\"polar\":{\"bgcolor\":\"#E5ECF6\",\"angularaxis\":{\"gridcolor\":\"white\",\"linecolor\":\"white\",\"ticks\":\"\"},\"radialaxis\":{\"gridcolor\":\"white\",\"linecolor\":\"white\",\"ticks\":\"\"}},\"ternary\":{\"bgcolor\":\"#E5ECF6\",\"aaxis\":{\"gridcolor\":\"white\",\"linecolor\":\"white\",\"ticks\":\"\"},\"baxis\":{\"gridcolor\":\"white\",\"linecolor\":\"white\",\"ticks\":\"\"},\"caxis\":{\"gridcolor\":\"white\",\"linecolor\":\"white\",\"ticks\":\"\"}},\"coloraxis\":{\"colorbar\":{\"outlinewidth\":0,\"ticks\":\"\"}},\"colorscale\":{\"sequential\":[[0.0,\"#0d0887\"],[0.1111111111111111,\"#46039f\"],[0.2222222222222222,\"#7201a8\"],[0.3333333333333333,\"#9c179e\"],[0.4444444444444444,\"#bd3786\"],[0.5555555555555556,\"#d8576b\"],[0.6666666666666666,\"#ed7953\"],[0.7777777777777778,\"#fb9f3a\"],[0.8888888888888888,\"#fdca26\"],[1.0,\"#f0f921\"]],\"sequentialminus\":[[0.0,\"#0d0887\"],[0.1111111111111111,\"#46039f\"],[0.2222222222222222,\"#7201a8\"],[0.3333333333333333,\"#9c179e\"],[0.4444444444444444,\"#bd3786\"],[0.5555555555555556,\"#d8576b\"],[0.6666666666666666,\"#ed7953\"],[0.7777777777777778,\"#fb9f3a\"],[0.8888888888888888,\"#fdca26\"],[1.0,\"#f0f921\"]],\"diverging\":[[0,\"#8e0152\"],[0.1,\"#c51b7d\"],[0.2,\"#de77ae\"],[0.3,\"#f1b6da\"],[0.4,\"#fde0ef\"],[0.5,\"#f7f7f7\"],[0.6,\"#e6f5d0\"],[0.7,\"#b8e186\"],[0.8,\"#7fbc41\"],[0.9,\"#4d9221\"],[1,\"#276419\"]]},\"xaxis\":{\"gridcolor\":\"white\",\"linecolor\":\"white\",\"ticks\":\"\",\"title\":{\"standoff\":15},\"zerolinecolor\":\"white\",\"automargin\":true,\"zerolinewidth\":2},\"yaxis\":{\"gridcolor\":\"white\",\"linecolor\":\"white\",\"ticks\":\"\",\"title\":{\"standoff\":15},\"zerolinecolor\":\"white\",\"automargin\":true,\"zerolinewidth\":2},\"scene\":{\"xaxis\":{\"backgroundcolor\":\"#E5ECF6\",\"gridcolor\":\"white\",\"linecolor\":\"white\",\"showbackground\":true,\"ticks\":\"\",\"zerolinecolor\":\"white\",\"gridwidth\":2},\"yaxis\":{\"backgroundcolor\":\"#E5ECF6\",\"gridcolor\":\"white\",\"linecolor\":\"white\",\"showbackground\":true,\"ticks\":\"\",\"zerolinecolor\":\"white\",\"gridwidth\":2},\"zaxis\":{\"backgroundcolor\":\"#E5ECF6\",\"gridcolor\":\"white\",\"linecolor\":\"white\",\"showbackground\":true,\"ticks\":\"\",\"zerolinecolor\":\"white\",\"gridwidth\":2}},\"shapedefaults\":{\"line\":{\"color\":\"#2a3f5f\"}},\"annotationdefaults\":{\"arrowcolor\":\"#2a3f5f\",\"arrowhead\":0,\"arrowwidth\":1},\"geo\":{\"bgcolor\":\"white\",\"landcolor\":\"#E5ECF6\",\"subunitcolor\":\"white\",\"showland\":true,\"showlakes\":true,\"lakecolor\":\"white\"},\"title\":{\"x\":0.05},\"mapbox\":{\"style\":\"light\"}}},\"xaxis\":{\"anchor\":\"y\",\"domain\":[0.0,1.0],\"title\":{\"text\":\"Epochs\"}},\"yaxis\":{\"anchor\":\"x\",\"domain\":[0.0,1.0],\"title\":{\"text\":\"Error\"}},\"legend\":{\"tracegroupgap\":0},\"margin\":{\"t\":60},\"title\":{\"text\":\"Loss\",\"x\":0.5}},                        {\"responsive\": true}                    ).then(function(){\n",
       "                            \n",
       "var gd = document.getElementById('57882ca2-dc8d-4853-b748-1e0b319e9ca9');\n",
       "var x = new MutationObserver(function (mutations, observer) {{\n",
       "        var display = window.getComputedStyle(gd).display;\n",
       "        if (!display || display === 'none') {{\n",
       "            console.log([gd, 'removed!']);\n",
       "            Plotly.purge(gd);\n",
       "            observer.disconnect();\n",
       "        }}\n",
       "}});\n",
       "\n",
       "// Listen for the removal of the full notebook cells\n",
       "var notebookContainer = gd.closest('#notebook-container');\n",
       "if (notebookContainer) {{\n",
       "    x.observe(notebookContainer, {childList: true});\n",
       "}}\n",
       "\n",
       "// Listen for the clearing of the current output cell\n",
       "var outputEl = gd.closest('.output');\n",
       "if (outputEl) {{\n",
       "    x.observe(outputEl, {childList: true});\n",
       "}}\n",
       "\n",
       "                        })                };                });            </script>        </div>"
      ]
     },
     "metadata": {},
     "output_type": "display_data"
    }
   ],
   "source": [
    "plot_loss(epochs_from_model, rmse)"
   ]
  },
  {
   "cell_type": "markdown",
   "id": "4a00315a",
   "metadata": {},
   "source": [
    "### Vemos que tenemos un caso similar al modelo anterior. Donde el gradiente descediente salta de un lado al otro de la curva."
   ]
  },
  {
   "cell_type": "markdown",
   "id": "bc6b76ad",
   "metadata": {},
   "source": [
    "<br>"
   ]
  },
  {
   "cell_type": "markdown",
   "id": "b43263f4",
   "metadata": {},
   "source": [
    "### Encontremos un modelo que minimice el loss:"
   ]
  },
  {
   "cell_type": "code",
   "execution_count": 42,
   "id": "435dddac",
   "metadata": {},
   "outputs": [],
   "source": [
    "learning_rate = 0.05 #que tan rapido se disminuye el error.\n",
    "epochs = 300#Cantidad de veces que se va a ver el bach de dataset\n",
    "batch_size = 12"
   ]
  },
  {
   "cell_type": "code",
   "execution_count": 43,
   "id": "b4b2c528",
   "metadata": {},
   "outputs": [
    {
     "name": "stdout",
     "output_type": "stream",
     "text": [
      "Epoch 1/300\n",
      "1/1 [==============================] - 0s 109ms/step - loss: 523.4875 - root_mean_squared_error: 22.8799\n",
      "Epoch 2/300\n",
      "1/1 [==============================] - 0s 2ms/step - loss: 465.5096 - root_mean_squared_error: 21.5757\n",
      "Epoch 3/300\n",
      "1/1 [==============================] - 0s 1ms/step - loss: 426.6869 - root_mean_squared_error: 20.6564\n",
      "Epoch 4/300\n",
      "1/1 [==============================] - 0s 2ms/step - loss: 396.0331 - root_mean_squared_error: 19.9006\n",
      "Epoch 5/300\n",
      "1/1 [==============================] - 0s 1ms/step - loss: 370.1476 - root_mean_squared_error: 19.2392\n",
      "Epoch 6/300\n",
      "1/1 [==============================] - 0s 2ms/step - loss: 347.4720 - root_mean_squared_error: 18.6406\n",
      "Epoch 7/300\n",
      "1/1 [==============================] - 0s 1ms/step - loss: 327.1453 - root_mean_squared_error: 18.0872\n",
      "Epoch 8/300\n",
      "1/1 [==============================] - 0s 2ms/step - loss: 308.6354 - root_mean_squared_error: 17.5680\n",
      "Epoch 9/300\n",
      "1/1 [==============================] - 0s 1ms/step - loss: 291.5876 - root_mean_squared_error: 17.0759\n",
      "Epoch 10/300\n",
      "1/1 [==============================] - 0s 1ms/step - loss: 275.7523 - root_mean_squared_error: 16.6058\n",
      "Epoch 11/300\n",
      "1/1 [==============================] - 0s 1ms/step - loss: 260.9472 - root_mean_squared_error: 16.1539\n",
      "Epoch 12/300\n",
      "1/1 [==============================] - 0s 2ms/step - loss: 247.0340 - root_mean_squared_error: 15.7173\n",
      "Epoch 13/300\n",
      "1/1 [==============================] - 0s 1ms/step - loss: 233.9057 - root_mean_squared_error: 15.2940\n",
      "Epoch 14/300\n",
      "1/1 [==============================] - 0s 2ms/step - loss: 221.4775 - root_mean_squared_error: 14.8821\n",
      "Epoch 15/300\n",
      "1/1 [==============================] - 0s 1ms/step - loss: 209.6810 - root_mean_squared_error: 14.4804\n",
      "Epoch 16/300\n",
      "1/1 [==============================] - 0s 2ms/step - loss: 198.4603 - root_mean_squared_error: 14.0876\n",
      "Epoch 17/300\n",
      "1/1 [==============================] - 0s 1ms/step - loss: 187.7690 - root_mean_squared_error: 13.7029\n",
      "Epoch 18/300\n",
      "1/1 [==============================] - 0s 2ms/step - loss: 177.5683 - root_mean_squared_error: 13.3255\n",
      "Epoch 19/300\n",
      "1/1 [==============================] - 0s 1ms/step - loss: 167.8253 - root_mean_squared_error: 12.9547\n",
      "Epoch 20/300\n",
      "1/1 [==============================] - 0s 1ms/step - loss: 158.5118 - root_mean_squared_error: 12.5901\n",
      "Epoch 21/300\n",
      "1/1 [==============================] - 0s 1ms/step - loss: 149.6036 - root_mean_squared_error: 12.2313\n",
      "Epoch 22/300\n",
      "1/1 [==============================] - 0s 2ms/step - loss: 141.0795 - root_mean_squared_error: 11.8777\n",
      "Epoch 23/300\n",
      "1/1 [==============================] - 0s 2ms/step - loss: 132.9211 - root_mean_squared_error: 11.5291\n",
      "Epoch 24/300\n",
      "1/1 [==============================] - 0s 2ms/step - loss: 125.1121 - root_mean_squared_error: 11.1854\n",
      "Epoch 25/300\n",
      "1/1 [==============================] - 0s 1ms/step - loss: 117.6380 - root_mean_squared_error: 10.8461\n",
      "Epoch 26/300\n",
      "1/1 [==============================] - 0s 2ms/step - loss: 110.4858 - root_mean_squared_error: 10.5112\n",
      "Epoch 27/300\n",
      "1/1 [==============================] - 0s 2ms/step - loss: 103.6438 - root_mean_squared_error: 10.1806\n",
      "Epoch 28/300\n",
      "1/1 [==============================] - 0s 2ms/step - loss: 97.1014 - root_mean_squared_error: 9.8540\n",
      "Epoch 29/300\n",
      "1/1 [==============================] - 0s 1ms/step - loss: 90.8488 - root_mean_squared_error: 9.5315\n",
      "Epoch 30/300\n",
      "1/1 [==============================] - 0s 2ms/step - loss: 84.8773 - root_mean_squared_error: 9.2129\n",
      "Epoch 31/300\n",
      "1/1 [==============================] - 0s 2ms/step - loss: 79.1784 - root_mean_squared_error: 8.8982\n",
      "Epoch 32/300\n",
      "1/1 [==============================] - 0s 2ms/step - loss: 73.7443 - root_mean_squared_error: 8.5875\n",
      "Epoch 33/300\n",
      "1/1 [==============================] - 0s 2ms/step - loss: 68.5679 - root_mean_squared_error: 8.2806\n",
      "Epoch 34/300\n",
      "1/1 [==============================] - 0s 2ms/step - loss: 63.6422 - root_mean_squared_error: 7.9776\n",
      "Epoch 35/300\n",
      "1/1 [==============================] - 0s 2ms/step - loss: 58.9606 - root_mean_squared_error: 7.6786\n",
      "Epoch 36/300\n",
      "1/1 [==============================] - 0s 2ms/step - loss: 54.5168 - root_mean_squared_error: 7.3835\n",
      "Epoch 37/300\n",
      "1/1 [==============================] - 0s 2ms/step - loss: 50.3045 - root_mean_squared_error: 7.0926\n",
      "Epoch 38/300\n",
      "1/1 [==============================] - 0s 2ms/step - loss: 46.3178 - root_mean_squared_error: 6.8057\n",
      "Epoch 39/300\n",
      "1/1 [==============================] - 0s 1ms/step - loss: 42.5508 - root_mean_squared_error: 6.5231\n",
      "Epoch 40/300\n",
      "1/1 [==============================] - 0s 2ms/step - loss: 38.9977 - root_mean_squared_error: 6.2448\n",
      "Epoch 41/300\n",
      "1/1 [==============================] - 0s 1ms/step - loss: 35.6528 - root_mean_squared_error: 5.9710\n",
      "Epoch 42/300\n",
      "1/1 [==============================] - 0s 2ms/step - loss: 32.5102 - root_mean_squared_error: 5.7018\n",
      "Epoch 43/300\n",
      "1/1 [==============================] - 0s 2ms/step - loss: 29.5643 - root_mean_squared_error: 5.4373\n",
      "Epoch 44/300\n",
      "1/1 [==============================] - 0s 2ms/step - loss: 26.8092 - root_mean_squared_error: 5.1778\n",
      "Epoch 45/300\n",
      "1/1 [==============================] - 0s 2ms/step - loss: 24.2392 - root_mean_squared_error: 4.9233\n",
      "Epoch 46/300\n",
      "1/1 [==============================] - 0s 1ms/step - loss: 21.8483 - root_mean_squared_error: 4.6742\n",
      "Epoch 47/300\n",
      "1/1 [==============================] - 0s 2ms/step - loss: 19.6305 - root_mean_squared_error: 4.4306\n",
      "Epoch 48/300\n",
      "1/1 [==============================] - 0s 1ms/step - loss: 17.5798 - root_mean_squared_error: 4.1928\n",
      "Epoch 49/300\n",
      "1/1 [==============================] - 0s 2ms/step - loss: 15.6898 - root_mean_squared_error: 3.9610\n",
      "Epoch 50/300\n",
      "1/1 [==============================] - 0s 2ms/step - loss: 13.9543 - root_mean_squared_error: 3.7355\n",
      "Epoch 51/300\n",
      "1/1 [==============================] - 0s 2ms/step - loss: 12.3668 - root_mean_squared_error: 3.5166\n",
      "Epoch 52/300\n",
      "1/1 [==============================] - 0s 2ms/step - loss: 10.9208 - root_mean_squared_error: 3.3047\n",
      "Epoch 53/300\n",
      "1/1 [==============================] - 0s 1ms/step - loss: 9.6095 - root_mean_squared_error: 3.0999\n",
      "Epoch 54/300\n",
      "1/1 [==============================] - 0s 1ms/step - loss: 8.4261 - root_mean_squared_error: 2.9028\n",
      "Epoch 55/300\n",
      "1/1 [==============================] - 0s 2ms/step - loss: 7.3636 - root_mean_squared_error: 2.7136\n",
      "Epoch 56/300\n",
      "1/1 [==============================] - 0s 2ms/step - loss: 6.4151 - root_mean_squared_error: 2.5328\n",
      "Epoch 57/300\n",
      "1/1 [==============================] - 0s 1ms/step - loss: 5.5733 - root_mean_squared_error: 2.3608\n",
      "Epoch 58/300\n",
      "1/1 [==============================] - 0s 2ms/step - loss: 4.8312 - root_mean_squared_error: 2.1980\n",
      "Epoch 59/300\n",
      "1/1 [==============================] - 0s 1ms/step - loss: 4.1814 - root_mean_squared_error: 2.0448\n",
      "Epoch 60/300\n",
      "1/1 [==============================] - 0s 2ms/step - loss: 3.6167 - root_mean_squared_error: 1.9018\n",
      "Epoch 61/300\n",
      "1/1 [==============================] - 0s 1ms/step - loss: 3.1300 - root_mean_squared_error: 1.7692\n",
      "Epoch 62/300\n",
      "1/1 [==============================] - 0s 2ms/step - loss: 2.7141 - root_mean_squared_error: 1.6474\n",
      "Epoch 63/300\n",
      "1/1 [==============================] - 0s 1ms/step - loss: 2.3621 - root_mean_squared_error: 1.5369\n",
      "Epoch 64/300\n",
      "1/1 [==============================] - 0s 1ms/step - loss: 2.0671 - root_mean_squared_error: 1.4378\n",
      "Epoch 65/300\n",
      "1/1 [==============================] - 0s 1ms/step - loss: 1.8227 - root_mean_squared_error: 1.3501\n",
      "Epoch 66/300\n",
      "1/1 [==============================] - 0s 2ms/step - loss: 1.6225 - root_mean_squared_error: 1.2738\n",
      "Epoch 67/300\n",
      "1/1 [==============================] - 0s 1ms/step - loss: 1.4606 - root_mean_squared_error: 1.2085\n",
      "Epoch 68/300\n",
      "1/1 [==============================] - 0s 1ms/step - loss: 1.3313 - root_mean_squared_error: 1.1538\n",
      "Epoch 69/300\n",
      "1/1 [==============================] - 0s 1ms/step - loss: 1.2297 - root_mean_squared_error: 1.1089\n",
      "Epoch 70/300\n",
      "1/1 [==============================] - 0s 1ms/step - loss: 1.1510 - root_mean_squared_error: 1.0728\n",
      "Epoch 71/300\n",
      "1/1 [==============================] - 0s 2ms/step - loss: 1.0910 - root_mean_squared_error: 1.0445\n",
      "Epoch 72/300\n"
     ]
    },
    {
     "name": "stdout",
     "output_type": "stream",
     "text": [
      "1/1 [==============================] - 0s 2ms/step - loss: 1.0460 - root_mean_squared_error: 1.0228\n",
      "Epoch 73/300\n",
      "1/1 [==============================] - 0s 2ms/step - loss: 1.0130 - root_mean_squared_error: 1.0065\n",
      "Epoch 74/300\n",
      "1/1 [==============================] - 0s 2ms/step - loss: 0.9891 - root_mean_squared_error: 0.9945\n",
      "Epoch 75/300\n",
      "1/1 [==============================] - 0s 1ms/step - loss: 0.9721 - root_mean_squared_error: 0.9860\n",
      "Epoch 76/300\n",
      "1/1 [==============================] - 0s 2ms/step - loss: 0.9603 - root_mean_squared_error: 0.9799\n",
      "Epoch 77/300\n",
      "1/1 [==============================] - 0s 2ms/step - loss: 0.9521 - root_mean_squared_error: 0.9758\n",
      "Epoch 78/300\n",
      "1/1 [==============================] - 0s 2ms/step - loss: 0.9465 - root_mean_squared_error: 0.9729\n",
      "Epoch 79/300\n",
      "1/1 [==============================] - 0s 1ms/step - loss: 0.9427 - root_mean_squared_error: 0.9709\n",
      "Epoch 80/300\n",
      "1/1 [==============================] - 0s 2ms/step - loss: 0.9400 - root_mean_squared_error: 0.9695\n",
      "Epoch 81/300\n",
      "1/1 [==============================] - 0s 1ms/step - loss: 0.9380 - root_mean_squared_error: 0.9685\n",
      "Epoch 82/300\n",
      "1/1 [==============================] - 0s 2ms/step - loss: 0.9365 - root_mean_squared_error: 0.9677\n",
      "Epoch 83/300\n",
      "1/1 [==============================] - 0s 2ms/step - loss: 0.9352 - root_mean_squared_error: 0.9671\n",
      "Epoch 84/300\n",
      "1/1 [==============================] - 0s 2ms/step - loss: 0.9341 - root_mean_squared_error: 0.9665\n",
      "Epoch 85/300\n",
      "1/1 [==============================] - 0s 1ms/step - loss: 0.9329 - root_mean_squared_error: 0.9659\n",
      "Epoch 86/300\n",
      "1/1 [==============================] - 0s 2ms/step - loss: 0.9318 - root_mean_squared_error: 0.9653\n",
      "Epoch 87/300\n",
      "1/1 [==============================] - 0s 1ms/step - loss: 0.9307 - root_mean_squared_error: 0.9647\n",
      "Epoch 88/300\n",
      "1/1 [==============================] - 0s 2ms/step - loss: 0.9296 - root_mean_squared_error: 0.9641\n",
      "Epoch 89/300\n",
      "1/1 [==============================] - 0s 1ms/step - loss: 0.9284 - root_mean_squared_error: 0.9635\n",
      "Epoch 90/300\n",
      "1/1 [==============================] - 0s 2ms/step - loss: 0.9272 - root_mean_squared_error: 0.9629\n",
      "Epoch 91/300\n",
      "1/1 [==============================] - 0s 2ms/step - loss: 0.9260 - root_mean_squared_error: 0.9623\n",
      "Epoch 92/300\n",
      "1/1 [==============================] - 0s 2ms/step - loss: 0.9247 - root_mean_squared_error: 0.9616\n",
      "Epoch 93/300\n",
      "1/1 [==============================] - 0s 1ms/step - loss: 0.9234 - root_mean_squared_error: 0.9609\n",
      "Epoch 94/300\n",
      "1/1 [==============================] - 0s 1ms/step - loss: 0.9220 - root_mean_squared_error: 0.9602\n",
      "Epoch 95/300\n",
      "1/1 [==============================] - 0s 1ms/step - loss: 0.9206 - root_mean_squared_error: 0.9595\n",
      "Epoch 96/300\n",
      "1/1 [==============================] - 0s 2ms/step - loss: 0.9192 - root_mean_squared_error: 0.9588\n",
      "Epoch 97/300\n",
      "1/1 [==============================] - 0s 1ms/step - loss: 0.9178 - root_mean_squared_error: 0.9580\n",
      "Epoch 98/300\n",
      "1/1 [==============================] - 0s 2ms/step - loss: 0.9163 - root_mean_squared_error: 0.9573\n",
      "Epoch 99/300\n",
      "1/1 [==============================] - 0s 1ms/step - loss: 0.9149 - root_mean_squared_error: 0.9565\n",
      "Epoch 100/300\n",
      "1/1 [==============================] - 0s 1ms/step - loss: 0.9134 - root_mean_squared_error: 0.9557\n",
      "Epoch 101/300\n",
      "1/1 [==============================] - 0s 1ms/step - loss: 0.9118 - root_mean_squared_error: 0.9549\n",
      "Epoch 102/300\n",
      "1/1 [==============================] - 0s 2ms/step - loss: 0.9103 - root_mean_squared_error: 0.9541\n",
      "Epoch 103/300\n",
      "1/1 [==============================] - 0s 2ms/step - loss: 0.9087 - root_mean_squared_error: 0.9533\n",
      "Epoch 104/300\n",
      "1/1 [==============================] - 0s 1ms/step - loss: 0.9072 - root_mean_squared_error: 0.9525\n",
      "Epoch 105/300\n",
      "1/1 [==============================] - 0s 2ms/step - loss: 0.9056 - root_mean_squared_error: 0.9516\n",
      "Epoch 106/300\n",
      "1/1 [==============================] - 0s 1ms/step - loss: 0.9041 - root_mean_squared_error: 0.9508\n",
      "Epoch 107/300\n",
      "1/1 [==============================] - 0s 1ms/step - loss: 0.9025 - root_mean_squared_error: 0.9500\n",
      "Epoch 108/300\n",
      "1/1 [==============================] - 0s 1ms/step - loss: 0.9009 - root_mean_squared_error: 0.9492\n",
      "Epoch 109/300\n",
      "1/1 [==============================] - 0s 2ms/step - loss: 0.8994 - root_mean_squared_error: 0.9484\n",
      "Epoch 110/300\n",
      "1/1 [==============================] - 0s 1ms/step - loss: 0.8979 - root_mean_squared_error: 0.9476\n",
      "Epoch 111/300\n",
      "1/1 [==============================] - 0s 1ms/step - loss: 0.8964 - root_mean_squared_error: 0.9468\n",
      "Epoch 112/300\n",
      "1/1 [==============================] - 0s 2ms/step - loss: 0.8949 - root_mean_squared_error: 0.9460\n",
      "Epoch 113/300\n",
      "1/1 [==============================] - 0s 2ms/step - loss: 0.8935 - root_mean_squared_error: 0.9452\n",
      "Epoch 114/300\n",
      "1/1 [==============================] - 0s 2ms/step - loss: 0.8921 - root_mean_squared_error: 0.9445\n",
      "Epoch 115/300\n",
      "1/1 [==============================] - 0s 2ms/step - loss: 0.8907 - root_mean_squared_error: 0.9438\n",
      "Epoch 116/300\n",
      "1/1 [==============================] - 0s 2ms/step - loss: 0.8894 - root_mean_squared_error: 0.9431\n",
      "Epoch 117/300\n",
      "1/1 [==============================] - 0s 2ms/step - loss: 0.8881 - root_mean_squared_error: 0.9424\n",
      "Epoch 118/300\n",
      "1/1 [==============================] - 0s 2ms/step - loss: 0.8869 - root_mean_squared_error: 0.9418\n",
      "Epoch 119/300\n",
      "1/1 [==============================] - 0s 2ms/step - loss: 0.8858 - root_mean_squared_error: 0.9411\n",
      "Epoch 120/300\n",
      "1/1 [==============================] - 0s 1ms/step - loss: 0.8847 - root_mean_squared_error: 0.9406\n",
      "Epoch 121/300\n",
      "1/1 [==============================] - 0s 2ms/step - loss: 0.8836 - root_mean_squared_error: 0.9400\n",
      "Epoch 122/300\n",
      "1/1 [==============================] - 0s 2ms/step - loss: 0.8827 - root_mean_squared_error: 0.9395\n",
      "Epoch 123/300\n",
      "1/1 [==============================] - 0s 2ms/step - loss: 0.8818 - root_mean_squared_error: 0.9390\n",
      "Epoch 124/300\n",
      "1/1 [==============================] - 0s 2ms/step - loss: 0.8809 - root_mean_squared_error: 0.9386\n",
      "Epoch 125/300\n",
      "1/1 [==============================] - 0s 2ms/step - loss: 0.8802 - root_mean_squared_error: 0.9382\n",
      "Epoch 126/300\n",
      "1/1 [==============================] - 0s 2ms/step - loss: 0.8795 - root_mean_squared_error: 0.9378\n",
      "Epoch 127/300\n",
      "1/1 [==============================] - 0s 1ms/step - loss: 0.8789 - root_mean_squared_error: 0.9375\n",
      "Epoch 128/300\n",
      "1/1 [==============================] - 0s 2ms/step - loss: 0.8783 - root_mean_squared_error: 0.9372\n",
      "Epoch 129/300\n",
      "1/1 [==============================] - 0s 2ms/step - loss: 0.8778 - root_mean_squared_error: 0.9369\n",
      "Epoch 130/300\n",
      "1/1 [==============================] - 0s 2ms/step - loss: 0.8773 - root_mean_squared_error: 0.9367\n",
      "Epoch 131/300\n",
      "1/1 [==============================] - 0s 1ms/step - loss: 0.8769 - root_mean_squared_error: 0.9365\n",
      "Epoch 132/300\n",
      "1/1 [==============================] - 0s 2ms/step - loss: 0.8766 - root_mean_squared_error: 0.9363\n",
      "Epoch 133/300\n",
      "1/1 [==============================] - 0s 1ms/step - loss: 0.8763 - root_mean_squared_error: 0.9361\n",
      "Epoch 134/300\n",
      "1/1 [==============================] - 0s 2ms/step - loss: 0.8761 - root_mean_squared_error: 0.9360\n",
      "Epoch 135/300\n",
      "1/1 [==============================] - 0s 2ms/step - loss: 0.8759 - root_mean_squared_error: 0.9359\n",
      "Epoch 136/300\n",
      "1/1 [==============================] - 0s 1ms/step - loss: 0.8764 - root_mean_squared_error: 0.9362\n",
      "Epoch 137/300\n",
      "1/1 [==============================] - 0s 1ms/step - loss: 0.8867 - root_mean_squared_error: 0.9417\n",
      "Epoch 138/300\n",
      "1/1 [==============================] - 0s 1ms/step - loss: 1.0373 - root_mean_squared_error: 1.0185\n",
      "Epoch 139/300\n",
      "1/1 [==============================] - 0s 1ms/step - loss: 1.3610 - root_mean_squared_error: 1.1666\n",
      "Epoch 140/300\n",
      "1/1 [==============================] - 0s 2ms/step - loss: 1.0335 - root_mean_squared_error: 1.0166\n",
      "Epoch 141/300\n",
      "1/1 [==============================] - 0s 2ms/step - loss: 0.9116 - root_mean_squared_error: 0.9548\n",
      "Epoch 142/300\n",
      "1/1 [==============================] - 0s 1ms/step - loss: 0.8852 - root_mean_squared_error: 0.9408\n",
      "Epoch 143/300\n",
      "1/1 [==============================] - 0s 2ms/step - loss: 0.8788 - root_mean_squared_error: 0.9374\n",
      "Epoch 144/300\n"
     ]
    },
    {
     "name": "stdout",
     "output_type": "stream",
     "text": [
      "1/1 [==============================] - 0s 1ms/step - loss: 0.8769 - root_mean_squared_error: 0.9364\n",
      "Epoch 145/300\n",
      "1/1 [==============================] - 0s 2ms/step - loss: 0.8762 - root_mean_squared_error: 0.9361\n",
      "Epoch 146/300\n",
      "1/1 [==============================] - 0s 1ms/step - loss: 0.8760 - root_mean_squared_error: 0.9359\n",
      "Epoch 147/300\n",
      "1/1 [==============================] - 0s 2ms/step - loss: 0.8759 - root_mean_squared_error: 0.9359\n",
      "Epoch 148/300\n",
      "1/1 [==============================] - 0s 1ms/step - loss: 0.8759 - root_mean_squared_error: 0.9359\n",
      "Epoch 149/300\n",
      "1/1 [==============================] - 0s 2ms/step - loss: 0.8761 - root_mean_squared_error: 0.9360\n",
      "Epoch 150/300\n",
      "1/1 [==============================] - 0s 1ms/step - loss: 0.8767 - root_mean_squared_error: 0.9363\n",
      "Epoch 151/300\n",
      "1/1 [==============================] - 0s 2ms/step - loss: 0.8780 - root_mean_squared_error: 0.9370\n",
      "Epoch 152/300\n",
      "1/1 [==============================] - 0s 1ms/step - loss: 0.8816 - root_mean_squared_error: 0.9390\n",
      "Epoch 153/300\n",
      "1/1 [==============================] - 0s 1ms/step - loss: 0.8919 - root_mean_squared_error: 0.9444\n",
      "Epoch 154/300\n",
      "1/1 [==============================] - 0s 2ms/step - loss: 0.9213 - root_mean_squared_error: 0.9598\n",
      "Epoch 155/300\n",
      "1/1 [==============================] - 0s 2ms/step - loss: 0.9852 - root_mean_squared_error: 0.9926\n",
      "Epoch 156/300\n",
      "1/1 [==============================] - 0s 2ms/step - loss: 1.0380 - root_mean_squared_error: 1.0188\n",
      "Epoch 157/300\n",
      "1/1 [==============================] - 0s 1ms/step - loss: 1.0054 - root_mean_squared_error: 1.0027\n",
      "Epoch 158/300\n",
      "1/1 [==============================] - 0s 2ms/step - loss: 0.9480 - root_mean_squared_error: 0.9737\n",
      "Epoch 159/300\n",
      "1/1 [==============================] - 0s 1ms/step - loss: 0.9131 - root_mean_squared_error: 0.9556\n",
      "Epoch 160/300\n",
      "1/1 [==============================] - 0s 2ms/step - loss: 0.8966 - root_mean_squared_error: 0.9469\n",
      "Epoch 161/300\n",
      "1/1 [==============================] - 0s 1ms/step - loss: 0.8892 - root_mean_squared_error: 0.9430\n",
      "Epoch 162/300\n",
      "1/1 [==============================] - 0s 2ms/step - loss: 0.8860 - root_mean_squared_error: 0.9413\n",
      "Epoch 163/300\n",
      "1/1 [==============================] - 0s 2ms/step - loss: 0.8850 - root_mean_squared_error: 0.9408\n",
      "Epoch 164/300\n",
      "1/1 [==============================] - 0s 1ms/step - loss: 0.8857 - root_mean_squared_error: 0.9411\n",
      "Epoch 165/300\n",
      "1/1 [==============================] - 0s 2ms/step - loss: 0.8884 - root_mean_squared_error: 0.9425\n",
      "Epoch 166/300\n",
      "1/1 [==============================] - 0s 2ms/step - loss: 0.8938 - root_mean_squared_error: 0.9454\n",
      "Epoch 167/300\n",
      "1/1 [==============================] - 0s 2ms/step - loss: 0.9040 - root_mean_squared_error: 0.9508\n",
      "Epoch 168/300\n",
      "1/1 [==============================] - 0s 1ms/step - loss: 0.9209 - root_mean_squared_error: 0.9597\n",
      "Epoch 169/300\n",
      "1/1 [==============================] - 0s 1ms/step - loss: 0.9432 - root_mean_squared_error: 0.9712\n",
      "Epoch 170/300\n",
      "1/1 [==============================] - 0s 1ms/step - loss: 0.9603 - root_mean_squared_error: 0.9799\n",
      "Epoch 171/300\n",
      "1/1 [==============================] - 0s 2ms/step - loss: 0.9600 - root_mean_squared_error: 0.9798\n",
      "Epoch 172/300\n",
      "1/1 [==============================] - 0s 1ms/step - loss: 0.9448 - root_mean_squared_error: 0.9720\n",
      "Epoch 173/300\n",
      "1/1 [==============================] - 0s 1ms/step - loss: 0.9269 - root_mean_squared_error: 0.9627\n",
      "Epoch 174/300\n",
      "1/1 [==============================] - 0s 1ms/step - loss: 0.9131 - root_mean_squared_error: 0.9556\n",
      "Epoch 175/300\n",
      "1/1 [==============================] - 0s 1ms/step - loss: 0.9044 - root_mean_squared_error: 0.9510\n",
      "Epoch 176/300\n",
      "1/1 [==============================] - 0s 1ms/step - loss: 0.8998 - root_mean_squared_error: 0.9486\n",
      "Epoch 177/300\n",
      "1/1 [==============================] - 0s 1ms/step - loss: 0.8980 - root_mean_squared_error: 0.9476\n",
      "Epoch 178/300\n",
      "1/1 [==============================] - 0s 1ms/step - loss: 0.8986 - root_mean_squared_error: 0.9479\n",
      "Epoch 179/300\n",
      "1/1 [==============================] - 0s 1ms/step - loss: 0.9014 - root_mean_squared_error: 0.9494\n",
      "Epoch 180/300\n",
      "1/1 [==============================] - 0s 2ms/step - loss: 0.9066 - root_mean_squared_error: 0.9522\n",
      "Epoch 181/300\n",
      "1/1 [==============================] - 0s 2ms/step - loss: 0.9143 - root_mean_squared_error: 0.9562\n",
      "Epoch 182/300\n",
      "1/1 [==============================] - 0s 1ms/step - loss: 0.9236 - root_mean_squared_error: 0.9610\n",
      "Epoch 183/300\n",
      "1/1 [==============================] - 0s 2ms/step - loss: 0.9321 - root_mean_squared_error: 0.9655\n",
      "Epoch 184/300\n",
      "1/1 [==============================] - 0s 1ms/step - loss: 0.9366 - root_mean_squared_error: 0.9678\n",
      "Epoch 185/300\n",
      "1/1 [==============================] - 0s 2ms/step - loss: 0.9353 - root_mean_squared_error: 0.9671\n",
      "Epoch 186/300\n",
      "1/1 [==============================] - 0s 1ms/step - loss: 0.9296 - root_mean_squared_error: 0.9642\n",
      "Epoch 187/300\n",
      "1/1 [==============================] - 0s 2ms/step - loss: 0.9223 - root_mean_squared_error: 0.9603\n",
      "Epoch 188/300\n",
      "1/1 [==============================] - 0s 2ms/step - loss: 0.9156 - root_mean_squared_error: 0.9569\n",
      "Epoch 189/300\n",
      "1/1 [==============================] - 0s 2ms/step - loss: 0.9108 - root_mean_squared_error: 0.9544\n",
      "Epoch 190/300\n",
      "1/1 [==============================] - 0s 1ms/step - loss: 0.9080 - root_mean_squared_error: 0.9529\n",
      "Epoch 191/300\n",
      "1/1 [==============================] - 0s 2ms/step - loss: 0.9070 - root_mean_squared_error: 0.9524\n",
      "Epoch 192/300\n",
      "1/1 [==============================] - 0s 2ms/step - loss: 0.9078 - root_mean_squared_error: 0.9528\n",
      "Epoch 193/300\n",
      "1/1 [==============================] - 0s 1ms/step - loss: 0.9101 - root_mean_squared_error: 0.9540\n",
      "Epoch 194/300\n",
      "1/1 [==============================] - 0s 2ms/step - loss: 0.9137 - root_mean_squared_error: 0.9559\n",
      "Epoch 195/300\n",
      "1/1 [==============================] - 0s 1ms/step - loss: 0.9181 - root_mean_squared_error: 0.9582\n",
      "Epoch 196/300\n",
      "1/1 [==============================] - 0s 2ms/step - loss: 0.9224 - root_mean_squared_error: 0.9604\n",
      "Epoch 197/300\n",
      "1/1 [==============================] - 0s 2ms/step - loss: 0.9254 - root_mean_squared_error: 0.9620\n",
      "Epoch 198/300\n",
      "1/1 [==============================] - 0s 2ms/step - loss: 0.9264 - root_mean_squared_error: 0.9625\n",
      "Epoch 199/300\n",
      "1/1 [==============================] - 0s 1ms/step - loss: 0.9253 - root_mean_squared_error: 0.9619\n",
      "Epoch 200/300\n",
      "1/1 [==============================] - 0s 2ms/step - loss: 0.9226 - root_mean_squared_error: 0.9605\n",
      "Epoch 201/300\n",
      "1/1 [==============================] - 0s 1ms/step - loss: 0.9192 - root_mean_squared_error: 0.9588\n",
      "Epoch 202/300\n",
      "1/1 [==============================] - 0s 1ms/step - loss: 0.9162 - root_mean_squared_error: 0.9572\n",
      "Epoch 203/300\n",
      "1/1 [==============================] - 0s 1ms/step - loss: 0.9138 - root_mean_squared_error: 0.9560\n",
      "Epoch 204/300\n",
      "1/1 [==============================] - 0s 1ms/step - loss: 0.9125 - root_mean_squared_error: 0.9553\n",
      "Epoch 205/300\n",
      "1/1 [==============================] - 0s 1ms/step - loss: 0.9123 - root_mean_squared_error: 0.9551\n",
      "Epoch 206/300\n",
      "1/1 [==============================] - 0s 2ms/step - loss: 0.9130 - root_mean_squared_error: 0.9555\n",
      "Epoch 207/300\n",
      "1/1 [==============================] - 0s 1ms/step - loss: 0.9146 - root_mean_squared_error: 0.9563\n",
      "Epoch 208/300\n",
      "1/1 [==============================] - 0s 2ms/step - loss: 0.9166 - root_mean_squared_error: 0.9574\n",
      "Epoch 209/300\n",
      "1/1 [==============================] - 0s 1ms/step - loss: 0.9188 - root_mean_squared_error: 0.9585\n",
      "Epoch 210/300\n",
      "1/1 [==============================] - 0s 2ms/step - loss: 0.9206 - root_mean_squared_error: 0.9595\n",
      "Epoch 211/300\n",
      "1/1 [==============================] - 0s 1ms/step - loss: 0.9217 - root_mean_squared_error: 0.9600\n",
      "Epoch 212/300\n",
      "1/1 [==============================] - 0s 1ms/step - loss: 0.9218 - root_mean_squared_error: 0.9601\n",
      "Epoch 213/300\n",
      "1/1 [==============================] - 0s 1ms/step - loss: 0.9210 - root_mean_squared_error: 0.9597\n",
      "Epoch 214/300\n",
      "1/1 [==============================] - 0s 2ms/step - loss: 0.9196 - root_mean_squared_error: 0.9590\n",
      "Epoch 215/300\n",
      "1/1 [==============================] - 0s 2ms/step - loss: 0.9180 - root_mean_squared_error: 0.9581\n"
     ]
    },
    {
     "name": "stdout",
     "output_type": "stream",
     "text": [
      "Epoch 216/300\n",
      "1/1 [==============================] - 0s 2ms/step - loss: 0.9166 - root_mean_squared_error: 0.9574\n",
      "Epoch 217/300\n",
      "1/1 [==============================] - 0s 1ms/step - loss: 0.9156 - root_mean_squared_error: 0.9568\n",
      "Epoch 218/300\n",
      "1/1 [==============================] - 0s 2ms/step - loss: 0.9150 - root_mean_squared_error: 0.9566\n",
      "Epoch 219/300\n",
      "1/1 [==============================] - 0s 1ms/step - loss: 0.9151 - root_mean_squared_error: 0.9566\n",
      "Epoch 220/300\n",
      "1/1 [==============================] - 0s 2ms/step - loss: 0.9156 - root_mean_squared_error: 0.9569\n",
      "Epoch 221/300\n",
      "1/1 [==============================] - 0s 2ms/step - loss: 0.9165 - root_mean_squared_error: 0.9574\n",
      "Epoch 222/300\n",
      "1/1 [==============================] - 0s 2ms/step - loss: 0.9176 - root_mean_squared_error: 0.9579\n",
      "Epoch 223/300\n",
      "1/1 [==============================] - 0s 2ms/step - loss: 0.9186 - root_mean_squared_error: 0.9584\n",
      "Epoch 224/300\n",
      "1/1 [==============================] - 0s 2ms/step - loss: 0.9193 - root_mean_squared_error: 0.9588\n",
      "Epoch 225/300\n",
      "1/1 [==============================] - 0s 1ms/step - loss: 0.9197 - root_mean_squared_error: 0.9590\n",
      "Epoch 226/300\n",
      "1/1 [==============================] - 0s 2ms/step - loss: 0.9196 - root_mean_squared_error: 0.9589\n",
      "Epoch 227/300\n",
      "1/1 [==============================] - 0s 1ms/step - loss: 0.9191 - root_mean_squared_error: 0.9587\n",
      "Epoch 228/300\n",
      "1/1 [==============================] - 0s 1ms/step - loss: 0.9184 - root_mean_squared_error: 0.9583\n",
      "Epoch 229/300\n",
      "1/1 [==============================] - 0s 1ms/step - loss: 0.9176 - root_mean_squared_error: 0.9579\n",
      "Epoch 230/300\n",
      "1/1 [==============================] - 0s 2ms/step - loss: 0.9170 - root_mean_squared_error: 0.9576\n",
      "Epoch 231/300\n",
      "1/1 [==============================] - 0s 1ms/step - loss: 0.9165 - root_mean_squared_error: 0.9574\n",
      "Epoch 232/300\n",
      "1/1 [==============================] - 0s 1ms/step - loss: 0.9164 - root_mean_squared_error: 0.9573\n",
      "Epoch 233/300\n",
      "1/1 [==============================] - 0s 1ms/step - loss: 0.9165 - root_mean_squared_error: 0.9573\n",
      "Epoch 234/300\n",
      "1/1 [==============================] - 0s 2ms/step - loss: 0.9168 - root_mean_squared_error: 0.9575\n",
      "Epoch 235/300\n",
      "1/1 [==============================] - 0s 2ms/step - loss: 0.9173 - root_mean_squared_error: 0.9578\n",
      "Epoch 236/300\n",
      "1/1 [==============================] - 0s 1ms/step - loss: 0.9179 - root_mean_squared_error: 0.9580\n",
      "Epoch 237/300\n",
      "1/1 [==============================] - 0s 1ms/step - loss: 0.9183 - root_mean_squared_error: 0.9583\n",
      "Epoch 238/300\n",
      "1/1 [==============================] - 0s 1ms/step - loss: 0.9186 - root_mean_squared_error: 0.9584\n",
      "Epoch 239/300\n",
      "1/1 [==============================] - 0s 2ms/step - loss: 0.9187 - root_mean_squared_error: 0.9585\n",
      "Epoch 240/300\n",
      "1/1 [==============================] - 0s 1ms/step - loss: 0.9186 - root_mean_squared_error: 0.9584\n",
      "Epoch 241/300\n",
      "1/1 [==============================] - 0s 2ms/step - loss: 0.9183 - root_mean_squared_error: 0.9583\n",
      "Epoch 242/300\n",
      "1/1 [==============================] - 0s 1ms/step - loss: 0.9179 - root_mean_squared_error: 0.9581\n",
      "Epoch 243/300\n",
      "1/1 [==============================] - 0s 2ms/step - loss: 0.9176 - root_mean_squared_error: 0.9579\n",
      "Epoch 244/300\n",
      "1/1 [==============================] - 0s 1ms/step - loss: 0.9173 - root_mean_squared_error: 0.9577\n",
      "Epoch 245/300\n",
      "1/1 [==============================] - 0s 1ms/step - loss: 0.9171 - root_mean_squared_error: 0.9577\n",
      "Epoch 246/300\n",
      "1/1 [==============================] - 0s 1ms/step - loss: 0.9171 - root_mean_squared_error: 0.9576\n",
      "Epoch 247/300\n",
      "1/1 [==============================] - 0s 1ms/step - loss: 0.9172 - root_mean_squared_error: 0.9577\n",
      "Epoch 248/300\n",
      "1/1 [==============================] - 0s 1ms/step - loss: 0.9174 - root_mean_squared_error: 0.9578\n",
      "Epoch 249/300\n",
      "1/1 [==============================] - 0s 1ms/step - loss: 0.9176 - root_mean_squared_error: 0.9579\n",
      "Epoch 250/300\n",
      "1/1 [==============================] - 0s 1ms/step - loss: 0.9179 - root_mean_squared_error: 0.9581\n",
      "Epoch 251/300\n",
      "1/1 [==============================] - 0s 2ms/step - loss: 0.9181 - root_mean_squared_error: 0.9582\n",
      "Epoch 252/300\n",
      "1/1 [==============================] - 0s 1ms/step - loss: 0.9182 - root_mean_squared_error: 0.9582\n",
      "Epoch 253/300\n",
      "1/1 [==============================] - 0s 2ms/step - loss: 0.9182 - root_mean_squared_error: 0.9582\n",
      "Epoch 254/300\n",
      "1/1 [==============================] - 0s 1ms/step - loss: 0.9181 - root_mean_squared_error: 0.9582\n",
      "Epoch 255/300\n",
      "1/1 [==============================] - 0s 1ms/step - loss: 0.9179 - root_mean_squared_error: 0.9581\n",
      "Epoch 256/300\n",
      "1/1 [==============================] - 0s 1ms/step - loss: 0.9178 - root_mean_squared_error: 0.9580\n",
      "Epoch 257/300\n",
      "1/1 [==============================] - 0s 2ms/step - loss: 0.9176 - root_mean_squared_error: 0.9579\n",
      "Epoch 258/300\n",
      "1/1 [==============================] - 0s 1ms/step - loss: 0.9175 - root_mean_squared_error: 0.9578\n",
      "Epoch 259/300\n",
      "1/1 [==============================] - 0s 1ms/step - loss: 0.9174 - root_mean_squared_error: 0.9578\n",
      "Epoch 260/300\n",
      "1/1 [==============================] - 0s 1ms/step - loss: 0.9174 - root_mean_squared_error: 0.9578\n",
      "Epoch 261/300\n",
      "1/1 [==============================] - 0s 2ms/step - loss: 0.9175 - root_mean_squared_error: 0.9579\n",
      "Epoch 262/300\n",
      "1/1 [==============================] - 0s 2ms/step - loss: 0.9176 - root_mean_squared_error: 0.9579\n",
      "Epoch 263/300\n",
      "1/1 [==============================] - 0s 1ms/step - loss: 0.9177 - root_mean_squared_error: 0.9580\n",
      "Epoch 264/300\n",
      "1/1 [==============================] - 0s 1ms/step - loss: 0.9178 - root_mean_squared_error: 0.9580\n",
      "Epoch 265/300\n",
      "1/1 [==============================] - 0s 2ms/step - loss: 0.9179 - root_mean_squared_error: 0.9581\n",
      "Epoch 266/300\n",
      "1/1 [==============================] - 0s 2ms/step - loss: 0.9179 - root_mean_squared_error: 0.9581\n",
      "Epoch 267/300\n",
      "1/1 [==============================] - 0s 1ms/step - loss: 0.9179 - root_mean_squared_error: 0.9581\n",
      "Epoch 268/300\n",
      "1/1 [==============================] - 0s 1ms/step - loss: 0.9179 - root_mean_squared_error: 0.9581\n",
      "Epoch 269/300\n",
      "1/1 [==============================] - 0s 1ms/step - loss: 0.9178 - root_mean_squared_error: 0.9580\n",
      "Epoch 270/300\n",
      "1/1 [==============================] - 0s 2ms/step - loss: 0.9177 - root_mean_squared_error: 0.9580\n",
      "Epoch 271/300\n",
      "1/1 [==============================] - 0s 2ms/step - loss: 0.9176 - root_mean_squared_error: 0.9579\n",
      "Epoch 272/300\n",
      "1/1 [==============================] - 0s 2ms/step - loss: 0.9176 - root_mean_squared_error: 0.9579\n",
      "Epoch 273/300\n",
      "1/1 [==============================] - 0s 2ms/step - loss: 0.9176 - root_mean_squared_error: 0.9579\n",
      "Epoch 274/300\n",
      "1/1 [==============================] - 0s 1ms/step - loss: 0.9176 - root_mean_squared_error: 0.9579\n",
      "Epoch 275/300\n",
      "1/1 [==============================] - 0s 2ms/step - loss: 0.9176 - root_mean_squared_error: 0.9579\n",
      "Epoch 276/300\n",
      "1/1 [==============================] - 0s 1ms/step - loss: 0.9177 - root_mean_squared_error: 0.9580\n",
      "Epoch 277/300\n",
      "1/1 [==============================] - 0s 2ms/step - loss: 0.9177 - root_mean_squared_error: 0.9580\n",
      "Epoch 278/300\n",
      "1/1 [==============================] - 0s 1ms/step - loss: 0.9178 - root_mean_squared_error: 0.9580\n",
      "Epoch 279/300\n",
      "1/1 [==============================] - 0s 1ms/step - loss: 0.9178 - root_mean_squared_error: 0.9580\n",
      "Epoch 280/300\n",
      "1/1 [==============================] - 0s 1ms/step - loss: 0.9178 - root_mean_squared_error: 0.9580\n",
      "Epoch 281/300\n",
      "1/1 [==============================] - 0s 2ms/step - loss: 0.9178 - root_mean_squared_error: 0.9580\n",
      "Epoch 282/300\n",
      "1/1 [==============================] - 0s 1ms/step - loss: 0.9178 - root_mean_squared_error: 0.9580\n",
      "Epoch 283/300\n",
      "1/1 [==============================] - 0s 2ms/step - loss: 0.9177 - root_mean_squared_error: 0.9580\n",
      "Epoch 284/300\n",
      "1/1 [==============================] - 0s 2ms/step - loss: 0.9177 - root_mean_squared_error: 0.9580\n",
      "Epoch 285/300\n",
      "1/1 [==============================] - 0s 2ms/step - loss: 0.9177 - root_mean_squared_error: 0.9580\n",
      "Epoch 286/300\n",
      "1/1 [==============================] - 0s 1ms/step - loss: 0.9176 - root_mean_squared_error: 0.9579\n",
      "Epoch 287/300\n"
     ]
    },
    {
     "name": "stdout",
     "output_type": "stream",
     "text": [
      "1/1 [==============================] - 0s 2ms/step - loss: 0.9176 - root_mean_squared_error: 0.9579\n",
      "Epoch 288/300\n",
      "1/1 [==============================] - 0s 1ms/step - loss: 0.9177 - root_mean_squared_error: 0.9579\n",
      "Epoch 289/300\n",
      "1/1 [==============================] - 0s 2ms/step - loss: 0.9177 - root_mean_squared_error: 0.9580\n",
      "Epoch 290/300\n",
      "1/1 [==============================] - 0s 2ms/step - loss: 0.9177 - root_mean_squared_error: 0.9580\n",
      "Epoch 291/300\n",
      "1/1 [==============================] - 0s 1ms/step - loss: 0.9177 - root_mean_squared_error: 0.9580\n",
      "Epoch 292/300\n",
      "1/1 [==============================] - 0s 2ms/step - loss: 0.9178 - root_mean_squared_error: 0.9580\n",
      "Epoch 293/300\n",
      "1/1 [==============================] - 0s 2ms/step - loss: 0.9178 - root_mean_squared_error: 0.9580\n",
      "Epoch 294/300\n",
      "1/1 [==============================] - 0s 2ms/step - loss: 0.9178 - root_mean_squared_error: 0.9580\n",
      "Epoch 295/300\n",
      "1/1 [==============================] - 0s 2ms/step - loss: 0.9178 - root_mean_squared_error: 0.9580\n",
      "Epoch 296/300\n",
      "1/1 [==============================] - 0s 2ms/step - loss: 0.9177 - root_mean_squared_error: 0.9580\n",
      "Epoch 297/300\n",
      "1/1 [==============================] - 0s 1ms/step - loss: 0.9177 - root_mean_squared_error: 0.9580\n",
      "Epoch 298/300\n",
      "1/1 [==============================] - 0s 2ms/step - loss: 0.9177 - root_mean_squared_error: 0.9580\n",
      "Epoch 299/300\n",
      "1/1 [==============================] - 0s 1ms/step - loss: 0.9177 - root_mean_squared_error: 0.9580\n",
      "Epoch 300/300\n",
      "1/1 [==============================] - 0s 2ms/step - loss: 0.9177 - root_mean_squared_error: 0.9580\n"
     ]
    }
   ],
   "source": [
    "my_model = create_model()\n",
    "my_model.compile(optimizer = tf.keras.optimizers.RMSprop(learning_rate = learning_rate),\n",
    "                 loss = 'mean_squared_error',\n",
    "                 metrics = tf.keras.metrics.RootMeanSquaredError())\n",
    "\n",
    "History = my_model.fit(x=my_feature,y=my_label,batch_size=batch_size,epochs=epochs)\n",
    "trained_weight = my_model.get_weights()[0]\n",
    "trained_bias = my_model.get_weights()[1]\n",
    "hist = pd.DataFrame(History.history)\n",
    "epochs_from_model = History.epoch\n",
    "rmse = History.history[\"root_mean_squared_error\"]"
   ]
  },
  {
   "cell_type": "code",
   "execution_count": 44,
   "id": "5005d9d4",
   "metadata": {},
   "outputs": [
    {
     "data": {
      "application/vnd.plotly.v1+json": {
       "config": {
        "plotlyServerURL": "https://plot.ly"
       },
       "data": [
        {
         "mode": "markers",
         "name": "Original labels",
         "type": "scatter",
         "x": [
          1,
          2,
          3,
          4,
          5,
          6,
          7,
          8,
          9,
          10,
          11,
          12
         ],
         "y": [
          5,
          8.8,
          9.6,
          14.2,
          18.8,
          19.5,
          21.4,
          26.8,
          28.9,
          32,
          33.8,
          38.2
         ]
        },
        {
         "mode": "lines+markers",
         "name": "Predicted labels",
         "type": "scatter",
         "x": [
          1,
          2,
          3,
          4,
          5,
          6,
          7,
          8,
          9,
          10,
          11,
          12
         ],
         "y": [
          5.189731597900391,
          8.174160480499268,
          11.158589363098145,
          14.143018245697021,
          17.1274471282959,
          20.111876010894775,
          23.096304893493652,
          26.08073377609253,
          29.065162658691406,
          32.04959154129028,
          35.03402042388916,
          38.01844930648804
         ]
        }
       ],
       "layout": {
        "template": {
         "data": {
          "bar": [
           {
            "error_x": {
             "color": "#2a3f5f"
            },
            "error_y": {
             "color": "#2a3f5f"
            },
            "marker": {
             "line": {
              "color": "#E5ECF6",
              "width": 0.5
             },
             "pattern": {
              "fillmode": "overlay",
              "size": 10,
              "solidity": 0.2
             }
            },
            "type": "bar"
           }
          ],
          "barpolar": [
           {
            "marker": {
             "line": {
              "color": "#E5ECF6",
              "width": 0.5
             },
             "pattern": {
              "fillmode": "overlay",
              "size": 10,
              "solidity": 0.2
             }
            },
            "type": "barpolar"
           }
          ],
          "carpet": [
           {
            "aaxis": {
             "endlinecolor": "#2a3f5f",
             "gridcolor": "white",
             "linecolor": "white",
             "minorgridcolor": "white",
             "startlinecolor": "#2a3f5f"
            },
            "baxis": {
             "endlinecolor": "#2a3f5f",
             "gridcolor": "white",
             "linecolor": "white",
             "minorgridcolor": "white",
             "startlinecolor": "#2a3f5f"
            },
            "type": "carpet"
           }
          ],
          "choropleth": [
           {
            "colorbar": {
             "outlinewidth": 0,
             "ticks": ""
            },
            "type": "choropleth"
           }
          ],
          "contour": [
           {
            "colorbar": {
             "outlinewidth": 0,
             "ticks": ""
            },
            "colorscale": [
             [
              0,
              "#0d0887"
             ],
             [
              0.1111111111111111,
              "#46039f"
             ],
             [
              0.2222222222222222,
              "#7201a8"
             ],
             [
              0.3333333333333333,
              "#9c179e"
             ],
             [
              0.4444444444444444,
              "#bd3786"
             ],
             [
              0.5555555555555556,
              "#d8576b"
             ],
             [
              0.6666666666666666,
              "#ed7953"
             ],
             [
              0.7777777777777778,
              "#fb9f3a"
             ],
             [
              0.8888888888888888,
              "#fdca26"
             ],
             [
              1,
              "#f0f921"
             ]
            ],
            "type": "contour"
           }
          ],
          "contourcarpet": [
           {
            "colorbar": {
             "outlinewidth": 0,
             "ticks": ""
            },
            "type": "contourcarpet"
           }
          ],
          "heatmap": [
           {
            "colorbar": {
             "outlinewidth": 0,
             "ticks": ""
            },
            "colorscale": [
             [
              0,
              "#0d0887"
             ],
             [
              0.1111111111111111,
              "#46039f"
             ],
             [
              0.2222222222222222,
              "#7201a8"
             ],
             [
              0.3333333333333333,
              "#9c179e"
             ],
             [
              0.4444444444444444,
              "#bd3786"
             ],
             [
              0.5555555555555556,
              "#d8576b"
             ],
             [
              0.6666666666666666,
              "#ed7953"
             ],
             [
              0.7777777777777778,
              "#fb9f3a"
             ],
             [
              0.8888888888888888,
              "#fdca26"
             ],
             [
              1,
              "#f0f921"
             ]
            ],
            "type": "heatmap"
           }
          ],
          "heatmapgl": [
           {
            "colorbar": {
             "outlinewidth": 0,
             "ticks": ""
            },
            "colorscale": [
             [
              0,
              "#0d0887"
             ],
             [
              0.1111111111111111,
              "#46039f"
             ],
             [
              0.2222222222222222,
              "#7201a8"
             ],
             [
              0.3333333333333333,
              "#9c179e"
             ],
             [
              0.4444444444444444,
              "#bd3786"
             ],
             [
              0.5555555555555556,
              "#d8576b"
             ],
             [
              0.6666666666666666,
              "#ed7953"
             ],
             [
              0.7777777777777778,
              "#fb9f3a"
             ],
             [
              0.8888888888888888,
              "#fdca26"
             ],
             [
              1,
              "#f0f921"
             ]
            ],
            "type": "heatmapgl"
           }
          ],
          "histogram": [
           {
            "marker": {
             "pattern": {
              "fillmode": "overlay",
              "size": 10,
              "solidity": 0.2
             }
            },
            "type": "histogram"
           }
          ],
          "histogram2d": [
           {
            "colorbar": {
             "outlinewidth": 0,
             "ticks": ""
            },
            "colorscale": [
             [
              0,
              "#0d0887"
             ],
             [
              0.1111111111111111,
              "#46039f"
             ],
             [
              0.2222222222222222,
              "#7201a8"
             ],
             [
              0.3333333333333333,
              "#9c179e"
             ],
             [
              0.4444444444444444,
              "#bd3786"
             ],
             [
              0.5555555555555556,
              "#d8576b"
             ],
             [
              0.6666666666666666,
              "#ed7953"
             ],
             [
              0.7777777777777778,
              "#fb9f3a"
             ],
             [
              0.8888888888888888,
              "#fdca26"
             ],
             [
              1,
              "#f0f921"
             ]
            ],
            "type": "histogram2d"
           }
          ],
          "histogram2dcontour": [
           {
            "colorbar": {
             "outlinewidth": 0,
             "ticks": ""
            },
            "colorscale": [
             [
              0,
              "#0d0887"
             ],
             [
              0.1111111111111111,
              "#46039f"
             ],
             [
              0.2222222222222222,
              "#7201a8"
             ],
             [
              0.3333333333333333,
              "#9c179e"
             ],
             [
              0.4444444444444444,
              "#bd3786"
             ],
             [
              0.5555555555555556,
              "#d8576b"
             ],
             [
              0.6666666666666666,
              "#ed7953"
             ],
             [
              0.7777777777777778,
              "#fb9f3a"
             ],
             [
              0.8888888888888888,
              "#fdca26"
             ],
             [
              1,
              "#f0f921"
             ]
            ],
            "type": "histogram2dcontour"
           }
          ],
          "mesh3d": [
           {
            "colorbar": {
             "outlinewidth": 0,
             "ticks": ""
            },
            "type": "mesh3d"
           }
          ],
          "parcoords": [
           {
            "line": {
             "colorbar": {
              "outlinewidth": 0,
              "ticks": ""
             }
            },
            "type": "parcoords"
           }
          ],
          "pie": [
           {
            "automargin": true,
            "type": "pie"
           }
          ],
          "scatter": [
           {
            "fillpattern": {
             "fillmode": "overlay",
             "size": 10,
             "solidity": 0.2
            },
            "type": "scatter"
           }
          ],
          "scatter3d": [
           {
            "line": {
             "colorbar": {
              "outlinewidth": 0,
              "ticks": ""
             }
            },
            "marker": {
             "colorbar": {
              "outlinewidth": 0,
              "ticks": ""
             }
            },
            "type": "scatter3d"
           }
          ],
          "scattercarpet": [
           {
            "marker": {
             "colorbar": {
              "outlinewidth": 0,
              "ticks": ""
             }
            },
            "type": "scattercarpet"
           }
          ],
          "scattergeo": [
           {
            "marker": {
             "colorbar": {
              "outlinewidth": 0,
              "ticks": ""
             }
            },
            "type": "scattergeo"
           }
          ],
          "scattergl": [
           {
            "marker": {
             "colorbar": {
              "outlinewidth": 0,
              "ticks": ""
             }
            },
            "type": "scattergl"
           }
          ],
          "scattermapbox": [
           {
            "marker": {
             "colorbar": {
              "outlinewidth": 0,
              "ticks": ""
             }
            },
            "type": "scattermapbox"
           }
          ],
          "scatterpolar": [
           {
            "marker": {
             "colorbar": {
              "outlinewidth": 0,
              "ticks": ""
             }
            },
            "type": "scatterpolar"
           }
          ],
          "scatterpolargl": [
           {
            "marker": {
             "colorbar": {
              "outlinewidth": 0,
              "ticks": ""
             }
            },
            "type": "scatterpolargl"
           }
          ],
          "scatterternary": [
           {
            "marker": {
             "colorbar": {
              "outlinewidth": 0,
              "ticks": ""
             }
            },
            "type": "scatterternary"
           }
          ],
          "surface": [
           {
            "colorbar": {
             "outlinewidth": 0,
             "ticks": ""
            },
            "colorscale": [
             [
              0,
              "#0d0887"
             ],
             [
              0.1111111111111111,
              "#46039f"
             ],
             [
              0.2222222222222222,
              "#7201a8"
             ],
             [
              0.3333333333333333,
              "#9c179e"
             ],
             [
              0.4444444444444444,
              "#bd3786"
             ],
             [
              0.5555555555555556,
              "#d8576b"
             ],
             [
              0.6666666666666666,
              "#ed7953"
             ],
             [
              0.7777777777777778,
              "#fb9f3a"
             ],
             [
              0.8888888888888888,
              "#fdca26"
             ],
             [
              1,
              "#f0f921"
             ]
            ],
            "type": "surface"
           }
          ],
          "table": [
           {
            "cells": {
             "fill": {
              "color": "#EBF0F8"
             },
             "line": {
              "color": "white"
             }
            },
            "header": {
             "fill": {
              "color": "#C8D4E3"
             },
             "line": {
              "color": "white"
             }
            },
            "type": "table"
           }
          ]
         },
         "layout": {
          "annotationdefaults": {
           "arrowcolor": "#2a3f5f",
           "arrowhead": 0,
           "arrowwidth": 1
          },
          "autotypenumbers": "strict",
          "coloraxis": {
           "colorbar": {
            "outlinewidth": 0,
            "ticks": ""
           }
          },
          "colorscale": {
           "diverging": [
            [
             0,
             "#8e0152"
            ],
            [
             0.1,
             "#c51b7d"
            ],
            [
             0.2,
             "#de77ae"
            ],
            [
             0.3,
             "#f1b6da"
            ],
            [
             0.4,
             "#fde0ef"
            ],
            [
             0.5,
             "#f7f7f7"
            ],
            [
             0.6,
             "#e6f5d0"
            ],
            [
             0.7,
             "#b8e186"
            ],
            [
             0.8,
             "#7fbc41"
            ],
            [
             0.9,
             "#4d9221"
            ],
            [
             1,
             "#276419"
            ]
           ],
           "sequential": [
            [
             0,
             "#0d0887"
            ],
            [
             0.1111111111111111,
             "#46039f"
            ],
            [
             0.2222222222222222,
             "#7201a8"
            ],
            [
             0.3333333333333333,
             "#9c179e"
            ],
            [
             0.4444444444444444,
             "#bd3786"
            ],
            [
             0.5555555555555556,
             "#d8576b"
            ],
            [
             0.6666666666666666,
             "#ed7953"
            ],
            [
             0.7777777777777778,
             "#fb9f3a"
            ],
            [
             0.8888888888888888,
             "#fdca26"
            ],
            [
             1,
             "#f0f921"
            ]
           ],
           "sequentialminus": [
            [
             0,
             "#0d0887"
            ],
            [
             0.1111111111111111,
             "#46039f"
            ],
            [
             0.2222222222222222,
             "#7201a8"
            ],
            [
             0.3333333333333333,
             "#9c179e"
            ],
            [
             0.4444444444444444,
             "#bd3786"
            ],
            [
             0.5555555555555556,
             "#d8576b"
            ],
            [
             0.6666666666666666,
             "#ed7953"
            ],
            [
             0.7777777777777778,
             "#fb9f3a"
            ],
            [
             0.8888888888888888,
             "#fdca26"
            ],
            [
             1,
             "#f0f921"
            ]
           ]
          },
          "colorway": [
           "#636efa",
           "#EF553B",
           "#00cc96",
           "#ab63fa",
           "#FFA15A",
           "#19d3f3",
           "#FF6692",
           "#B6E880",
           "#FF97FF",
           "#FECB52"
          ],
          "font": {
           "color": "#2a3f5f"
          },
          "geo": {
           "bgcolor": "white",
           "lakecolor": "white",
           "landcolor": "#E5ECF6",
           "showlakes": true,
           "showland": true,
           "subunitcolor": "white"
          },
          "hoverlabel": {
           "align": "left"
          },
          "hovermode": "closest",
          "mapbox": {
           "style": "light"
          },
          "paper_bgcolor": "white",
          "plot_bgcolor": "#E5ECF6",
          "polar": {
           "angularaxis": {
            "gridcolor": "white",
            "linecolor": "white",
            "ticks": ""
           },
           "bgcolor": "#E5ECF6",
           "radialaxis": {
            "gridcolor": "white",
            "linecolor": "white",
            "ticks": ""
           }
          },
          "scene": {
           "xaxis": {
            "backgroundcolor": "#E5ECF6",
            "gridcolor": "white",
            "gridwidth": 2,
            "linecolor": "white",
            "showbackground": true,
            "ticks": "",
            "zerolinecolor": "white"
           },
           "yaxis": {
            "backgroundcolor": "#E5ECF6",
            "gridcolor": "white",
            "gridwidth": 2,
            "linecolor": "white",
            "showbackground": true,
            "ticks": "",
            "zerolinecolor": "white"
           },
           "zaxis": {
            "backgroundcolor": "#E5ECF6",
            "gridcolor": "white",
            "gridwidth": 2,
            "linecolor": "white",
            "showbackground": true,
            "ticks": "",
            "zerolinecolor": "white"
           }
          },
          "shapedefaults": {
           "line": {
            "color": "#2a3f5f"
           }
          },
          "ternary": {
           "aaxis": {
            "gridcolor": "white",
            "linecolor": "white",
            "ticks": ""
           },
           "baxis": {
            "gridcolor": "white",
            "linecolor": "white",
            "ticks": ""
           },
           "bgcolor": "#E5ECF6",
           "caxis": {
            "gridcolor": "white",
            "linecolor": "white",
            "ticks": ""
           }
          },
          "title": {
           "x": 0.05
          },
          "xaxis": {
           "automargin": true,
           "gridcolor": "white",
           "linecolor": "white",
           "ticks": "",
           "title": {
            "standoff": 15
           },
           "zerolinecolor": "white",
           "zerolinewidth": 2
          },
          "yaxis": {
           "automargin": true,
           "gridcolor": "white",
           "linecolor": "white",
           "ticks": "",
           "title": {
            "standoff": 15
           },
           "zerolinecolor": "white",
           "zerolinewidth": 2
          }
         }
        },
        "title": {
         "text": "Comparsion chart between predicted and original labels",
         "x": 0.5
        }
       }
      },
      "text/html": [
       "<div>                            <div id=\"f4271e54-0957-4e27-b628-67c790173acb\" class=\"plotly-graph-div\" style=\"height:525px; width:100%;\"></div>            <script type=\"text/javascript\">                require([\"plotly\"], function(Plotly) {                    window.PLOTLYENV=window.PLOTLYENV || {};                                    if (document.getElementById(\"f4271e54-0957-4e27-b628-67c790173acb\")) {                    Plotly.newPlot(                        \"f4271e54-0957-4e27-b628-67c790173acb\",                        [{\"mode\":\"markers\",\"name\":\"Original labels\",\"x\":[1.0,2.0,3.0,4.0,5.0,6.0,7.0,8.0,9.0,10.0,11.0,12.0],\"y\":[5.0,8.8,9.6,14.2,18.8,19.5,21.4,26.8,28.9,32.0,33.8,38.2],\"type\":\"scatter\"},{\"mode\":\"lines+markers\",\"name\":\"Predicted labels\",\"x\":[1.0,2.0,3.0,4.0,5.0,6.0,7.0,8.0,9.0,10.0,11.0,12.0],\"y\":[5.189731597900391,8.174160480499268,11.158589363098145,14.143018245697021,17.1274471282959,20.111876010894775,23.096304893493652,26.08073377609253,29.065162658691406,32.04959154129028,35.03402042388916,38.01844930648804],\"type\":\"scatter\"}],                        {\"template\":{\"data\":{\"histogram2dcontour\":[{\"type\":\"histogram2dcontour\",\"colorbar\":{\"outlinewidth\":0,\"ticks\":\"\"},\"colorscale\":[[0.0,\"#0d0887\"],[0.1111111111111111,\"#46039f\"],[0.2222222222222222,\"#7201a8\"],[0.3333333333333333,\"#9c179e\"],[0.4444444444444444,\"#bd3786\"],[0.5555555555555556,\"#d8576b\"],[0.6666666666666666,\"#ed7953\"],[0.7777777777777778,\"#fb9f3a\"],[0.8888888888888888,\"#fdca26\"],[1.0,\"#f0f921\"]]}],\"choropleth\":[{\"type\":\"choropleth\",\"colorbar\":{\"outlinewidth\":0,\"ticks\":\"\"}}],\"histogram2d\":[{\"type\":\"histogram2d\",\"colorbar\":{\"outlinewidth\":0,\"ticks\":\"\"},\"colorscale\":[[0.0,\"#0d0887\"],[0.1111111111111111,\"#46039f\"],[0.2222222222222222,\"#7201a8\"],[0.3333333333333333,\"#9c179e\"],[0.4444444444444444,\"#bd3786\"],[0.5555555555555556,\"#d8576b\"],[0.6666666666666666,\"#ed7953\"],[0.7777777777777778,\"#fb9f3a\"],[0.8888888888888888,\"#fdca26\"],[1.0,\"#f0f921\"]]}],\"heatmap\":[{\"type\":\"heatmap\",\"colorbar\":{\"outlinewidth\":0,\"ticks\":\"\"},\"colorscale\":[[0.0,\"#0d0887\"],[0.1111111111111111,\"#46039f\"],[0.2222222222222222,\"#7201a8\"],[0.3333333333333333,\"#9c179e\"],[0.4444444444444444,\"#bd3786\"],[0.5555555555555556,\"#d8576b\"],[0.6666666666666666,\"#ed7953\"],[0.7777777777777778,\"#fb9f3a\"],[0.8888888888888888,\"#fdca26\"],[1.0,\"#f0f921\"]]}],\"heatmapgl\":[{\"type\":\"heatmapgl\",\"colorbar\":{\"outlinewidth\":0,\"ticks\":\"\"},\"colorscale\":[[0.0,\"#0d0887\"],[0.1111111111111111,\"#46039f\"],[0.2222222222222222,\"#7201a8\"],[0.3333333333333333,\"#9c179e\"],[0.4444444444444444,\"#bd3786\"],[0.5555555555555556,\"#d8576b\"],[0.6666666666666666,\"#ed7953\"],[0.7777777777777778,\"#fb9f3a\"],[0.8888888888888888,\"#fdca26\"],[1.0,\"#f0f921\"]]}],\"contourcarpet\":[{\"type\":\"contourcarpet\",\"colorbar\":{\"outlinewidth\":0,\"ticks\":\"\"}}],\"contour\":[{\"type\":\"contour\",\"colorbar\":{\"outlinewidth\":0,\"ticks\":\"\"},\"colorscale\":[[0.0,\"#0d0887\"],[0.1111111111111111,\"#46039f\"],[0.2222222222222222,\"#7201a8\"],[0.3333333333333333,\"#9c179e\"],[0.4444444444444444,\"#bd3786\"],[0.5555555555555556,\"#d8576b\"],[0.6666666666666666,\"#ed7953\"],[0.7777777777777778,\"#fb9f3a\"],[0.8888888888888888,\"#fdca26\"],[1.0,\"#f0f921\"]]}],\"surface\":[{\"type\":\"surface\",\"colorbar\":{\"outlinewidth\":0,\"ticks\":\"\"},\"colorscale\":[[0.0,\"#0d0887\"],[0.1111111111111111,\"#46039f\"],[0.2222222222222222,\"#7201a8\"],[0.3333333333333333,\"#9c179e\"],[0.4444444444444444,\"#bd3786\"],[0.5555555555555556,\"#d8576b\"],[0.6666666666666666,\"#ed7953\"],[0.7777777777777778,\"#fb9f3a\"],[0.8888888888888888,\"#fdca26\"],[1.0,\"#f0f921\"]]}],\"mesh3d\":[{\"type\":\"mesh3d\",\"colorbar\":{\"outlinewidth\":0,\"ticks\":\"\"}}],\"scatter\":[{\"fillpattern\":{\"fillmode\":\"overlay\",\"size\":10,\"solidity\":0.2},\"type\":\"scatter\"}],\"parcoords\":[{\"type\":\"parcoords\",\"line\":{\"colorbar\":{\"outlinewidth\":0,\"ticks\":\"\"}}}],\"scatterpolargl\":[{\"type\":\"scatterpolargl\",\"marker\":{\"colorbar\":{\"outlinewidth\":0,\"ticks\":\"\"}}}],\"bar\":[{\"error_x\":{\"color\":\"#2a3f5f\"},\"error_y\":{\"color\":\"#2a3f5f\"},\"marker\":{\"line\":{\"color\":\"#E5ECF6\",\"width\":0.5},\"pattern\":{\"fillmode\":\"overlay\",\"size\":10,\"solidity\":0.2}},\"type\":\"bar\"}],\"scattergeo\":[{\"type\":\"scattergeo\",\"marker\":{\"colorbar\":{\"outlinewidth\":0,\"ticks\":\"\"}}}],\"scatterpolar\":[{\"type\":\"scatterpolar\",\"marker\":{\"colorbar\":{\"outlinewidth\":0,\"ticks\":\"\"}}}],\"histogram\":[{\"marker\":{\"pattern\":{\"fillmode\":\"overlay\",\"size\":10,\"solidity\":0.2}},\"type\":\"histogram\"}],\"scattergl\":[{\"type\":\"scattergl\",\"marker\":{\"colorbar\":{\"outlinewidth\":0,\"ticks\":\"\"}}}],\"scatter3d\":[{\"type\":\"scatter3d\",\"line\":{\"colorbar\":{\"outlinewidth\":0,\"ticks\":\"\"}},\"marker\":{\"colorbar\":{\"outlinewidth\":0,\"ticks\":\"\"}}}],\"scattermapbox\":[{\"type\":\"scattermapbox\",\"marker\":{\"colorbar\":{\"outlinewidth\":0,\"ticks\":\"\"}}}],\"scatterternary\":[{\"type\":\"scatterternary\",\"marker\":{\"colorbar\":{\"outlinewidth\":0,\"ticks\":\"\"}}}],\"scattercarpet\":[{\"type\":\"scattercarpet\",\"marker\":{\"colorbar\":{\"outlinewidth\":0,\"ticks\":\"\"}}}],\"carpet\":[{\"aaxis\":{\"endlinecolor\":\"#2a3f5f\",\"gridcolor\":\"white\",\"linecolor\":\"white\",\"minorgridcolor\":\"white\",\"startlinecolor\":\"#2a3f5f\"},\"baxis\":{\"endlinecolor\":\"#2a3f5f\",\"gridcolor\":\"white\",\"linecolor\":\"white\",\"minorgridcolor\":\"white\",\"startlinecolor\":\"#2a3f5f\"},\"type\":\"carpet\"}],\"table\":[{\"cells\":{\"fill\":{\"color\":\"#EBF0F8\"},\"line\":{\"color\":\"white\"}},\"header\":{\"fill\":{\"color\":\"#C8D4E3\"},\"line\":{\"color\":\"white\"}},\"type\":\"table\"}],\"barpolar\":[{\"marker\":{\"line\":{\"color\":\"#E5ECF6\",\"width\":0.5},\"pattern\":{\"fillmode\":\"overlay\",\"size\":10,\"solidity\":0.2}},\"type\":\"barpolar\"}],\"pie\":[{\"automargin\":true,\"type\":\"pie\"}]},\"layout\":{\"autotypenumbers\":\"strict\",\"colorway\":[\"#636efa\",\"#EF553B\",\"#00cc96\",\"#ab63fa\",\"#FFA15A\",\"#19d3f3\",\"#FF6692\",\"#B6E880\",\"#FF97FF\",\"#FECB52\"],\"font\":{\"color\":\"#2a3f5f\"},\"hovermode\":\"closest\",\"hoverlabel\":{\"align\":\"left\"},\"paper_bgcolor\":\"white\",\"plot_bgcolor\":\"#E5ECF6\",\"polar\":{\"bgcolor\":\"#E5ECF6\",\"angularaxis\":{\"gridcolor\":\"white\",\"linecolor\":\"white\",\"ticks\":\"\"},\"radialaxis\":{\"gridcolor\":\"white\",\"linecolor\":\"white\",\"ticks\":\"\"}},\"ternary\":{\"bgcolor\":\"#E5ECF6\",\"aaxis\":{\"gridcolor\":\"white\",\"linecolor\":\"white\",\"ticks\":\"\"},\"baxis\":{\"gridcolor\":\"white\",\"linecolor\":\"white\",\"ticks\":\"\"},\"caxis\":{\"gridcolor\":\"white\",\"linecolor\":\"white\",\"ticks\":\"\"}},\"coloraxis\":{\"colorbar\":{\"outlinewidth\":0,\"ticks\":\"\"}},\"colorscale\":{\"sequential\":[[0.0,\"#0d0887\"],[0.1111111111111111,\"#46039f\"],[0.2222222222222222,\"#7201a8\"],[0.3333333333333333,\"#9c179e\"],[0.4444444444444444,\"#bd3786\"],[0.5555555555555556,\"#d8576b\"],[0.6666666666666666,\"#ed7953\"],[0.7777777777777778,\"#fb9f3a\"],[0.8888888888888888,\"#fdca26\"],[1.0,\"#f0f921\"]],\"sequentialminus\":[[0.0,\"#0d0887\"],[0.1111111111111111,\"#46039f\"],[0.2222222222222222,\"#7201a8\"],[0.3333333333333333,\"#9c179e\"],[0.4444444444444444,\"#bd3786\"],[0.5555555555555556,\"#d8576b\"],[0.6666666666666666,\"#ed7953\"],[0.7777777777777778,\"#fb9f3a\"],[0.8888888888888888,\"#fdca26\"],[1.0,\"#f0f921\"]],\"diverging\":[[0,\"#8e0152\"],[0.1,\"#c51b7d\"],[0.2,\"#de77ae\"],[0.3,\"#f1b6da\"],[0.4,\"#fde0ef\"],[0.5,\"#f7f7f7\"],[0.6,\"#e6f5d0\"],[0.7,\"#b8e186\"],[0.8,\"#7fbc41\"],[0.9,\"#4d9221\"],[1,\"#276419\"]]},\"xaxis\":{\"gridcolor\":\"white\",\"linecolor\":\"white\",\"ticks\":\"\",\"title\":{\"standoff\":15},\"zerolinecolor\":\"white\",\"automargin\":true,\"zerolinewidth\":2},\"yaxis\":{\"gridcolor\":\"white\",\"linecolor\":\"white\",\"ticks\":\"\",\"title\":{\"standoff\":15},\"zerolinecolor\":\"white\",\"automargin\":true,\"zerolinewidth\":2},\"scene\":{\"xaxis\":{\"backgroundcolor\":\"#E5ECF6\",\"gridcolor\":\"white\",\"linecolor\":\"white\",\"showbackground\":true,\"ticks\":\"\",\"zerolinecolor\":\"white\",\"gridwidth\":2},\"yaxis\":{\"backgroundcolor\":\"#E5ECF6\",\"gridcolor\":\"white\",\"linecolor\":\"white\",\"showbackground\":true,\"ticks\":\"\",\"zerolinecolor\":\"white\",\"gridwidth\":2},\"zaxis\":{\"backgroundcolor\":\"#E5ECF6\",\"gridcolor\":\"white\",\"linecolor\":\"white\",\"showbackground\":true,\"ticks\":\"\",\"zerolinecolor\":\"white\",\"gridwidth\":2}},\"shapedefaults\":{\"line\":{\"color\":\"#2a3f5f\"}},\"annotationdefaults\":{\"arrowcolor\":\"#2a3f5f\",\"arrowhead\":0,\"arrowwidth\":1},\"geo\":{\"bgcolor\":\"white\",\"landcolor\":\"#E5ECF6\",\"subunitcolor\":\"white\",\"showland\":true,\"showlakes\":true,\"lakecolor\":\"white\"},\"title\":{\"x\":0.05},\"mapbox\":{\"style\":\"light\"}}},\"title\":{\"text\":\"Comparsion chart between predicted and original labels\",\"x\":0.5}},                        {\"responsive\": true}                    ).then(function(){\n",
       "                            \n",
       "var gd = document.getElementById('f4271e54-0957-4e27-b628-67c790173acb');\n",
       "var x = new MutationObserver(function (mutations, observer) {{\n",
       "        var display = window.getComputedStyle(gd).display;\n",
       "        if (!display || display === 'none') {{\n",
       "            console.log([gd, 'removed!']);\n",
       "            Plotly.purge(gd);\n",
       "            observer.disconnect();\n",
       "        }}\n",
       "}});\n",
       "\n",
       "// Listen for the removal of the full notebook cells\n",
       "var notebookContainer = gd.closest('#notebook-container');\n",
       "if (notebookContainer) {{\n",
       "    x.observe(notebookContainer, {childList: true});\n",
       "}}\n",
       "\n",
       "// Listen for the clearing of the current output cell\n",
       "var outputEl = gd.closest('.output');\n",
       "if (outputEl) {{\n",
       "    x.observe(outputEl, {childList: true});\n",
       "}}\n",
       "\n",
       "                        })                };                });            </script>        </div>"
      ]
     },
     "metadata": {},
     "output_type": "display_data"
    }
   ],
   "source": [
    "model_label_output = get_new_labels(trained_weight, trained_bias, my_feature)\n",
    "\n",
    "plot_original_and_predicted_label(my_feature, my_label, model_label_output)"
   ]
  },
  {
   "cell_type": "code",
   "execution_count": 45,
   "id": "d8aabb1c",
   "metadata": {},
   "outputs": [
    {
     "data": {
      "application/vnd.plotly.v1+json": {
       "config": {
        "plotlyServerURL": "https://plot.ly"
       },
       "data": [
        {
         "hovertemplate": "Epochs=%{x}<br>Error=%{y}<extra></extra>",
         "legendgroup": "",
         "line": {
          "color": "#636efa",
          "dash": "solid"
         },
         "marker": {
          "symbol": "circle"
         },
         "mode": "lines",
         "name": "",
         "orientation": "v",
         "showlegend": false,
         "type": "scatter",
         "x": [
          0,
          1,
          2,
          3,
          4,
          5,
          6,
          7,
          8,
          9,
          10,
          11,
          12,
          13,
          14,
          15,
          16,
          17,
          18,
          19,
          20,
          21,
          22,
          23,
          24,
          25,
          26,
          27,
          28,
          29,
          30,
          31,
          32,
          33,
          34,
          35,
          36,
          37,
          38,
          39,
          40,
          41,
          42,
          43,
          44,
          45,
          46,
          47,
          48,
          49,
          50,
          51,
          52,
          53,
          54,
          55,
          56,
          57,
          58,
          59,
          60,
          61,
          62,
          63,
          64,
          65,
          66,
          67,
          68,
          69,
          70,
          71,
          72,
          73,
          74,
          75,
          76,
          77,
          78,
          79,
          80,
          81,
          82,
          83,
          84,
          85,
          86,
          87,
          88,
          89,
          90,
          91,
          92,
          93,
          94,
          95,
          96,
          97,
          98,
          99,
          100,
          101,
          102,
          103,
          104,
          105,
          106,
          107,
          108,
          109,
          110,
          111,
          112,
          113,
          114,
          115,
          116,
          117,
          118,
          119,
          120,
          121,
          122,
          123,
          124,
          125,
          126,
          127,
          128,
          129,
          130,
          131,
          132,
          133,
          134,
          135,
          136,
          137,
          138,
          139,
          140,
          141,
          142,
          143,
          144,
          145,
          146,
          147,
          148,
          149,
          150,
          151,
          152,
          153,
          154,
          155,
          156,
          157,
          158,
          159,
          160,
          161,
          162,
          163,
          164,
          165,
          166,
          167,
          168,
          169,
          170,
          171,
          172,
          173,
          174,
          175,
          176,
          177,
          178,
          179,
          180,
          181,
          182,
          183,
          184,
          185,
          186,
          187,
          188,
          189,
          190,
          191,
          192,
          193,
          194,
          195,
          196,
          197,
          198,
          199,
          200,
          201,
          202,
          203,
          204,
          205,
          206,
          207,
          208,
          209,
          210,
          211,
          212,
          213,
          214,
          215,
          216,
          217,
          218,
          219,
          220,
          221,
          222,
          223,
          224,
          225,
          226,
          227,
          228,
          229,
          230,
          231,
          232,
          233,
          234,
          235,
          236,
          237,
          238,
          239,
          240,
          241,
          242,
          243,
          244,
          245,
          246,
          247,
          248,
          249,
          250,
          251,
          252,
          253,
          254,
          255,
          256,
          257,
          258,
          259,
          260,
          261,
          262,
          263,
          264,
          265,
          266,
          267,
          268,
          269,
          270,
          271,
          272,
          273,
          274,
          275,
          276,
          277,
          278,
          279,
          280,
          281,
          282,
          283,
          284,
          285,
          286,
          287,
          288,
          289,
          290,
          291,
          292,
          293,
          294,
          295,
          296,
          297,
          298,
          299
         ],
         "xaxis": "x",
         "y": [
          22.879850387573242,
          21.575672149658203,
          20.656400680541992,
          19.90058135986328,
          19.239219665527344,
          18.640602111816406,
          18.087158203125,
          17.568021774291992,
          17.07593536376953,
          16.605792999267578,
          16.15386199951172,
          15.717316627502441,
          15.293977737426758,
          14.882121086120605,
          14.480366706848145,
          14.087592124938965,
          13.702881813049316,
          13.325475692749023,
          12.954740524291992,
          12.590147018432617,
          12.231253623962402,
          11.877689361572266,
          11.529142379760742,
          11.18535327911377,
          10.846105575561523,
          10.511221885681152,
          10.180559158325195,
          9.854002952575684,
          9.531465530395508,
          9.212885856628418,
          8.898221969604492,
          8.587451934814453,
          8.2805757522583,
          7.9776082038879395,
          7.678582668304443,
          7.383546829223633,
          7.092565536499023,
          6.8057169914245605,
          6.523096084594727,
          6.244813442230225,
          5.970992565155029,
          5.701770782470703,
          5.4373064041137695,
          5.177764892578125,
          4.92333459854126,
          4.674218654632568,
          4.430635452270508,
          4.192821502685547,
          3.961034059524536,
          3.7355449199676514,
          3.516649007797241,
          3.304661273956299,
          3.0999181270599365,
          2.9027726650238037,
          2.713604211807251,
          2.532806158065796,
          2.360792875289917,
          2.1979925632476807,
          2.044837474822998,
          1.9017584323883057,
          1.769170880317688,
          1.6474485397338867,
          1.536906123161316,
          1.4377553462982178,
          1.3500758409500122,
          1.273770809173584,
          1.2085332870483398,
          1.1538326740264893,
          1.1089143753051758,
          1.0728315114974976,
          1.0444995164871216,
          1.0227631330490112,
          1.0064680576324463,
          0.9945264458656311,
          0.9859617352485657,
          0.9799371361732483,
          0.9757643938064575,
          0.9728991389274597,
          0.9709265828132629,
          0.9695408344268799,
          0.9685260057449341,
          0.9677338004112244,
          0.9670675992965698,
          0.9664645195007324,
          0.9658882021903992,
          0.9653163552284241,
          0.9647377133369446,
          0.9641451835632324,
          0.9635359048843384,
          0.9629086256027222,
          0.9622633457183838,
          0.9615999460220337,
          0.9609180092811584,
          0.9602181911468506,
          0.9595019817352295,
          0.9587696194648743,
          0.9580215215682983,
          0.9572595953941345,
          0.9564841389656067,
          0.9556970000267029,
          0.9548987746238708,
          0.9540926814079285,
          0.9532788991928101,
          0.9524603486061096,
          0.951638400554657,
          0.9508154988288879,
          0.9499941468238831,
          0.9491760730743408,
          0.9483644962310791,
          0.947561502456665,
          0.9467703104019165,
          0.9459920525550842,
          0.9452306032180786,
          0.9444887638092041,
          0.9437675476074219,
          0.943071186542511,
          0.9424002170562744,
          0.9417577385902405,
          0.9411453604698181,
          0.9405644536018372,
          0.9400180578231812,
          0.9395049214363098,
          0.939026951789856,
          0.9385843276977539,
          0.9381780028343201,
          0.9378061890602112,
          0.9374702572822571,
          0.9371681809425354,
          0.9368992447853088,
          0.9366617798805237,
          0.9364535212516785,
          0.936273455619812,
          0.936119794845581,
          0.9359912872314453,
          0.9359073638916016,
          0.936172366142273,
          0.9416661262512207,
          1.0184566974639893,
          1.1666390895843506,
          1.016592025756836,
          0.9547542929649353,
          0.9408249258995056,
          0.9374282956123352,
          0.9364212155342102,
          0.9360641241073608,
          0.9359248280525208,
          0.9358821511268616,
          0.9359074234962463,
          0.9360223412513733,
          0.936312735080719,
          0.9370348453521729,
          0.9389562606811523,
          0.9444308876991272,
          0.9598217606544495,
          0.9925535321235657,
          1.0188403129577637,
          1.0026975870132446,
          0.9736775159835815,
          0.9555841088294983,
          0.946903645992279,
          0.9429617524147034,
          0.941256582736969,
          0.940755307674408,
          0.9411423206329346,
          0.9425281286239624,
          0.9454246163368225,
          0.9507936239242554,
          0.9596604108810425,
          0.9711735248565674,
          0.9799495935440063,
          0.9797906279563904,
          0.9720169305801392,
          0.9627314209938049,
          0.9555580615997314,
          0.9510179758071899,
          0.9485539197921753,
          0.9476179480552673,
          0.9479207992553711,
          0.9494107365608215,
          0.9521679878234863,
          0.956195056438446,
          0.9610428214073181,
          0.9654701352119446,
          0.9677958488464355,
          0.9671348929405212,
          0.9641547203063965,
          0.9603419303894043,
          0.9568958878517151,
          0.9543721675872803,
          0.9528881907463074,
          0.9523890614509583,
          0.9527919888496399,
          0.9540055990219116,
          0.9558914303779602,
          0.958175003528595,
          0.9603973627090454,
          0.9619913101196289,
          0.9625183939933777,
          0.9619136452674866,
          0.9604979157447815,
          0.9587677717208862,
          0.9571600556373596,
          0.9559527039527893,
          0.9552723169326782,
          0.9551437497138977,
          0.9555283784866333,
          0.9563332200050354,
          0.9574066996574402,
          0.9585365056991577,
          0.959481418132782,
          0.9600314497947693,
          0.9600821137428284,
          0.959672212600708,
          0.9589551091194153,
          0.9581310749053955,
          0.9573841691017151,
          0.9568440914154053,
          0.9565799236297607,
          0.9566060304641724,
          0.9568891525268555,
          0.9573588967323303,
          0.9579142928123474,
          0.9584385752677917,
          0.9588247537612915,
          0.958999514579773,
          0.9589442610740662,
          0.958694338798523,
          0.9583260416984558,
          0.9579303860664368,
          0.9575892686843872,
          0.9573621153831482,
          0.9572780728340149,
          0.9573391079902649,
          0.9575191736221313,
          0.9577732682228088,
          0.9580455422401428,
          0.9582794308662415,
          0.9584307074546814,
          0.9584751129150391,
          0.9584132432937622,
          0.9582703113555908,
          0.9580826163291931,
          0.9578947424888611,
          0.9577429890632629,
          0.9576542377471924,
          0.9576377868652344,
          0.9576910138130188,
          0.9577955007553101,
          0.9579264521598816,
          0.9580554962158203,
          0.9581562876701355,
          0.95821213722229,
          0.9582147002220154,
          0.958169162273407,
          0.9580905437469482,
          0.9579970836639404,
          0.957909882068634,
          0.957844614982605,
          0.9578135013580322,
          0.9578177332878113,
          0.9578530192375183,
          0.9579105377197266,
          0.9579758048057556,
          0.9580351710319519,
          0.9580773115158081,
          0.9580954313278198,
          0.9580879211425781,
          0.9580591917037964,
          0.9580173492431641,
          0.9579715728759766,
          0.95793217420578,
          0.9579058289527893,
          0.9578964710235596,
          0.9579046368598938,
          0.9579262137413025,
          0.9579566717147827,
          0.9579885005950928,
          0.9580149054527283,
          0.9580309987068176,
          0.9580355882644653,
          0.9580279588699341,
          0.9580116271972656,
          0.9579893946647644,
          0.9579675793647766,
          0.9579502940177917,
          0.9579403400421143,
          0.9579391479492188,
          0.9579453468322754,
          0.9579581022262573,
          0.9579735398292542,
          0.9579885601997375,
          0.9579998254776001,
          0.9580057263374329,
          0.9580054879188538,
          0.9579998254776001,
          0.9579904675483704,
          0.957979679107666,
          0.9579697251319885,
          0.9579629302024841,
          0.9579592943191528
         ],
         "yaxis": "y"
        }
       ],
       "layout": {
        "legend": {
         "tracegroupgap": 0
        },
        "margin": {
         "t": 60
        },
        "template": {
         "data": {
          "bar": [
           {
            "error_x": {
             "color": "#2a3f5f"
            },
            "error_y": {
             "color": "#2a3f5f"
            },
            "marker": {
             "line": {
              "color": "#E5ECF6",
              "width": 0.5
             },
             "pattern": {
              "fillmode": "overlay",
              "size": 10,
              "solidity": 0.2
             }
            },
            "type": "bar"
           }
          ],
          "barpolar": [
           {
            "marker": {
             "line": {
              "color": "#E5ECF6",
              "width": 0.5
             },
             "pattern": {
              "fillmode": "overlay",
              "size": 10,
              "solidity": 0.2
             }
            },
            "type": "barpolar"
           }
          ],
          "carpet": [
           {
            "aaxis": {
             "endlinecolor": "#2a3f5f",
             "gridcolor": "white",
             "linecolor": "white",
             "minorgridcolor": "white",
             "startlinecolor": "#2a3f5f"
            },
            "baxis": {
             "endlinecolor": "#2a3f5f",
             "gridcolor": "white",
             "linecolor": "white",
             "minorgridcolor": "white",
             "startlinecolor": "#2a3f5f"
            },
            "type": "carpet"
           }
          ],
          "choropleth": [
           {
            "colorbar": {
             "outlinewidth": 0,
             "ticks": ""
            },
            "type": "choropleth"
           }
          ],
          "contour": [
           {
            "colorbar": {
             "outlinewidth": 0,
             "ticks": ""
            },
            "colorscale": [
             [
              0,
              "#0d0887"
             ],
             [
              0.1111111111111111,
              "#46039f"
             ],
             [
              0.2222222222222222,
              "#7201a8"
             ],
             [
              0.3333333333333333,
              "#9c179e"
             ],
             [
              0.4444444444444444,
              "#bd3786"
             ],
             [
              0.5555555555555556,
              "#d8576b"
             ],
             [
              0.6666666666666666,
              "#ed7953"
             ],
             [
              0.7777777777777778,
              "#fb9f3a"
             ],
             [
              0.8888888888888888,
              "#fdca26"
             ],
             [
              1,
              "#f0f921"
             ]
            ],
            "type": "contour"
           }
          ],
          "contourcarpet": [
           {
            "colorbar": {
             "outlinewidth": 0,
             "ticks": ""
            },
            "type": "contourcarpet"
           }
          ],
          "heatmap": [
           {
            "colorbar": {
             "outlinewidth": 0,
             "ticks": ""
            },
            "colorscale": [
             [
              0,
              "#0d0887"
             ],
             [
              0.1111111111111111,
              "#46039f"
             ],
             [
              0.2222222222222222,
              "#7201a8"
             ],
             [
              0.3333333333333333,
              "#9c179e"
             ],
             [
              0.4444444444444444,
              "#bd3786"
             ],
             [
              0.5555555555555556,
              "#d8576b"
             ],
             [
              0.6666666666666666,
              "#ed7953"
             ],
             [
              0.7777777777777778,
              "#fb9f3a"
             ],
             [
              0.8888888888888888,
              "#fdca26"
             ],
             [
              1,
              "#f0f921"
             ]
            ],
            "type": "heatmap"
           }
          ],
          "heatmapgl": [
           {
            "colorbar": {
             "outlinewidth": 0,
             "ticks": ""
            },
            "colorscale": [
             [
              0,
              "#0d0887"
             ],
             [
              0.1111111111111111,
              "#46039f"
             ],
             [
              0.2222222222222222,
              "#7201a8"
             ],
             [
              0.3333333333333333,
              "#9c179e"
             ],
             [
              0.4444444444444444,
              "#bd3786"
             ],
             [
              0.5555555555555556,
              "#d8576b"
             ],
             [
              0.6666666666666666,
              "#ed7953"
             ],
             [
              0.7777777777777778,
              "#fb9f3a"
             ],
             [
              0.8888888888888888,
              "#fdca26"
             ],
             [
              1,
              "#f0f921"
             ]
            ],
            "type": "heatmapgl"
           }
          ],
          "histogram": [
           {
            "marker": {
             "pattern": {
              "fillmode": "overlay",
              "size": 10,
              "solidity": 0.2
             }
            },
            "type": "histogram"
           }
          ],
          "histogram2d": [
           {
            "colorbar": {
             "outlinewidth": 0,
             "ticks": ""
            },
            "colorscale": [
             [
              0,
              "#0d0887"
             ],
             [
              0.1111111111111111,
              "#46039f"
             ],
             [
              0.2222222222222222,
              "#7201a8"
             ],
             [
              0.3333333333333333,
              "#9c179e"
             ],
             [
              0.4444444444444444,
              "#bd3786"
             ],
             [
              0.5555555555555556,
              "#d8576b"
             ],
             [
              0.6666666666666666,
              "#ed7953"
             ],
             [
              0.7777777777777778,
              "#fb9f3a"
             ],
             [
              0.8888888888888888,
              "#fdca26"
             ],
             [
              1,
              "#f0f921"
             ]
            ],
            "type": "histogram2d"
           }
          ],
          "histogram2dcontour": [
           {
            "colorbar": {
             "outlinewidth": 0,
             "ticks": ""
            },
            "colorscale": [
             [
              0,
              "#0d0887"
             ],
             [
              0.1111111111111111,
              "#46039f"
             ],
             [
              0.2222222222222222,
              "#7201a8"
             ],
             [
              0.3333333333333333,
              "#9c179e"
             ],
             [
              0.4444444444444444,
              "#bd3786"
             ],
             [
              0.5555555555555556,
              "#d8576b"
             ],
             [
              0.6666666666666666,
              "#ed7953"
             ],
             [
              0.7777777777777778,
              "#fb9f3a"
             ],
             [
              0.8888888888888888,
              "#fdca26"
             ],
             [
              1,
              "#f0f921"
             ]
            ],
            "type": "histogram2dcontour"
           }
          ],
          "mesh3d": [
           {
            "colorbar": {
             "outlinewidth": 0,
             "ticks": ""
            },
            "type": "mesh3d"
           }
          ],
          "parcoords": [
           {
            "line": {
             "colorbar": {
              "outlinewidth": 0,
              "ticks": ""
             }
            },
            "type": "parcoords"
           }
          ],
          "pie": [
           {
            "automargin": true,
            "type": "pie"
           }
          ],
          "scatter": [
           {
            "fillpattern": {
             "fillmode": "overlay",
             "size": 10,
             "solidity": 0.2
            },
            "type": "scatter"
           }
          ],
          "scatter3d": [
           {
            "line": {
             "colorbar": {
              "outlinewidth": 0,
              "ticks": ""
             }
            },
            "marker": {
             "colorbar": {
              "outlinewidth": 0,
              "ticks": ""
             }
            },
            "type": "scatter3d"
           }
          ],
          "scattercarpet": [
           {
            "marker": {
             "colorbar": {
              "outlinewidth": 0,
              "ticks": ""
             }
            },
            "type": "scattercarpet"
           }
          ],
          "scattergeo": [
           {
            "marker": {
             "colorbar": {
              "outlinewidth": 0,
              "ticks": ""
             }
            },
            "type": "scattergeo"
           }
          ],
          "scattergl": [
           {
            "marker": {
             "colorbar": {
              "outlinewidth": 0,
              "ticks": ""
             }
            },
            "type": "scattergl"
           }
          ],
          "scattermapbox": [
           {
            "marker": {
             "colorbar": {
              "outlinewidth": 0,
              "ticks": ""
             }
            },
            "type": "scattermapbox"
           }
          ],
          "scatterpolar": [
           {
            "marker": {
             "colorbar": {
              "outlinewidth": 0,
              "ticks": ""
             }
            },
            "type": "scatterpolar"
           }
          ],
          "scatterpolargl": [
           {
            "marker": {
             "colorbar": {
              "outlinewidth": 0,
              "ticks": ""
             }
            },
            "type": "scatterpolargl"
           }
          ],
          "scatterternary": [
           {
            "marker": {
             "colorbar": {
              "outlinewidth": 0,
              "ticks": ""
             }
            },
            "type": "scatterternary"
           }
          ],
          "surface": [
           {
            "colorbar": {
             "outlinewidth": 0,
             "ticks": ""
            },
            "colorscale": [
             [
              0,
              "#0d0887"
             ],
             [
              0.1111111111111111,
              "#46039f"
             ],
             [
              0.2222222222222222,
              "#7201a8"
             ],
             [
              0.3333333333333333,
              "#9c179e"
             ],
             [
              0.4444444444444444,
              "#bd3786"
             ],
             [
              0.5555555555555556,
              "#d8576b"
             ],
             [
              0.6666666666666666,
              "#ed7953"
             ],
             [
              0.7777777777777778,
              "#fb9f3a"
             ],
             [
              0.8888888888888888,
              "#fdca26"
             ],
             [
              1,
              "#f0f921"
             ]
            ],
            "type": "surface"
           }
          ],
          "table": [
           {
            "cells": {
             "fill": {
              "color": "#EBF0F8"
             },
             "line": {
              "color": "white"
             }
            },
            "header": {
             "fill": {
              "color": "#C8D4E3"
             },
             "line": {
              "color": "white"
             }
            },
            "type": "table"
           }
          ]
         },
         "layout": {
          "annotationdefaults": {
           "arrowcolor": "#2a3f5f",
           "arrowhead": 0,
           "arrowwidth": 1
          },
          "autotypenumbers": "strict",
          "coloraxis": {
           "colorbar": {
            "outlinewidth": 0,
            "ticks": ""
           }
          },
          "colorscale": {
           "diverging": [
            [
             0,
             "#8e0152"
            ],
            [
             0.1,
             "#c51b7d"
            ],
            [
             0.2,
             "#de77ae"
            ],
            [
             0.3,
             "#f1b6da"
            ],
            [
             0.4,
             "#fde0ef"
            ],
            [
             0.5,
             "#f7f7f7"
            ],
            [
             0.6,
             "#e6f5d0"
            ],
            [
             0.7,
             "#b8e186"
            ],
            [
             0.8,
             "#7fbc41"
            ],
            [
             0.9,
             "#4d9221"
            ],
            [
             1,
             "#276419"
            ]
           ],
           "sequential": [
            [
             0,
             "#0d0887"
            ],
            [
             0.1111111111111111,
             "#46039f"
            ],
            [
             0.2222222222222222,
             "#7201a8"
            ],
            [
             0.3333333333333333,
             "#9c179e"
            ],
            [
             0.4444444444444444,
             "#bd3786"
            ],
            [
             0.5555555555555556,
             "#d8576b"
            ],
            [
             0.6666666666666666,
             "#ed7953"
            ],
            [
             0.7777777777777778,
             "#fb9f3a"
            ],
            [
             0.8888888888888888,
             "#fdca26"
            ],
            [
             1,
             "#f0f921"
            ]
           ],
           "sequentialminus": [
            [
             0,
             "#0d0887"
            ],
            [
             0.1111111111111111,
             "#46039f"
            ],
            [
             0.2222222222222222,
             "#7201a8"
            ],
            [
             0.3333333333333333,
             "#9c179e"
            ],
            [
             0.4444444444444444,
             "#bd3786"
            ],
            [
             0.5555555555555556,
             "#d8576b"
            ],
            [
             0.6666666666666666,
             "#ed7953"
            ],
            [
             0.7777777777777778,
             "#fb9f3a"
            ],
            [
             0.8888888888888888,
             "#fdca26"
            ],
            [
             1,
             "#f0f921"
            ]
           ]
          },
          "colorway": [
           "#636efa",
           "#EF553B",
           "#00cc96",
           "#ab63fa",
           "#FFA15A",
           "#19d3f3",
           "#FF6692",
           "#B6E880",
           "#FF97FF",
           "#FECB52"
          ],
          "font": {
           "color": "#2a3f5f"
          },
          "geo": {
           "bgcolor": "white",
           "lakecolor": "white",
           "landcolor": "#E5ECF6",
           "showlakes": true,
           "showland": true,
           "subunitcolor": "white"
          },
          "hoverlabel": {
           "align": "left"
          },
          "hovermode": "closest",
          "mapbox": {
           "style": "light"
          },
          "paper_bgcolor": "white",
          "plot_bgcolor": "#E5ECF6",
          "polar": {
           "angularaxis": {
            "gridcolor": "white",
            "linecolor": "white",
            "ticks": ""
           },
           "bgcolor": "#E5ECF6",
           "radialaxis": {
            "gridcolor": "white",
            "linecolor": "white",
            "ticks": ""
           }
          },
          "scene": {
           "xaxis": {
            "backgroundcolor": "#E5ECF6",
            "gridcolor": "white",
            "gridwidth": 2,
            "linecolor": "white",
            "showbackground": true,
            "ticks": "",
            "zerolinecolor": "white"
           },
           "yaxis": {
            "backgroundcolor": "#E5ECF6",
            "gridcolor": "white",
            "gridwidth": 2,
            "linecolor": "white",
            "showbackground": true,
            "ticks": "",
            "zerolinecolor": "white"
           },
           "zaxis": {
            "backgroundcolor": "#E5ECF6",
            "gridcolor": "white",
            "gridwidth": 2,
            "linecolor": "white",
            "showbackground": true,
            "ticks": "",
            "zerolinecolor": "white"
           }
          },
          "shapedefaults": {
           "line": {
            "color": "#2a3f5f"
           }
          },
          "ternary": {
           "aaxis": {
            "gridcolor": "white",
            "linecolor": "white",
            "ticks": ""
           },
           "baxis": {
            "gridcolor": "white",
            "linecolor": "white",
            "ticks": ""
           },
           "bgcolor": "#E5ECF6",
           "caxis": {
            "gridcolor": "white",
            "linecolor": "white",
            "ticks": ""
           }
          },
          "title": {
           "x": 0.05
          },
          "xaxis": {
           "automargin": true,
           "gridcolor": "white",
           "linecolor": "white",
           "ticks": "",
           "title": {
            "standoff": 15
           },
           "zerolinecolor": "white",
           "zerolinewidth": 2
          },
          "yaxis": {
           "automargin": true,
           "gridcolor": "white",
           "linecolor": "white",
           "ticks": "",
           "title": {
            "standoff": 15
           },
           "zerolinecolor": "white",
           "zerolinewidth": 2
          }
         }
        },
        "title": {
         "text": "Loss",
         "x": 0.5
        },
        "xaxis": {
         "anchor": "y",
         "domain": [
          0,
          1
         ],
         "title": {
          "text": "Epochs"
         }
        },
        "yaxis": {
         "anchor": "x",
         "domain": [
          0,
          1
         ],
         "title": {
          "text": "Error"
         }
        }
       }
      },
      "text/html": [
       "<div>                            <div id=\"62e21143-aade-4637-a63c-e01aea689da4\" class=\"plotly-graph-div\" style=\"height:525px; width:100%;\"></div>            <script type=\"text/javascript\">                require([\"plotly\"], function(Plotly) {                    window.PLOTLYENV=window.PLOTLYENV || {};                                    if (document.getElementById(\"62e21143-aade-4637-a63c-e01aea689da4\")) {                    Plotly.newPlot(                        \"62e21143-aade-4637-a63c-e01aea689da4\",                        [{\"hovertemplate\":\"Epochs=%{x}<br>Error=%{y}<extra></extra>\",\"legendgroup\":\"\",\"line\":{\"color\":\"#636efa\",\"dash\":\"solid\"},\"marker\":{\"symbol\":\"circle\"},\"mode\":\"lines\",\"name\":\"\",\"orientation\":\"v\",\"showlegend\":false,\"x\":[0,1,2,3,4,5,6,7,8,9,10,11,12,13,14,15,16,17,18,19,20,21,22,23,24,25,26,27,28,29,30,31,32,33,34,35,36,37,38,39,40,41,42,43,44,45,46,47,48,49,50,51,52,53,54,55,56,57,58,59,60,61,62,63,64,65,66,67,68,69,70,71,72,73,74,75,76,77,78,79,80,81,82,83,84,85,86,87,88,89,90,91,92,93,94,95,96,97,98,99,100,101,102,103,104,105,106,107,108,109,110,111,112,113,114,115,116,117,118,119,120,121,122,123,124,125,126,127,128,129,130,131,132,133,134,135,136,137,138,139,140,141,142,143,144,145,146,147,148,149,150,151,152,153,154,155,156,157,158,159,160,161,162,163,164,165,166,167,168,169,170,171,172,173,174,175,176,177,178,179,180,181,182,183,184,185,186,187,188,189,190,191,192,193,194,195,196,197,198,199,200,201,202,203,204,205,206,207,208,209,210,211,212,213,214,215,216,217,218,219,220,221,222,223,224,225,226,227,228,229,230,231,232,233,234,235,236,237,238,239,240,241,242,243,244,245,246,247,248,249,250,251,252,253,254,255,256,257,258,259,260,261,262,263,264,265,266,267,268,269,270,271,272,273,274,275,276,277,278,279,280,281,282,283,284,285,286,287,288,289,290,291,292,293,294,295,296,297,298,299],\"xaxis\":\"x\",\"y\":[22.879850387573242,21.575672149658203,20.656400680541992,19.90058135986328,19.239219665527344,18.640602111816406,18.087158203125,17.568021774291992,17.07593536376953,16.605792999267578,16.15386199951172,15.717316627502441,15.293977737426758,14.882121086120605,14.480366706848145,14.087592124938965,13.702881813049316,13.325475692749023,12.954740524291992,12.590147018432617,12.231253623962402,11.877689361572266,11.529142379760742,11.18535327911377,10.846105575561523,10.511221885681152,10.180559158325195,9.854002952575684,9.531465530395508,9.212885856628418,8.898221969604492,8.587451934814453,8.2805757522583,7.9776082038879395,7.678582668304443,7.383546829223633,7.092565536499023,6.8057169914245605,6.523096084594727,6.244813442230225,5.970992565155029,5.701770782470703,5.4373064041137695,5.177764892578125,4.92333459854126,4.674218654632568,4.430635452270508,4.192821502685547,3.961034059524536,3.7355449199676514,3.516649007797241,3.304661273956299,3.0999181270599365,2.9027726650238037,2.713604211807251,2.532806158065796,2.360792875289917,2.1979925632476807,2.044837474822998,1.9017584323883057,1.769170880317688,1.6474485397338867,1.536906123161316,1.4377553462982178,1.3500758409500122,1.273770809173584,1.2085332870483398,1.1538326740264893,1.1089143753051758,1.0728315114974976,1.0444995164871216,1.0227631330490112,1.0064680576324463,0.9945264458656311,0.9859617352485657,0.9799371361732483,0.9757643938064575,0.9728991389274597,0.9709265828132629,0.9695408344268799,0.9685260057449341,0.9677338004112244,0.9670675992965698,0.9664645195007324,0.9658882021903992,0.9653163552284241,0.9647377133369446,0.9641451835632324,0.9635359048843384,0.9629086256027222,0.9622633457183838,0.9615999460220337,0.9609180092811584,0.9602181911468506,0.9595019817352295,0.9587696194648743,0.9580215215682983,0.9572595953941345,0.9564841389656067,0.9556970000267029,0.9548987746238708,0.9540926814079285,0.9532788991928101,0.9524603486061096,0.951638400554657,0.9508154988288879,0.9499941468238831,0.9491760730743408,0.9483644962310791,0.947561502456665,0.9467703104019165,0.9459920525550842,0.9452306032180786,0.9444887638092041,0.9437675476074219,0.943071186542511,0.9424002170562744,0.9417577385902405,0.9411453604698181,0.9405644536018372,0.9400180578231812,0.9395049214363098,0.939026951789856,0.9385843276977539,0.9381780028343201,0.9378061890602112,0.9374702572822571,0.9371681809425354,0.9368992447853088,0.9366617798805237,0.9364535212516785,0.936273455619812,0.936119794845581,0.9359912872314453,0.9359073638916016,0.936172366142273,0.9416661262512207,1.0184566974639893,1.1666390895843506,1.016592025756836,0.9547542929649353,0.9408249258995056,0.9374282956123352,0.9364212155342102,0.9360641241073608,0.9359248280525208,0.9358821511268616,0.9359074234962463,0.9360223412513733,0.936312735080719,0.9370348453521729,0.9389562606811523,0.9444308876991272,0.9598217606544495,0.9925535321235657,1.0188403129577637,1.0026975870132446,0.9736775159835815,0.9555841088294983,0.946903645992279,0.9429617524147034,0.941256582736969,0.940755307674408,0.9411423206329346,0.9425281286239624,0.9454246163368225,0.9507936239242554,0.9596604108810425,0.9711735248565674,0.9799495935440063,0.9797906279563904,0.9720169305801392,0.9627314209938049,0.9555580615997314,0.9510179758071899,0.9485539197921753,0.9476179480552673,0.9479207992553711,0.9494107365608215,0.9521679878234863,0.956195056438446,0.9610428214073181,0.9654701352119446,0.9677958488464355,0.9671348929405212,0.9641547203063965,0.9603419303894043,0.9568958878517151,0.9543721675872803,0.9528881907463074,0.9523890614509583,0.9527919888496399,0.9540055990219116,0.9558914303779602,0.958175003528595,0.9603973627090454,0.9619913101196289,0.9625183939933777,0.9619136452674866,0.9604979157447815,0.9587677717208862,0.9571600556373596,0.9559527039527893,0.9552723169326782,0.9551437497138977,0.9555283784866333,0.9563332200050354,0.9574066996574402,0.9585365056991577,0.959481418132782,0.9600314497947693,0.9600821137428284,0.959672212600708,0.9589551091194153,0.9581310749053955,0.9573841691017151,0.9568440914154053,0.9565799236297607,0.9566060304641724,0.9568891525268555,0.9573588967323303,0.9579142928123474,0.9584385752677917,0.9588247537612915,0.958999514579773,0.9589442610740662,0.958694338798523,0.9583260416984558,0.9579303860664368,0.9575892686843872,0.9573621153831482,0.9572780728340149,0.9573391079902649,0.9575191736221313,0.9577732682228088,0.9580455422401428,0.9582794308662415,0.9584307074546814,0.9584751129150391,0.9584132432937622,0.9582703113555908,0.9580826163291931,0.9578947424888611,0.9577429890632629,0.9576542377471924,0.9576377868652344,0.9576910138130188,0.9577955007553101,0.9579264521598816,0.9580554962158203,0.9581562876701355,0.95821213722229,0.9582147002220154,0.958169162273407,0.9580905437469482,0.9579970836639404,0.957909882068634,0.957844614982605,0.9578135013580322,0.9578177332878113,0.9578530192375183,0.9579105377197266,0.9579758048057556,0.9580351710319519,0.9580773115158081,0.9580954313278198,0.9580879211425781,0.9580591917037964,0.9580173492431641,0.9579715728759766,0.95793217420578,0.9579058289527893,0.9578964710235596,0.9579046368598938,0.9579262137413025,0.9579566717147827,0.9579885005950928,0.9580149054527283,0.9580309987068176,0.9580355882644653,0.9580279588699341,0.9580116271972656,0.9579893946647644,0.9579675793647766,0.9579502940177917,0.9579403400421143,0.9579391479492188,0.9579453468322754,0.9579581022262573,0.9579735398292542,0.9579885601997375,0.9579998254776001,0.9580057263374329,0.9580054879188538,0.9579998254776001,0.9579904675483704,0.957979679107666,0.9579697251319885,0.9579629302024841,0.9579592943191528],\"yaxis\":\"y\",\"type\":\"scatter\"}],                        {\"template\":{\"data\":{\"histogram2dcontour\":[{\"type\":\"histogram2dcontour\",\"colorbar\":{\"outlinewidth\":0,\"ticks\":\"\"},\"colorscale\":[[0.0,\"#0d0887\"],[0.1111111111111111,\"#46039f\"],[0.2222222222222222,\"#7201a8\"],[0.3333333333333333,\"#9c179e\"],[0.4444444444444444,\"#bd3786\"],[0.5555555555555556,\"#d8576b\"],[0.6666666666666666,\"#ed7953\"],[0.7777777777777778,\"#fb9f3a\"],[0.8888888888888888,\"#fdca26\"],[1.0,\"#f0f921\"]]}],\"choropleth\":[{\"type\":\"choropleth\",\"colorbar\":{\"outlinewidth\":0,\"ticks\":\"\"}}],\"histogram2d\":[{\"type\":\"histogram2d\",\"colorbar\":{\"outlinewidth\":0,\"ticks\":\"\"},\"colorscale\":[[0.0,\"#0d0887\"],[0.1111111111111111,\"#46039f\"],[0.2222222222222222,\"#7201a8\"],[0.3333333333333333,\"#9c179e\"],[0.4444444444444444,\"#bd3786\"],[0.5555555555555556,\"#d8576b\"],[0.6666666666666666,\"#ed7953\"],[0.7777777777777778,\"#fb9f3a\"],[0.8888888888888888,\"#fdca26\"],[1.0,\"#f0f921\"]]}],\"heatmap\":[{\"type\":\"heatmap\",\"colorbar\":{\"outlinewidth\":0,\"ticks\":\"\"},\"colorscale\":[[0.0,\"#0d0887\"],[0.1111111111111111,\"#46039f\"],[0.2222222222222222,\"#7201a8\"],[0.3333333333333333,\"#9c179e\"],[0.4444444444444444,\"#bd3786\"],[0.5555555555555556,\"#d8576b\"],[0.6666666666666666,\"#ed7953\"],[0.7777777777777778,\"#fb9f3a\"],[0.8888888888888888,\"#fdca26\"],[1.0,\"#f0f921\"]]}],\"heatmapgl\":[{\"type\":\"heatmapgl\",\"colorbar\":{\"outlinewidth\":0,\"ticks\":\"\"},\"colorscale\":[[0.0,\"#0d0887\"],[0.1111111111111111,\"#46039f\"],[0.2222222222222222,\"#7201a8\"],[0.3333333333333333,\"#9c179e\"],[0.4444444444444444,\"#bd3786\"],[0.5555555555555556,\"#d8576b\"],[0.6666666666666666,\"#ed7953\"],[0.7777777777777778,\"#fb9f3a\"],[0.8888888888888888,\"#fdca26\"],[1.0,\"#f0f921\"]]}],\"contourcarpet\":[{\"type\":\"contourcarpet\",\"colorbar\":{\"outlinewidth\":0,\"ticks\":\"\"}}],\"contour\":[{\"type\":\"contour\",\"colorbar\":{\"outlinewidth\":0,\"ticks\":\"\"},\"colorscale\":[[0.0,\"#0d0887\"],[0.1111111111111111,\"#46039f\"],[0.2222222222222222,\"#7201a8\"],[0.3333333333333333,\"#9c179e\"],[0.4444444444444444,\"#bd3786\"],[0.5555555555555556,\"#d8576b\"],[0.6666666666666666,\"#ed7953\"],[0.7777777777777778,\"#fb9f3a\"],[0.8888888888888888,\"#fdca26\"],[1.0,\"#f0f921\"]]}],\"surface\":[{\"type\":\"surface\",\"colorbar\":{\"outlinewidth\":0,\"ticks\":\"\"},\"colorscale\":[[0.0,\"#0d0887\"],[0.1111111111111111,\"#46039f\"],[0.2222222222222222,\"#7201a8\"],[0.3333333333333333,\"#9c179e\"],[0.4444444444444444,\"#bd3786\"],[0.5555555555555556,\"#d8576b\"],[0.6666666666666666,\"#ed7953\"],[0.7777777777777778,\"#fb9f3a\"],[0.8888888888888888,\"#fdca26\"],[1.0,\"#f0f921\"]]}],\"mesh3d\":[{\"type\":\"mesh3d\",\"colorbar\":{\"outlinewidth\":0,\"ticks\":\"\"}}],\"scatter\":[{\"fillpattern\":{\"fillmode\":\"overlay\",\"size\":10,\"solidity\":0.2},\"type\":\"scatter\"}],\"parcoords\":[{\"type\":\"parcoords\",\"line\":{\"colorbar\":{\"outlinewidth\":0,\"ticks\":\"\"}}}],\"scatterpolargl\":[{\"type\":\"scatterpolargl\",\"marker\":{\"colorbar\":{\"outlinewidth\":0,\"ticks\":\"\"}}}],\"bar\":[{\"error_x\":{\"color\":\"#2a3f5f\"},\"error_y\":{\"color\":\"#2a3f5f\"},\"marker\":{\"line\":{\"color\":\"#E5ECF6\",\"width\":0.5},\"pattern\":{\"fillmode\":\"overlay\",\"size\":10,\"solidity\":0.2}},\"type\":\"bar\"}],\"scattergeo\":[{\"type\":\"scattergeo\",\"marker\":{\"colorbar\":{\"outlinewidth\":0,\"ticks\":\"\"}}}],\"scatterpolar\":[{\"type\":\"scatterpolar\",\"marker\":{\"colorbar\":{\"outlinewidth\":0,\"ticks\":\"\"}}}],\"histogram\":[{\"marker\":{\"pattern\":{\"fillmode\":\"overlay\",\"size\":10,\"solidity\":0.2}},\"type\":\"histogram\"}],\"scattergl\":[{\"type\":\"scattergl\",\"marker\":{\"colorbar\":{\"outlinewidth\":0,\"ticks\":\"\"}}}],\"scatter3d\":[{\"type\":\"scatter3d\",\"line\":{\"colorbar\":{\"outlinewidth\":0,\"ticks\":\"\"}},\"marker\":{\"colorbar\":{\"outlinewidth\":0,\"ticks\":\"\"}}}],\"scattermapbox\":[{\"type\":\"scattermapbox\",\"marker\":{\"colorbar\":{\"outlinewidth\":0,\"ticks\":\"\"}}}],\"scatterternary\":[{\"type\":\"scatterternary\",\"marker\":{\"colorbar\":{\"outlinewidth\":0,\"ticks\":\"\"}}}],\"scattercarpet\":[{\"type\":\"scattercarpet\",\"marker\":{\"colorbar\":{\"outlinewidth\":0,\"ticks\":\"\"}}}],\"carpet\":[{\"aaxis\":{\"endlinecolor\":\"#2a3f5f\",\"gridcolor\":\"white\",\"linecolor\":\"white\",\"minorgridcolor\":\"white\",\"startlinecolor\":\"#2a3f5f\"},\"baxis\":{\"endlinecolor\":\"#2a3f5f\",\"gridcolor\":\"white\",\"linecolor\":\"white\",\"minorgridcolor\":\"white\",\"startlinecolor\":\"#2a3f5f\"},\"type\":\"carpet\"}],\"table\":[{\"cells\":{\"fill\":{\"color\":\"#EBF0F8\"},\"line\":{\"color\":\"white\"}},\"header\":{\"fill\":{\"color\":\"#C8D4E3\"},\"line\":{\"color\":\"white\"}},\"type\":\"table\"}],\"barpolar\":[{\"marker\":{\"line\":{\"color\":\"#E5ECF6\",\"width\":0.5},\"pattern\":{\"fillmode\":\"overlay\",\"size\":10,\"solidity\":0.2}},\"type\":\"barpolar\"}],\"pie\":[{\"automargin\":true,\"type\":\"pie\"}]},\"layout\":{\"autotypenumbers\":\"strict\",\"colorway\":[\"#636efa\",\"#EF553B\",\"#00cc96\",\"#ab63fa\",\"#FFA15A\",\"#19d3f3\",\"#FF6692\",\"#B6E880\",\"#FF97FF\",\"#FECB52\"],\"font\":{\"color\":\"#2a3f5f\"},\"hovermode\":\"closest\",\"hoverlabel\":{\"align\":\"left\"},\"paper_bgcolor\":\"white\",\"plot_bgcolor\":\"#E5ECF6\",\"polar\":{\"bgcolor\":\"#E5ECF6\",\"angularaxis\":{\"gridcolor\":\"white\",\"linecolor\":\"white\",\"ticks\":\"\"},\"radialaxis\":{\"gridcolor\":\"white\",\"linecolor\":\"white\",\"ticks\":\"\"}},\"ternary\":{\"bgcolor\":\"#E5ECF6\",\"aaxis\":{\"gridcolor\":\"white\",\"linecolor\":\"white\",\"ticks\":\"\"},\"baxis\":{\"gridcolor\":\"white\",\"linecolor\":\"white\",\"ticks\":\"\"},\"caxis\":{\"gridcolor\":\"white\",\"linecolor\":\"white\",\"ticks\":\"\"}},\"coloraxis\":{\"colorbar\":{\"outlinewidth\":0,\"ticks\":\"\"}},\"colorscale\":{\"sequential\":[[0.0,\"#0d0887\"],[0.1111111111111111,\"#46039f\"],[0.2222222222222222,\"#7201a8\"],[0.3333333333333333,\"#9c179e\"],[0.4444444444444444,\"#bd3786\"],[0.5555555555555556,\"#d8576b\"],[0.6666666666666666,\"#ed7953\"],[0.7777777777777778,\"#fb9f3a\"],[0.8888888888888888,\"#fdca26\"],[1.0,\"#f0f921\"]],\"sequentialminus\":[[0.0,\"#0d0887\"],[0.1111111111111111,\"#46039f\"],[0.2222222222222222,\"#7201a8\"],[0.3333333333333333,\"#9c179e\"],[0.4444444444444444,\"#bd3786\"],[0.5555555555555556,\"#d8576b\"],[0.6666666666666666,\"#ed7953\"],[0.7777777777777778,\"#fb9f3a\"],[0.8888888888888888,\"#fdca26\"],[1.0,\"#f0f921\"]],\"diverging\":[[0,\"#8e0152\"],[0.1,\"#c51b7d\"],[0.2,\"#de77ae\"],[0.3,\"#f1b6da\"],[0.4,\"#fde0ef\"],[0.5,\"#f7f7f7\"],[0.6,\"#e6f5d0\"],[0.7,\"#b8e186\"],[0.8,\"#7fbc41\"],[0.9,\"#4d9221\"],[1,\"#276419\"]]},\"xaxis\":{\"gridcolor\":\"white\",\"linecolor\":\"white\",\"ticks\":\"\",\"title\":{\"standoff\":15},\"zerolinecolor\":\"white\",\"automargin\":true,\"zerolinewidth\":2},\"yaxis\":{\"gridcolor\":\"white\",\"linecolor\":\"white\",\"ticks\":\"\",\"title\":{\"standoff\":15},\"zerolinecolor\":\"white\",\"automargin\":true,\"zerolinewidth\":2},\"scene\":{\"xaxis\":{\"backgroundcolor\":\"#E5ECF6\",\"gridcolor\":\"white\",\"linecolor\":\"white\",\"showbackground\":true,\"ticks\":\"\",\"zerolinecolor\":\"white\",\"gridwidth\":2},\"yaxis\":{\"backgroundcolor\":\"#E5ECF6\",\"gridcolor\":\"white\",\"linecolor\":\"white\",\"showbackground\":true,\"ticks\":\"\",\"zerolinecolor\":\"white\",\"gridwidth\":2},\"zaxis\":{\"backgroundcolor\":\"#E5ECF6\",\"gridcolor\":\"white\",\"linecolor\":\"white\",\"showbackground\":true,\"ticks\":\"\",\"zerolinecolor\":\"white\",\"gridwidth\":2}},\"shapedefaults\":{\"line\":{\"color\":\"#2a3f5f\"}},\"annotationdefaults\":{\"arrowcolor\":\"#2a3f5f\",\"arrowhead\":0,\"arrowwidth\":1},\"geo\":{\"bgcolor\":\"white\",\"landcolor\":\"#E5ECF6\",\"subunitcolor\":\"white\",\"showland\":true,\"showlakes\":true,\"lakecolor\":\"white\"},\"title\":{\"x\":0.05},\"mapbox\":{\"style\":\"light\"}}},\"xaxis\":{\"anchor\":\"y\",\"domain\":[0.0,1.0],\"title\":{\"text\":\"Epochs\"}},\"yaxis\":{\"anchor\":\"x\",\"domain\":[0.0,1.0],\"title\":{\"text\":\"Error\"}},\"legend\":{\"tracegroupgap\":0},\"margin\":{\"t\":60},\"title\":{\"text\":\"Loss\",\"x\":0.5}},                        {\"responsive\": true}                    ).then(function(){\n",
       "                            \n",
       "var gd = document.getElementById('62e21143-aade-4637-a63c-e01aea689da4');\n",
       "var x = new MutationObserver(function (mutations, observer) {{\n",
       "        var display = window.getComputedStyle(gd).display;\n",
       "        if (!display || display === 'none') {{\n",
       "            console.log([gd, 'removed!']);\n",
       "            Plotly.purge(gd);\n",
       "            observer.disconnect();\n",
       "        }}\n",
       "}});\n",
       "\n",
       "// Listen for the removal of the full notebook cells\n",
       "var notebookContainer = gd.closest('#notebook-container');\n",
       "if (notebookContainer) {{\n",
       "    x.observe(notebookContainer, {childList: true});\n",
       "}}\n",
       "\n",
       "// Listen for the clearing of the current output cell\n",
       "var outputEl = gd.closest('.output');\n",
       "if (outputEl) {{\n",
       "    x.observe(outputEl, {childList: true});\n",
       "}}\n",
       "\n",
       "                        })                };                });            </script>        </div>"
      ]
     },
     "metadata": {},
     "output_type": "display_data"
    }
   ],
   "source": [
    "plot_loss(epochs_from_model, rmse)"
   ]
  },
  {
   "cell_type": "markdown",
   "id": "746c4151",
   "metadata": {},
   "source": [
    "### Podemos ver que nuestro loss a partir de la epoch 250 empieza a converger."
   ]
  },
  {
   "cell_type": "markdown",
   "id": "d4f4a33c",
   "metadata": {},
   "source": [
    "<br>"
   ]
  },
  {
   "cell_type": "markdown",
   "id": "53cc9af7",
   "metadata": {},
   "source": [
    "## <ins>Algunas rules of thumb con respecto a los hiperparametros:</ins>"
   ]
  },
  {
   "cell_type": "markdown",
   "id": "06fa4b2a",
   "metadata": {},
   "source": [
    "* ### Training loss should steadily decrease, steeply at first, and then more slowly until the slope of the curve reaches or approaches zero.\n",
    "\n",
    "* ### If the training loss does not converge, train for more epochs.\n",
    "    \n",
    "* ### If the training loss decreases too slowly, increase the learning rate. Note that setting the learning rate too high may also prevent training loss from converging.\n",
    "* ### If the training loss varies wildly (that is, the training loss jumps around), decrease the learning rate.\n",
    "* ### Lowering the learning rate while increasing the number of epochs or the batch size is often a good combination.\n",
    "* ### Setting the batch size to a very small batch number can also cause instability. First, try large batch size values. Then, decrease the batch size until you see degradation.\n",
    "* ### For real-world datasets consisting of a very large number of examples, the entire dataset might not fit into memory. In such cases, you'll need to reduce the batch size to enable a batch to fit into memory.\n"
   ]
  },
  {
   "cell_type": "code",
   "execution_count": null,
   "id": "2be4019c",
   "metadata": {},
   "outputs": [],
   "source": []
  }
 ],
 "metadata": {
  "kernelspec": {
   "display_name": "mlenv",
   "language": "python",
   "name": "mlenv"
  },
  "language_info": {
   "codemirror_mode": {
    "name": "ipython",
    "version": 3
   },
   "file_extension": ".py",
   "mimetype": "text/x-python",
   "name": "python",
   "nbconvert_exporter": "python",
   "pygments_lexer": "ipython3",
   "version": "3.10.4"
  }
 },
 "nbformat": 4,
 "nbformat_minor": 5
}
