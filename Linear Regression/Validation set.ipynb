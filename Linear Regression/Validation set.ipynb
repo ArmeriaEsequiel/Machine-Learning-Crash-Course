{
 "cells": [
  {
   "cell_type": "code",
   "execution_count": 6,
   "id": "a61ae1b9",
   "metadata": {},
   "outputs": [],
   "source": [
    "import numpy as np\n",
    "import pandas as pd\n",
    "import tensorflow as tf\n",
    "import os\n",
    "os.environ[\"CUDA_VISIBLE_DEVICES\"] = \"-1\"\n",
    "from matplotlib import pyplot as plt"
   ]
  },
  {
   "cell_type": "code",
   "execution_count": null,
   "id": "0d78d584",
   "metadata": {},
   "outputs": [],
   "source": []
  },
  {
   "cell_type": "code",
   "execution_count": 7,
   "id": "b159546a",
   "metadata": {},
   "outputs": [],
   "source": [
    "train_df = pd.read_csv(\"https://download.mlcc.google.com/mledu-datasets/california_housing_train.csv\")\n",
    "test_df = pd.read_csv(\"https://download.mlcc.google.com/mledu-datasets/california_housing_test.csv\")"
   ]
  },
  {
   "cell_type": "code",
   "execution_count": 8,
   "id": "0c4a4ab7",
   "metadata": {},
   "outputs": [],
   "source": [
    "scale_factor = 1000.0\n",
    "\n",
    "# Scale the training set's label.\n",
    "train_df[\"median_house_value\"] /= scale_factor \n",
    "\n",
    "# Scale the test set's label\n",
    "test_df[\"median_house_value\"] /= scale_factor"
   ]
  },
  {
   "cell_type": "code",
   "execution_count": 26,
   "id": "c7d1f480",
   "metadata": {},
   "outputs": [],
   "source": [
    "def create_and_fit_model(my_feature, my_label, batch_size, epochs, learning_rate, my_validation_split):\n",
    "    my_model =tf.keras.models.Sequential()\n",
    "    my_model.add(tf.keras.layers.Dense(units=1,input_shape=(1,)))\n",
    "    my_model.compile(optimizer = tf.keras.optimizers.RMSprop(learning_rate = learning_rate),\n",
    "                     loss = 'mean_squared_error',\n",
    "                     metrics = tf.keras.metrics.RootMeanSquaredError())\n",
    "    History = my_model.fit(x = my_feature,\n",
    "                           y = my_label,\n",
    "                           batch_size = batch_size,\n",
    "                           epochs = epochs,\n",
    "                           validation_split = my_validation_split)\n",
    "    \n",
    "    trained_weight = my_model.get_weights()[0]\n",
    "    trained_bias = my_model.get_weights()[1]\n",
    "    hist = pd.DataFrame(History.history)\n",
    "    epochs_from_model = History.epoch\n",
    "    rmse = History.history[\"root_mean_squared_error\"]\n",
    "    return(trained_weight, trained_bias, epochs_from_model, rmse, my_model, History)\n",
    "\n",
    "def fun(x,trained_weight,trained_bias):\n",
    "    return(trained_bias + trained_weight * x)\n",
    "\n",
    "def get_new_labels(trained_weight, trained_bias, my_features):\n",
    "    return([fun(x,trained_weight[0][0], trained_bias[0]) for x in my_feature])\n",
    "\n",
    "def plot_original_and_predicted_label(my_feature, my_label, model_label_output):\n",
    "    fig = go.Figure()\n",
    "\n",
    "\n",
    "    fig.add_trace(go.Scatter(x = my_feature, y = my_label,\n",
    "                    mode ='markers', name = 'Original labels'))\n",
    "\n",
    "    fig.add_trace(go.Scatter(x = my_feature, y = model_label_output,\n",
    "                    mode = 'lines+markers',\n",
    "                    name = 'Predicted labels'))\n",
    "\n",
    "    fig.update_layout(title = 'Comparsion chart between predicted and original labels',\n",
    "                 title_x = 0.5)\n",
    "    fig.show()\n",
    "\n",
    "\n",
    "def plot_the_loss_curve(epochs, mae_training, mae_validation):\n",
    "  \"\"\"Plot a curve of loss vs. epoch.\"\"\"\n",
    "\n",
    "  plt.figure()\n",
    "  plt.xlabel(\"Epoch\")\n",
    "  plt.ylabel(\"Root Mean Squared Error\")\n",
    "\n",
    "  plt.plot(epochs[1:], mae_training[1:], label=\"Training Loss\")\n",
    "  plt.plot(epochs[1:], mae_validation[1:], label=\"Validation Loss\")\n",
    "  plt.legend()\n",
    "  \n",
    "  # We're not going to plot the first epoch, since the loss on the first epoch\n",
    "  # is often substantially greater than the loss for other epochs.\n",
    "  merged_mae_lists = mae_training[1:] + mae_validation[1:]\n",
    "  highest_loss = max(merged_mae_lists)\n",
    "  lowest_loss = min(merged_mae_lists)\n",
    "  delta = highest_loss - lowest_loss\n",
    "  print(delta)\n",
    "\n",
    "  top_of_y_axis = highest_loss + (delta * 0.05)\n",
    "  bottom_of_y_axis = lowest_loss - (delta * 0.05)\n",
    "   \n",
    "  plt.ylim([bottom_of_y_axis, top_of_y_axis])\n",
    "  plt.show()  "
   ]
  },
  {
   "cell_type": "code",
   "execution_count": null,
   "id": "bddb91f6",
   "metadata": {},
   "outputs": [],
   "source": []
  },
  {
   "cell_type": "markdown",
   "id": "3932277c",
   "metadata": {},
   "source": [
    "## Task 1:"
   ]
  },
  {
   "cell_type": "code",
   "execution_count": 28,
   "id": "ea0ff9b8",
   "metadata": {
    "collapsed": true
   },
   "outputs": [
    {
     "name": "stdout",
     "output_type": "stream",
     "text": [
      "Epoch 1/30\n",
      "136/136 [==============================] - 0s 822us/step - loss: 40425.2422 - root_mean_squared_error: 201.0603 - val_loss: 49041.9805 - val_root_mean_squared_error: 221.4542\n",
      "Epoch 2/30\n",
      "136/136 [==============================] - 0s 464us/step - loss: 23289.8379 - root_mean_squared_error: 152.6101 - val_loss: 28685.6211 - val_root_mean_squared_error: 169.3683\n",
      "Epoch 3/30\n",
      "136/136 [==============================] - 0s 455us/step - loss: 12427.5938 - root_mean_squared_error: 111.4791 - val_loss: 15619.4248 - val_root_mean_squared_error: 124.9777\n",
      "Epoch 4/30\n",
      "136/136 [==============================] - 0s 473us/step - loss: 7333.2935 - root_mean_squared_error: 85.6347 - val_loss: 9582.2334 - val_root_mean_squared_error: 97.8889\n",
      "Epoch 5/30\n",
      "136/136 [==============================] - 0s 464us/step - loss: 6514.5957 - root_mean_squared_error: 80.7130 - val_loss: 9222.6758 - val_root_mean_squared_error: 96.0348\n",
      "Epoch 6/30\n",
      "136/136 [==============================] - 0s 459us/step - loss: 6513.1841 - root_mean_squared_error: 80.7043 - val_loss: 9284.1719 - val_root_mean_squared_error: 96.3544\n",
      "Epoch 7/30\n",
      "136/136 [==============================] - 0s 457us/step - loss: 6514.0581 - root_mean_squared_error: 80.7097 - val_loss: 9236.0889 - val_root_mean_squared_error: 96.1046\n",
      "Epoch 8/30\n",
      "136/136 [==============================] - 0s 443us/step - loss: 6514.0337 - root_mean_squared_error: 80.7096 - val_loss: 9246.4795 - val_root_mean_squared_error: 96.1586\n",
      "Epoch 9/30\n",
      "136/136 [==============================] - 0s 454us/step - loss: 6513.2007 - root_mean_squared_error: 80.7044 - val_loss: 9175.8145 - val_root_mean_squared_error: 95.7905\n",
      "Epoch 10/30\n",
      "136/136 [==============================] - 0s 444us/step - loss: 6513.7671 - root_mean_squared_error: 80.7079 - val_loss: 9357.6582 - val_root_mean_squared_error: 96.7350\n",
      "Epoch 11/30\n",
      "136/136 [==============================] - 0s 493us/step - loss: 6512.1753 - root_mean_squared_error: 80.6981 - val_loss: 9121.5596 - val_root_mean_squared_error: 95.5069\n",
      "Epoch 12/30\n",
      "136/136 [==============================] - 0s 483us/step - loss: 6514.1821 - root_mean_squared_error: 80.7105 - val_loss: 9215.6768 - val_root_mean_squared_error: 95.9983\n",
      "Epoch 13/30\n",
      "136/136 [==============================] - 0s 455us/step - loss: 6512.9946 - root_mean_squared_error: 80.7031 - val_loss: 9416.4062 - val_root_mean_squared_error: 97.0382\n",
      "Epoch 14/30\n",
      "136/136 [==============================] - 0s 453us/step - loss: 6514.5996 - root_mean_squared_error: 80.7131 - val_loss: 9300.1885 - val_root_mean_squared_error: 96.4375\n",
      "Epoch 15/30\n",
      "136/136 [==============================] - 0s 547us/step - loss: 6512.0952 - root_mean_squared_error: 80.6976 - val_loss: 9388.0674 - val_root_mean_squared_error: 96.8920\n",
      "Epoch 16/30\n",
      "136/136 [==============================] - 0s 480us/step - loss: 6511.9194 - root_mean_squared_error: 80.6965 - val_loss: 9316.9033 - val_root_mean_squared_error: 96.5241\n",
      "Epoch 17/30\n",
      "136/136 [==============================] - 0s 459us/step - loss: 6511.8682 - root_mean_squared_error: 80.6961 - val_loss: 9344.4004 - val_root_mean_squared_error: 96.6664\n",
      "Epoch 18/30\n",
      "136/136 [==============================] - 0s 487us/step - loss: 6513.9229 - root_mean_squared_error: 80.7089 - val_loss: 9317.8008 - val_root_mean_squared_error: 96.5287\n",
      "Epoch 19/30\n",
      "136/136 [==============================] - 0s 483us/step - loss: 6513.5610 - root_mean_squared_error: 80.7066 - val_loss: 9298.6963 - val_root_mean_squared_error: 96.4297\n",
      "Epoch 20/30\n",
      "136/136 [==============================] - 0s 478us/step - loss: 6513.0869 - root_mean_squared_error: 80.7037 - val_loss: 9317.0723 - val_root_mean_squared_error: 96.5250\n",
      "Epoch 21/30\n",
      "136/136 [==============================] - 0s 483us/step - loss: 6511.0571 - root_mean_squared_error: 80.6911 - val_loss: 9460.9912 - val_root_mean_squared_error: 97.2676\n",
      "Epoch 22/30\n",
      "136/136 [==============================] - 0s 466us/step - loss: 6514.3975 - root_mean_squared_error: 80.7118 - val_loss: 9358.5156 - val_root_mean_squared_error: 96.7394\n",
      "Epoch 23/30\n",
      "136/136 [==============================] - 0s 485us/step - loss: 6514.2622 - root_mean_squared_error: 80.7110 - val_loss: 9290.8486 - val_root_mean_squared_error: 96.3890\n",
      "Epoch 24/30\n",
      "136/136 [==============================] - 0s 467us/step - loss: 6511.1641 - root_mean_squared_error: 80.6918 - val_loss: 9141.1543 - val_root_mean_squared_error: 95.6094\n",
      "Epoch 25/30\n",
      "136/136 [==============================] - 0s 487us/step - loss: 6513.1396 - root_mean_squared_error: 80.7040 - val_loss: 9245.4766 - val_root_mean_squared_error: 96.1534\n",
      "Epoch 26/30\n",
      "136/136 [==============================] - 0s 481us/step - loss: 6514.0884 - root_mean_squared_error: 80.7099 - val_loss: 9252.2539 - val_root_mean_squared_error: 96.1886\n",
      "Epoch 27/30\n",
      "136/136 [==============================] - 0s 468us/step - loss: 6513.3545 - root_mean_squared_error: 80.7054 - val_loss: 9224.0576 - val_root_mean_squared_error: 96.0420\n",
      "Epoch 28/30\n",
      "136/136 [==============================] - 0s 513us/step - loss: 6514.0537 - root_mean_squared_error: 80.7097 - val_loss: 9311.9697 - val_root_mean_squared_error: 96.4986\n",
      "Epoch 29/30\n",
      "136/136 [==============================] - 0s 463us/step - loss: 6513.4741 - root_mean_squared_error: 80.7061 - val_loss: 9269.5938 - val_root_mean_squared_error: 96.2787\n",
      "Epoch 30/30\n",
      "136/136 [==============================] - 0s 468us/step - loss: 6512.8018 - root_mean_squared_error: 80.7019 - val_loss: 9188.6924 - val_root_mean_squared_error: 95.8577\n"
     ]
    }
   ],
   "source": [
    "learning_rate = 0.08\n",
    "epochs = 30\n",
    "batch_size = 100\n",
    "\n",
    "# Split the original training set into a reduced training set and a\n",
    "# validation set. \n",
    "validation_split = 0.2\n",
    "\n",
    "# Identify the feature and the label.\n",
    "my_feature = train_df[\"median_income\"]    # the median income on a specific city block.\n",
    "my_label = train_df[\"median_house_value\"] # the median house value on a specific city block.\n",
    "# That is, you're going to create a model that predicts house value based \n",
    "# solely on the neighborhood's median income.  \n",
    "\n",
    "# Invoke the functions to build and train the model.\n",
    "trained_weight, trained_bias, epochs_from_model, rmse, my_model, History = create_and_fit_model(my_feature,\n",
    "                                                                             my_label, batch_size,\n",
    "                                                                             epochs, learning_rate, validation_split)"
   ]
  },
  {
   "cell_type": "code",
   "execution_count": 30,
   "id": "8cc8e94f",
   "metadata": {
    "scrolled": false
   },
   "outputs": [
    {
     "name": "stdout",
     "output_type": "stream",
     "text": [
      "88.67717742919922\n"
     ]
    },
    {
     "data": {
      "image/png": "[encoded data removed]",
      "text/plain": [
       "<Figure size 640x480 with 1 Axes>"
      ]
     },
     "metadata": {},
     "output_type": "display_data"
    }
   ],
   "source": [
    "plot_the_loss_curve(epochs_from_model, History.history[\"root_mean_squared_error\"], \n",
    "                    History.history[\"val_root_mean_squared_error\"])"
   ]
  },
  {
   "cell_type": "markdown",
   "id": "0246d5ec",
   "metadata": {},
   "source": [
    "### Probemos con otro validation_split:"
   ]
  },
  {
   "cell_type": "code",
   "execution_count": 34,
   "id": "2b2699ea",
   "metadata": {
    "collapsed": true
   },
   "outputs": [
    {
     "name": "stdout",
     "output_type": "stream",
     "text": [
      "Epoch 1/30\n",
      "85/85 [==============================] - 0s 1ms/step - loss: 52016.9023 - root_mean_squared_error: 228.0721 - val_loss: 41644.1055 - val_root_mean_squared_error: 204.0689\n",
      "Epoch 2/30\n",
      "85/85 [==============================] - 0s 727us/step - loss: 38274.8125 - root_mean_squared_error: 195.6395 - val_loss: 29924.4180 - val_root_mean_squared_error: 172.9868\n",
      "Epoch 3/30\n",
      "85/85 [==============================] - 0s 738us/step - loss: 27223.8613 - root_mean_squared_error: 164.9966 - val_loss: 20716.6992 - val_root_mean_squared_error: 143.9330\n",
      "Epoch 4/30\n",
      "85/85 [==============================] - 0s 730us/step - loss: 18613.2852 - root_mean_squared_error: 136.4305 - val_loss: 13916.6494 - val_root_mean_squared_error: 117.9688\n",
      "Epoch 5/30\n",
      "85/85 [==============================] - 0s 730us/step - loss: 12414.7744 - root_mean_squared_error: 111.4216 - val_loss: 9535.2705 - val_root_mean_squared_error: 97.6487\n",
      "Epoch 6/30\n",
      "85/85 [==============================] - 0s 795us/step - loss: 8660.8203 - root_mean_squared_error: 93.0635 - val_loss: 7433.3892 - val_root_mean_squared_error: 86.2171\n",
      "Epoch 7/30\n",
      "85/85 [==============================] - 0s 735us/step - loss: 7046.4868 - root_mean_squared_error: 83.9434 - val_loss: 7188.9419 - val_root_mean_squared_error: 84.7876\n",
      "Epoch 8/30\n",
      "85/85 [==============================] - 0s 734us/step - loss: 6846.7217 - root_mean_squared_error: 82.7449 - val_loss: 7229.4170 - val_root_mean_squared_error: 85.0260\n",
      "Epoch 9/30\n",
      "85/85 [==============================] - 0s 705us/step - loss: 6835.6807 - root_mean_squared_error: 82.6782 - val_loss: 7230.1592 - val_root_mean_squared_error: 85.0303\n",
      "Epoch 10/30\n",
      "85/85 [==============================] - 0s 697us/step - loss: 6829.1245 - root_mean_squared_error: 82.6385 - val_loss: 7258.7603 - val_root_mean_squared_error: 85.1984\n",
      "Epoch 11/30\n",
      "85/85 [==============================] - 0s 715us/step - loss: 6821.9360 - root_mean_squared_error: 82.5950 - val_loss: 7256.9863 - val_root_mean_squared_error: 85.1880\n",
      "Epoch 12/30\n",
      "85/85 [==============================] - 0s 710us/step - loss: 6815.8726 - root_mean_squared_error: 82.5583 - val_loss: 7259.8247 - val_root_mean_squared_error: 85.2046\n",
      "Epoch 13/30\n",
      "85/85 [==============================] - 0s 707us/step - loss: 6811.5938 - root_mean_squared_error: 82.5324 - val_loss: 7266.7642 - val_root_mean_squared_error: 85.2453\n",
      "Epoch 14/30\n",
      "85/85 [==============================] - 0s 762us/step - loss: 6806.6099 - root_mean_squared_error: 82.5022 - val_loss: 7323.6333 - val_root_mean_squared_error: 85.5782\n",
      "Epoch 15/30\n",
      "85/85 [==============================] - 0s 764us/step - loss: 6807.0762 - root_mean_squared_error: 82.5050 - val_loss: 7304.5938 - val_root_mean_squared_error: 85.4669\n",
      "Epoch 16/30\n",
      "85/85 [==============================] - 0s 743us/step - loss: 6803.6499 - root_mean_squared_error: 82.4842 - val_loss: 7312.0298 - val_root_mean_squared_error: 85.5104\n",
      "Epoch 17/30\n",
      "85/85 [==============================] - 0s 780us/step - loss: 6802.3813 - root_mean_squared_error: 82.4765 - val_loss: 7326.7925 - val_root_mean_squared_error: 85.5967\n",
      "Epoch 18/30\n",
      "85/85 [==============================] - 0s 713us/step - loss: 6800.3589 - root_mean_squared_error: 82.4643 - val_loss: 7329.6167 - val_root_mean_squared_error: 85.6132\n",
      "Epoch 19/30\n",
      "85/85 [==============================] - 0s 728us/step - loss: 6799.1289 - root_mean_squared_error: 82.4568 - val_loss: 7319.3242 - val_root_mean_squared_error: 85.5530\n",
      "Epoch 20/30\n",
      "85/85 [==============================] - 0s 736us/step - loss: 6799.6582 - root_mean_squared_error: 82.4600 - val_loss: 7332.2358 - val_root_mean_squared_error: 85.6285\n",
      "Epoch 21/30\n",
      "85/85 [==============================] - 0s 756us/step - loss: 6797.3784 - root_mean_squared_error: 82.4462 - val_loss: 7356.5425 - val_root_mean_squared_error: 85.7703\n",
      "Epoch 22/30\n",
      "85/85 [==============================] - 0s 740us/step - loss: 6797.6436 - root_mean_squared_error: 82.4478 - val_loss: 7339.8813 - val_root_mean_squared_error: 85.6731\n",
      "Epoch 23/30\n",
      "85/85 [==============================] - 0s 695us/step - loss: 6794.8896 - root_mean_squared_error: 82.4311 - val_loss: 7358.2446 - val_root_mean_squared_error: 85.7802\n",
      "Epoch 24/30\n",
      "85/85 [==============================] - 0s 720us/step - loss: 6796.5010 - root_mean_squared_error: 82.4409 - val_loss: 7381.7769 - val_root_mean_squared_error: 85.9173\n",
      "Epoch 25/30\n",
      "85/85 [==============================] - 0s 711us/step - loss: 6796.2725 - root_mean_squared_error: 82.4395 - val_loss: 7352.1963 - val_root_mean_squared_error: 85.7449\n",
      "Epoch 26/30\n",
      "85/85 [==============================] - 0s 719us/step - loss: 6796.3140 - root_mean_squared_error: 82.4398 - val_loss: 7351.1982 - val_root_mean_squared_error: 85.7391\n",
      "Epoch 27/30\n",
      "85/85 [==============================] - 0s 710us/step - loss: 6795.0195 - root_mean_squared_error: 82.4319 - val_loss: 7380.6079 - val_root_mean_squared_error: 85.9105\n",
      "Epoch 28/30\n",
      "85/85 [==============================] - 0s 724us/step - loss: 6796.2852 - root_mean_squared_error: 82.4396 - val_loss: 7361.4526 - val_root_mean_squared_error: 85.7989\n",
      "Epoch 29/30\n",
      "85/85 [==============================] - 0s 742us/step - loss: 6795.0781 - root_mean_squared_error: 82.4323 - val_loss: 7406.2695 - val_root_mean_squared_error: 86.0597\n",
      "Epoch 30/30\n",
      "85/85 [==============================] - 0s 746us/step - loss: 6795.2573 - root_mean_squared_error: 82.4333 - val_loss: 7348.7988 - val_root_mean_squared_error: 85.7251\n"
     ]
    }
   ],
   "source": [
    "validation_split = 0.5\n",
    "trained_weight, trained_bias, epochs_from_model, rmse, my_model, History = create_and_fit_model(my_feature,\n",
    "                                                                             my_label, batch_size,\n",
    "                                                                             epochs, learning_rate, validation_split)"
   ]
  },
  {
   "cell_type": "code",
   "execution_count": 35,
   "id": "f46ec509",
   "metadata": {},
   "outputs": [
    {
     "name": "stdout",
     "output_type": "stream",
     "text": [
      "113.2083740234375\n"
     ]
    },
    {
     "data": {
      "image/png": "[encoded data removed]",
      "text/plain": [
       "<Figure size 640x480 with 1 Axes>"
      ]
     },
     "metadata": {},
     "output_type": "display_data"
    }
   ],
   "source": [
    "plot_the_loss_curve(epochs_from_model, History.history[\"root_mean_squared_error\"], \n",
    "                    History.history[\"val_root_mean_squared_error\"])"
   ]
  },
  {
   "cell_type": "code",
   "execution_count": 38,
   "id": "294d0c9b",
   "metadata": {
    "collapsed": true
   },
   "outputs": [
    {
     "name": "stdout",
     "output_type": "stream",
     "text": [
      "Epoch 1/30\n",
      "85/85 [==============================] - 0s 1ms/step - loss: 47552.1680 - root_mean_squared_error: 218.0646 - val_loss: 37810.6016 - val_root_mean_squared_error: 194.4495\n",
      "Epoch 2/30\n",
      "85/85 [==============================] - 0s 746us/step - loss: 34608.6484 - root_mean_squared_error: 186.0340 - val_loss: 26798.5312 - val_root_mean_squared_error: 163.7026\n",
      "Epoch 3/30\n",
      "85/85 [==============================] - 0s 710us/step - loss: 24249.4199 - root_mean_squared_error: 155.7223 - val_loss: 18326.9023 - val_root_mean_squared_error: 135.3769\n",
      "Epoch 4/30\n",
      "85/85 [==============================] - 0s 697us/step - loss: 16438.0332 - root_mean_squared_error: 128.2109 - val_loss: 12275.1494 - val_root_mean_squared_error: 110.7933\n",
      "Epoch 5/30\n",
      "85/85 [==============================] - 0s 714us/step - loss: 11009.7607 - root_mean_squared_error: 104.9274 - val_loss: 8617.7656 - val_root_mean_squared_error: 92.8319\n",
      "Epoch 6/30\n",
      "85/85 [==============================] - 0s 710us/step - loss: 7908.5093 - root_mean_squared_error: 88.9298 - val_loss: 7182.8765 - val_root_mean_squared_error: 84.7519\n",
      "Epoch 7/30\n",
      "85/85 [==============================] - 0s 712us/step - loss: 6944.6670 - root_mean_squared_error: 83.3347 - val_loss: 7170.0474 - val_root_mean_squared_error: 84.6761\n",
      "Epoch 8/30\n",
      "85/85 [==============================] - 0s 739us/step - loss: 6856.9990 - root_mean_squared_error: 82.8070 - val_loss: 7226.2441 - val_root_mean_squared_error: 85.0073\n",
      "Epoch 9/30\n",
      "85/85 [==============================] - 0s 688us/step - loss: 6844.0845 - root_mean_squared_error: 82.7290 - val_loss: 7207.0703 - val_root_mean_squared_error: 84.8945\n",
      "Epoch 10/30\n",
      "85/85 [==============================] - 0s 710us/step - loss: 6832.9854 - root_mean_squared_error: 82.6619 - val_loss: 7257.5791 - val_root_mean_squared_error: 85.1914\n",
      "Epoch 11/30\n",
      "85/85 [==============================] - 0s 704us/step - loss: 6826.7979 - root_mean_squared_error: 82.6244 - val_loss: 7258.2041 - val_root_mean_squared_error: 85.1951\n",
      "Epoch 12/30\n",
      "85/85 [==============================] - 0s 764us/step - loss: 6818.2812 - root_mean_squared_error: 82.5729 - val_loss: 7251.0239 - val_root_mean_squared_error: 85.1529\n",
      "Epoch 13/30\n",
      "85/85 [==============================] - 0s 719us/step - loss: 6814.5259 - root_mean_squared_error: 82.5501 - val_loss: 7270.1909 - val_root_mean_squared_error: 85.2654\n",
      "Epoch 14/30\n",
      "85/85 [==============================] - 0s 696us/step - loss: 6809.3926 - root_mean_squared_error: 82.5190 - val_loss: 7305.1577 - val_root_mean_squared_error: 85.4702\n",
      "Epoch 15/30\n",
      "85/85 [==============================] - 0s 744us/step - loss: 6805.9224 - root_mean_squared_error: 82.4980 - val_loss: 7301.2144 - val_root_mean_squared_error: 85.4471\n",
      "Epoch 16/30\n",
      "85/85 [==============================] - 0s 718us/step - loss: 6803.1055 - root_mean_squared_error: 82.4809 - val_loss: 7330.7471 - val_root_mean_squared_error: 85.6198\n",
      "Epoch 17/30\n",
      "85/85 [==============================] - 0s 703us/step - loss: 6801.2163 - root_mean_squared_error: 82.4695 - val_loss: 7305.1631 - val_root_mean_squared_error: 85.4702\n",
      "Epoch 18/30\n",
      "85/85 [==============================] - 0s 728us/step - loss: 6801.0562 - root_mean_squared_error: 82.4685 - val_loss: 7309.5171 - val_root_mean_squared_error: 85.4957\n",
      "Epoch 19/30\n",
      "85/85 [==============================] - 0s 711us/step - loss: 6800.0332 - root_mean_squared_error: 82.4623 - val_loss: 7336.1304 - val_root_mean_squared_error: 85.6512\n",
      "Epoch 20/30\n",
      "85/85 [==============================] - 0s 718us/step - loss: 6798.3594 - root_mean_squared_error: 82.4522 - val_loss: 7347.8662 - val_root_mean_squared_error: 85.7197\n",
      "Epoch 21/30\n",
      "85/85 [==============================] - 0s 721us/step - loss: 6796.2036 - root_mean_squared_error: 82.4391 - val_loss: 7368.5000 - val_root_mean_squared_error: 85.8400\n",
      "Epoch 22/30\n",
      "85/85 [==============================] - 0s 721us/step - loss: 6798.4253 - root_mean_squared_error: 82.4526 - val_loss: 7342.3306 - val_root_mean_squared_error: 85.6874\n",
      "Epoch 23/30\n",
      "85/85 [==============================] - 0s 728us/step - loss: 6796.0889 - root_mean_squared_error: 82.4384 - val_loss: 7333.7739 - val_root_mean_squared_error: 85.6375\n",
      "Epoch 24/30\n",
      "85/85 [==============================] - 0s 737us/step - loss: 6795.7280 - root_mean_squared_error: 82.4362 - val_loss: 7387.6450 - val_root_mean_squared_error: 85.9514\n",
      "Epoch 25/30\n",
      "85/85 [==============================] - 0s 717us/step - loss: 6796.3628 - root_mean_squared_error: 82.4400 - val_loss: 7352.5308 - val_root_mean_squared_error: 85.7469\n",
      "Epoch 26/30\n",
      "85/85 [==============================] - 0s 707us/step - loss: 6795.5845 - root_mean_squared_error: 82.4353 - val_loss: 7345.4526 - val_root_mean_squared_error: 85.7056\n",
      "Epoch 27/30\n",
      "85/85 [==============================] - 0s 701us/step - loss: 6794.8721 - root_mean_squared_error: 82.4310 - val_loss: 7374.6636 - val_root_mean_squared_error: 85.8759\n",
      "Epoch 28/30\n",
      "85/85 [==============================] - 0s 738us/step - loss: 6795.2061 - root_mean_squared_error: 82.4330 - val_loss: 7350.4995 - val_root_mean_squared_error: 85.7351\n",
      "Epoch 29/30\n",
      "85/85 [==============================] - 0s 744us/step - loss: 6796.0898 - root_mean_squared_error: 82.4384 - val_loss: 7372.4912 - val_root_mean_squared_error: 85.8632\n",
      "Epoch 30/30\n",
      "85/85 [==============================] - 0s 715us/step - loss: 6795.4204 - root_mean_squared_error: 82.4343 - val_loss: 7368.1104 - val_root_mean_squared_error: 85.8377\n"
     ]
    }
   ],
   "source": [
    "validation_split = 0.35\n",
    "trained_weight, trained_bias, epochs_from_model, rmse, my_model, History = create_and_fit_model(my_feature,\n",
    "                                                                             my_label, batch_size,\n",
    "                                                                             epochs, learning_rate, validation_split)"
   ]
  },
  {
   "cell_type": "code",
   "execution_count": 37,
   "id": "6e427297",
   "metadata": {},
   "outputs": [
    {
     "name": "stdout",
     "output_type": "stream",
     "text": [
      "101.45982360839844\n"
     ]
    },
    {
     "data": {
      "image/png": "[encoded data removed]",
      "text/plain": [
       "<Figure size 640x480 with 1 Axes>"
      ]
     },
     "metadata": {},
     "output_type": "display_data"
    }
   ],
   "source": [
    "plot_the_loss_curve(epochs_from_model, History.history[\"root_mean_squared_error\"], \n",
    "                    History.history[\"val_root_mean_squared_error\"])"
   ]
  },
  {
   "cell_type": "markdown",
   "id": "626e7999",
   "metadata": {},
   "source": [
    "## Task 2:"
   ]
  },
  {
   "cell_type": "markdown",
   "id": "91602162",
   "metadata": {},
   "source": [
    "### Las curvas de loss de training y validation deberian ser casi iguales. Aunque variemos el validation_split, vemos que sigue sin concordar.\n",
    "\n",
    "### Investiguemos los datos:"
   ]
  },
  {
   "cell_type": "code",
   "execution_count": 39,
   "id": "715148c7",
   "metadata": {},
   "outputs": [
    {
     "data": {
      "text/html": [
       "<div>\n",
       "<style scoped>\n",
       "    .dataframe tbody tr th:only-of-type {\n",
       "        vertical-align: middle;\n",
       "    }\n",
       "\n",
       "    .dataframe tbody tr th {\n",
       "        vertical-align: top;\n",
       "    }\n",
       "\n",
       "    .dataframe thead th {\n",
       "        text-align: right;\n",
       "    }\n",
       "</style>\n",
       "<table border=\"1\" class=\"dataframe\">\n",
       "  <thead>\n",
       "    <tr style=\"text-align: right;\">\n",
       "      <th></th>\n",
       "      <th>longitude</th>\n",
       "      <th>latitude</th>\n",
       "      <th>housing_median_age</th>\n",
       "      <th>total_rooms</th>\n",
       "      <th>total_bedrooms</th>\n",
       "      <th>population</th>\n",
       "      <th>households</th>\n",
       "      <th>median_income</th>\n",
       "      <th>median_house_value</th>\n",
       "    </tr>\n",
       "  </thead>\n",
       "  <tbody>\n",
       "    <tr>\n",
       "      <th>0</th>\n",
       "      <td>-114.31</td>\n",
       "      <td>34.19</td>\n",
       "      <td>15.0</td>\n",
       "      <td>5612.0</td>\n",
       "      <td>1283.0</td>\n",
       "      <td>1015.0</td>\n",
       "      <td>472.0</td>\n",
       "      <td>1.4936</td>\n",
       "      <td>66.9</td>\n",
       "    </tr>\n",
       "    <tr>\n",
       "      <th>1</th>\n",
       "      <td>-114.47</td>\n",
       "      <td>34.40</td>\n",
       "      <td>19.0</td>\n",
       "      <td>7650.0</td>\n",
       "      <td>1901.0</td>\n",
       "      <td>1129.0</td>\n",
       "      <td>463.0</td>\n",
       "      <td>1.8200</td>\n",
       "      <td>80.1</td>\n",
       "    </tr>\n",
       "    <tr>\n",
       "      <th>2</th>\n",
       "      <td>-114.56</td>\n",
       "      <td>33.69</td>\n",
       "      <td>17.0</td>\n",
       "      <td>720.0</td>\n",
       "      <td>174.0</td>\n",
       "      <td>333.0</td>\n",
       "      <td>117.0</td>\n",
       "      <td>1.6509</td>\n",
       "      <td>85.7</td>\n",
       "    </tr>\n",
       "    <tr>\n",
       "      <th>3</th>\n",
       "      <td>-114.57</td>\n",
       "      <td>33.64</td>\n",
       "      <td>14.0</td>\n",
       "      <td>1501.0</td>\n",
       "      <td>337.0</td>\n",
       "      <td>515.0</td>\n",
       "      <td>226.0</td>\n",
       "      <td>3.1917</td>\n",
       "      <td>73.4</td>\n",
       "    </tr>\n",
       "    <tr>\n",
       "      <th>4</th>\n",
       "      <td>-114.57</td>\n",
       "      <td>33.57</td>\n",
       "      <td>20.0</td>\n",
       "      <td>1454.0</td>\n",
       "      <td>326.0</td>\n",
       "      <td>624.0</td>\n",
       "      <td>262.0</td>\n",
       "      <td>1.9250</td>\n",
       "      <td>65.5</td>\n",
       "    </tr>\n",
       "    <tr>\n",
       "      <th>...</th>\n",
       "      <td>...</td>\n",
       "      <td>...</td>\n",
       "      <td>...</td>\n",
       "      <td>...</td>\n",
       "      <td>...</td>\n",
       "      <td>...</td>\n",
       "      <td>...</td>\n",
       "      <td>...</td>\n",
       "      <td>...</td>\n",
       "    </tr>\n",
       "    <tr>\n",
       "      <th>95</th>\n",
       "      <td>-115.58</td>\n",
       "      <td>32.81</td>\n",
       "      <td>5.0</td>\n",
       "      <td>805.0</td>\n",
       "      <td>143.0</td>\n",
       "      <td>458.0</td>\n",
       "      <td>143.0</td>\n",
       "      <td>4.4750</td>\n",
       "      <td>96.3</td>\n",
       "    </tr>\n",
       "    <tr>\n",
       "      <th>96</th>\n",
       "      <td>-115.58</td>\n",
       "      <td>32.81</td>\n",
       "      <td>10.0</td>\n",
       "      <td>1088.0</td>\n",
       "      <td>203.0</td>\n",
       "      <td>533.0</td>\n",
       "      <td>201.0</td>\n",
       "      <td>3.6597</td>\n",
       "      <td>87.5</td>\n",
       "    </tr>\n",
       "    <tr>\n",
       "      <th>97</th>\n",
       "      <td>-115.58</td>\n",
       "      <td>32.79</td>\n",
       "      <td>14.0</td>\n",
       "      <td>1687.0</td>\n",
       "      <td>507.0</td>\n",
       "      <td>762.0</td>\n",
       "      <td>451.0</td>\n",
       "      <td>1.6635</td>\n",
       "      <td>64.4</td>\n",
       "    </tr>\n",
       "    <tr>\n",
       "      <th>98</th>\n",
       "      <td>-115.58</td>\n",
       "      <td>32.78</td>\n",
       "      <td>5.0</td>\n",
       "      <td>2494.0</td>\n",
       "      <td>414.0</td>\n",
       "      <td>1416.0</td>\n",
       "      <td>421.0</td>\n",
       "      <td>5.7843</td>\n",
       "      <td>110.1</td>\n",
       "    </tr>\n",
       "    <tr>\n",
       "      <th>99</th>\n",
       "      <td>-115.59</td>\n",
       "      <td>32.85</td>\n",
       "      <td>20.0</td>\n",
       "      <td>1608.0</td>\n",
       "      <td>274.0</td>\n",
       "      <td>862.0</td>\n",
       "      <td>248.0</td>\n",
       "      <td>4.8750</td>\n",
       "      <td>90.8</td>\n",
       "    </tr>\n",
       "  </tbody>\n",
       "</table>\n",
       "<p>100 rows × 9 columns</p>\n",
       "</div>"
      ],
      "text/plain": [
       "    longitude  latitude  housing_median_age  total_rooms  total_bedrooms  \\\n",
       "0     -114.31     34.19                15.0       5612.0          1283.0   \n",
       "1     -114.47     34.40                19.0       7650.0          1901.0   \n",
       "2     -114.56     33.69                17.0        720.0           174.0   \n",
       "3     -114.57     33.64                14.0       1501.0           337.0   \n",
       "4     -114.57     33.57                20.0       1454.0           326.0   \n",
       "..        ...       ...                 ...          ...             ...   \n",
       "95    -115.58     32.81                 5.0        805.0           143.0   \n",
       "96    -115.58     32.81                10.0       1088.0           203.0   \n",
       "97    -115.58     32.79                14.0       1687.0           507.0   \n",
       "98    -115.58     32.78                 5.0       2494.0           414.0   \n",
       "99    -115.59     32.85                20.0       1608.0           274.0   \n",
       "\n",
       "    population  households  median_income  median_house_value  \n",
       "0       1015.0       472.0         1.4936                66.9  \n",
       "1       1129.0       463.0         1.8200                80.1  \n",
       "2        333.0       117.0         1.6509                85.7  \n",
       "3        515.0       226.0         3.1917                73.4  \n",
       "4        624.0       262.0         1.9250                65.5  \n",
       "..         ...         ...            ...                 ...  \n",
       "95       458.0       143.0         4.4750                96.3  \n",
       "96       533.0       201.0         3.6597                87.5  \n",
       "97       762.0       451.0         1.6635                64.4  \n",
       "98      1416.0       421.0         5.7843               110.1  \n",
       "99       862.0       248.0         4.8750                90.8  \n",
       "\n",
       "[100 rows x 9 columns]"
      ]
     },
     "execution_count": 39,
     "metadata": {},
     "output_type": "execute_result"
    }
   ],
   "source": [
    "train_df.head(100)"
   ]
  },
  {
   "cell_type": "markdown",
   "id": "90e46483",
   "metadata": {},
   "source": [
    "### Podemos ver que tanto \"latitude\" y \"longitude\" estan ordenados. Los que cusa que los datos de entrenamiento no sean similares a los de validacion.\n",
    "\n",
    "\n",
    "## Resolvamos este problema, haciendo una permutacion de los valores (Task 3):"
   ]
  },
  {
   "cell_type": "code",
   "execution_count": 40,
   "id": "5e2c79c6",
   "metadata": {
    "collapsed": true
   },
   "outputs": [
    {
     "name": "stdout",
     "output_type": "stream",
     "text": [
      "Epoch 1/30\n",
      "136/136 [==============================] - 0s 775us/step - loss: 46571.7031 - root_mean_squared_error: 215.8048 - val_loss: 35460.8945 - val_root_mean_squared_error: 188.3106\n",
      "Epoch 2/30\n",
      "136/136 [==============================] - 0s 487us/step - loss: 27641.0898 - root_mean_squared_error: 166.2561 - val_loss: 19980.4121 - val_root_mean_squared_error: 141.3521\n",
      "Epoch 3/30\n",
      "136/136 [==============================] - 0s 509us/step - loss: 14897.0244 - root_mean_squared_error: 122.0534 - val_loss: 10612.7695 - val_root_mean_squared_error: 103.0183\n",
      "Epoch 4/30\n",
      "136/136 [==============================] - 0s 530us/step - loss: 8460.9219 - root_mean_squared_error: 91.9833 - val_loss: 7175.1226 - val_root_mean_squared_error: 84.7061\n",
      "Epoch 5/30\n",
      "136/136 [==============================] - 0s 461us/step - loss: 7019.6675 - root_mean_squared_error: 83.7835 - val_loss: 7053.6553 - val_root_mean_squared_error: 83.9860\n",
      "Epoch 6/30\n",
      "136/136 [==============================] - 0s 471us/step - loss: 7004.8472 - root_mean_squared_error: 83.6950 - val_loss: 7054.9390 - val_root_mean_squared_error: 83.9937\n",
      "Epoch 7/30\n",
      "136/136 [==============================] - 0s 476us/step - loss: 7000.8574 - root_mean_squared_error: 83.6711 - val_loss: 7066.8130 - val_root_mean_squared_error: 84.0643\n",
      "Epoch 8/30\n",
      "136/136 [==============================] - 0s 484us/step - loss: 7005.7700 - root_mean_squared_error: 83.7005 - val_loss: 7057.8257 - val_root_mean_squared_error: 84.0109\n",
      "Epoch 9/30\n",
      "136/136 [==============================] - 0s 461us/step - loss: 7004.1562 - root_mean_squared_error: 83.6908 - val_loss: 7058.8599 - val_root_mean_squared_error: 84.0170\n",
      "Epoch 10/30\n",
      "136/136 [==============================] - 0s 461us/step - loss: 7005.3506 - root_mean_squared_error: 83.6980 - val_loss: 7054.0381 - val_root_mean_squared_error: 83.9883\n",
      "Epoch 11/30\n",
      "136/136 [==============================] - 0s 483us/step - loss: 7004.7490 - root_mean_squared_error: 83.6944 - val_loss: 7054.4121 - val_root_mean_squared_error: 83.9905\n",
      "Epoch 12/30\n",
      "136/136 [==============================] - 0s 480us/step - loss: 7003.9561 - root_mean_squared_error: 83.6896 - val_loss: 7053.5825 - val_root_mean_squared_error: 83.9856\n",
      "Epoch 13/30\n",
      "136/136 [==============================] - 0s 497us/step - loss: 7004.7500 - root_mean_squared_error: 83.6944 - val_loss: 7053.7881 - val_root_mean_squared_error: 83.9868\n",
      "Epoch 14/30\n",
      "136/136 [==============================] - 0s 578us/step - loss: 7004.3896 - root_mean_squared_error: 83.6922 - val_loss: 7054.0693 - val_root_mean_squared_error: 83.9885\n",
      "Epoch 15/30\n",
      "136/136 [==============================] - 0s 477us/step - loss: 7004.8740 - root_mean_squared_error: 83.6951 - val_loss: 7053.6841 - val_root_mean_squared_error: 83.9862\n",
      "Epoch 16/30\n",
      "136/136 [==============================] - 0s 467us/step - loss: 7004.5312 - root_mean_squared_error: 83.6931 - val_loss: 7057.3989 - val_root_mean_squared_error: 84.0083\n",
      "Epoch 17/30\n",
      "136/136 [==============================] - 0s 470us/step - loss: 7003.7871 - root_mean_squared_error: 83.6886 - val_loss: 7057.6196 - val_root_mean_squared_error: 84.0096\n",
      "Epoch 18/30\n",
      "136/136 [==============================] - 0s 496us/step - loss: 7005.7173 - root_mean_squared_error: 83.7002 - val_loss: 7053.7725 - val_root_mean_squared_error: 83.9867\n",
      "Epoch 19/30\n",
      "136/136 [==============================] - 0s 515us/step - loss: 7002.7378 - root_mean_squared_error: 83.6824 - val_loss: 7064.8828 - val_root_mean_squared_error: 84.0529\n",
      "Epoch 20/30\n",
      "136/136 [==============================] - 0s 490us/step - loss: 7004.0137 - root_mean_squared_error: 83.6900 - val_loss: 7060.1318 - val_root_mean_squared_error: 84.0246\n",
      "Epoch 21/30\n",
      "136/136 [==============================] - 0s 479us/step - loss: 7004.6177 - root_mean_squared_error: 83.6936 - val_loss: 7059.4502 - val_root_mean_squared_error: 84.0205\n",
      "Epoch 22/30\n",
      "136/136 [==============================] - 0s 470us/step - loss: 7005.4033 - root_mean_squared_error: 83.6983 - val_loss: 7053.3823 - val_root_mean_squared_error: 83.9844\n",
      "Epoch 23/30\n",
      "136/136 [==============================] - 0s 498us/step - loss: 7005.3945 - root_mean_squared_error: 83.6982 - val_loss: 7054.2222 - val_root_mean_squared_error: 83.9894\n",
      "Epoch 24/30\n",
      "136/136 [==============================] - 0s 465us/step - loss: 7004.6152 - root_mean_squared_error: 83.6936 - val_loss: 7057.2090 - val_root_mean_squared_error: 84.0072\n",
      "Epoch 25/30\n",
      "136/136 [==============================] - 0s 472us/step - loss: 7002.4565 - root_mean_squared_error: 83.6807 - val_loss: 7054.1304 - val_root_mean_squared_error: 83.9889\n",
      "Epoch 26/30\n",
      "136/136 [==============================] - 0s 495us/step - loss: 7004.6353 - root_mean_squared_error: 83.6937 - val_loss: 7061.5806 - val_root_mean_squared_error: 84.0332\n",
      "Epoch 27/30\n",
      "136/136 [==============================] - 0s 488us/step - loss: 7005.4775 - root_mean_squared_error: 83.6987 - val_loss: 7053.5610 - val_root_mean_squared_error: 83.9855\n",
      "Epoch 28/30\n",
      "136/136 [==============================] - 0s 469us/step - loss: 7004.9619 - root_mean_squared_error: 83.6956 - val_loss: 7053.8101 - val_root_mean_squared_error: 83.9870\n",
      "Epoch 29/30\n",
      "136/136 [==============================] - 0s 468us/step - loss: 7004.7075 - root_mean_squared_error: 83.6941 - val_loss: 7059.6348 - val_root_mean_squared_error: 84.0216\n",
      "Epoch 30/30\n",
      "136/136 [==============================] - 0s 475us/step - loss: 7005.2720 - root_mean_squared_error: 83.6975 - val_loss: 7056.2661 - val_root_mean_squared_error: 84.0016\n"
     ]
    }
   ],
   "source": [
    "validation_split = 0.2\n",
    "shuffled_train_df = train_df.reindex(np.random.permutation(train_df.index))\n",
    "# Identify the feature and the label.\n",
    "my_feature = shuffled_train_df[\"median_income\"]    # the median income on a specific city block.\n",
    "my_label = shuffled_train_df[\"median_house_value\"] # the median house value on a specific city block.\n",
    "# Invoke the functions to build and train the model.\n",
    "trained_weight, trained_bias, epochs_from_model, rmse, my_model, History = create_and_fit_model(my_feature,\n",
    "                                                                             my_label, batch_size,\n",
    "                                                                             epochs, learning_rate, validation_split)"
   ]
  },
  {
   "cell_type": "code",
   "execution_count": 41,
   "id": "af811501",
   "metadata": {},
   "outputs": [
    {
     "name": "stdout",
     "output_type": "stream",
     "text": [
      "82.58497619628906\n"
     ]
    },
    {
     "data": {
      "image/png": "[encoded data removed]",
      "text/plain": [
       "<Figure size 640x480 with 1 Axes>"
      ]
     },
     "metadata": {},
     "output_type": "display_data"
    }
   ],
   "source": [
    "plot_the_loss_curve(epochs_from_model, History.history[\"root_mean_squared_error\"], \n",
    "                    History.history[\"val_root_mean_squared_error\"])"
   ]
  },
  {
   "cell_type": "markdown",
   "id": "15cfecca",
   "metadata": {},
   "source": [
    "## Task 4:"
   ]
  },
  {
   "cell_type": "code",
   "execution_count": 43,
   "id": "055785de",
   "metadata": {},
   "outputs": [
    {
     "name": "stdout",
     "output_type": "stream",
     "text": [
      "30/30 [==============================] - 0s 358us/step - loss: 7008.3052 - root_mean_squared_error: 83.7156\n"
     ]
    }
   ],
   "source": [
    "x_test = test_df[\"median_income\"]\n",
    "y_test = test_df[\"median_house_value\"]\n",
    "\n",
    "results = my_model.evaluate(x_test, y_test, batch_size=batch_size)"
   ]
  },
  {
   "cell_type": "code",
   "execution_count": 48,
   "id": "8cc89ec0",
   "metadata": {},
   "outputs": [
    {
     "name": "stdout",
     "output_type": "stream",
     "text": [
      " Train root_mean_squared_error is 83.69750213623047\n",
      " Validation root_mean_squared_error is 84.0015869140625\n",
      " Evalueate root_mean_squared_error is 83.71562194824219\n"
     ]
    }
   ],
   "source": [
    "print(f' Train root_mean_squared_error is {History.history[\"root_mean_squared_error\"][-1]}')\n",
    "print(f' Validation root_mean_squared_error is {History.history[\"val_root_mean_squared_error\"][-1]}')\n",
    "print(f' Evalueate root_mean_squared_error is {results[1]}')\n"
   ]
  },
  {
   "cell_type": "code",
   "execution_count": null,
   "id": "43155fb4",
   "metadata": {},
   "outputs": [],
   "source": []
  }
 ],
 "metadata": {
  "kernelspec": {
   "display_name": "mlenv",
   "language": "python",
   "name": "mlenv"
  },
  "language_info": {
   "codemirror_mode": {
    "name": "ipython",
    "version": 3
   },
   "file_extension": ".py",
   "mimetype": "text/x-python",
   "name": "python",
   "nbconvert_exporter": "python",
   "pygments_lexer": "ipython3",
   "version": "3.10.4"
  }
 },
 "nbformat": 4,
 "nbformat_minor": 5
}
